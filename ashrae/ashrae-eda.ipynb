{
    "metadata": {
        "kernelspec": {
            "language": "python",
            "display_name": "Python 3",
            "name": "python3"
        },
        "language_info": {
            "name": "python",
            "version": "3.10.14",
            "mimetype": "text/x-python",
            "codemirror_mode": {
                "name": "ipython",
                "version": 3
            },
            "pygments_lexer": "ipython3",
            "nbconvert_exporter": "python",
            "file_extension": ".py"
        },
        "kaggle": {
            "accelerator": "none",
            "dataSources": [
                {
                    "sourceId": 9994,
                    "databundleVersionId": 752467,
                    "sourceType": "competition"
                }
            ],
            "dockerImageVersionId": 30786,
            "isInternetEnabled": true,
            "language": "python",
            "sourceType": "notebook",
            "isGpuEnabled": false
        }
    },
    "nbformat_minor": 4,
    "nbformat": 4,
    "cells": [
        {
            "cell_type": "code",
            "source": "import pandas as pd\nimport numpy as np",
            "metadata": {
                "_uuid": "8f2839f25d086af736a60e9eeb907d3b93b6e0e5",
                "_cell_guid": "b1076dfc-b9ad-4769-8c92-a6c4dae69d19",
                "trusted": true
            },
            "execution_count": null,
            "outputs": []
        },
        {
            "cell_type": "code",
            "source": "# Constants\nINPUT_DATA_PATH = \"/kaggle/input/ashrae-energy-prediction\"",
            "metadata": {
                "trusted": true
            },
            "execution_count": null,
            "outputs": []
        },
        {
            "cell_type": "code",
            "source": "# Load raw data\ntrain_df = pd.read_csv(f\"{INPUT_DATA_PATH}/train.csv\")\nbuilding_df = pd.read_csv(f\"{INPUT_DATA_PATH}/building_metadata.csv\")\nweather_train_df = pd.read_csv(f\"{INPUT_DATA_PATH}/weather_train.csv\")",
            "metadata": {
                "trusted": true
            },
            "execution_count": null,
            "outputs": []
        },
        {
            "cell_type": "code",
            "source": "train_df[\"building_id\"] = train_df[\"building_id\"].astype(\"category\")\ntrain_df[\"meter\"] = train_df[\"meter\"].astype(\"category\")\ntrain_df[\"timestamp\"] = pd.to_datetime(train_df[\"timestamp\"])\ntrain_df[\"meter_reading\"] = train_df[\"meter_reading\"].astype(float)",
            "metadata": {
                "trusted": true
            },
            "execution_count": null,
            "outputs": []
        },
        {
            "cell_type": "code",
            "source": "building_df[\"site_id\"] = building_df[\"site_id\"].astype(\"category\")\nbuilding_df[\"building_id\"] = building_df[\"building_id\"].astype(\"category\")",
            "metadata": {
                "trusted": true
            },
            "execution_count": null,
            "outputs": []
        },
        {
            "cell_type": "code",
            "source": "weather_train_df[\"site_id\"] = weather_train_df[\"site_id\"].astype(\"category\")\nweather_train_df[\"timestamp\"] = pd.to_datetime(weather_train_df[\"timestamp\"])",
            "metadata": {
                "trusted": true
            },
            "execution_count": null,
            "outputs": []
        },
        {
            "cell_type": "code",
            "source": "# Merge train and buildings df\nmerged_train_df = pd.merge(\n    left=train_df,\n    right=building_df,\n    on=\"building_id\",\n    how=\"left\",\n)",
            "metadata": {
                "trusted": true
            },
            "execution_count": null,
            "outputs": []
        },
        {
            "cell_type": "code",
            "source": "merged_train_df = merged_train_df.drop(columns=\"_merge\")",
            "metadata": {
                "trusted": true
            },
            "execution_count": null,
            "outputs": []
        },
        {
            "cell_type": "code",
            "source": "merged_train_df.head()",
            "metadata": {
                "trusted": true
            },
            "execution_count": null,
            "outputs": []
        },
        {
            "cell_type": "code",
            "source": "merged_train_df = pd.merge(\n    left=merged_train_df,\n    right=weather_train_df,\n    on=[\"site_id\", \"timestamp\"],\n    how=\"left\",\n    indicator=True\n)",
            "metadata": {
                "trusted": true
            },
            "execution_count": null,
            "outputs": []
        },
        {
            "cell_type": "code",
            "source": "merged_train_df[(merged_train_df[\"_merge\"] != \"both\")]",
            "metadata": {
                "trusted": true
            },
            "execution_count": null,
            "outputs": []
        },
        {
            "cell_type": "code",
            "source": "weather_test = pd.read_csv(f\"{INPUT_DATA_PATH}/weather_test.csv\")",
            "metadata": {
                "trusted": true
            },
            "execution_count": null,
            "outputs": []
        },
        {
            "cell_type": "code",
            "source": "weather_",
            "metadata": {
                "trusted": true
            },
            "execution_count": null,
            "outputs": []
        },
        {
            "cell_type": "code",
            "source": "",
            "metadata": {},
            "execution_count": null,
            "outputs": []
        }
    ]
}