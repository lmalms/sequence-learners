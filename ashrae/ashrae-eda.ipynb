{
    "metadata": {
        "kernelspec": {
            "language": "python",
            "display_name": "Python 3",
            "name": "python3"
        },
        "language_info": {
            "name": "python",
            "version": "3.10.14",
            "mimetype": "text/x-python",
            "codemirror_mode": {
                "name": "ipython",
                "version": 3
            },
            "pygments_lexer": "ipython3",
            "nbconvert_exporter": "python",
            "file_extension": ".py"
        },
        "kaggle": {
            "accelerator": "none",
            "dataSources": [
                {
                    "sourceId": 9994,
                    "databundleVersionId": 752467,
                    "sourceType": "competition"
                }
            ],
            "dockerImageVersionId": 30786,
            "isInternetEnabled": true,
            "language": "python",
            "sourceType": "notebook",
            "isGpuEnabled": false
        }
    },
    "nbformat_minor": 4,
    "nbformat": 4,
    "cells": [
        {
            "cell_type": "code",
            "source": "from datetime import datetime, date\nimport pandas as pd\nimport numpy as np\nfrom matplotlib import cm\nimport matplotlib.pyplot as plt\nimport seaborn as sns",
            "metadata": {
                "_uuid": "8f2839f25d086af736a60e9eeb907d3b93b6e0e5",
                "_cell_guid": "b1076dfc-b9ad-4769-8c92-a6c4dae69d19",
                "trusted": true
            },
            "execution_count": null,
            "outputs": []
        },
        {
            "cell_type": "code",
            "source": "# Constants\nINPUT_DATA_PATH = \"/kaggle/input/ashrae-energy-prediction\"\n\nMIN_TRAIN_TIMESTAMP = pd.Timestamp(\"2016-01-01 00:00:00\")\nMAX_TRAIN_TIMESTAMP = pd.Timestamp(\"2016-12-31 23:00:00\")\nTRAIN_DATA_RESOLUTION = \"1h\"\n\nWEATHER_FEATURE_COLUMNS = [\n    'air_temperature',\n    'cloud_coverage',\n    'dew_temperature',\n    'precip_depth_1_hr',\n    'sea_level_pressure',\n    'wind_direction',\n    'wind_speed'\n]",
            "metadata": {
                "trusted": true
            },
            "execution_count": null,
            "outputs": []
        },
        {
            "cell_type": "code",
            "source": "# Load raw data\nreadings_df = pd.read_csv(f\"{INPUT_DATA_PATH}/train.csv\")\nweather_df = pd.read_csv(f\"{INPUT_DATA_PATH}/weather_train.csv\")",
            "metadata": {
                "trusted": true
            },
            "execution_count": null,
            "outputs": []
        },
        {
            "cell_type": "markdown",
            "source": "# Meter readings",
            "metadata": {}
        },
        {
            "cell_type": "markdown",
            "source": "## Meter counts by building",
            "metadata": {}
        },
        {
            "cell_type": "code",
            "source": "# Note: meter_id: type -> {0: electricity, 1: chilledwater, 2: steam, 3: hotwater}\n# Conclusion: Not every building as readings for every meter type\n\nmeter_counts_by_building = readings_df.groupby(\"building_id\")[\"meter\"].nunique()\nfreq, edges = np.histogram(\n    np.array(meter_counts_by_building),\n    np.arange(1, meter_counts_by_building.max() + 2)\n)\n\nfig, ax = plt.subplots()\nax.bar(edges[:-1], freq, width=np.diff(edges), edgecolor=\"black\")\nax.set(ylabel=\"Frequency\", xlabel=\"n_meters\", xticks=edges[:-1]);",
            "metadata": {
                "trusted": true
            },
            "execution_count": null,
            "outputs": []
        },
        {
            "cell_type": "markdown",
            "source": "## Distribution of meter readings",
            "metadata": {}
        },
        {
            "cell_type": "code",
            "source": "# Fix units for one of the meters: https://www.kaggle.com/c/ashrae-energy-prediction/discussion/119261\nmask = (readings_df[\"building_id\"] == 0) & (readings_df[\"meter\"] == 0)\nreadings_df.loc[mask, \"meter_reading\"] = readings_df.loc[mask, \"meter_reading\"] * 0.2931",
            "metadata": {
                "trusted": true
            },
            "execution_count": null,
            "outputs": []
        },
        {
            "cell_type": "code",
            "source": "readings = np.array(readings_df[\"meter_reading\"])\nlog_readings = np.log(readings + 1)\n\nfig, ax = plt.subplots(1, 2, figsize=(10, 3.5))\nfreq, edges = np.histogram(readings)\nax[0].bar(edges[:-1], freq, width=np.diff(edges), edgecolor=\"black\")\nax[0].set(ylabel=\"Frequency\", xlabel=\"meter_reading\", xticks=edges[:-1]);\n\nfreq, edges = np.histogram(log_readings)\nax[1].bar(edges[:-1], freq, width=np.diff(edges), edgecolor=\"black\")\nax[1].set(ylabel=\"Frequency\", xlabel=\"log_meter_reading\", xticks=edges[:-1]);\nfig.tight_layout();",
            "metadata": {
                "trusted": true
            },
            "execution_count": null,
            "outputs": []
        },
        {
            "cell_type": "markdown",
            "source": "## Distribution of meter readings by type",
            "metadata": {}
        },
        {
            "cell_type": "code",
            "source": "meter_types = {0: \"electricity\", 1: \"chilledwater\", 2: \"steam\", 3: \"hotwater\"}\n\nfig, ax = plt.subplots(len(meter_types), 2, figsize=(10, 3.5 * len(meter_types)))\n\nfor i, (meter_id, meter_type) in enumerate(meter_types.items()):\n    meter_df = readings_df[readings_df[\"meter\"] == meter_id]\n    \n    readings = np.array(meter_df[\"meter_reading\"])\n    freq, edges = np.histogram(readings)\n    ax[i, 0].bar(edges[:-1], freq, width=np.diff(edges), edgecolor=\"black\", label=meter_type)\n    ax[i, 0].set(ylabel=\"Frequency\")\n    ax[i, 0].legend()\n    \n    log_readings = np.log(readings + 1)\n    freq, edges = np.histogram(log_readings)\n    ax[i, 1].bar(edges[:-1], freq, width=np.diff(edges), edgecolor=\"black\", label=f\"log {meter_type}\")\n    ax[i, 1].set(xticks=edges[:-1])\n    ax[i, 1].legend()\n\nfig.tight_layout();",
            "metadata": {
                "trusted": true
            },
            "execution_count": null,
            "outputs": []
        },
        {
            "cell_type": "markdown",
            "source": "## Distribution by meter and building",
            "metadata": {}
        },
        {
            "cell_type": "code",
            "source": "meter_types = {0: \"electricity\", 1: \"chilledwater\", 2: \"steam\", 3: \"hotwater\"}\nmax_buildings = 30  # number of buildings to plot chosen at random\n\nfig, ax = plt.subplots(1, len(meter_types), figsize=(len(meter_types) * 4, 3.5), sharey=True)\nfor m, meter_id in enumerate(meter_types):\n    \n    meter_df = readings_df[(readings_df[\"meter\"] == meter_id)]\n    all_building_ids = list(meter_df[\"building_id\"].unique())\n    building_ids_to_plot = np.random.choice(\n        all_building_ids,\n        min(max_buildings, len(all_building_ids))\n    )\n    \n    colors = cm.viridis(np.linspace(0, 1, len(building_ids_to_plot)))\n    for b, building_id in enumerate(building_ids_to_plot):\n        readings = meter_df[meter_df[\"building_id\"] == building_id][\"meter_reading\"]\n        log_readings = np.log(np.array(readings) + 1)\n        freq, edges = np.histogram(log_readings, bins=50)\n        ax[m].stairs(freq / len(readings), edges, label=building_id, color=colors[b])\n    \n    ax[m].set_title(f\"{meter_types[meter_id]}\")\n\nfig.tight_layout();",
            "metadata": {
                "trusted": true
            },
            "execution_count": null,
            "outputs": []
        },
        {
            "cell_type": "code",
            "source": "# Plot daily averages\nreadings_df[\"timestamp\"] = pd.to_datetime(readings_df[\"timestamp\"])\ndaily_average = (\n    readings_df\n    .assign(log_reading=np.log(readings_df[\"meter_reading\"] + 1))\n    .groupby([\"building_id\", \"meter\", readings_df[\"timestamp\"].dt.date])\n    [[\"log_reading\"]]\n    .mean()\n    .reset_index()\n)\n\ndaily_building_average = (\n    readings_df\n    .assign(log_reading=np.log(readings_df[\"meter_reading\"] + 1))\n    .groupby([\"meter\", readings_df[\"timestamp\"].dt.date])\n    [[\"log_reading\"]]\n    .mean()\n    .reset_index()\n)\n\nmeter_types = {0: \"electricity\", 1: \"chilledwater\", 2: \"steam\", 3: \"hotwater\"}\nfig, ax = plt.subplots(len(meter_types), 1, figsize=(15, len(meter_types) * 2), sharex=True)\nfor m, meter_id in enumerate(meter_types):\n    \n    meter_df = daily_average[(daily_average[\"meter\"] == meter_id)]\n    building_ids = list(meter_df[\"building_id\"].unique())\n    colors = cm.viridis(np.linspace(0, 1, len(building_ids)))\n    for b, building_id in enumerate(building_ids):\n        readings = meter_df[meter_df[\"building_id\"] == building_id]\n        ax[m].plot(\n            readings[\"timestamp\"].values,\n            readings[\"log_reading\"].values,\n            color=\"gray\",\n            lw=0.5,\n            alpha=0.3\n        )\n    \n    # Add building average to plot\n    average_df = daily_building_average[daily_building_average[\"meter\"] == meter_id]\n    ax[m].plot(\n        average_df[\"timestamp\"].values,\n        average_df[\"log_reading\"].values,\n        color=\"orange\",\n        lw=2.5,\n    )\n    \n    ax[m].set_ylabel(f\"{meter_types[meter_id]}\")\n\nfig.tight_layout();",
            "metadata": {
                "trusted": true
            },
            "execution_count": null,
            "outputs": []
        },
        {
            "cell_type": "markdown",
            "source": "# Buildings data",
            "metadata": {}
        },
        {
            "cell_type": "markdown",
            "source": "## Meter readings by primary use",
            "metadata": {}
        },
        {
            "cell_type": "code",
            "source": "building_df = pd.read_csv(f\"{INPUT_DATA_PATH}/building_metadata.csv\")",
            "metadata": {
                "trusted": true
            },
            "execution_count": null,
            "outputs": []
        },
        {
            "cell_type": "code",
            "source": "fig, ax = plt.subplots()\n\nbuilding_count_by_use = building_df[\"primary_use\"].value_counts()\nys = np.arange(len(building_count_by_use))\nax.barh(ys, building_count_by_use.values, edgecolor=\"black\")\nax.set(\n    xlabel=\"Frequency\",\n    yticks=ys,\n    yticklabels=list(building_count_by_use.index),\n    title=\"Building count by primary use\"\n);",
            "metadata": {
                "trusted": true
            },
            "execution_count": null,
            "outputs": []
        },
        {
            "cell_type": "code",
            "source": "readings_df[\"building_id\"] = readings_df[\"building_id\"].astype(int)\nbuilding_df[\"building_id\"] = building_df[\"building_id\"].astype(int) \n\nreadings_and_buildings = readings_df.merge(\n    right=building_df,\n    on=\"building_id\",\n    how=\"left\"\n)",
            "metadata": {
                "trusted": true
            },
            "execution_count": null,
            "outputs": []
        },
        {
            "cell_type": "code",
            "source": "readings_and_buildings[\"timestamp\"] = pd.to_datetime(readings_and_buildings[\"timestamp\"])\ndaily_average_by_use = (\n    readings_and_buildings\n    .assign(log_reading=np.log(readings_and_buildings[\"meter_reading\"] + 1))\n    .groupby([\n        \"primary_use\",\n        \"meter\",\n        readings_and_buildings[\"timestamp\"].dt.date\n    ])\n    [[\"log_reading\"]]\n    .mean()\n    .reset_index()\n)",
            "metadata": {
                "trusted": true
            },
            "execution_count": null,
            "outputs": []
        },
        {
            "cell_type": "code",
            "source": "meter_types = {0: \"electricity\", 1: \"chilledwater\", 2: \"steam\", 3: \"hotwater\"}\n\nfig, ax = plt.subplots(len(meter_types), 1, figsize=(15, len(meter_types) * 2), sharex=True)\n\nbuilding_uses = list(daily_average_by_use[\"primary_use\"].unique())\ncolors = cm.viridis(np.linspace(0, 1, len(building_uses)))\n\nfor m, meter_id in enumerate(meter_types):\n    meter_df = daily_average_by_use[(daily_average_by_use[\"meter\"] == meter_id)]\n\n    for u, use in enumerate(building_uses):\n        use_df = meter_df[meter_df[\"primary_use\"] == use]\n        ax[m].plot(\n            use_df[\"timestamp\"].values,\n            use_df[\"log_reading\"].values,\n            color=colors[u],\n            label=use,\n        )\n    \n    ax[m].set(ylabel=meter_types[meter_id])\n\nhandles, labels = ax[-1].get_legend_handles_labels()\nfig.legend(handles, labels, bbox_to_anchor=(1.15, 0.7), fontsize=\"small\")\n\nfig.tight_layout();",
            "metadata": {
                "trusted": true
            },
            "execution_count": null,
            "outputs": []
        },
        {
            "cell_type": "code",
            "source": "meter_types = {0: \"electricity\", 1: \"chilledwater\", 2: \"steam\", 3: \"hotwater\"}\n\nfig, ax = plt.subplots(len(meter_types), 1, figsize=(16, len(meter_types) * 3), sharex=True)\n\nfor m, meter_id in enumerate(meter_types):\n    meter_df = daily_average_by_use[(daily_average_by_use[\"meter\"] == meter_id)]\n    meter_pivot = meter_df.pivot(columns=\"timestamp\", index=\"primary_use\", values=\"log_reading\")\n    ax[m] = sns.heatmap(meter_pivot, ax=ax[m])\n    \n    ys = np.arange(meter_pivot.shape[0]) + 0.5\n    ax[m].set_yticks(ys)\n    ax[m].set_yticklabels(list(meter_pivot.index), fontsize=\"small\")\n    ax[m].set(ylabel=meter_types[meter_id], xlabel=\"\")\n    \nfig.tight_layout();",
            "metadata": {
                "trusted": true
            },
            "execution_count": null,
            "outputs": []
        },
        {
            "cell_type": "code",
            "source": "",
            "metadata": {},
            "execution_count": null,
            "outputs": []
        }
    ]
}