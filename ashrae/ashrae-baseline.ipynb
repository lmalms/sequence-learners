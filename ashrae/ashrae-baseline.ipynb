{
    "metadata": {
        "kernelspec": {
            "language": "python",
            "display_name": "Python 3",
            "name": "python3"
        },
        "language_info": {
            "name": "python",
            "version": "3.10.14",
            "mimetype": "text/x-python",
            "codemirror_mode": {
                "name": "ipython",
                "version": 3
            },
            "pygments_lexer": "ipython3",
            "nbconvert_exporter": "python",
            "file_extension": ".py"
        },
        "kaggle": {
            "accelerator": "none",
            "dataSources": [
                {
                    "sourceId": 9994,
                    "databundleVersionId": 752467,
                    "sourceType": "competition"
                }
            ],
            "dockerImageVersionId": 30786,
            "isInternetEnabled": true,
            "language": "python",
            "sourceType": "notebook",
            "isGpuEnabled": false
        }
    },
    "nbformat_minor": 4,
    "nbformat": 4,
    "cells": [
        {
            "cell_type": "markdown",
            "source": "# ASHRAE BASELINE\n\nIn this notebook I predict energy consumption for each building using a Ridge regression model. The modelling approach uses minimal feature engineering and hyperparameter tuning and serves a baseline to compare all future modelling approaches against. That is all future modelling approaches should achieve an evaluation score as least as good as the Ridge regression models developed here.",
            "metadata": {
                "execution": {
                    "iopub.status.busy": "2025-01-06T08:17:23.366846Z",
                    "iopub.execute_input": "2025-01-06T08:17:23.367670Z",
                    "iopub.status.idle": "2025-01-06T08:17:23.372122Z",
                    "shell.execute_reply.started": "2025-01-06T08:17:23.367633Z",
                    "shell.execute_reply": "2025-01-06T08:17:23.370879Z"
                }
            }
        },
        {
            "cell_type": "code",
            "source": "from datetime import datetime, date\n\nimport pandas as pd\nimport numpy as np\nfrom tqdm import tqdm\n\nfrom sklearn.compose import ColumnTransformer, TransformedTargetRegressor\nfrom sklearn.linear_model import Ridge, Lasso\nfrom sklearn.preprocessing import OneHotEncoder\nfrom sklearn.pipeline import Pipeline",
            "metadata": {
                "trusted": true
            },
            "outputs": [],
            "execution_count": null
        },
        {
            "cell_type": "code",
            "source": "# Constants\nINPUT_DATA_PATH = \"/kaggle/input/ashrae-energy-prediction\"\n\nMIN_TRAIN_TIMESTAMP = pd.Timestamp(\"2016-01-01 00:00:00\")\nMAX_TRAIN_TIMESTAMP = pd.Timestamp(\"2016-12-31 23:00:00\")\nTRAIN_DATA_RESOLUTION = \"1h\"",
            "metadata": {
                "_uuid": "8f2839f25d086af736a60e9eeb907d3b93b6e0e5",
                "_cell_guid": "b1076dfc-b9ad-4769-8c92-a6c4dae69d19",
                "trusted": true
            },
            "outputs": [],
            "execution_count": null
        },
        {
            "cell_type": "markdown",
            "source": "## Load train data",
            "metadata": {}
        },
        {
            "cell_type": "code",
            "source": "train_df = pd.read_csv(\n    f\"{INPUT_DATA_PATH}/train.csv\",\n    header=0,\n    names=[\"building_id\", \"meter_id\", \"timestamp\", \"meter_reading\"],\n    parse_dates=[\"timestamp\"],\n    dtype={\"meter_reading\": float}\n)",
            "metadata": {
                "trusted": true
            },
            "outputs": [],
            "execution_count": null
        },
        {
            "cell_type": "markdown",
            "source": "## Feature engineering",
            "metadata": {}
        },
        {
            "cell_type": "code",
            "source": "def kbtu_to_kwh(df: pd.DataFrame) -> pd.DataFrame:\n    mask = (df[\"building_id\"] == 0) & (df[\"meter_id\"] == 0)\n    df.loc[mask, \"meter_reading\"] = df.loc[mask, \"meter_reading\"] * 0.2931\n    return df\n\n\ndef cyclic_features(df: pd.DataFrame, feature: str, period: int) -> pd.DataFrame:\n    df[f\"{feature}_sin\"] = np.sin(2 * np.pi * df[feature] / period)\n    df[f\"{feature}_cos\"] = np.cos(2 * np.pi * df[feature] / period)\n    return df\n\n\ndef temporal_features(df: pd.DataFrame) -> pd.DataFrame:\n    df[\"hour\"] = df[\"timestamp\"].dt.hour\n    df = cyclic_features(df, \"hour\", 24)\n    \n    df[\"day_of_week\"] = df[\"timestamp\"].dt.weekday\n    df = cyclic_features(df, \"day_of_week\", 7)\n    \n    df[\"month\"] = df[\"timestamp\"].dt.month\n    df = cyclic_features(df, \"month\", 12)\n    \n    df[\"is_weekend\"] = (df[\"timestamp\"].dt.weekday >= 5).astype(float)\n    \n    return df\n\n\ndef target_transform(df: pd.DataFrame) -> pd.DataFrame:\n    df[\"log_reading\"] = np.log1p(np.array(df[\"meter_reading\"]))\n    return df",
            "metadata": {
                "trusted": true
            },
            "outputs": [],
            "execution_count": null
        },
        {
            "cell_type": "code",
            "source": "train_df = kbtu_to_kwh(train_df)\ntrain_df = temporal_features(train_df)\n\ntrain_df.head()",
            "metadata": {
                "trusted": true
            },
            "outputs": [],
            "execution_count": null
        },
        {
            "cell_type": "markdown",
            "source": "## Baseline",
            "metadata": {
                "execution": {
                    "iopub.status.busy": "2024-11-11T07:12:03.286608Z",
                    "iopub.execute_input": "2024-11-11T07:12:03.287076Z",
                    "iopub.status.idle": "2024-11-11T07:12:03.292924Z",
                    "shell.execute_reply.started": "2024-11-11T07:12:03.287031Z",
                    "shell.execute_reply": "2024-11-11T07:12:03.291499Z"
                }
            }
        },
        {
            "cell_type": "code",
            "source": "LABEL = \"meter_reading\"\nFEATURES = [\n    \"meter_id\",\n    \"hour_sin\",\n    \"hour_cos\",\n    \"day_of_week_sin\",\n    \"day_of_week_cos\",\n    \"month_sin\",\n    \"month_cos\",\n    \"is_weekend\"\n]",
            "metadata": {
                "trusted": true
            },
            "outputs": [],
            "execution_count": null
        },
        {
            "cell_type": "code",
            "source": "# Construct pipeline\n\ndef get_column_transformer():\n    transformer = ColumnTransformer(\n        [(\"oh_encoder\", OneHotEncoder(), [\"meter_id\"])],\n        remainder=\"passthrough\",\n        verbose_feature_names_out=False,\n    )\n    return transformer\n\n\ndef get_target_regressor():\n    regressor = TransformedTargetRegressor(\n        regressor=Ridge(),\n        func=np.log1p,\n        inverse_func=np.expm1,\n    )\n    return regressor\n\n\ndef make_pipeline():\n    pipeline = Pipeline(\n        steps = [\n            (\"transformer\", get_column_transformer()),\n            (\"regressor\", get_target_regressor())\n        ]\n    )\n    return pipeline",
            "metadata": {
                "trusted": true
            },
            "outputs": [],
            "execution_count": null
        },
        {
            "cell_type": "code",
            "source": "# Train pipeline for each building\n\nbuilding_ids = list(train_df[\"building_id\"].unique())\nmodels_by_building = {}\nfor building_id in tqdm(building_ids):\n    building_df = train_df[train_df[\"building_id\"] == building_id]\n    X, y = building_df[FEATURES], building_df[LABEL]\n    \n    model = make_pipeline()\n    model = model.fit(X, y)\n    \n    models_by_building[building_id] = model",
            "metadata": {
                "trusted": true
            },
            "outputs": [],
            "execution_count": null
        },
        {
            "cell_type": "markdown",
            "source": "## Submission",
            "metadata": {}
        },
        {
            "cell_type": "code",
            "source": "def kwh_to_kbtu(df: pd.DataFrame) -> pd.DataFrame:\n    mask = (df[\"building_id\"] == 0) & (df[\"meter_id\"] == 0)\n    df.loc[mask, \"meter_reading\"] = df.loc[mask, \"meter_reading\"] * 3.4118\n    return df\n",
            "metadata": {
                "trusted": true
            },
            "outputs": [],
            "execution_count": null
        },
        {
            "cell_type": "code",
            "source": "test_df = pd.read_csv(\n    f\"{INPUT_DATA_PATH}/test.csv\",\n    header=0,\n    names=[\"row_id\", \"building_id\", \"meter_id\", \"timestamp\"],\n    parse_dates=[\"timestamp\"],\n    dtype={\"meter_reading\": float}\n)",
            "metadata": {
                "trusted": true
            },
            "outputs": [],
            "execution_count": null
        },
        {
            "cell_type": "code",
            "source": "test_df = temporal_features(test_df)\n\ntest_df.head()",
            "metadata": {
                "trusted": true
            },
            "outputs": [],
            "execution_count": null
        },
        {
            "cell_type": "code",
            "source": "test_building_ids = list(test_df[\"building_id\"].unique())\n\ny_hat_dfs = []\nfor test_building_id in tqdm(test_building_ids):\n    model = models_by_building[test_building_id]\n    building_df = test_df[test_df[\"building_id\"] == test_building_id].copy()\n\n    y_hat = model.predict(building_df[FEATURES])\n    y_hat = np.clip(y_hat, a_min=0, a_max=None)\n    \n    building_df[\"meter_reading\"] = y_hat\n    y_hat_df = building_df[[\"row_id\", \"building_id\", \"meter_id\", \"timestamp\", \"meter_reading\"]].copy()\n    y_hat_dfs.append(y_hat_df)\n    ",
            "metadata": {
                "trusted": true
            },
            "outputs": [],
            "execution_count": null
        },
        {
            "cell_type": "code",
            "source": "submission_df = pd.concat(y_hat_dfs)\nsubmission_df = kwh_to_kbtu(submission_df)\nsubmission_df = submission_df[[\"row_id\", \"meter_reading\"]].sort_values(\"row_id\")\nsubmission_df.to_csv(\"submission.csv\", index=False)",
            "metadata": {
                "trusted": true
            },
            "outputs": [],
            "execution_count": null
        }
    ]
}