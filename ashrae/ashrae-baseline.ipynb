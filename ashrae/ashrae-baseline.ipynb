{
    "cells": [
        {
            "cell_type": "markdown",
            "metadata": {
                "execution": {
                    "iopub.execute_input": "2025-01-06T08:17:23.367670Z",
                    "iopub.status.busy": "2025-01-06T08:17:23.366846Z",
                    "iopub.status.idle": "2025-01-06T08:17:23.372122Z",
                    "shell.execute_reply": "2025-01-06T08:17:23.370879Z",
                    "shell.execute_reply.started": "2025-01-06T08:17:23.367633Z"
                }
            },
            "source": [
                "# ASHRAE BASELINE\n",
                "\n",
                "This notebook develops a simple baseline RidgeRegression model to predict building energy consumption. It uses minimal feature engineering, or hyperparameter tuning and serves as a baseline predictor. All other more complex approaches should outperform the simple baseline model developed here."
            ]
        },
        {
            "cell_type": "code",
            "execution_count": null,
            "metadata": {
                "trusted": true
            },
            "outputs": [],
            "source": [
                "from datetime import datetime, date\n",
                "\n",
                "import pandas as pd\n",
                "import numpy as np\n",
                "from tqdm import tqdm\n",
                "\n",
                "from sklearn.compose import ColumnTransformer, TransformedTargetRegressor\n",
                "from sklearn.linear_model import Ridge, Lasso\n",
                "from sklearn.preprocessing import OneHotEncoder\n",
                "from sklearn.pipeline import Pipeline"
            ]
        },
        {
            "cell_type": "code",
            "execution_count": null,
            "metadata": {
                "_cell_guid": "b1076dfc-b9ad-4769-8c92-a6c4dae69d19",
                "_uuid": "8f2839f25d086af736a60e9eeb907d3b93b6e0e5",
                "trusted": true
            },
            "outputs": [],
            "source": [
                "# Constants\n",
                "INPUT_DATA_PATH = \"/kaggle/input/ashrae-energy-prediction\"\n",
                "\n",
                "MIN_TRAIN_TIMESTAMP = pd.Timestamp(\"2016-01-01 00:00:00\")\n",
                "MAX_TRAIN_TIMESTAMP = pd.Timestamp(\"2016-12-31 23:00:00\")\n",
                "TRAIN_DATA_RESOLUTION = \"1h\""
            ]
        },
        {
            "cell_type": "markdown",
            "metadata": {},
            "source": [
                "## Load train data"
            ]
        },
        {
            "cell_type": "code",
            "execution_count": null,
            "metadata": {
                "trusted": true
            },
            "outputs": [],
            "source": [
                "train_df = pd.read_csv(\n",
                "    f\"{INPUT_DATA_PATH}/train.csv\",\n",
                "    header=0,\n",
                "    names=[\"building_id\", \"meter_id\", \"timestamp\", \"meter_reading\"],\n",
                "    parse_dates=[\"timestamp\"],\n",
                "    dtype={\"meter_reading\": float}\n",
                ")"
            ]
        },
        {
            "cell_type": "markdown",
            "metadata": {},
            "source": [
                "## Feature engineering"
            ]
        },
        {
            "cell_type": "code",
            "execution_count": null,
            "metadata": {
                "trusted": true
            },
            "outputs": [],
            "source": [
                "def kbtu_to_kwh(df: pd.DataFrame) -> pd.DataFrame:\n",
                "    mask = (df[\"building_id\"] == 0) & (df[\"meter_id\"] == 0)\n",
                "    df.loc[mask, \"meter_reading\"] = df.loc[mask, \"meter_reading\"] * 0.2931\n",
                "    return df\n",
                "\n",
                "\n",
                "def cyclic_features(df: pd.DataFrame, feature: str, period: int) -> pd.DataFrame:\n",
                "    df[f\"{feature}_sin\"] = np.sin(2 * np.pi * df[feature] / period)\n",
                "    df[f\"{feature}_cos\"] = np.cos(2 * np.pi * df[feature] / period)\n",
                "    return df\n",
                "\n",
                "\n",
                "def temporal_features(df: pd.DataFrame) -> pd.DataFrame:\n",
                "    df[\"hour\"] = df[\"timestamp\"].dt.hour\n",
                "    df = cyclic_features(df, \"hour\", 24)\n",
                "    \n",
                "    df[\"day_of_week\"] = df[\"timestamp\"].dt.weekday\n",
                "    df = cyclic_features(df, \"day_of_week\", 7)\n",
                "    \n",
                "    df[\"month\"] = df[\"timestamp\"].dt.month\n",
                "    df = cyclic_features(df, \"month\", 12)\n",
                "    \n",
                "    df[\"is_weekend\"] = (df[\"timestamp\"].dt.weekday >= 5).astype(float)\n",
                "    \n",
                "    return df\n",
                "\n",
                "\n",
                "def target_transform(df: pd.DataFrame) -> pd.DataFrame:\n",
                "    df[\"log_reading\"] = np.log1p(np.array(df[\"meter_reading\"]))\n",
                "    return df"
            ]
        },
        {
            "cell_type": "code",
            "execution_count": null,
            "metadata": {
                "trusted": true
            },
            "outputs": [],
            "source": [
                "train_df = kbtu_to_kwh(train_df)\n",
                "train_df = temporal_features(train_df)\n",
                "\n",
                "train_df.head()"
            ]
        },
        {
            "cell_type": "markdown",
            "metadata": {
                "execution": {
                    "iopub.execute_input": "2024-11-11T07:12:03.287076Z",
                    "iopub.status.busy": "2024-11-11T07:12:03.286608Z",
                    "iopub.status.idle": "2024-11-11T07:12:03.292924Z",
                    "shell.execute_reply": "2024-11-11T07:12:03.291499Z",
                    "shell.execute_reply.started": "2024-11-11T07:12:03.287031Z"
                }
            },
            "source": [
                "## Baseline"
            ]
        },
        {
            "cell_type": "code",
            "execution_count": null,
            "metadata": {
                "trusted": true
            },
            "outputs": [],
            "source": [
                "LABEL = \"meter_reading\"\n",
                "FEATURES = [\n",
                "    \"meter_id\",\n",
                "    \"hour_sin\",\n",
                "    \"hour_cos\",\n",
                "    \"day_of_week_sin\",\n",
                "    \"day_of_week_cos\",\n",
                "    \"month_sin\",\n",
                "    \"month_cos\",\n",
                "    \"is_weekend\"\n",
                "]"
            ]
        },
        {
            "cell_type": "code",
            "execution_count": null,
            "metadata": {
                "trusted": true
            },
            "outputs": [],
            "source": [
                "# Construct pipeline\n",
                "\n",
                "def get_column_transformer():\n",
                "    transformer = ColumnTransformer(\n",
                "        [(\"oh_encoder\", OneHotEncoder(), [\"meter_id\"])],\n",
                "        remainder=\"passthrough\",\n",
                "        verbose_feature_names_out=False,\n",
                "    )\n",
                "    return transformer\n",
                "\n",
                "\n",
                "def get_target_regressor():\n",
                "    regressor = TransformedTargetRegressor(\n",
                "        regressor=Ridge(),\n",
                "        func=np.log1p,\n",
                "        inverse_func=np.expm1,\n",
                "    )\n",
                "    return regressor\n",
                "\n",
                "\n",
                "def make_pipeline():\n",
                "    pipeline = Pipeline(\n",
                "        steps = [\n",
                "            (\"transformer\", get_column_transformer()),\n",
                "            (\"regressor\", get_target_regressor())\n",
                "        ]\n",
                "    )\n",
                "    return pipeline"
            ]
        },
        {
            "cell_type": "code",
            "execution_count": null,
            "metadata": {
                "trusted": true
            },
            "outputs": [],
            "source": [
                "# Train pipeline for each building\n",
                "\n",
                "building_ids = list(train_df[\"building_id\"].unique())\n",
                "models_by_building = {}\n",
                "for building_id in tqdm(building_ids):\n",
                "    building_df = train_df[train_df[\"building_id\"] == building_id]\n",
                "    X, y = building_df[FEATURES], building_df[LABEL]\n",
                "    \n",
                "    model = make_pipeline()\n",
                "    model = model.fit(X, y)\n",
                "    \n",
                "    models_by_building[building_id] = model"
            ]
        },
        {
            "cell_type": "markdown",
            "metadata": {},
            "source": [
                "## Submission"
            ]
        },
        {
            "cell_type": "code",
            "execution_count": null,
            "metadata": {
                "trusted": true
            },
            "outputs": [],
            "source": [
                "def kwh_to_kbtu(df: pd.DataFrame) -> pd.DataFrame:\n",
                "    mask = (df[\"building_id\"] == 0) & (df[\"meter_id\"] == 0)\n",
                "    df.loc[mask, \"meter_reading\"] = df.loc[mask, \"meter_reading\"] * 3.4118\n",
                "    return df\n"
            ]
        },
        {
            "cell_type": "code",
            "execution_count": null,
            "metadata": {
                "trusted": true
            },
            "outputs": [],
            "source": [
                "test_df = pd.read_csv(\n",
                "    f\"{INPUT_DATA_PATH}/test.csv\",\n",
                "    header=0,\n",
                "    names=[\"row_id\", \"building_id\", \"meter_id\", \"timestamp\"],\n",
                "    parse_dates=[\"timestamp\"],\n",
                "    dtype={\"meter_reading\": float}\n",
                ")"
            ]
        },
        {
            "cell_type": "code",
            "execution_count": null,
            "metadata": {
                "trusted": true
            },
            "outputs": [],
            "source": [
                "test_df = temporal_features(test_df)\n",
                "\n",
                "test_df.head()"
            ]
        },
        {
            "cell_type": "code",
            "execution_count": null,
            "metadata": {
                "trusted": true
            },
            "outputs": [],
            "source": [
                "test_building_ids = list(test_df[\"building_id\"].unique())\n",
                "\n",
                "y_hat_dfs = []\n",
                "for test_building_id in tqdm(test_building_ids):\n",
                "    model = models_by_building[test_building_id]\n",
                "    building_df = test_df[test_df[\"building_id\"] == test_building_id].copy()\n",
                "\n",
                "    y_hat = model.predict(building_df[FEATURES])\n",
                "    y_hat = np.clip(y_hat, a_min=0, a_max=None)\n",
                "    \n",
                "    building_df[\"meter_reading\"] = y_hat\n",
                "    y_hat_df = building_df[[\"row_id\", \"building_id\", \"meter_id\", \"timestamp\", \"meter_reading\"]].copy()\n",
                "    y_hat_dfs.append(y_hat_df)\n",
                "    "
            ]
        },
        {
            "cell_type": "code",
            "execution_count": null,
            "metadata": {
                "trusted": true
            },
            "outputs": [],
            "source": [
                "submission_df = pd.concat(y_hat_dfs)\n",
                "submission_df = kwh_to_kbtu(submission_df)\n",
                "submission_df = submission_df[[\"row_id\", \"meter_reading\"]].sort_values(\"row_id\")\n",
                "submission_df.to_csv(\"submission.csv\", index=False)"
            ]
        }
    ],
    "metadata": {
        "kaggle": {
            "accelerator": "none",
            "dataSources": [
                {
                    "databundleVersionId": 752467,
                    "sourceId": 9994,
                    "sourceType": "competition"
                }
            ],
            "dockerImageVersionId": 30786,
            "isGpuEnabled": false,
            "isInternetEnabled": true,
            "language": "python",
            "sourceType": "notebook"
        },
        "kernelspec": {
            "display_name": "Python 3",
            "language": "python",
            "name": "python3"
        },
        "language_info": {
            "codemirror_mode": {
                "name": "ipython",
                "version": 3
            },
            "file_extension": ".py",
            "mimetype": "text/x-python",
            "name": "python",
            "nbconvert_exporter": "python",
            "pygments_lexer": "ipython3",
            "version": "3.10.14"
        }
    },
    "nbformat": 4,
    "nbformat_minor": 4
}
