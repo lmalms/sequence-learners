{
    "cells": [
        {
            "cell_type": "markdown",
            "id": "002827ad",
            "metadata": {},
            "source": [
                "# ASHRAE GLOBAL LIGHTGBM\n",
                "\n",
                "This notebook trains a single LightGBM model to predict energy consumption across all meter types, buildings, and sites. It uses the training dataset constructed in the notebook [ashrae-feature-engineering.ipynb](ashrae-feature-engineering.ipynb)"
            ]
        },
        {
            "cell_type": "code",
            "execution_count": null,
            "id": "e29dff75",
            "metadata": {
                "_cell_guid": "b1076dfc-b9ad-4769-8c92-a6c4dae69d19",
                "_uuid": "8f2839f25d086af736a60e9eeb907d3b93b6e0e5",
                "execution": {
                    "iopub.execute_input": "2025-02-14T12:22:25.070114Z",
                    "iopub.status.busy": "2025-02-14T12:22:25.069747Z",
                    "iopub.status.idle": "2025-02-14T12:22:31.163871Z",
                    "shell.execute_reply": "2025-02-14T12:22:31.162600Z"
                },
                "papermill": {
                    "duration": 6.101605,
                    "end_time": "2025-02-14T12:22:31.165865",
                    "exception": false,
                    "start_time": "2025-02-14T12:22:25.064260",
                    "status": "completed"
                },
                "tags": []
            },
            "outputs": [],
            "source": [
                "import gc\n",
                "\n",
                "import numpy as np\n",
                "import pandas as pd\n",
                "import pyarrow.parquet as pq\n",
                "import matplotlib.pyplot as plt\n",
                "\n",
                "import lightgbm as lgbm\n",
                "\n",
                "from sklearn.metrics import mean_squared_error\n",
                "from sklearn.compose import ColumnTransformer\n",
                "from sklearn.preprocessing import OrdinalEncoder\n",
                "\n",
                "from tqdm import tqdm"
            ]
        },
        {
            "cell_type": "code",
            "execution_count": null,
            "id": "1a968f32",
            "metadata": {
                "execution": {
                    "iopub.execute_input": "2025-02-14T12:22:31.175561Z",
                    "iopub.status.busy": "2025-02-14T12:22:31.174817Z",
                    "iopub.status.idle": "2025-02-14T12:22:31.179492Z",
                    "shell.execute_reply": "2025-02-14T12:22:31.178335Z"
                },
                "papermill": {
                    "duration": 0.01101,
                    "end_time": "2025-02-14T12:22:31.181105",
                    "exception": false,
                    "start_time": "2025-02-14T12:22:31.170095",
                    "status": "completed"
                },
                "tags": []
            },
            "outputs": [],
            "source": [
                "SUBMISSION_RUN = True"
            ]
        },
        {
            "cell_type": "code",
            "execution_count": null,
            "id": "5604b058",
            "metadata": {
                "execution": {
                    "iopub.execute_input": "2025-02-14T12:22:31.190277Z",
                    "iopub.status.busy": "2025-02-14T12:22:31.189885Z",
                    "iopub.status.idle": "2025-02-14T12:22:31.195705Z",
                    "shell.execute_reply": "2025-02-14T12:22:31.194561Z"
                },
                "papermill": {
                    "duration": 0.012635,
                    "end_time": "2025-02-14T12:22:31.197506",
                    "exception": false,
                    "start_time": "2025-02-14T12:22:31.184871",
                    "status": "completed"
                },
                "tags": []
            },
            "outputs": [],
            "source": [
                "# Constants\n",
                "INPUT_DATA_PATH = \"/kaggle/input/ashrae-energy-prediction\"\n",
                "\n",
                "MIN_TRAIN_TIMESTAMP = pd.Timestamp(\"2016-01-01 00:00:00\")\n",
                "MAX_TRAIN_TIMESTAMP = pd.Timestamp(\"2016-12-31 23:00:00\")\n",
                "MIN_TEST_TIMESTAMP = pd.Timestamp(\"2017-01-01 00:00:00\")\n",
                "MAX_TEST_TIMESTAMP = pd.Timestamp('2018-12-31 23:00:00')\n",
                "\n",
                "DATA_RESOLUTION = \"1h\"\n",
                "\n",
                "VALIDATION_PERIODS = [\n",
                "    (pd.Timestamp(\"2016-10-01 00:00:00\"), pd.Timestamp(\"2016-11-01 00:00:00\")),\n",
                "    (pd.Timestamp(\"2016-11-01 00:00:00\"), pd.Timestamp(\"2016-12-01 00:00:00\")),\n",
                "    (pd.Timestamp(\"2016-12-01 00:00:00\"), pd.Timestamp(\"2017-01-01 00:00:00\")),\n",
                "]"
            ]
        },
        {
            "cell_type": "markdown",
            "id": "2678d67a",
            "metadata": {
                "papermill": {
                    "duration": 0.003356,
                    "end_time": "2025-02-14T12:22:31.204646",
                    "exception": false,
                    "start_time": "2025-02-14T12:22:31.201290",
                    "status": "completed"
                },
                "tags": []
            },
            "source": [
                "## Data loading"
            ]
        },
        {
            "cell_type": "code",
            "execution_count": null,
            "id": "d17070f0",
            "metadata": {
                "execution": {
                    "iopub.execute_input": "2025-02-14T12:22:31.213163Z",
                    "iopub.status.busy": "2025-02-14T12:22:31.212771Z",
                    "iopub.status.idle": "2025-02-14T12:22:31.220658Z",
                    "shell.execute_reply": "2025-02-14T12:22:31.219279Z"
                },
                "papermill": {
                    "duration": 0.014086,
                    "end_time": "2025-02-14T12:22:31.222334",
                    "exception": false,
                    "start_time": "2025-02-14T12:22:31.208248",
                    "status": "completed"
                },
                "tags": []
            },
            "outputs": [],
            "source": [
                "CATEGORY_COLS = [\"building_id\", \"meter_id\", \"site_id\", \"primary_use\"]\n",
                "UINT8_COLS = [\"hour\", \"day_of_week\", \"month\"]\n",
                "\n",
                "\n",
                "def drop_cols(df: pd.DataFrame) -> pd.DataFrame:\n",
                "    cols_to_drop = [\"hour\", \"day_of_week\", \"month\"]\n",
                "    cols_to_drop = cols_to_drop + ([\"timestamp\"] if SUBMISSION_RUN else [])\n",
                "    df = df.drop(columns=cols_to_drop)\n",
                "    return df\n",
                "\n",
                "\n",
                "def cast_dtypes(df: pd.DataFrame, verbose: bool = True) -> pd.DataFrame:\n",
                "\n",
                "    # Timestamps\n",
                "    try:\n",
                "        df[\"timestamp\"] = pd.to_datetime(df[\"timestamp\"])\n",
                "    except KeyError:\n",
                "        if verbose:\n",
                "            print(\"Col 'timestamp' missing from df. Skipping ...\")\n",
                "\n",
                "    # Categories\n",
                "    for col in CATEGORY_COLS:\n",
                "        try:\n",
                "            df[col] = df[col].astype(\"category\")\n",
                "        except KeyError:\n",
                "            if verbose:\n",
                "                print(f\"Col '{col}' missing from df. Skipping ...\")\n",
                "\n",
                "    # UINT8\n",
                "    for col in UINT8_COLS:\n",
                "        try:\n",
                "            if df[col].max() > np.iinfo(np.uint8).max:\n",
                "                print(f\"Col max for '{col}' exceeds np.uint8 max. Skipping ...\")\n",
                "                continue\n",
                "            df[col] = df[col].astype(np.uint8)\n",
                "        except KeyError:\n",
                "            if verbose:\n",
                "                print(f\"Col '{col}' missing from df. Skipping ...\")\n",
                "    \n",
                "    return df"
            ]
        },
        {
            "cell_type": "code",
            "execution_count": null,
            "id": "6897f06c",
            "metadata": {
                "execution": {
                    "iopub.execute_input": "2025-02-14T12:22:31.230955Z",
                    "iopub.status.busy": "2025-02-14T12:22:31.230585Z",
                    "iopub.status.idle": "2025-02-14T12:22:44.473598Z",
                    "shell.execute_reply": "2025-02-14T12:22:44.472181Z"
                },
                "papermill": {
                    "duration": 13.249367,
                    "end_time": "2025-02-14T12:22:44.475445",
                    "exception": false,
                    "start_time": "2025-02-14T12:22:31.226078",
                    "status": "completed"
                },
                "tags": []
            },
            "outputs": [],
            "source": [
                "train_dataset = pd.read_parquet(\"/kaggle/input/ashrae-iii/train_df.parquet\")\n",
                "train_dataset = drop_cols(train_dataset)\n",
                "train_dataset = cast_dtypes(train_dataset)"
            ]
        },
        {
            "cell_type": "markdown",
            "id": "6f7a3ccf",
            "metadata": {
                "papermill": {
                    "duration": 0.00359,
                    "end_time": "2025-02-14T12:22:44.483086",
                    "exception": false,
                    "start_time": "2025-02-14T12:22:44.479496",
                    "status": "completed"
                },
                "tags": []
            },
            "source": [
                "## Cross Validation"
            ]
        },
        {
            "cell_type": "code",
            "execution_count": null,
            "id": "aafde516",
            "metadata": {
                "execution": {
                    "iopub.execute_input": "2025-02-14T12:22:44.491789Z",
                    "iopub.status.busy": "2025-02-14T12:22:44.491343Z",
                    "iopub.status.idle": "2025-02-14T12:22:44.497101Z",
                    "shell.execute_reply": "2025-02-14T12:22:44.496073Z"
                },
                "papermill": {
                    "duration": 0.011931,
                    "end_time": "2025-02-14T12:22:44.498761",
                    "exception": false,
                    "start_time": "2025-02-14T12:22:44.486830",
                    "status": "completed"
                },
                "tags": []
            },
            "outputs": [],
            "source": [
                "CATEGORICAL_FEATURES = [\n",
                "    \"building_id\",\n",
                "    \"meter_id\",\n",
                "    \"site_id\",\n",
                "    \"primary_use\",\n",
                "]\n",
                "NUMERICAL_FEATURES = [\n",
                "    \"square_feet\",\n",
                "    \"floor_count\",\n",
                "    \"air_temperature\",\n",
                "    \"cloud_coverage\",\n",
                "    \"dew_temperature\",\n",
                "    \"precip_depth_1_hr\",\n",
                "    \"sea_level_pressure\",\n",
                "    \"wind_direction_sin\",\n",
                "    \"wind_direction_cos\",\n",
                "    \"wind_speed\",\n",
                "    \"air_temperature_smoothed_lag_1\",\n",
                "    \"air_temperature_smoothed_lag_2\",\n",
                "    \"air_temperature_smoothed_lag_3\",\n",
                "    \"air_temperature_smoothed_lag_4\",\n",
                "    \"air_temperature_smoothed_lag_5\",\n",
                "    \"air_temperature_smoothed_rolling_mean_12\",\n",
                "    \"air_temperature_smoothed_rolling_mean_24\",\n",
                "    \"dew_temperature_smoothed_lag_1\",\n",
                "    \"dew_temperature_smoothed_lag_2\",\n",
                "    \"dew_temperature_smoothed_lag_3\",\n",
                "    \"dew_temperature_smoothed_lag_4\",\n",
                "    \"dew_temperature_smoothed_lag_5\",\n",
                "    \"dew_temperature_smoothed_rolling_mean_12\",\n",
                "    \"dew_temperature_smoothed_rolling_mean_24\",\n",
                "    \"sea_level_pressure_smoothed_lag_1\",\n",
                "    \"sea_level_pressure_smoothed_lag_2\",\n",
                "    \"sea_level_pressure_smoothed_lag_3\",\n",
                "    \"sea_level_pressure_smoothed_lag_4\",\n",
                "    \"sea_level_pressure_smoothed_lag_5\",\n",
                "    \"sea_level_pressure_smoothed_rolling_mean_12\",\n",
                "    \"sea_level_pressure_smoothed_rolling_mean_24\",\n",
                "    \"hour_sin\",\n",
                "    \"hour_cos\",\n",
                "    \"day_of_week_sin\",\n",
                "    \"day_of_week_cos\",\n",
                "    \"month_sin\",\n",
                "    \"month_cos\",\n",
                "    \"is_weekend\",\n",
                "    \"building_age_years\",\n",
                "    \"building_area_square_feet\",\n",
                "    \"relative_humidity\",\n",
                "    \"cold_chill\",\n",
                "    \"apparent_temperature\",\n",
                "    \"heat_index\",\n",
                "]\n",
                "FEATURES = NUMERICAL_FEATURES + CATEGORICAL_FEATURES\n",
                "\n",
                "LABEL = \"meter_reading\""
            ]
        },
        {
            "cell_type": "code",
            "execution_count": null,
            "id": "b963ed77",
            "metadata": {
                "execution": {
                    "iopub.execute_input": "2025-02-14T12:22:44.507560Z",
                    "iopub.status.busy": "2025-02-14T12:22:44.507148Z",
                    "iopub.status.idle": "2025-02-14T12:22:44.512265Z",
                    "shell.execute_reply": "2025-02-14T12:22:44.511134Z"
                },
                "papermill": {
                    "duration": 0.011311,
                    "end_time": "2025-02-14T12:22:44.513949",
                    "exception": false,
                    "start_time": "2025-02-14T12:22:44.502638",
                    "status": "completed"
                },
                "tags": []
            },
            "outputs": [],
            "source": [
                "N_ITERATIONS = 2000\n",
                "TRAIN_PARAMETERS = {\n",
                "    \"objective\": \"mean_squared_error\",\n",
                "    \"learning_rate\": 0.01,\n",
                "    \"seed\": 1,\n",
                "    \"max_bin\": 255,\n",
                "    \"num_leaves\": 2 ** 6 - 1,\n",
                "    \"min_data_in_leaf\": 100,\n",
                "    \"bagging_fraction\": 0.5,\n",
                "    \"bagging_freq\": 1,\n",
                "    \"feature_fraction\": 0.6,\n",
                "    \"metric\": [\"rmse\"],\n",
                "}\n",
                "DATASET_PARAMETERS = {\"categorical_feature\": CATEGORICAL_FEATURES}"
            ]
        },
        {
            "cell_type": "code",
            "execution_count": null,
            "id": "d55c34c9",
            "metadata": {
                "execution": {
                    "iopub.execute_input": "2025-02-14T12:22:44.523014Z",
                    "iopub.status.busy": "2025-02-14T12:22:44.522662Z",
                    "iopub.status.idle": "2025-02-14T12:22:44.529173Z",
                    "shell.execute_reply": "2025-02-14T12:22:44.528100Z"
                },
                "papermill": {
                    "duration": 0.013095,
                    "end_time": "2025-02-14T12:22:44.531016",
                    "exception": false,
                    "start_time": "2025-02-14T12:22:44.517921",
                    "status": "completed"
                },
                "tags": []
            },
            "outputs": [],
            "source": [
                "def train_valid_split(train_df: pd.DataFrame):\n",
                "    for val_start, val_end in VALIDATION_PERIODS:\n",
                "        train_mask = train_df[\"timestamp\"] < val_start\n",
                "        test_mask = (train_df[\"timestamp\"] >= val_start) & (train_df[\"timestamp\"] < val_end)\n",
                "        yield train_df.loc[train_mask], train_df.loc[test_mask]\n",
                "\n",
                "\n",
                "def get_column_transformer() -> ColumnTransformer:\n",
                "    ordinal_encoder = OrdinalEncoder(\n",
                "        categories=\"auto\",\n",
                "        handle_unknown=\"use_encoded_value\",\n",
                "        unknown_value=-1,\n",
                "        dtype=np.int32,\n",
                "    )\n",
                "    transformer = ColumnTransformer(\n",
                "        transformers=[\n",
                "            (\"numerical_features\", \"passthrough\", NUMERICAL_FEATURES),\n",
                "            (\"ordinal_encoder\", ordinal_encoder, [\"primary_use\"]),\n",
                "        ],\n",
                "        remainder=\"passthrough\",\n",
                "        verbose_feature_names_out=False,\n",
                "    )\n",
                "    transformer.set_output(transform=\"pandas\")\n",
                "    return transformer\n",
                "\n",
                "\n",
                "def target_transform(y: pd.Series) -> pd.Series:\n",
                "    return np.log1p(y)"
            ]
        },
        {
            "cell_type": "code",
            "execution_count": null,
            "id": "41968600",
            "metadata": {
                "execution": {
                    "iopub.execute_input": "2025-02-14T12:22:44.540454Z",
                    "iopub.status.busy": "2025-02-14T12:22:44.540108Z",
                    "iopub.status.idle": "2025-02-14T13:24:59.566773Z",
                    "shell.execute_reply": "2025-02-14T13:24:59.565548Z"
                },
                "papermill": {
                    "duration": 3735.03364,
                    "end_time": "2025-02-14T13:24:59.568734",
                    "exception": false,
                    "start_time": "2025-02-14T12:22:44.535094",
                    "status": "completed"
                },
                "tags": []
            },
            "outputs": [],
            "source": [
                "if not SUBMISSION_RUN:\n",
                "    print(f\"Running cross validation ...\\n\")\n",
                "    \n",
                "    cv_results = []\n",
                "    for i, (train_df, valid_df) in enumerate(train_valid_split(train_dataset)):\n",
                "        \n",
                "        print(f\"Split {i}\")\n",
                "\n",
                "        X_train, y_train = train_df[FEATURES], train_df[LABEL]\n",
                "        X_valid, y_valid = valid_df[FEATURES], valid_df[LABEL]\n",
                "        \n",
                "        y_train = target_transform(y_train)\n",
                "        y_valid = target_transform(y_valid)\n",
                "\n",
                "        transformer = get_column_transformer()\n",
                "        transformer.fit(X_train, y_train)\n",
                "        X_train = transformer.transform(X_train)\n",
                "        X_train = X_train.astype({\"primary_use\": \"category\"})\n",
                "        X_valid = transformer.transform(X_valid)\n",
                "        X_valid = X_valid.astype({\"primary_use\": \"category\"})\n",
                "        \n",
                "        train_ds = lgbm.Dataset(data=X_train, label=y_train)\n",
                "        valid_ds = lgbm.Dataset(data=X_valid, label=y_valid)\n",
                "\n",
                "        # Train Lightgbm\n",
                "        eval_results = {}\n",
                "        model = lgbm.train(\n",
                "            TRAIN_PARAMETERS,\n",
                "            num_boost_round=N_ITERATIONS,\n",
                "            train_set=train_ds,\n",
                "            valid_sets=[train_ds, valid_ds],\n",
                "            valid_names=[\"train\", \"valid\"],\n",
                "            callbacks=[\n",
                "                lgbm.log_evaluation(period=10),\n",
                "                lgbm.record_evaluation(eval_results),\n",
                "            ]\n",
                "        )\n",
                "        cv_results.append(eval_results)\n",
                "\n",
                "        print(\"=================================\")\n",
                "\n",
                "else:\n",
                "    print(f\"Training model for submission ...\\n\")\n",
                "\n",
                "    X_train, y_train = train_dataset[FEATURES], train_dataset[LABEL]\n",
                "    \n",
                "    transformer = get_column_transformer()\n",
                "    y_train = target_transform(y_train)\n",
                "    transformer.fit(X_train, y_train)\n",
                "    X_train = transformer.transform(X_train)\n",
                "    X_train = X_train.astype({\"primary_use\": \"category\"})\n",
                "    \n",
                "    train_ds = lgbm.Dataset(data=X_train, label=y_train)\n",
                "\n",
                "    eval_results = {}\n",
                "    model = lgbm.train(\n",
                "        TRAIN_PARAMETERS,\n",
                "        num_boost_round=N_ITERATIONS,\n",
                "        train_set=train_ds,\n",
                "        valid_sets=[train_ds],\n",
                "        valid_names=[\"train\"],\n",
                "        callbacks=[\n",
                "            lgbm.log_evaluation(period=10),\n",
                "            lgbm.record_evaluation(eval_results),\n",
                "        ]\n",
                "    )\n",
                "\n",
                "    del train_dataset\n",
                "    del X_train, y_train\n",
                "    gc.collect()"
            ]
        },
        {
            "cell_type": "code",
            "execution_count": null,
            "id": "40e8af35",
            "metadata": {
                "execution": {
                    "iopub.execute_input": "2025-02-14T13:24:59.599577Z",
                    "iopub.status.busy": "2025-02-14T13:24:59.599176Z",
                    "iopub.status.idle": "2025-02-14T13:24:59.605499Z",
                    "shell.execute_reply": "2025-02-14T13:24:59.603927Z"
                },
                "papermill": {
                    "duration": 0.02354,
                    "end_time": "2025-02-14T13:24:59.607393",
                    "exception": false,
                    "start_time": "2025-02-14T13:24:59.583853",
                    "status": "completed"
                },
                "tags": []
            },
            "outputs": [],
            "source": [
                "# Plot training loss\n",
                "if not SUBMISSION_RUN:\n",
                "    fig, ax = plt.subplots(1, 2, figsize=(10, 3.5), sharex=True, sharey=True)\n",
                "    \n",
                "    for split_idx, split_scores in enumerate(cv_results):\n",
                "        ax[0].plot(\n",
                "            split_scores[\"train\"][\"rmse\"],\n",
                "            label=f\"split {split_idx}\",\n",
                "        )\n",
                "        ax[0].legend()\n",
                "        \n",
                "        ax[1].plot(\n",
                "            split_scores[\"valid\"][\"rmse\"],\n",
                "            label=f\"split {split_idx}\",\n",
                "        )\n",
                "        ax[1].legend()\n",
                "\n",
                "    plt.savefig(\"loss_curves.png\", dpi=300)"
            ]
        },
        {
            "cell_type": "markdown",
            "id": "f8069e07",
            "metadata": {
                "papermill": {
                    "duration": 0.01369,
                    "end_time": "2025-02-14T13:24:59.636041",
                    "exception": false,
                    "start_time": "2025-02-14T13:24:59.622351",
                    "status": "completed"
                },
                "tags": []
            },
            "source": [
                "## Submission"
            ]
        },
        {
            "cell_type": "code",
            "execution_count": null,
            "id": "1924f3c0",
            "metadata": {
                "execution": {
                    "iopub.execute_input": "2025-02-14T13:24:59.665341Z",
                    "iopub.status.busy": "2025-02-14T13:24:59.665007Z",
                    "iopub.status.idle": "2025-02-14T13:24:59.670292Z",
                    "shell.execute_reply": "2025-02-14T13:24:59.669352Z"
                },
                "papermill": {
                    "duration": 0.021952,
                    "end_time": "2025-02-14T13:24:59.671985",
                    "exception": false,
                    "start_time": "2025-02-14T13:24:59.650033",
                    "status": "completed"
                },
                "tags": []
            },
            "outputs": [],
            "source": [
                "def inverse_target_transform(y: np.ndarray) -> np.ndarray:\n",
                "    return np.clip(np.expm1(y), a_min=0.0, a_max=None)\n",
                "\n",
                "\n",
                "def kwh_to_kbtu(df: pd.DataFrame) -> pd.DataFrame:\n",
                "    mask = (df[\"building_id\"] == 0) & (df[\"meter_id\"] == 0)\n",
                "    df.loc[mask, \"meter_reading\"] = df.loc[mask, \"meter_reading\"] * 3.4118\n",
                "    return df"
            ]
        },
        {
            "cell_type": "code",
            "execution_count": null,
            "id": "1fe46814",
            "metadata": {
                "execution": {
                    "iopub.execute_input": "2025-02-14T13:24:59.702454Z",
                    "iopub.status.busy": "2025-02-14T13:24:59.702113Z",
                    "iopub.status.idle": "2025-02-14T14:51:35.556964Z",
                    "shell.execute_reply": "2025-02-14T14:51:35.555524Z"
                },
                "papermill": {
                    "duration": 5195.872977,
                    "end_time": "2025-02-14T14:51:35.559319",
                    "exception": false,
                    "start_time": "2025-02-14T13:24:59.686342",
                    "status": "completed"
                },
                "tags": []
            },
            "outputs": [],
            "source": [
                "if SUBMISSION_RUN:\n",
                "    \n",
                "    # Make predictions in batches\n",
                "    parquet_file = \"/kaggle/input/ashrae-iii/test_df.parquet\"\n",
                "    test_pq_file = pq.ParquetFile(parquet_file)\n",
                "    \n",
                "    prediction_dfs = []\n",
                "    for batch in tqdm(test_pq_file.iter_batches(100000)):\n",
                "        test_data = batch.to_pandas()\n",
                "        test_data = drop_cols(test_data)\n",
                "        test_data = cast_dtypes(test_data, verbose=False)\n",
                "    \n",
                "        # Predict\n",
                "        X_test = test_data[FEATURES]\n",
                "        X_test = transformer.transform(X_test)\n",
                "        X_test = X_test.astype({\"primary_use\": \"category\"})\n",
                "        y_hat = inverse_target_transform(model.predict(X_test))\n",
                "        y_hat = pd.DataFrame(y_hat, columns=[\"meter_reading\"])\n",
                "    \n",
                "        prediction_df = pd.concat([test_data, y_hat], axis=1)\n",
                "        prediction_df = kwh_to_kbtu(prediction_df)\n",
                "        prediction_dfs.append(prediction_df[[\"row_id\", \"meter_reading\"]])\n",
                "    \n",
                "    submission_df = pd.concat(prediction_dfs, axis=0)\n",
                "    submission_df = submission_df.sort_values(\"row_id\").reset_index(drop=True)\n",
                "    submission_df.to_csv(\"submission.csv\", index=False)"
            ]
        }
    ],
    "metadata": {
        "kaggle": {
            "accelerator": "none",
            "dataSources": [
                {
                    "databundleVersionId": 752467,
                    "sourceId": 9994,
                    "sourceType": "competition"
                },
                {
                    "datasetId": 6473980,
                    "sourceId": 10748143,
                    "sourceType": "datasetVersion"
                }
            ],
            "isGpuEnabled": false,
            "isInternetEnabled": true,
            "language": "python",
            "sourceType": "notebook"
        },
        "kernelspec": {
            "display_name": "Python 3",
            "language": "python",
            "name": "python3"
        },
        "language_info": {
            "codemirror_mode": {
                "name": "ipython",
                "version": 3
            },
            "file_extension": ".py",
            "mimetype": "text/x-python",
            "name": "python",
            "nbconvert_exporter": "python",
            "pygments_lexer": "ipython3",
            "version": "3.10.12"
        },
        "papermill": {
            "default_parameters": {},
            "duration": 8955.30361,
            "end_time": "2025-02-14T14:51:37.443191",
            "environment_variables": {},
            "exception": null,
            "input_path": "__notebook__.ipynb",
            "output_path": "__notebook__.ipynb",
            "parameters": {},
            "start_time": "2025-02-14T12:22:22.139581",
            "version": "2.6.0"
        }
    },
    "nbformat": 4,
    "nbformat_minor": 5
}
