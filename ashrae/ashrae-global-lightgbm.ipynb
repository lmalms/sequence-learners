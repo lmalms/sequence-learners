{
    "cells": [
        {
            "cell_type": "code",
            "execution_count": 1,
            "id": "e29dff75",
            "metadata": {
                "_cell_guid": "b1076dfc-b9ad-4769-8c92-a6c4dae69d19",
                "_uuid": "8f2839f25d086af736a60e9eeb907d3b93b6e0e5",
                "execution": {
                    "iopub.execute_input": "2025-02-14T12:22:25.070114Z",
                    "iopub.status.busy": "2025-02-14T12:22:25.069747Z",
                    "iopub.status.idle": "2025-02-14T12:22:31.163871Z",
                    "shell.execute_reply": "2025-02-14T12:22:31.162600Z"
                },
                "papermill": {
                    "duration": 6.101605,
                    "end_time": "2025-02-14T12:22:31.165865",
                    "exception": false,
                    "start_time": "2025-02-14T12:22:25.064260",
                    "status": "completed"
                },
                "tags": []
            },
            "outputs": [],
            "source": [
                "import gc\n",
                "\n",
                "import numpy as np\n",
                "import pandas as pd\n",
                "import pyarrow.parquet as pq\n",
                "import matplotlib.pyplot as plt\n",
                "\n",
                "import lightgbm as lgbm\n",
                "\n",
                "from sklearn.metrics import mean_squared_error\n",
                "from sklearn.compose import ColumnTransformer\n",
                "from sklearn.preprocessing import OrdinalEncoder\n",
                "\n",
                "from tqdm import tqdm"
            ]
        },
        {
            "cell_type": "code",
            "execution_count": 2,
            "id": "1a968f32",
            "metadata": {
                "execution": {
                    "iopub.execute_input": "2025-02-14T12:22:31.175561Z",
                    "iopub.status.busy": "2025-02-14T12:22:31.174817Z",
                    "iopub.status.idle": "2025-02-14T12:22:31.179492Z",
                    "shell.execute_reply": "2025-02-14T12:22:31.178335Z"
                },
                "papermill": {
                    "duration": 0.01101,
                    "end_time": "2025-02-14T12:22:31.181105",
                    "exception": false,
                    "start_time": "2025-02-14T12:22:31.170095",
                    "status": "completed"
                },
                "tags": []
            },
            "outputs": [],
            "source": [
                "SUBMISSION_RUN = True"
            ]
        },
        {
            "cell_type": "code",
            "execution_count": 3,
            "id": "5604b058",
            "metadata": {
                "execution": {
                    "iopub.execute_input": "2025-02-14T12:22:31.190277Z",
                    "iopub.status.busy": "2025-02-14T12:22:31.189885Z",
                    "iopub.status.idle": "2025-02-14T12:22:31.195705Z",
                    "shell.execute_reply": "2025-02-14T12:22:31.194561Z"
                },
                "papermill": {
                    "duration": 0.012635,
                    "end_time": "2025-02-14T12:22:31.197506",
                    "exception": false,
                    "start_time": "2025-02-14T12:22:31.184871",
                    "status": "completed"
                },
                "tags": []
            },
            "outputs": [],
            "source": [
                "# Constants\n",
                "INPUT_DATA_PATH = \"/kaggle/input/ashrae-energy-prediction\"\n",
                "\n",
                "MIN_TRAIN_TIMESTAMP = pd.Timestamp(\"2016-01-01 00:00:00\")\n",
                "MAX_TRAIN_TIMESTAMP = pd.Timestamp(\"2016-12-31 23:00:00\")\n",
                "MIN_TEST_TIMESTAMP = pd.Timestamp(\"2017-01-01 00:00:00\")\n",
                "MAX_TEST_TIMESTAMP = pd.Timestamp('2018-12-31 23:00:00')\n",
                "\n",
                "DATA_RESOLUTION = \"1h\"\n",
                "\n",
                "VALIDATION_PERIODS = [\n",
                "    (pd.Timestamp(\"2016-10-01 00:00:00\"), pd.Timestamp(\"2016-11-01 00:00:00\")),\n",
                "    (pd.Timestamp(\"2016-11-01 00:00:00\"), pd.Timestamp(\"2016-12-01 00:00:00\")),\n",
                "    (pd.Timestamp(\"2016-12-01 00:00:00\"), pd.Timestamp(\"2017-01-01 00:00:00\")),\n",
                "]"
            ]
        },
        {
            "cell_type": "markdown",
            "id": "2678d67a",
            "metadata": {
                "papermill": {
                    "duration": 0.003356,
                    "end_time": "2025-02-14T12:22:31.204646",
                    "exception": false,
                    "start_time": "2025-02-14T12:22:31.201290",
                    "status": "completed"
                },
                "tags": []
            },
            "source": [
                "## Data loading"
            ]
        },
        {
            "cell_type": "code",
            "execution_count": 4,
            "id": "d17070f0",
            "metadata": {
                "execution": {
                    "iopub.execute_input": "2025-02-14T12:22:31.213163Z",
                    "iopub.status.busy": "2025-02-14T12:22:31.212771Z",
                    "iopub.status.idle": "2025-02-14T12:22:31.220658Z",
                    "shell.execute_reply": "2025-02-14T12:22:31.219279Z"
                },
                "papermill": {
                    "duration": 0.014086,
                    "end_time": "2025-02-14T12:22:31.222334",
                    "exception": false,
                    "start_time": "2025-02-14T12:22:31.208248",
                    "status": "completed"
                },
                "tags": []
            },
            "outputs": [],
            "source": [
                "CATEGORY_COLS = [\"building_id\", \"meter_id\", \"site_id\", \"primary_use\"]\n",
                "UINT8_COLS = [\"hour\", \"day_of_week\", \"month\"]\n",
                "\n",
                "\n",
                "def drop_cols(df: pd.DataFrame) -> pd.DataFrame:\n",
                "    cols_to_drop = [\"hour\", \"day_of_week\", \"month\"]\n",
                "    cols_to_drop = cols_to_drop + ([\"timestamp\"] if SUBMISSION_RUN else [])\n",
                "    df = df.drop(columns=cols_to_drop)\n",
                "    return df\n",
                "\n",
                "\n",
                "def cast_dtypes(df: pd.DataFrame, verbose: bool = True) -> pd.DataFrame:\n",
                "\n",
                "    # Timestamps\n",
                "    try:\n",
                "        df[\"timestamp\"] = pd.to_datetime(df[\"timestamp\"])\n",
                "    except KeyError:\n",
                "        if verbose:\n",
                "            print(\"Col 'timestamp' missing from df. Skipping ...\")\n",
                "\n",
                "    # Categories\n",
                "    for col in CATEGORY_COLS:\n",
                "        try:\n",
                "            df[col] = df[col].astype(\"category\")\n",
                "        except KeyError:\n",
                "            if verbose:\n",
                "                print(f\"Col '{col}' missing from df. Skipping ...\")\n",
                "\n",
                "    # UINT8\n",
                "    for col in UINT8_COLS:\n",
                "        try:\n",
                "            if df[col].max() > np.iinfo(np.uint8).max:\n",
                "                print(f\"Col max for '{col}' exceeds np.uint8 max. Skipping ...\")\n",
                "                continue\n",
                "            df[col] = df[col].astype(np.uint8)\n",
                "        except KeyError:\n",
                "            if verbose:\n",
                "                print(f\"Col '{col}' missing from df. Skipping ...\")\n",
                "    \n",
                "    return df"
            ]
        },
        {
            "cell_type": "code",
            "execution_count": 5,
            "id": "6897f06c",
            "metadata": {
                "execution": {
                    "iopub.execute_input": "2025-02-14T12:22:31.230955Z",
                    "iopub.status.busy": "2025-02-14T12:22:31.230585Z",
                    "iopub.status.idle": "2025-02-14T12:22:44.473598Z",
                    "shell.execute_reply": "2025-02-14T12:22:44.472181Z"
                },
                "papermill": {
                    "duration": 13.249367,
                    "end_time": "2025-02-14T12:22:44.475445",
                    "exception": false,
                    "start_time": "2025-02-14T12:22:31.226078",
                    "status": "completed"
                },
                "tags": []
            },
            "outputs": [
                {
                    "name": "stdout",
                    "output_type": "stream",
                    "text": [
                        "Col 'timestamp' missing from df. Skipping ...\n",
                        "Col 'hour' missing from df. Skipping ...\n",
                        "Col 'day_of_week' missing from df. Skipping ...\n",
                        "Col 'month' missing from df. Skipping ...\n"
                    ]
                }
            ],
            "source": [
                "train_dataset = pd.read_parquet(\"/kaggle/input/ashrae-iii/train_df.parquet\")\n",
                "train_dataset = drop_cols(train_dataset)\n",
                "train_dataset = cast_dtypes(train_dataset)"
            ]
        },
        {
            "cell_type": "markdown",
            "id": "6f7a3ccf",
            "metadata": {
                "papermill": {
                    "duration": 0.00359,
                    "end_time": "2025-02-14T12:22:44.483086",
                    "exception": false,
                    "start_time": "2025-02-14T12:22:44.479496",
                    "status": "completed"
                },
                "tags": []
            },
            "source": [
                "## Cross Validation"
            ]
        },
        {
            "cell_type": "code",
            "execution_count": 6,
            "id": "aafde516",
            "metadata": {
                "execution": {
                    "iopub.execute_input": "2025-02-14T12:22:44.491789Z",
                    "iopub.status.busy": "2025-02-14T12:22:44.491343Z",
                    "iopub.status.idle": "2025-02-14T12:22:44.497101Z",
                    "shell.execute_reply": "2025-02-14T12:22:44.496073Z"
                },
                "papermill": {
                    "duration": 0.011931,
                    "end_time": "2025-02-14T12:22:44.498761",
                    "exception": false,
                    "start_time": "2025-02-14T12:22:44.486830",
                    "status": "completed"
                },
                "tags": []
            },
            "outputs": [],
            "source": [
                "CATEGORICAL_FEATURES = [\n",
                "    \"building_id\",\n",
                "    \"meter_id\",\n",
                "    \"site_id\",\n",
                "    \"primary_use\",\n",
                "]\n",
                "NUMERICAL_FEATURES = [\n",
                "    \"square_feet\",\n",
                "    \"floor_count\",\n",
                "    \"air_temperature\",\n",
                "    \"cloud_coverage\",\n",
                "    \"dew_temperature\",\n",
                "    \"precip_depth_1_hr\",\n",
                "    \"sea_level_pressure\",\n",
                "    \"wind_direction_sin\",\n",
                "    \"wind_direction_cos\",\n",
                "    \"wind_speed\",\n",
                "    \"air_temperature_smoothed_lag_1\",\n",
                "    \"air_temperature_smoothed_lag_2\",\n",
                "    \"air_temperature_smoothed_lag_3\",\n",
                "    \"air_temperature_smoothed_lag_4\",\n",
                "    \"air_temperature_smoothed_lag_5\",\n",
                "    \"air_temperature_smoothed_rolling_mean_12\",\n",
                "    \"air_temperature_smoothed_rolling_mean_24\",\n",
                "    \"dew_temperature_smoothed_lag_1\",\n",
                "    \"dew_temperature_smoothed_lag_2\",\n",
                "    \"dew_temperature_smoothed_lag_3\",\n",
                "    \"dew_temperature_smoothed_lag_4\",\n",
                "    \"dew_temperature_smoothed_lag_5\",\n",
                "    \"dew_temperature_smoothed_rolling_mean_12\",\n",
                "    \"dew_temperature_smoothed_rolling_mean_24\",\n",
                "    \"sea_level_pressure_smoothed_lag_1\",\n",
                "    \"sea_level_pressure_smoothed_lag_2\",\n",
                "    \"sea_level_pressure_smoothed_lag_3\",\n",
                "    \"sea_level_pressure_smoothed_lag_4\",\n",
                "    \"sea_level_pressure_smoothed_lag_5\",\n",
                "    \"sea_level_pressure_smoothed_rolling_mean_12\",\n",
                "    \"sea_level_pressure_smoothed_rolling_mean_24\",\n",
                "    \"hour_sin\",\n",
                "    \"hour_cos\",\n",
                "    \"day_of_week_sin\",\n",
                "    \"day_of_week_cos\",\n",
                "    \"month_sin\",\n",
                "    \"month_cos\",\n",
                "    \"is_weekend\",\n",
                "    \"building_age_years\",\n",
                "    \"building_area_square_feet\",\n",
                "    \"relative_humidity\",\n",
                "    \"cold_chill\",\n",
                "    \"apparent_temperature\",\n",
                "    \"heat_index\",\n",
                "]\n",
                "FEATURES = NUMERICAL_FEATURES + CATEGORICAL_FEATURES\n",
                "\n",
                "LABEL = \"meter_reading\""
            ]
        },
        {
            "cell_type": "code",
            "execution_count": 7,
            "id": "b963ed77",
            "metadata": {
                "execution": {
                    "iopub.execute_input": "2025-02-14T12:22:44.507560Z",
                    "iopub.status.busy": "2025-02-14T12:22:44.507148Z",
                    "iopub.status.idle": "2025-02-14T12:22:44.512265Z",
                    "shell.execute_reply": "2025-02-14T12:22:44.511134Z"
                },
                "papermill": {
                    "duration": 0.011311,
                    "end_time": "2025-02-14T12:22:44.513949",
                    "exception": false,
                    "start_time": "2025-02-14T12:22:44.502638",
                    "status": "completed"
                },
                "tags": []
            },
            "outputs": [],
            "source": [
                "N_ITERATIONS = 2000\n",
                "TRAIN_PARAMETERS = {\n",
                "    \"objective\": \"mean_squared_error\",\n",
                "    \"learning_rate\": 0.01,\n",
                "    \"seed\": 1,\n",
                "    \"max_bin\": 255,\n",
                "    \"num_leaves\": 2 ** 6 - 1,\n",
                "    \"min_data_in_leaf\": 100,\n",
                "    \"bagging_fraction\": 0.5,\n",
                "    \"bagging_freq\": 1,\n",
                "    \"feature_fraction\": 0.6,\n",
                "    \"metric\": [\"rmse\"],\n",
                "}\n",
                "DATASET_PARAMETERS = {\"categorical_feature\": CATEGORICAL_FEATURES}"
            ]
        },
        {
            "cell_type": "code",
            "execution_count": 8,
            "id": "d55c34c9",
            "metadata": {
                "execution": {
                    "iopub.execute_input": "2025-02-14T12:22:44.523014Z",
                    "iopub.status.busy": "2025-02-14T12:22:44.522662Z",
                    "iopub.status.idle": "2025-02-14T12:22:44.529173Z",
                    "shell.execute_reply": "2025-02-14T12:22:44.528100Z"
                },
                "papermill": {
                    "duration": 0.013095,
                    "end_time": "2025-02-14T12:22:44.531016",
                    "exception": false,
                    "start_time": "2025-02-14T12:22:44.517921",
                    "status": "completed"
                },
                "tags": []
            },
            "outputs": [],
            "source": [
                "def train_valid_split(train_df: pd.DataFrame):\n",
                "    for val_start, val_end in VALIDATION_PERIODS:\n",
                "        train_mask = train_df[\"timestamp\"] < val_start\n",
                "        test_mask = (train_df[\"timestamp\"] >= val_start) & (train_df[\"timestamp\"] < val_end)\n",
                "        yield train_df.loc[train_mask], train_df.loc[test_mask]\n",
                "\n",
                "\n",
                "def get_column_transformer() -> ColumnTransformer:\n",
                "    ordinal_encoder = OrdinalEncoder(\n",
                "        categories=\"auto\",\n",
                "        handle_unknown=\"use_encoded_value\",\n",
                "        unknown_value=-1,\n",
                "        dtype=np.int32,\n",
                "    )\n",
                "    transformer = ColumnTransformer(\n",
                "        transformers=[\n",
                "            (\"numerical_features\", \"passthrough\", NUMERICAL_FEATURES),\n",
                "            (\"ordinal_encoder\", ordinal_encoder, [\"primary_use\"]),\n",
                "        ],\n",
                "        remainder=\"passthrough\",\n",
                "        verbose_feature_names_out=False,\n",
                "    )\n",
                "    transformer.set_output(transform=\"pandas\")\n",
                "    return transformer\n",
                "\n",
                "\n",
                "def target_transform(y: pd.Series) -> pd.Series:\n",
                "    return np.log1p(y)"
            ]
        },
        {
            "cell_type": "code",
            "execution_count": 9,
            "id": "41968600",
            "metadata": {
                "execution": {
                    "iopub.execute_input": "2025-02-14T12:22:44.540454Z",
                    "iopub.status.busy": "2025-02-14T12:22:44.540108Z",
                    "iopub.status.idle": "2025-02-14T13:24:59.566773Z",
                    "shell.execute_reply": "2025-02-14T13:24:59.565548Z"
                },
                "papermill": {
                    "duration": 3735.03364,
                    "end_time": "2025-02-14T13:24:59.568734",
                    "exception": false,
                    "start_time": "2025-02-14T12:22:44.535094",
                    "status": "completed"
                },
                "tags": []
            },
            "outputs": [
                {
                    "name": "stdout",
                    "output_type": "stream",
                    "text": [
                        "Training model for submission ...\n",
                        "\n",
                        "[LightGBM] [Warning] Categorical features with more bins than the configured maximum bin number found.\n",
                        "[LightGBM] [Warning] For categorical features, max_bin and max_bin_by_feature may be ignored with a large number of categories.\n",
                        "[LightGBM] [Info] Auto-choosing col-wise multi-threading, the overhead of testing was 6.108324 seconds.\n",
                        "You can set `force_col_wise=true` to remove the overhead.\n",
                        "[LightGBM] [Info] Total Bins 10250\n",
                        "[LightGBM] [Info] Number of data points in the train set: 19698412, number of used features: 48\n",
                        "[LightGBM] [Info] Start training from score 4.293175\n",
                        "[10]\ttrain's rmse: 1.93566\n",
                        "[20]\ttrain's rmse: 1.85087\n",
                        "[30]\ttrain's rmse: 1.77999\n",
                        "[40]\ttrain's rmse: 1.71779\n",
                        "[50]\ttrain's rmse: 1.66125\n",
                        "[60]\ttrain's rmse: 1.60758\n",
                        "[70]\ttrain's rmse: 1.55793\n",
                        "[80]\ttrain's rmse: 1.51379\n",
                        "[90]\ttrain's rmse: 1.46899\n",
                        "[100]\ttrain's rmse: 1.43174\n",
                        "[110]\ttrain's rmse: 1.39154\n",
                        "[120]\ttrain's rmse: 1.35526\n",
                        "[130]\ttrain's rmse: 1.32237\n",
                        "[140]\ttrain's rmse: 1.29823\n",
                        "[150]\ttrain's rmse: 1.27072\n",
                        "[160]\ttrain's rmse: 1.24481\n",
                        "[170]\ttrain's rmse: 1.22819\n",
                        "[180]\ttrain's rmse: 1.20465\n",
                        "[190]\ttrain's rmse: 1.18573\n",
                        "[200]\ttrain's rmse: 1.169\n",
                        "[210]\ttrain's rmse: 1.15305\n",
                        "[220]\ttrain's rmse: 1.13974\n",
                        "[230]\ttrain's rmse: 1.1214\n",
                        "[240]\ttrain's rmse: 1.10465\n",
                        "[250]\ttrain's rmse: 1.0912\n",
                        "[260]\ttrain's rmse: 1.0779\n",
                        "[270]\ttrain's rmse: 1.06552\n",
                        "[280]\ttrain's rmse: 1.05352\n",
                        "[290]\ttrain's rmse: 1.04533\n",
                        "[300]\ttrain's rmse: 1.03807\n",
                        "[310]\ttrain's rmse: 1.02989\n",
                        "[320]\ttrain's rmse: 1.01828\n",
                        "[330]\ttrain's rmse: 1.01029\n",
                        "[340]\ttrain's rmse: 0.999557\n",
                        "[350]\ttrain's rmse: 0.992805\n",
                        "[360]\ttrain's rmse: 0.985805\n",
                        "[370]\ttrain's rmse: 0.978096\n",
                        "[380]\ttrain's rmse: 0.971959\n",
                        "[390]\ttrain's rmse: 0.967801\n",
                        "[400]\ttrain's rmse: 0.96312\n",
                        "[410]\ttrain's rmse: 0.95844\n",
                        "[420]\ttrain's rmse: 0.954\n",
                        "[430]\ttrain's rmse: 0.948685\n",
                        "[440]\ttrain's rmse: 0.943743\n",
                        "[450]\ttrain's rmse: 0.939276\n",
                        "[460]\ttrain's rmse: 0.933561\n",
                        "[470]\ttrain's rmse: 0.928773\n",
                        "[480]\ttrain's rmse: 0.925243\n",
                        "[490]\ttrain's rmse: 0.920675\n",
                        "[500]\ttrain's rmse: 0.917018\n",
                        "[510]\ttrain's rmse: 0.913395\n",
                        "[520]\ttrain's rmse: 0.90959\n",
                        "[530]\ttrain's rmse: 0.906766\n",
                        "[540]\ttrain's rmse: 0.901721\n",
                        "[550]\ttrain's rmse: 0.899769\n",
                        "[560]\ttrain's rmse: 0.896972\n",
                        "[570]\ttrain's rmse: 0.893956\n",
                        "[580]\ttrain's rmse: 0.890553\n",
                        "[590]\ttrain's rmse: 0.887814\n",
                        "[600]\ttrain's rmse: 0.884395\n",
                        "[610]\ttrain's rmse: 0.882699\n",
                        "[620]\ttrain's rmse: 0.879936\n",
                        "[630]\ttrain's rmse: 0.878057\n",
                        "[640]\ttrain's rmse: 0.875726\n",
                        "[650]\ttrain's rmse: 0.873277\n",
                        "[660]\ttrain's rmse: 0.870947\n",
                        "[670]\ttrain's rmse: 0.868813\n",
                        "[680]\ttrain's rmse: 0.866981\n",
                        "[690]\ttrain's rmse: 0.865004\n",
                        "[700]\ttrain's rmse: 0.862818\n",
                        "[710]\ttrain's rmse: 0.86075\n",
                        "[720]\ttrain's rmse: 0.85865\n",
                        "[730]\ttrain's rmse: 0.856845\n",
                        "[740]\ttrain's rmse: 0.854783\n",
                        "[750]\ttrain's rmse: 0.853246\n",
                        "[760]\ttrain's rmse: 0.851789\n",
                        "[770]\ttrain's rmse: 0.850242\n",
                        "[780]\ttrain's rmse: 0.848767\n",
                        "[790]\ttrain's rmse: 0.847082\n",
                        "[800]\ttrain's rmse: 0.845767\n",
                        "[810]\ttrain's rmse: 0.843664\n",
                        "[820]\ttrain's rmse: 0.842375\n",
                        "[830]\ttrain's rmse: 0.840541\n",
                        "[840]\ttrain's rmse: 0.83924\n",
                        "[850]\ttrain's rmse: 0.837763\n",
                        "[860]\ttrain's rmse: 0.836055\n",
                        "[870]\ttrain's rmse: 0.83468\n",
                        "[880]\ttrain's rmse: 0.833592\n",
                        "[890]\ttrain's rmse: 0.832455\n",
                        "[900]\ttrain's rmse: 0.83144\n",
                        "[910]\ttrain's rmse: 0.829942\n",
                        "[920]\ttrain's rmse: 0.828869\n",
                        "[930]\ttrain's rmse: 0.827837\n",
                        "[940]\ttrain's rmse: 0.826692\n",
                        "[950]\ttrain's rmse: 0.825805\n",
                        "[960]\ttrain's rmse: 0.824578\n",
                        "[970]\ttrain's rmse: 0.823802\n",
                        "[980]\ttrain's rmse: 0.822855\n",
                        "[990]\ttrain's rmse: 0.821823\n",
                        "[1000]\ttrain's rmse: 0.820673\n",
                        "[1010]\ttrain's rmse: 0.819838\n",
                        "[1020]\ttrain's rmse: 0.818913\n",
                        "[1030]\ttrain's rmse: 0.817995\n",
                        "[1040]\ttrain's rmse: 0.816978\n",
                        "[1050]\ttrain's rmse: 0.816131\n",
                        "[1060]\ttrain's rmse: 0.815353\n",
                        "[1070]\ttrain's rmse: 0.81445\n",
                        "[1080]\ttrain's rmse: 0.813517\n",
                        "[1090]\ttrain's rmse: 0.812836\n",
                        "[1100]\ttrain's rmse: 0.811863\n",
                        "[1110]\ttrain's rmse: 0.811224\n",
                        "[1120]\ttrain's rmse: 0.810551\n",
                        "[1130]\ttrain's rmse: 0.809774\n",
                        "[1140]\ttrain's rmse: 0.809162\n",
                        "[1150]\ttrain's rmse: 0.80845\n",
                        "[1160]\ttrain's rmse: 0.807766\n",
                        "[1170]\ttrain's rmse: 0.806974\n",
                        "[1180]\ttrain's rmse: 0.806191\n",
                        "[1190]\ttrain's rmse: 0.805534\n",
                        "[1200]\ttrain's rmse: 0.804679\n",
                        "[1210]\ttrain's rmse: 0.804099\n",
                        "[1220]\ttrain's rmse: 0.803469\n",
                        "[1230]\ttrain's rmse: 0.802809\n",
                        "[1240]\ttrain's rmse: 0.802249\n",
                        "[1250]\ttrain's rmse: 0.801674\n",
                        "[1260]\ttrain's rmse: 0.801076\n",
                        "[1270]\ttrain's rmse: 0.800444\n",
                        "[1280]\ttrain's rmse: 0.799896\n",
                        "[1290]\ttrain's rmse: 0.799308\n",
                        "[1300]\ttrain's rmse: 0.798656\n",
                        "[1310]\ttrain's rmse: 0.798054\n",
                        "[1320]\ttrain's rmse: 0.797542\n",
                        "[1330]\ttrain's rmse: 0.796926\n",
                        "[1340]\ttrain's rmse: 0.796457\n",
                        "[1350]\ttrain's rmse: 0.796013\n",
                        "[1360]\ttrain's rmse: 0.795597\n",
                        "[1370]\ttrain's rmse: 0.795128\n",
                        "[1380]\ttrain's rmse: 0.794533\n",
                        "[1390]\ttrain's rmse: 0.793965\n",
                        "[1400]\ttrain's rmse: 0.793402\n",
                        "[1410]\ttrain's rmse: 0.792836\n",
                        "[1420]\ttrain's rmse: 0.792371\n",
                        "[1430]\ttrain's rmse: 0.791889\n",
                        "[1440]\ttrain's rmse: 0.791411\n",
                        "[1450]\ttrain's rmse: 0.790913\n",
                        "[1460]\ttrain's rmse: 0.790473\n",
                        "[1470]\ttrain's rmse: 0.789974\n",
                        "[1480]\ttrain's rmse: 0.789476\n",
                        "[1490]\ttrain's rmse: 0.789075\n",
                        "[1500]\ttrain's rmse: 0.788448\n",
                        "[1510]\ttrain's rmse: 0.788025\n",
                        "[1520]\ttrain's rmse: 0.787596\n",
                        "[1530]\ttrain's rmse: 0.78711\n",
                        "[1540]\ttrain's rmse: 0.78668\n",
                        "[1550]\ttrain's rmse: 0.78616\n",
                        "[1560]\ttrain's rmse: 0.785638\n",
                        "[1570]\ttrain's rmse: 0.785142\n",
                        "[1580]\ttrain's rmse: 0.78468\n",
                        "[1590]\ttrain's rmse: 0.784181\n",
                        "[1600]\ttrain's rmse: 0.783705\n",
                        "[1610]\ttrain's rmse: 0.783322\n",
                        "[1620]\ttrain's rmse: 0.782931\n",
                        "[1630]\ttrain's rmse: 0.782303\n",
                        "[1640]\ttrain's rmse: 0.781837\n",
                        "[1650]\ttrain's rmse: 0.781371\n",
                        "[1660]\ttrain's rmse: 0.780909\n",
                        "[1670]\ttrain's rmse: 0.780433\n",
                        "[1680]\ttrain's rmse: 0.780098\n",
                        "[1690]\ttrain's rmse: 0.77969\n",
                        "[1700]\ttrain's rmse: 0.779275\n",
                        "[1710]\ttrain's rmse: 0.778933\n",
                        "[1720]\ttrain's rmse: 0.778531\n",
                        "[1730]\ttrain's rmse: 0.77817\n",
                        "[1740]\ttrain's rmse: 0.77775\n",
                        "[1750]\ttrain's rmse: 0.777442\n",
                        "[1760]\ttrain's rmse: 0.777029\n",
                        "[1770]\ttrain's rmse: 0.776594\n",
                        "[1780]\ttrain's rmse: 0.776208\n",
                        "[1790]\ttrain's rmse: 0.775858\n",
                        "[1800]\ttrain's rmse: 0.77553\n",
                        "[1810]\ttrain's rmse: 0.775213\n",
                        "[1820]\ttrain's rmse: 0.774869\n",
                        "[1830]\ttrain's rmse: 0.774527\n",
                        "[1840]\ttrain's rmse: 0.77416\n",
                        "[1850]\ttrain's rmse: 0.773689\n",
                        "[1860]\ttrain's rmse: 0.773349\n",
                        "[1870]\ttrain's rmse: 0.772992\n",
                        "[1880]\ttrain's rmse: 0.772647\n",
                        "[1890]\ttrain's rmse: 0.772238\n",
                        "[1900]\ttrain's rmse: 0.771938\n",
                        "[1910]\ttrain's rmse: 0.771476\n",
                        "[1920]\ttrain's rmse: 0.771094\n",
                        "[1930]\ttrain's rmse: 0.770715\n",
                        "[1940]\ttrain's rmse: 0.770404\n",
                        "[1950]\ttrain's rmse: 0.77015\n",
                        "[1960]\ttrain's rmse: 0.769908\n",
                        "[1970]\ttrain's rmse: 0.769517\n",
                        "[1980]\ttrain's rmse: 0.769168\n",
                        "[1990]\ttrain's rmse: 0.768765\n",
                        "[2000]\ttrain's rmse: 0.768418\n"
                    ]
                }
            ],
            "source": [
                "if not SUBMISSION_RUN:\n",
                "    print(f\"Running cross validation ...\\n\")\n",
                "    \n",
                "    cv_results = []\n",
                "    for i, (train_df, valid_df) in enumerate(train_valid_split(train_dataset)):\n",
                "        \n",
                "        print(f\"Split {i}\")\n",
                "\n",
                "        X_train, y_train = train_df[FEATURES], train_df[LABEL]\n",
                "        X_valid, y_valid = valid_df[FEATURES], valid_df[LABEL]\n",
                "        \n",
                "        y_train = target_transform(y_train)\n",
                "        y_valid = target_transform(y_valid)\n",
                "\n",
                "        transformer = get_column_transformer()\n",
                "        transformer.fit(X_train, y_train)\n",
                "        X_train = transformer.transform(X_train)\n",
                "        X_train = X_train.astype({\"primary_use\": \"category\"})\n",
                "        X_valid = transformer.transform(X_valid)\n",
                "        X_valid = X_valid.astype({\"primary_use\": \"category\"})\n",
                "        \n",
                "        train_ds = lgbm.Dataset(data=X_train, label=y_train)\n",
                "        valid_ds = lgbm.Dataset(data=X_valid, label=y_valid)\n",
                "\n",
                "        # Train Lightgbm\n",
                "        eval_results = {}\n",
                "        model = lgbm.train(\n",
                "            TRAIN_PARAMETERS,\n",
                "            num_boost_round=N_ITERATIONS,\n",
                "            train_set=train_ds,\n",
                "            valid_sets=[train_ds, valid_ds],\n",
                "            valid_names=[\"train\", \"valid\"],\n",
                "            callbacks=[\n",
                "                lgbm.log_evaluation(period=10),\n",
                "                lgbm.record_evaluation(eval_results),\n",
                "            ]\n",
                "        )\n",
                "        cv_results.append(eval_results)\n",
                "\n",
                "        print(\"=================================\")\n",
                "\n",
                "else:\n",
                "    print(f\"Training model for submission ...\\n\")\n",
                "\n",
                "    X_train, y_train = train_dataset[FEATURES], train_dataset[LABEL]\n",
                "    \n",
                "    transformer = get_column_transformer()\n",
                "    y_train = target_transform(y_train)\n",
                "    transformer.fit(X_train, y_train)\n",
                "    X_train = transformer.transform(X_train)\n",
                "    X_train = X_train.astype({\"primary_use\": \"category\"})\n",
                "    \n",
                "    train_ds = lgbm.Dataset(data=X_train, label=y_train)\n",
                "\n",
                "    eval_results = {}\n",
                "    model = lgbm.train(\n",
                "        TRAIN_PARAMETERS,\n",
                "        num_boost_round=N_ITERATIONS,\n",
                "        train_set=train_ds,\n",
                "        valid_sets=[train_ds],\n",
                "        valid_names=[\"train\"],\n",
                "        callbacks=[\n",
                "            lgbm.log_evaluation(period=10),\n",
                "            lgbm.record_evaluation(eval_results),\n",
                "        ]\n",
                "    )\n",
                "\n",
                "    del train_dataset\n",
                "    del X_train, y_train\n",
                "    gc.collect()"
            ]
        },
        {
            "cell_type": "code",
            "execution_count": 10,
            "id": "40e8af35",
            "metadata": {
                "execution": {
                    "iopub.execute_input": "2025-02-14T13:24:59.599577Z",
                    "iopub.status.busy": "2025-02-14T13:24:59.599176Z",
                    "iopub.status.idle": "2025-02-14T13:24:59.605499Z",
                    "shell.execute_reply": "2025-02-14T13:24:59.603927Z"
                },
                "papermill": {
                    "duration": 0.02354,
                    "end_time": "2025-02-14T13:24:59.607393",
                    "exception": false,
                    "start_time": "2025-02-14T13:24:59.583853",
                    "status": "completed"
                },
                "tags": []
            },
            "outputs": [],
            "source": [
                "# Plot training loss\n",
                "if not SUBMISSION_RUN:\n",
                "    fig, ax = plt.subplots(1, 2, figsize=(10, 3.5), sharex=True, sharey=True)\n",
                "    \n",
                "    for split_idx, split_scores in enumerate(cv_results):\n",
                "        ax[0].plot(\n",
                "            split_scores[\"train\"][\"rmse\"],\n",
                "            label=f\"split {split_idx}\",\n",
                "        )\n",
                "        ax[0].legend()\n",
                "        \n",
                "        ax[1].plot(\n",
                "            split_scores[\"valid\"][\"rmse\"],\n",
                "            label=f\"split {split_idx}\",\n",
                "        )\n",
                "        ax[1].legend()\n",
                "\n",
                "    plt.savefig(\"loss_curves.png\", dpi=300)"
            ]
        },
        {
            "cell_type": "markdown",
            "id": "f8069e07",
            "metadata": {
                "papermill": {
                    "duration": 0.01369,
                    "end_time": "2025-02-14T13:24:59.636041",
                    "exception": false,
                    "start_time": "2025-02-14T13:24:59.622351",
                    "status": "completed"
                },
                "tags": []
            },
            "source": [
                "## Submission"
            ]
        },
        {
            "cell_type": "code",
            "execution_count": 11,
            "id": "1924f3c0",
            "metadata": {
                "execution": {
                    "iopub.execute_input": "2025-02-14T13:24:59.665341Z",
                    "iopub.status.busy": "2025-02-14T13:24:59.665007Z",
                    "iopub.status.idle": "2025-02-14T13:24:59.670292Z",
                    "shell.execute_reply": "2025-02-14T13:24:59.669352Z"
                },
                "papermill": {
                    "duration": 0.021952,
                    "end_time": "2025-02-14T13:24:59.671985",
                    "exception": false,
                    "start_time": "2025-02-14T13:24:59.650033",
                    "status": "completed"
                },
                "tags": []
            },
            "outputs": [],
            "source": [
                "def inverse_target_transform(y: np.ndarray) -> np.ndarray:\n",
                "    return np.clip(np.expm1(y), a_min=0.0, a_max=None)\n",
                "\n",
                "\n",
                "def kwh_to_kbtu(df: pd.DataFrame) -> pd.DataFrame:\n",
                "    mask = (df[\"building_id\"] == 0) & (df[\"meter_id\"] == 0)\n",
                "    df.loc[mask, \"meter_reading\"] = df.loc[mask, \"meter_reading\"] * 3.4118\n",
                "    return df"
            ]
        },
        {
            "cell_type": "code",
            "execution_count": 12,
            "id": "1fe46814",
            "metadata": {
                "execution": {
                    "iopub.execute_input": "2025-02-14T13:24:59.702454Z",
                    "iopub.status.busy": "2025-02-14T13:24:59.702113Z",
                    "iopub.status.idle": "2025-02-14T14:51:35.556964Z",
                    "shell.execute_reply": "2025-02-14T14:51:35.555524Z"
                },
                "papermill": {
                    "duration": 5195.872977,
                    "end_time": "2025-02-14T14:51:35.559319",
                    "exception": false,
                    "start_time": "2025-02-14T13:24:59.686342",
                    "status": "completed"
                },
                "tags": []
            },
            "outputs": [
                {
                    "name": "stderr",
                    "output_type": "stream",
                    "text": [
                        "456it [1:25:04, 11.19s/it]\n"
                    ]
                }
            ],
            "source": [
                "if SUBMISSION_RUN:\n",
                "    \n",
                "    # Make predictions in batches\n",
                "    parquet_file = \"/kaggle/input/ashrae-iii/test_df.parquet\"\n",
                "    test_pq_file = pq.ParquetFile(parquet_file)\n",
                "    \n",
                "    prediction_dfs = []\n",
                "    for batch in tqdm(test_pq_file.iter_batches(100000)):\n",
                "        test_data = batch.to_pandas()\n",
                "        test_data = drop_cols(test_data)\n",
                "        test_data = cast_dtypes(test_data, verbose=False)\n",
                "    \n",
                "        # Predict\n",
                "        X_test = test_data[FEATURES]\n",
                "        X_test = transformer.transform(X_test)\n",
                "        X_test = X_test.astype({\"primary_use\": \"category\"})\n",
                "        y_hat = inverse_target_transform(model.predict(X_test))\n",
                "        y_hat = pd.DataFrame(y_hat, columns=[\"meter_reading\"])\n",
                "    \n",
                "        prediction_df = pd.concat([test_data, y_hat], axis=1)\n",
                "        prediction_df = kwh_to_kbtu(prediction_df)\n",
                "        prediction_dfs.append(prediction_df[[\"row_id\", \"meter_reading\"]])\n",
                "    \n",
                "    submission_df = pd.concat(prediction_dfs, axis=0)\n",
                "    submission_df = submission_df.sort_values(\"row_id\").reset_index(drop=True)\n",
                "    submission_df.to_csv(\"submission.csv\", index=False)"
            ]
        }
    ],
    "metadata": {
        "kaggle": {
            "accelerator": "none",
            "dataSources": [
                {
                    "databundleVersionId": 752467,
                    "sourceId": 9994,
                    "sourceType": "competition"
                },
                {
                    "datasetId": 6473980,
                    "sourceId": 10748143,
                    "sourceType": "datasetVersion"
                }
            ],
            "isGpuEnabled": false,
            "isInternetEnabled": true,
            "language": "python",
            "sourceType": "notebook"
        },
        "kernelspec": {
            "display_name": "Python 3",
            "language": "python",
            "name": "python3"
        },
        "language_info": {
            "codemirror_mode": {
                "name": "ipython",
                "version": 3
            },
            "file_extension": ".py",
            "mimetype": "text/x-python",
            "name": "python",
            "nbconvert_exporter": "python",
            "pygments_lexer": "ipython3",
            "version": "3.10.12"
        },
        "papermill": {
            "default_parameters": {},
            "duration": 8955.30361,
            "end_time": "2025-02-14T14:51:37.443191",
            "environment_variables": {},
            "exception": null,
            "input_path": "__notebook__.ipynb",
            "output_path": "__notebook__.ipynb",
            "parameters": {},
            "start_time": "2025-02-14T12:22:22.139581",
            "version": "2.6.0"
        }
    },
    "nbformat": 4,
    "nbformat_minor": 5
}