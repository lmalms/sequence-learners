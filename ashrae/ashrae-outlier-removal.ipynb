{
    "metadata": {
        "kernelspec": {
            "language": "python",
            "display_name": "Python 3",
            "name": "python3"
        },
        "language_info": {
            "name": "python",
            "version": "3.10.12",
            "mimetype": "text/x-python",
            "codemirror_mode": {
                "name": "ipython",
                "version": 3
            },
            "pygments_lexer": "ipython3",
            "nbconvert_exporter": "python",
            "file_extension": ".py"
        },
        "kaggle": {
            "accelerator": "none",
            "dataSources": [
                {
                    "sourceId": 9994,
                    "databundleVersionId": 752467,
                    "sourceType": "competition"
                }
            ],
            "dockerImageVersionId": 30839,
            "isInternetEnabled": true,
            "language": "python",
            "sourceType": "notebook",
            "isGpuEnabled": false
        }
    },
    "nbformat_minor": 4,
    "nbformat": 4,
    "cells": [
        {
            "cell_type": "code",
            "source": "from datetime import datetime, date\nimport pandas as pd\nimport numpy as np\nimport matplotlib.pyplot as plt\nfrom tqdm import tqdm",
            "metadata": {
                "_uuid": "8f2839f25d086af736a60e9eeb907d3b93b6e0e5",
                "_cell_guid": "b1076dfc-b9ad-4769-8c92-a6c4dae69d19",
                "trusted": true
            },
            "outputs": [],
            "execution_count": null
        },
        {
            "cell_type": "code",
            "source": "# Constants\nINPUT_DATA_PATH = \"/kaggle/input/ashrae-energy-prediction\"\n\nMIN_TRAIN_TIMESTAMP = pd.Timestamp(\"2016-01-01 00:00:00\")\nMAX_TRAIN_TIMESTAMP = pd.Timestamp(\"2016-12-31 23:00:00\")\nTRAIN_DATA_RESOLUTION = \"1h\"",
            "metadata": {
                "trusted": true
            },
            "outputs": [],
            "execution_count": null
        },
        {
            "cell_type": "code",
            "source": "# Load meter readings\nreadings_df = pd.read_csv(\n    f\"{INPUT_DATA_PATH}/train.csv\",\n    header=0,\n    names=[\"building_id\", \"meter_id\", \"timestamp\", \"meter_reading\"],\n)\nreadings_df[\"timestamp\"] = pd.to_datetime(readings_df[\"timestamp\"])\nreadings_df[\"ln_meter_reading\"] = np.log1p(readings_df[\"meter_reading\"])",
            "metadata": {
                "trusted": true
            },
            "outputs": [],
            "execution_count": null
        },
        {
            "cell_type": "markdown",
            "source": "## Electricity Readings",
            "metadata": {}
        },
        {
            "cell_type": "code",
            "source": "# meter_id: type -> {0: electricity, 1: chilledwater, 2: steam, 3: hotwater}\n\nmeter_id = 0\nbuilding_ids = [29, 105, 172, 313]\n\ndf = readings_df[(readings_df[\"building_id\"].isin(building_ids)) & (readings_df[\"meter_id\"] == meter_id)]\n\nfig, ax = plt.subplots(1, 1, figsize=(20, 6))\nfor b_id in building_ids:\n    b_df = df[df[\"building_id\"] == b_id]\n    ax.plot(\n        b_df[\"timestamp\"].values,\n        b_df[\"ln_meter_reading\"].values,\n        label=f\"Building id {b_id}\",\n    )\n\nax.legend()",
            "metadata": {
                "trusted": true
            },
            "outputs": [],
            "execution_count": null
        },
        {
            "cell_type": "markdown",
            "source": "### Filter on timestamps",
            "metadata": {}
        },
        {
            "cell_type": "code",
            "source": "def construct_keep_filter(\n    timestamps: pd.Series,\n    to_keep: list[tuple[datetime | None, datetime | None]],\n):\n    filter_ = False \n    for start, end in to_keep:\n    \n        match (start, end):\n            case None, None:\n                pass\n            case (datetime(), None):\n                period_filter = timestamps >= start\n            case (None, datetime()):\n                period_filter = timestamps <= end\n            case (datetime(), datetime()):\n                period_filter = (timestamps >= start) & (timestamps <= end)\n        \n        filter_ |= period_filter\n    \n    return filter_\n\n\ndef to_keep_filter(\n    data: pd.DataFrame,\n    to_keep: list[tuple[datetime | None, datetime | None]]\n):\n    keep_filter = construct_keep_filter(data[\"timestamp\"], to_keep)\n    return data.loc[keep_filter]",
            "metadata": {
                "trusted": true
            },
            "outputs": [],
            "execution_count": null
        },
        {
            "cell_type": "code",
            "source": "def find_constant_streaks(\n    df: pd.DataFrame,\n    streak_length: int = 10,\n    target_column: str = \"ln_meter_reading\"\n):\n    # Compute diffs on target col\n    df = df.copy()\n    df = df.sort_values(\"timestamp\")\n    df[\"target_col_diff\"] = df[target_column].diff()\n    \n    # First find any periods of constant meter readings\n    streaks = []\n    current_streak_start = 0\n    for idx, row in df.iterrows():\n        if pd.isna(row[\"target_col_diff\"]):\n            continue\n        \n        elif row[\"target_col_diff\"] == 0:\n            # Start a new streak if not already a running streak\n            current_streak_start = current_streak_start or idx - 1\n        \n        else:\n            # Streak finished\n            # Save if there is currently a running streak\n            if current_streak_start is not None:\n                streaks.append((current_streak_start, idx - 1))\n    \n            # Reset\n            current_streak_start = None\n            \n\n    # Only keep streaks with length >= streak_length\n    filtered_streaks = []\n    for start, end in streaks:\n        streak_df = df.loc[start: end]\n        assert (streak_df[\"target_col_diff\"].dropna() == 0).all(), print(start, end)\n        if len(streak_df) >= streak_length:\n            start_t = streak_df[\"timestamp\"].min().to_pydatetime()\n            end_t = streak_df[\"timestamp\"].max().to_pydatetime()\n            filtered_streaks.append((start_t, end_t))\n    \n    return filtered_streaks",
            "metadata": {
                "trusted": true
            },
            "outputs": [],
            "execution_count": null
        },
        {
            "cell_type": "code",
            "source": "# Apply to all electricity data\n\ndef filter_electricity_data(\n    readings_df: pd.DataFrame,\n    to_keep_filters: dict[int, list[tuple[datetime | None, datetime | None]]],\n):\n    meter_id = 0\n    for b_id, b_filter in tqdm(to_keep_filters.items()):\n        bm_df = readings_df[\n            (readings_df[\"building_id\"] == b_id)\n            & (readings_df[\"meter_id\"] == meter_id)\n        ]\n        bm_df_filtered = to_keep_filter(bm_df, b_filter)\n        readings_df = readings_df.drop(bm_df.index)\n        readings_df = pd.concat([readings_df, bm_df_filtered], axis=0)\n    return readings_df",
            "metadata": {
                "trusted": true
            },
            "outputs": [],
            "execution_count": null
        },
        {
            "cell_type": "code",
            "source": "readings_before = readings_df.copy()\nreadings_after = filter_electricity_data(readings_df, to_keep_electricity)",
            "metadata": {
                "trusted": true
            },
            "outputs": [],
            "execution_count": null
        },
        {
            "cell_type": "markdown",
            "source": "## Chilled Water",
            "metadata": {}
        },
        {
            "cell_type": "code",
            "source": "# meter_id: type -> {0: electricity, 1: chilledwater, 2: steam, 3: hotwater}\n\nmeter_id = 1\nstart_id = 1410\nbuilding_ids = list(range(start_id, start_id + 5))\n# building_ids = [273, 282]\n\ndf = readings_df[(readings_df[\"building_id\"].isin(building_ids)) & (readings_df[\"meter_id\"] == meter_id)]\n\nfig, ax = plt.subplots(1, 1, figsize=(20, 6))\nfor b_id in building_ids:\n    b_df = df[df[\"building_id\"] == b_id]\n    ax.plot(\n        b_df[\"timestamp\"].values,\n        b_df[\"ln_meter_reading\"].values,\n        label=f\"Building id {b_id}\",\n    )\n\nax.legend()",
            "metadata": {
                "trusted": true
            },
            "outputs": [],
            "execution_count": null
        },
        {
            "cell_type": "code",
            "source": "# meter_id: type -> {0: electricity, 1: chilledwater, 2: steam, 3: hotwater}\n\nmeter_id = 1\nbuilding_id = 7\n\nbm_df = readings_df[(readings_df[\"building_id\"] == building_id) & (readings_df[\"meter_id\"] == meter_id)]\nstreaks = find_constant_streaks(bm_df, streak_length=25)\n\nfig, ax = plt.subplots(1, 1, figsize=(20, 6))\nax.plot(\n    bm_df[\"timestamp\"].values,\n    bm_df[\"ln_meter_reading\"].values,\n)\n\nfor start, end in streaks:\n    print(start, end)\n    ax.axvline(start, lw=2, color=\"red\")\n    ax.axvline(end, lw=2, color=\"red\")\n\nax.axvline(datetime(2016, 5, 31, 12), color=\"black\")\n# 2016-05-31 16:00:00 2016-06-16 23:00:00",
            "metadata": {
                "trusted": true
            },
            "outputs": [],
            "execution_count": null
        },
        {
            "cell_type": "code",
            "source": "to_keep = {\n    60: [(datetime(2016, 4, 29, 10, 0), None)],\n    161: [(datetime(2016, 1, 4, 4, 0), None)],\n    192: [(None, datetime(2016, 5, 9, 13))],\n    195: [(None, datetime(2016, 3, 17, 12)), (datetime(2016, 3, 22), None)],\n    236: [(None, datetime(2016, 1, 24, 2)), (datetime(2016, 3, 21, 12), None)],\n    259: [(datetime(2016, 4, 8), None),],\n    264: [(datetime(2016, 2, 8, 10), None)],\n    747: [(datetime(2016, 4, 16, 12), None)],\n    765: [(datetime(2016, 4, 22, 12), None)],\n    774: [(datetime(2016, 3, 8), None)],\n    777: [(datetime(2016, 4, 18, 8), None)],\n    778: [(datetime(2016, 9, 8, 9), datetime(2016, 10, 20,))],\n    780: [(None, datetime(2016, 8, 2))],\n    # 793: [(datetime(2016, 5, 6, 12), datetime(2016, 11, 4, 12)]\n    910: [(None, datetime(2016, 7, 1, 16)), (datetime(2016, 7, 5, 4), datetime(2016, 10, 15)), (datetime(2016, 10, 17, 6), None)],\n    920: [(None, datetime(2016, 7, 1, 16)), (datetime(2016, 7, 5, 4), datetime(2016, 10, 15)), (datetime(2016, 10, 17, 6), None)],\n    923: [(None, datetime(2016, 7, 1, 16)), (datetime(2016, 7, 5, 4), datetime(2016, 10, 15)), (datetime(2016, 10, 17, 6), None)],\n    926: [(None, datetime(2016, 7, 1, 16)), (datetime(2016, 7, 5, 4), datetime(2016, 10, 15)), (datetime(2016, 10, 17, 6), None)],\n    927: [(None, datetime(2016, 7, 1, 16)), (datetime(2016, 7, 5, 4), datetime(2016, 10, 15)), (datetime(2016, 10, 17, 6), None)],\n    929: [(None, datetime(2016, 7, 1, 16)), (datetime(2016, 7, 5, 4), datetime(2016, 10, 15)), (datetime(2016, 10, 17, 6), None)],\n    931: [(None, datetime(2016, 7, 1, 16)), (datetime(2016, 7, 5, 4), datetime(2016, 10, 15)), (datetime(2016, 10, 17, 6), None)],\n    934: [(None, datetime(2016, 7, 1, 16)), (datetime(2016, 7, 5, 4), datetime(2016, 10, 15)), (datetime(2016, 10, 17, 6), None)],\n    954: [(datetime(2016, 8, 8, 10), None)],\n    955: [(None, datetime(2016, 7, 1, 16)), (datetime(2016, 7, 5, 4), datetime(2016, 10, 15)), (datetime(2016, 10, 17, 6), None)],\n    961: [(None, datetime(2016, 7, 1, 16)), (datetime(2016, 7, 5, 4), datetime(2016, 10, 15)), (datetime(2016, 10, 17, 6), None)],\n    963: [(None, datetime(2016, 7, 1, 16)), (datetime(2016, 7, 5, 4), datetime(2016, 10, 15)), (datetime(2016, 10, 17, 6), None)],\n    965: [(None, datetime(2016, 7, 1, 16)), (datetime(2016, 7, 5, 4), datetime(2016, 10, 15)), (datetime(2016, 10, 17, 6), None)],\n    967: [(None, datetime(2016, 7, 1, 16)), (datetime(2016, 7, 5, 4), datetime(2016, 10, 15)), (datetime(2016, 10, 17, 6), None)],\n    969: [(None, datetime(2016, 7, 1, 16)), (datetime(2016, 7, 5, 4), datetime(2016, 10, 15)), (datetime(2016, 10, 17, 6), None)],\n    973: [(None, datetime(2016, 7, 1, 16)), (datetime(2016, 7, 5, 4), datetime(2016, 10, 15)), (datetime(2016, 10, 17, 6), None)],\n    976: [(None, datetime(2016, 7, 1, 16)), (datetime(2016, 7, 5, 4), datetime(2016, 10, 15)), (datetime(2016, 10, 17, 6), None)],\n    989: [(None, datetime(2016, 7, 1, 16)), (datetime(2016, 7, 5, 4), datetime(2016, 10, 15)), (datetime(2016, 10, 17, 6), None)],\n    990: [(None, datetime(2016, 7, 1, 16)), (datetime(2016, 7, 5, 4), datetime(2016, 10, 15)), (datetime(2016, 10, 17, 6), None)],\n    993: [(None, datetime(2016, 7, 1, 16)), (datetime(2016, 7, 5, 4), datetime(2016, 10, 15)), (datetime(2016, 10, 17, 6), None)],\n    994: [(None, datetime(2016, 7, 1, 16)), (datetime(2016, 7, 5, 4), datetime(2016, 10, 15)), (datetime(2016, 10, 17, 6), None)],\n    996: [(None, datetime(2016, 7, 1, 16)), (datetime(2016, 7, 5, 4), datetime(2016, 10, 15)), (datetime(2016, 10, 17, 6), None)],\n    1167: [(None, datetime(2016, 5, 18, 16)), (datetime(2016, 6, 25, 7), None)],\n    1225: [(None, datetime(2016, 8, 23, 12)), (datetime(2016, 10, 11, 13), None)],\n    1226: [(None, datetime(2016, 8, 23, 12)), (datetime(2016, 10, 20, 12), None)],\n    1244: [(None, datetime(2016, 7, 13, 16)), (datetime(2016, 8, 31, 19), None)],\n    1246: [(datetime(2016, 3, 2, 19), None)],\n    1272: [(None, datetime(2016, 9, 28, 9)), (datetime(2016, 10, 20, 12), None)],\n    1273: [(None, datetime(2016, 5, 31, 16)), (datetime(2016, 6, 16, 23), None)],\n    \n}\n\nconstant_streak_ids = (\n    [7, 75, 97, 98, 162, 163, 167, 171, 172, 177, 188, 190, 191, 195, 200, 207, 231, 233 ]\n    + [235, 258, 260, 265, 267, 290, 747, 748, 750, 751, 752, 753, 755, 763, 765, 770, 774 ]\n    + [776, 777,786, 787, 789, 790, 792, 801, 874, 880, 890, 893, 894, 895, 896, 898, 899, ]\n    + [911, 915, 916, 917, 918, 927, 929, 932, 933, 935, 942, 951, 952, 953, 957, 958, 959 ]\n    + [960, 961, 962, 964, 965, 966, 968, 971, 972, 974, 975, 978, 979, 980, 981, 983, 987 ]\n    + [991, 992, 994, 995, 997, 1223, 1225, 1226, 1227, 1228, 1229, 1230, 1231, 1232, 1233 ]\n    + [1234, 1235, 1236, 1238, 1239, 1240, 1241, 1242, 1243, 1246, 1247, 1248, 1249, 1250 ]\n    + [1251, 1252, 1253, 1255, 1258, 1259, 1260, 1262, 1263, 1264, 1266, 1267, 1280, 1285 ]\n    + list(range(1286, 1301))\n    + [1301, 1302, 1303, 1306, 1307, 1308, 1309, 1310, 1311, 1312, ]\n)",
            "metadata": {
                "trusted": true
            },
            "outputs": [],
            "execution_count": null
        }
    ]
}