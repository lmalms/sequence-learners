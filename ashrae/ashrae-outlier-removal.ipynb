{
    "metadata": {
        "kernelspec": {
            "language": "python",
            "display_name": "Python 3",
            "name": "python3"
        },
        "language_info": {
            "name": "python",
            "version": "3.10.12",
            "mimetype": "text/x-python",
            "codemirror_mode": {
                "name": "ipython",
                "version": 3
            },
            "pygments_lexer": "ipython3",
            "nbconvert_exporter": "python",
            "file_extension": ".py"
        },
        "kaggle": {
            "accelerator": "none",
            "dataSources": [
                {
                    "sourceId": 9994,
                    "databundleVersionId": 752467,
                    "sourceType": "competition"
                }
            ],
            "dockerImageVersionId": 30839,
            "isInternetEnabled": true,
            "language": "python",
            "sourceType": "notebook",
            "isGpuEnabled": false
        }
    },
    "nbformat_minor": 4,
    "nbformat": 4,
    "cells": [
        {
            "cell_type": "code",
            "source": "from datetime import datetime, date\nimport pandas as pd\nimport numpy as np\nimport matplotlib.pyplot as plt\nfrom tqdm import tqdm",
            "metadata": {
                "_uuid": "8f2839f25d086af736a60e9eeb907d3b93b6e0e5",
                "_cell_guid": "b1076dfc-b9ad-4769-8c92-a6c4dae69d19",
                "trusted": true
            },
            "outputs": [],
            "execution_count": null
        },
        {
            "cell_type": "code",
            "source": "# Constants\nINPUT_DATA_PATH = \"/kaggle/input/ashrae-energy-prediction\"\n\nMIN_TRAIN_TIMESTAMP = pd.Timestamp(\"2016-01-01 00:00:00\")\nMAX_TRAIN_TIMESTAMP = pd.Timestamp(\"2016-12-31 23:00:00\")\nTRAIN_DATA_RESOLUTION = \"1h\"",
            "metadata": {
                "trusted": true
            },
            "outputs": [],
            "execution_count": null
        },
        {
            "cell_type": "code",
            "source": "# Load meter readings\nreadings_df = pd.read_csv(\n    f\"{INPUT_DATA_PATH}/train.csv\",\n    header=0,\n    names=[\"building_id\", \"meter_id\", \"timestamp\", \"meter_reading\"],\n)\nreadings_df[\"timestamp\"] = pd.to_datetime(readings_df[\"timestamp\"])\nreadings_df[\"ln_meter_reading\"] = np.log1p(readings_df[\"meter_reading\"])",
            "metadata": {
                "trusted": true
            },
            "outputs": [],
            "execution_count": null
        },
        {
            "cell_type": "markdown",
            "source": "## Electricity Readings",
            "metadata": {}
        },
        {
            "cell_type": "code",
            "source": "# meter_id: type -> {0: electricity, 1: chilledwater, 2: steam, 3: hotwater}\n\nmeter_id = 0\nstart_id = 1445\nbuilding_ids = range(start_id, start_id + 10)\n\ndf = readings_df[(readings_df[\"building_id\"].isin(building_ids)) & (readings_df[\"meter_id\"] == meter_id)]\n\nfig, ax = plt.subplots(1, 1, figsize=(20, 6))\nfor b_id in building_ids:\n    b_df = df[df[\"building_id\"] == b_id]\n    ax.plot(\n        b_df[\"timestamp\"].values,\n        b_df[\"ln_meter_reading\"].values,\n        label=f\"Building id {b_id}\",\n    )\n\nax.legend()",
            "metadata": {
                "trusted": true
            },
            "outputs": [],
            "execution_count": null
        },
        {
            "cell_type": "markdown",
            "source": "### Filter on timestamps",
            "metadata": {}
        },
        {
            "cell_type": "code",
            "source": "# Below is all data to keep to by building id\n# If a building id is missing -> keep all data\n# These are start and end periods of data to keep, bounds are inclusive\n\nafter_may_21_filter_electricity = {\n    i: [(datetime(2016, 5, 21), None)]\n    for i in list(range(29)) + list(range(30, 45)) + list(range(47, 53)) + list(range(54, 105))\n}\n\nbuilding_id_filters_electriciy = {\n    29: [(datetime(2016, 8, 10), None)],\n    45: [(datetime(2016, 7, 1), None)],\n    46: [(None, datetime(2016, 3, 1)), (datetime(2016, 5, 21), None)],\n    53: [(datetime(2016, 12, 15), None)],                             # Only keeping the final timestamp\n    740: [(datetime(2016, 12, 31), None)],                            # Only keeping the final timestamp\n    803: [(None, datetime(2016, 9, 24))],\n    857: [(None, datetime(2016, 4, 13))],\n    1264: [(None, datetime(2016, 8, 23))],\n    1345: [(None, datetime(2016, 2, 11))],\n}\n\nto_keep_electricity = after_may_21_filter_electricity | building_id_filters_electriciy",
            "metadata": {
                "trusted": true
            },
            "outputs": [],
            "execution_count": null
        },
        {
            "cell_type": "code",
            "source": "def construct_keep_filter(\n    timestamps: pd.Series,\n    to_keep: list[tuple[datetime | None, datetime | None]],\n):\n    filter_ = False \n    for start, end in to_keep:\n    \n        match (start, end):\n            case None, None:\n                print(\"Continue\")\n            case (datetime(), None):\n                period_filter = timestamps >= start\n            case (None, datetime()):\n                period_filter = timestamps <= end\n            case (datetime(), datetime()):\n                period_filter = (timestamps >= start) & (timestamps <= end)\n        \n        filter_ |= period_filter\n    \n    return filter_\n\n\ndef to_keep_filter(\n    data: pd.DataFrame,\n    to_keep: list[tuple[datetime | None, datetime | None]]\n):\n    keep_filter = construct_keep_filter(data[\"timestamp\"], to_keep)\n    return data.loc[keep_filter]",
            "metadata": {
                "trusted": true
            },
            "outputs": [],
            "execution_count": null
        },
        {
            "cell_type": "code",
            "source": "# Test that filters are working\n\nmeter_id = 0\nbuilding_id = np.random.choice(a=list(to_keep_electricity.keys()))\nbuilding_id_filter = to_keep_electricity[building_id]\nprint(building_id, building_id_filter)\n\nbm_df_before = readings_df[(readings_df[\"building_id\"] == building_id) & (readings_df[\"meter_id\"] == meter_id)].copy()\nbm_df_after = to_keep_filter(bm_df_before, building_id_filter)\n\n\nfig, ax = plt.subplots(1, 1, figsize=(15, 4))\nax.plot(\n    bm_df_before[\"timestamp\"].values,\n    bm_df_before[\"ln_meter_reading\"].values,\n    label=f\"Before filter\"\n)\nax.plot(\n    bm_df_after[\"timestamp\"].values,\n    bm_df_after[\"ln_meter_reading\"].values,\n    label=f\"After filter\"\n)\nax.legend();",
            "metadata": {
                "trusted": true
            },
            "outputs": [],
            "execution_count": null
        },
        {
            "cell_type": "code",
            "source": "# Apply to all electricity data\n\ndef filter_electricity_data(\n    readings_df: pd.DataFrame,\n    to_keep_filters: dict[int, list[tuple[datetime | None, datetime | None]]],\n):\n    meter_id = 0\n    for b_id, b_filter in tqdm(to_keep_filters.items()):\n        bm_df = readings_df[\n            (readings_df[\"building_id\"] == b_id)\n            & (readings_df[\"meter_id\"] == meter_id)\n        ]\n        bm_df_filtered = to_keep_filter(bm_df, b_filter)\n        readings_df = readings_df.drop(bm_df.index)\n        readings_df = pd.concat([readings_df, bm_df_filtered], axis=0)\n    return readings_df",
            "metadata": {
                "trusted": true
            },
            "outputs": [],
            "execution_count": null
        },
        {
            "cell_type": "code",
            "source": "readings_before = readings_df.copy()\nreadings_after = filter_electricity_data(readings_df, to_keep_electricity)",
            "metadata": {
                "trusted": true
            },
            "outputs": [],
            "execution_count": null
        },
        {
            "cell_type": "code",
            "source": "meter_id = 0\nbuilding_id = np.random.choice(a=list(to_keep_electricity.keys()))\n# building_id = np.random.choice(readings_before[\"building_id\"].unique())  # Buildings without filter should be unchanged\n\nbm_df_before = readings_before[\n    (readings_before[\"building_id\"] == building_id)\n    & (readings_before[\"meter_id\"] == meter_id)\n]\nbm_df_after = readings_after[\n    (readings_after[\"building_id\"] == building_id)\n    & (readings_after[\"meter_id\"] == meter_id)\n]\n\n\nfig, ax = plt.subplots(1, 1, figsize=(15, 4))\nax.plot(\n    bm_df_before[\"timestamp\"].values,\n    bm_df_before[\"ln_meter_reading\"].values,\n    label=f\"Before filter\"\n)\nax.plot(\n    bm_df_after[\"timestamp\"].values,\n    bm_df_after[\"ln_meter_reading\"].values,\n    label=f\"After filter\"\n)\nax.legend();",
            "metadata": {
                "trusted": true
            },
            "outputs": [],
            "execution_count": null
        },
        {
            "cell_type": "markdown",
            "source": "### Filter by removing periods of constant readings",
            "metadata": {}
        },
        {
            "cell_type": "code",
            "source": "def find_constant_streaks(\n    df: pd.DataFrame,\n    streak_length: int = 10,\n    target_column: str = \"ln_meter_reading\"\n):\n    # Compute diffs on target col\n    df = df.copy()\n    df = df.sort_values(\"timestamp\")\n    df[\"target_col_diff\"] = df[target_column].diff()\n    \n    # First find any periods of constant meter readings\n    streaks = []\n    current_streak_start = 0\n    for idx, row in df.iterrows():\n        if pd.isna(row[\"target_col_diff\"]):\n            continue\n        \n        elif row[\"target_col_diff\"] == 0:\n            # Start a new streak if not already a running streak\n            current_streak_start = current_streak_start or idx - 1\n        \n        else:\n            # Streak finished\n            # Save if there is currently a running streak\n            if current_streak_start is not None:\n                streaks.append((current_streak_start, idx - 1))\n    \n            # Reset\n            current_streak_start = None\n            \n\n    # Only keep streaks with length >= streak_length\n    filtered_streaks = []\n    for start, end in streaks:\n        streak_df = df.loc[start: end]\n        assert (streak_df[\"target_col_diff\"].dropna() == 0).all(), print(start, end)\n        if len(streak_df) >= streak_length:\n            start_t = streak_df[\"timestamp\"].min()\n            end_t = streak_df[\"timestamp\"].max()\n            filtered_streaks.append((start_t, end_t))\n    \n    return filtered_streaks",
            "metadata": {
                "trusted": true
            },
            "outputs": [],
            "execution_count": null
        },
        {
            "cell_type": "code",
            "source": "# Find timestamps of constant meter readings\n\nmeter_id = 0\nbuilding_id = 1153 \n\nbm_df = readings_df[(readings_df[\"building_id\"] == building_id) & (readings_df[\"meter_id\"] == meter_id)].copy()\nconstant_streaks = find_constant_streaks(bm_df, streak_length=25)\n\nfig, ax = plt.subplots(1, 1, figsize=(15, 4))\nax.plot(\n    bm_df[\"timestamp\"].values,\n    bm_df[\"ln_meter_reading\"].values,\n    label=f\"Building id {building_id}\"\n)\n\nax.legend()\n\nfor start, end in constant_streaks:\n    print(start.to_pydatetime(), end.to_pydatetime())\n    ax.axvline(x=start, label=start, color=\"black\", lw=2)\n    ax.axvline(x=end, label=end, color=\"black\", lw=2)",
            "metadata": {
                "trusted": true
            },
            "outputs": [],
            "execution_count": null
        },
        {
            "cell_type": "code",
            "source": "# The below need to be removed due to constant streaks\n# Apply constant filtering function with streak length = 25\nto_remove = [\n    105,\n    107 -> 127,  # Might not find streaks in all of these\n    136 -> 155,\n    177,\n    245 -> 254,\n    269,\n    278,\n    376,\n    537,\n    545,\n    577,\n    681,\n    693,\n    723,\n    733,\n    738,\n    799,\n    802,\n    874,\n    875 -> 884,\n    886,\n    897,\n    905 -> 945,\n    954 -> 996,\n    1066,\n    1079,\n    1096,\n    1098,\n    1128,\n    1154,\n    1157,\n    1160,\n    1169,\n    1177,\n    1185,\n    1202,\n    1221,\n    1225 -> 1324, # careful of 1227, 1281, 1314 maybe exclude those from filter\n    1359,\n]",
            "metadata": {
                "trusted": true
            },
            "outputs": [],
            "execution_count": null
        }
    ]
}