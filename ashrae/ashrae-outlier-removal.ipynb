{
    "metadata": {
        "kernelspec": {
            "language": "python",
            "display_name": "Python 3",
            "name": "python3"
        },
        "language_info": {
            "name": "python",
            "version": "3.10.12",
            "mimetype": "text/x-python",
            "codemirror_mode": {
                "name": "ipython",
                "version": 3
            },
            "pygments_lexer": "ipython3",
            "nbconvert_exporter": "python",
            "file_extension": ".py"
        },
        "kaggle": {
            "accelerator": "none",
            "dataSources": [
                {
                    "sourceId": 9994,
                    "databundleVersionId": 752467,
                    "sourceType": "competition"
                }
            ],
            "dockerImageVersionId": 30839,
            "isInternetEnabled": true,
            "language": "python",
            "sourceType": "notebook",
            "isGpuEnabled": false
        }
    },
    "nbformat_minor": 4,
    "nbformat": 4,
    "cells": [
        {
            "cell_type": "code",
            "source": "from datetime import datetime, date\nimport pandas as pd\nimport numpy as np\nimport matplotlib.pyplot as plt\nfrom tqdm import tqdm",
            "metadata": {
                "_uuid": "8f2839f25d086af736a60e9eeb907d3b93b6e0e5",
                "_cell_guid": "b1076dfc-b9ad-4769-8c92-a6c4dae69d19",
                "trusted": true
            },
            "outputs": [],
            "execution_count": null
        },
        {
            "cell_type": "code",
            "source": "# Constants\nINPUT_DATA_PATH = \"/kaggle/input/ashrae-energy-prediction\"\n\nMIN_TRAIN_TIMESTAMP = pd.Timestamp(\"2016-01-01 00:00:00\")\nMAX_TRAIN_TIMESTAMP = pd.Timestamp(\"2016-12-31 23:00:00\")\nTRAIN_DATA_RESOLUTION = \"1h\"",
            "metadata": {
                "trusted": true
            },
            "outputs": [],
            "execution_count": null
        },
        {
            "cell_type": "code",
            "source": "# Load meter readings\nreadings_df = pd.read_csv(\n    f\"{INPUT_DATA_PATH}/train.csv\",\n    header=0,\n    names=[\"building_id\", \"meter_id\", \"timestamp\", \"meter_reading\"],\n)\nreadings_df[\"timestamp\"] = pd.to_datetime(readings_df[\"timestamp\"])\nreadings_df[\"ln_meter_reading\"] = np.log1p(readings_df[\"meter_reading\"])",
            "metadata": {
                "trusted": true
            },
            "outputs": [],
            "execution_count": null
        },
        {
            "cell_type": "markdown",
            "source": "## Electricity Readings",
            "metadata": {}
        },
        {
            "cell_type": "code",
            "source": "# meter_id: type -> {0: electricity, 1: chilledwater, 2: steam, 3: hotwater}\n\nmeter_id = 0\nbuilding_ids = [29, 105, 172, 313]\n\ndf = readings_df[(readings_df[\"building_id\"].isin(building_ids)) & (readings_df[\"meter_id\"] == meter_id)]\n\nfig, ax = plt.subplots(1, 1, figsize=(20, 6))\nfor b_id in building_ids:\n    b_df = df[df[\"building_id\"] == b_id]\n    ax.plot(\n        b_df[\"timestamp\"].values,\n        b_df[\"ln_meter_reading\"].values,\n        label=f\"Building id {b_id}\",\n    )\n\nax.legend()",
            "metadata": {
                "trusted": true
            },
            "outputs": [],
            "execution_count": null
        },
        {
            "cell_type": "markdown",
            "source": "### Filter on timestamps",
            "metadata": {}
        },
        {
            "cell_type": "code",
            "source": "def construct_keep_filter(\n    timestamps: pd.Series,\n    to_keep: list[tuple[datetime | None, datetime | None]],\n):\n    filter_ = False \n    for start, end in to_keep:\n    \n        match (start, end):\n            case None, None:\n                pass\n            case (datetime(), None):\n                period_filter = timestamps >= start\n            case (None, datetime()):\n                period_filter = timestamps <= end\n            case (datetime(), datetime()):\n                period_filter = (timestamps >= start) & (timestamps <= end)\n        \n        filter_ |= period_filter\n    \n    return filter_\n\n\ndef to_keep_filter(\n    data: pd.DataFrame,\n    to_keep: list[tuple[datetime | None, datetime | None]]\n):\n    keep_filter = construct_keep_filter(data[\"timestamp\"], to_keep)\n    return data.loc[keep_filter]",
            "metadata": {
                "trusted": true
            },
            "outputs": [],
            "execution_count": null
        },
        {
            "cell_type": "code",
            "source": "def find_constant_streaks(\n    df: pd.DataFrame,\n    streak_length: int = 10,\n    target_column: str = \"ln_meter_reading\"\n):\n    # Compute diffs on target col\n    df = df.copy()\n    df = df.sort_values(\"timestamp\")\n    df[\"target_col_diff\"] = df[target_column].diff()\n    \n    # First find any periods of constant meter readings\n    streaks = []\n    current_streak_start = 0\n    for idx, row in df.iterrows():\n        if pd.isna(row[\"target_col_diff\"]):\n            continue\n        \n        elif row[\"target_col_diff\"] == 0:\n            # Start a new streak if not already a running streak\n            current_streak_start = current_streak_start or idx - 1\n        \n        else:\n            # Streak finished\n            # Save if there is currently a running streak\n            if current_streak_start is not None:\n                streaks.append((current_streak_start, idx - 1))\n    \n            # Reset\n            current_streak_start = None\n            \n\n    # Only keep streaks with length >= streak_length\n    filtered_streaks = []\n    for start, end in streaks:\n        streak_df = df.loc[start: end]\n        assert (streak_df[\"target_col_diff\"].dropna() == 0).all(), print(start, end)\n        if len(streak_df) >= streak_length:\n            start_t = streak_df[\"timestamp\"].min().to_pydatetime()\n            end_t = streak_df[\"timestamp\"].max().to_pydatetime()\n            filtered_streaks.append((start_t, end_t))\n    \n    return filtered_streaks",
            "metadata": {
                "trusted": true
            },
            "outputs": [],
            "execution_count": null
        },
        {
            "cell_type": "code",
            "source": "# Apply to all electricity data\n\ndef filter_electricity_data(\n    readings_df: pd.DataFrame,\n    to_keep_filters: dict[int, list[tuple[datetime | None, datetime | None]]],\n):\n    meter_id = 0\n    for b_id, b_filter in tqdm(to_keep_filters.items()):\n        bm_df = readings_df[\n            (readings_df[\"building_id\"] == b_id)\n            & (readings_df[\"meter_id\"] == meter_id)\n        ]\n        bm_df_filtered = to_keep_filter(bm_df, b_filter)\n        readings_df = readings_df.drop(bm_df.index)\n        readings_df = pd.concat([readings_df, bm_df_filtered], axis=0)\n    return readings_df",
            "metadata": {
                "trusted": true
            },
            "outputs": [],
            "execution_count": null
        },
        {
            "cell_type": "markdown",
            "source": "## Chilled Water",
            "metadata": {}
        },
        {
            "cell_type": "code",
            "source": "# meter_id: type -> {0: electricity, 1: chilledwater, 2: steam, 3: hotwater}\n\nmeter_id = 1\nstart_id = 1410\nbuilding_ids = [273, 282]\n\ndf = readings_df[(readings_df[\"building_id\"].isin(building_ids)) & (readings_df[\"meter_id\"] == meter_id)]\n\nfig, ax = plt.subplots(1, 1, figsize=(20, 6))\nfor b_id in building_ids:\n    b_df = df[df[\"building_id\"] == b_id]\n    ax.plot(\n        b_df[\"timestamp\"].values,\n        b_df[\"ln_meter_reading\"].values,\n        label=f\"Building id {b_id}\",\n    )\n\nax.legend()\nfig.tight_layout();",
            "metadata": {
                "trusted": true
            },
            "outputs": [],
            "execution_count": null
        },
        {
            "cell_type": "markdown",
            "source": "## Hotwater",
            "metadata": {}
        },
        {
            "cell_type": "code",
            "source": "# meter_id: type -> {0: electricity, 1: chilledwater, 2: steam, 3: hotwater}\n\nmeter_id = 3\nstart_id = 1318\n\nbuilding_ids = list(range(start_id, start_id + 5))\n\nbm_df = readings_df[(readings_df[\"building_id\"].isin(building_ids)) & (readings_df[\"meter_id\"] == meter_id)]\n\nfig, ax = plt.subplots(1, 1, figsize=(20, 6))\nfor b_id in building_ids:\n    b_df = bm_df[bm_df[\"building_id\"] == b_id]\n    ax.plot(\n        b_df[\"timestamp\"].values,\n        b_df[\"ln_meter_reading\"].values,\n        label=f\"Building id {b_id}\",\n    )\n\nax.legend()\nfig.tight_layout();",
            "metadata": {
                "trusted": true
            },
            "outputs": [],
            "execution_count": null
        },
        {
            "cell_type": "code",
            "source": "# meter_id: type -> {0: electricity, 1: chilledwater, 2: steam, 3: hotwater}\n\nmeter_id = 3\nbuilding_id = 1331\n\nbm_df = readings_df[(readings_df[\"building_id\"] == building_id) & (readings_df[\"meter_id\"] == meter_id)]\nstreaks = find_constant_streaks(bm_df, streak_length=35)\n\nfig, ax = plt.subplots(1, 1, figsize=(20, 6))\nax.plot(\n    bm_df[\"timestamp\"].values,\n    bm_df[\"ln_meter_reading\"].values,\n)\n\nfor start, end in streaks:\n    print(start, end)\n    ax.axvline(start, lw=2, color=\"red\")\n    ax.axvline(end, lw=2, color=\"red\")\n\nax.axvline(datetime(2016, 2, 9, 15), color=\"black\")\nax.axvline(datetime(2016, 12, 31), color=\"black\")\n# ",
            "metadata": {
                "trusted": true
            },
            "outputs": [],
            "execution_count": null
        },
        {
            "cell_type": "code",
            "source": "to_keep = {\n    163: [(None, datetime(2016, 1, 28, 19))],\n    176: [(None, datetime(2016, 2, 10, 12)), (datetime(2016, 5, 5, 18), None)],\n    195: [(None, datetime(2016, 2, 9, 15)), (datetime(2016, 12, 7, 13), None)],\n    200: [(None, datetime(2016, 3, 19, 17))],\n    220: [(None, datetime(2016, 1, 6, 22)), (datetime(2016, 1, 13, 5), None)],\n    226: [(None, datetime(2016, 9, 30, 9)), (datetime(2016, 10, 25, 6), None)],\n    236: [(None, datetime(2016, 11, 20))],\n    279: [(datetime(2016, 12, 31), None)],\n    287: [(datetime(2016, 12, 31), None)],\n\n}\n\nto_remove = [\n    113, 117, 119, 121, 138, 175, 192, 203, 284, 1223, 1224, 1227, 1228, 1229, 1230,\n    1231, 1233, 1234, 1235, 1236, 1240, 1242, 1244, 1246, 1251, 1252, 1253, 1255,\n    1259, 1262, 1265, 1266, 1267, 1269, 1270, 1271, 1273, 1274, 1294, 1295, 1296,\n    1297, 1298, 1300, 1301, 1311, 1312, 1317, 1318, 1319, 1321, 1321, 1322, 1323, \n    \n]",
            "metadata": {
                "trusted": true
            },
            "outputs": [],
            "execution_count": null
        }
    ]
}