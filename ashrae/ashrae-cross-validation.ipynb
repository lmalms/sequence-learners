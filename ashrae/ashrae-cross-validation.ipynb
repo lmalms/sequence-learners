{
    "metadata": {
        "kernelspec": {
            "language": "python",
            "display_name": "Python 3",
            "name": "python3"
        },
        "language_info": {
            "name": "python",
            "version": "3.10.12",
            "mimetype": "text/x-python",
            "codemirror_mode": {
                "name": "ipython",
                "version": 3
            },
            "pygments_lexer": "ipython3",
            "nbconvert_exporter": "python",
            "file_extension": ".py"
        },
        "kaggle": {
            "accelerator": "none",
            "dataSources": [
                {
                    "sourceId": 9994,
                    "databundleVersionId": 752467,
                    "sourceType": "competition"
                }
            ],
            "dockerImageVersionId": 30822,
            "isInternetEnabled": true,
            "language": "python",
            "sourceType": "notebook",
            "isGpuEnabled": false
        }
    },
    "nbformat_minor": 4,
    "nbformat": 4,
    "cells": [
        {
            "cell_type": "code",
            "source": "import pandas as pd",
            "metadata": {
                "_uuid": "8f2839f25d086af736a60e9eeb907d3b93b6e0e5",
                "_cell_guid": "b1076dfc-b9ad-4769-8c92-a6c4dae69d19",
                "trusted": true
            },
            "outputs": [],
            "execution_count": null
        },
        {
            "cell_type": "code",
            "source": "# Constants\nINPUT_DATA_PATH = \"/kaggle/input/ashrae-energy-prediction\"\n\nMIN_TRAIN_TIMESTAMP = pd.Timestamp(\"2016-01-01 00:00:00\")\nMAX_TRAIN_TIMESTAMP = pd.Timestamp(\"2016-12-31 23:00:00\")\nTRAIN_DATA_RESOLUTION = \"1h\"",
            "metadata": {
                "trusted": true
            },
            "outputs": [],
            "execution_count": null
        },
        {
            "cell_type": "code",
            "source": "# Load train data\n\nreadings_df = pd.read_csv(\n    f\"{INPUT_DATA_PATH}/train.csv\",\n    header=0,\n    names=[\"building_id\", \"meter_id\", \"timestamp\", \"meter_reading\"],\n)\n\nreadings_df[\"timestamp\"] = pd.to_datetime(readings_df[\"timestamp\"])",
            "metadata": {
                "trusted": true
            },
            "outputs": [],
            "execution_count": null
        },
        {
            "cell_type": "code",
            "source": "validation_periods = [\n    (pd.Timestamp(\"2016-10-01 00:00:00\"), pd.Timestamp(\"2016-11-01 00:00:00\")),\n    (pd.Timestamp(\"2016-11-01 00:00:00\"), pd.Timestamp(\"2016-12-01 00:00:00\")),\n    (pd.Timestamp(\"2016-12-01 00:00:00\"), pd.Timestamp(\"2017-01-01 00:00:00\")),\n]\n\n\ndef yield_train_test_split(train_df: pd.DataFrame) -> pd.DataFrame:\n    for val_start, val_end in validation_periods:\n        train_mask = train_df[\"timestamp\"] < val_start\n        test_mask = (train_df[\"timestamp\"] >= val_start) & (train_df[\"timestamp\"] < val_end)\n        yield train_df.loc[train_mask], train_df.loc[test_mask]",
            "metadata": {
                "trusted": true
            },
            "outputs": [],
            "execution_count": null
        },
        {
            "cell_type": "code",
            "source": "train_df_counts = []\ntest_df_counts = []\nfor i, (train_df, test_df) in enumerate(yield_train_test_split(readings_df)):\n    building_meter_counts_train = (\n        train_df\n        .groupby([\"building_id\", \"meter_id\"])[\"timestamp\"]\n        .nunique()\n        .rename(f\"split_{i}\")\n    )\n    train_df_counts.append(building_meter_counts_train)\n    \n    building_meter_counts_test = (\n        test_df\n        .groupby([\"building_id\", \"meter_id\"])[\"timestamp\"]\n        .nunique()\n        .rename(f\"split_{i}\")\n    )\n    test_df_counts.append(building_meter_counts_test)",
            "metadata": {
                "trusted": true
            },
            "outputs": [],
            "execution_count": null
        },
        {
            "cell_type": "code",
            "source": "pd.concat(test_df_counts, axis=1).plot()",
            "metadata": {
                "trusted": true
            },
            "outputs": [],
            "execution_count": null
        },
        {
            "cell_type": "code",
            "source": "",
            "metadata": {
                "trusted": true
            },
            "outputs": [],
            "execution_count": null
        }
    ]
}