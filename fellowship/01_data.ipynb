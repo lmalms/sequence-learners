{
    "cells": [
        {
            "cell_type": "code",
            "execution_count": null,
            "metadata": {},
            "outputs": [],
            "source": [
                "import pandas as pd\n",
                "import numpy as np\n",
                "import matplotlib.pyplot as plt\n",
                "from matplotlib import cm\n",
                "import seaborn as sns\n",
                "\n",
                "from tqdm import tqdm"
            ]
        },
        {
            "cell_type": "markdown",
            "metadata": {},
            "source": [
                "# Data Loading"
            ]
        },
        {
            "cell_type": "code",
            "execution_count": null,
            "metadata": {},
            "outputs": [],
            "source": [
                "LOCATION_MAPPING = {\n",
                "    \"Tamaki Drive - Parnell\": \"Tamaki Drive\",\n",
                "    \"Waterview Unitec Shared Path\": \"Waterview Unitec\",\n",
                "    \"Mangere Bridge\": \"Mangere Foot Bridge\",\n",
                "    \"Franklin Road\": \"Franklin Rd\",\n",
                "    \"Symonds St Total\": \"Symonds St\",\n",
                "    \"Oceanview Rd\": \"Ocean View Rd\",\n",
                "    \"TeWero Bridge Bike Counter\": \"TeWero Bridge\",\n",
                "    \"Victoria Street West\": \"Victoria St West\",\n",
                "    \"TeAtatu Peninsula Shared Path\": \"TeAtatu Peninsula\",\n",
                "    \"Lake Road Total Cyclists New\": \"Lake Rd\",\n",
                "    \"Great South Rd Manukau\": \"Great South Rd\",\n",
                "    \"Twin Streams Shared Path\": \"Twin Streams\",\n",
                "}\n",
                "\n",
                "def load_cycle_counts(url: str) -> pd.DataFrame:\n",
                "    if \"august\" in url or \"september\" in url:\n",
                "        df = pd.read_excel(url, na_values=\"z\", usecols=\"G:CG\")\n",
                "    else:\n",
                "        df = pd.read_excel(url, na_values=\"z\", header=2)\n",
                "    \n",
                "    df = df.rename(columns={\"Date\": \"Time\", \"Date.1\": \"Time\"})\n",
                "    df = df.melt(id_vars=\"Time\", var_name=\"Location\", value_name=\"Count\")\n",
                "    \n",
                "    df[\"Count\"] = df[\"Count\"].fillna(0)\n",
                "    df[\"Location\"] = df[\"Location\"].str.replace(r\" Cyclists?$\", \"\", regex=True)\n",
                "    df[\"Location\"] = df[\"Location\"].str.replace(r\"\\bDr\\b\", \"Drive\", regex=True)\n",
                "    df[\"Location\"] = df[\"Location\"].replace(LOCATION_MAPPING)\n",
                "\n",
                "    df.columns = df.columns.str.lower()\n",
                "    df = df.astype({\"time\": \"datetime64[s]\", \"location\": str, \"count\": int})\n",
                "    return df"
            ]
        },
        {
            "cell_type": "code",
            "execution_count": null,
            "metadata": {},
            "outputs": [],
            "source": [
                "urls = [\n",
                "    \"https://at.govt.nz/media/bb4h3wd3/at-daily-cycle-counts-january-2024.xlsx\",\n",
                "    \"https://at.govt.nz/media/xlcaru0v/at-daily-cycle-counts-feb-2024.xlsx\",\n",
                "    \"https://at.govt.nz/media/4g3hzpp5/at-daily-cycle-counts-march-2024.xlsx\",\n",
                "    \"https://at.govt.nz/media/htvezqdn/at-daily-cycle-counts-april-2024.xlsx\",\n",
                "    \"https://at.govt.nz/media/ue5cygl0/at-daily-cycle-counts-may-2024.xlsx\",\n",
                "    \"https://at.govt.nz/media/3icd2jug/at-daily-cycle-counts-june-2024.xlsx\",\n",
                "    \"https://at.govt.nz/media/jbdd1rox/cycle-counts-july-2024.xlsx\",\n",
                "    \"https://at.govt.nz/media/bvadzmqg/cycle-counts-august-2024.xlsx\",\n",
                "    \"https://at.govt.nz/media/lpsfdwbe/auckland-transport-cycle-counts-september-2024.xlsx\",\n",
                "    \"https://at.govt.nz/media/ohbhvmrl/auckland-transport-cycle-movements-october-2024.xlsx\",\n",
                "]\n",
                "\n",
                "dfs = []\n",
                "for url in tqdm(urls):\n",
                "    df = load_cycle_counts(url)\n",
                "    dfs.append(df)\n",
                "\n",
                "cycle_counts = pd.concat(dfs, ignore_index=True)\n",
                "cycle_counts = cycle_counts.groupby([\"time\", \"location\"]).sum().reset_index()"
            ]
        },
        {
            "cell_type": "code",
            "execution_count": null,
            "metadata": {},
            "outputs": [],
            "source": [
                "cycle_counts.to_csv(\"cycle_counts.csv\", index=False)"
            ]
        },
        {
            "cell_type": "code",
            "execution_count": null,
            "metadata": {},
            "outputs": [],
            "source": [
                "cycle_counts = pd.read_csv(\"cycle_counts.csv\", parse_dates=[\"time\"])"
            ]
        },
        {
            "cell_type": "markdown",
            "metadata": {},
            "source": [
                "## EDA"
            ]
        },
        {
            "cell_type": "markdown",
            "metadata": {},
            "source": [
                "### Total counts by day"
            ]
        },
        {
            "cell_type": "code",
            "execution_count": null,
            "metadata": {},
            "outputs": [],
            "source": [
                "daily_total = cycle_counts.groupby(\"time\")[[\"count\"]].sum().reset_index()\n",
                "\n",
                "fig, ax = plt.subplots(1, 2, figsize=(10, 3.5))\n",
                "\n",
                "ax[0].plot(daily_total[\"time\"], daily_total[\"count\"])\n",
                "ax[0].set(ylabel=\"Count\")\n",
                "for tick in ax[0].get_xticklabels():\n",
                "    tick.set_rotation(45)\n",
                "\n",
                "ax[1].hist(daily_total[\"count\"], bins=20);\n",
                "ax[1].set(xlabel=\"Count\", ylabel=\"Frequency\")\n",
                "\n",
                "fig.tight_layout()"
            ]
        },
        {
            "cell_type": "markdown",
            "metadata": {},
            "source": [
                "### Daily counts by location"
            ]
        },
        {
            "cell_type": "code",
            "execution_count": null,
            "metadata": {},
            "outputs": [],
            "source": [
                "av_daily_counts = cycle_counts.groupby(\"time\")[[\"count\"]].mean().reset_index()\n",
                "\n",
                "fig, ax = plt.subplots(2, 1, figsize=(12, 5), sharex=True)\n",
                "\n",
                "locations = cycle_counts[\"location\"].unique()\n",
                "for location in locations:\n",
                "    location_df = cycle_counts[cycle_counts[\"location\"] == location]\n",
                "    ax[0].plot(location_df[\"time\"], location_df[\"count\"], color=\"gray\", alpha=0.5)\n",
                "    ax[1].plot(location_df[\"time\"], np.log1p(location_df[\"count\"]), color=\"gray\", alpha=0.5)\n",
                "\n",
                "ax[0].plot(av_daily_counts[\"time\"], av_daily_counts[\"count\"], color=\"blue\", linewidth=2)\n",
                "ax[1].plot(av_daily_counts[\"time\"], np.log1p(av_daily_counts[\"count\"]), color=\"blue\", linewidth=2)\n",
                "\n",
                "ax[0].set(ylabel=\"Count\")\n",
                "ax[1].set(ylabel=\"Log(Count)\")"
            ]
        },
        {
            "cell_type": "code",
            "execution_count": null,
            "metadata": {},
            "outputs": [],
            "source": [
                "av_daily_counts_by_loc = cycle_counts.groupby(\"location\")[[\"count\"]].mean().reset_index()\n",
                "av_daily_counts_by_loc = av_daily_counts_by_loc.sort_values(\"count\").reset_index(drop=True)\n",
                "\n",
                "mean_counts = av_daily_counts_by_loc[\"count\"].mean()\n",
                "median_counts = av_daily_counts_by_loc[\"count\"].median()\n",
                "\n",
                "fig, ax = plt.subplots(1, 1)\n",
                "ax.hist(av_daily_counts_by_loc[\"count\"], bins=20)\n",
                "ax.axvline(mean_counts, color=\"red\", linestyle=\"--\", lw=2.5, label=\"Mean\")\n",
                "ax.axvline(median_counts, color=\"orange\", linestyle=\"--\", lw=2.5, label=\"Median\")\n",
                "ax.set(xlabel=\"Average Daily Count\", ylabel=\"Frequency\")\n",
                "ax.legend();"
            ]
        },
        {
            "cell_type": "markdown",
            "metadata": {},
            "source": [
                "### High demand locations"
            ]
        },
        {
            "cell_type": "code",
            "execution_count": null,
            "metadata": {},
            "outputs": [],
            "source": [
                "threshold = 600\n",
                "high_demand_locs = av_daily_counts_by_loc[av_daily_counts_by_loc[\"count\"] > threshold]\n",
                "high_demand_locs.sort_values(\"count\")"
            ]
        },
        {
            "cell_type": "code",
            "execution_count": null,
            "metadata": {},
            "outputs": [],
            "source": [
                "fig, ax = plt.subplots(1, 1, figsize=(10, 5))\n",
                "\n",
                "locations = high_demand_locs[\"location\"].values\n",
                "colors = cm.coolwarm(np.linspace(0, 1, len(locations)))\n",
                "for i, location in enumerate(locations):\n",
                "    location_df = cycle_counts[cycle_counts[\"location\"] == location]\n",
                "    ax.plot(\n",
                "        location_df[\"time\"],\n",
                "        location_df[\"count\"],\n",
                "        label=location,\n",
                "        color=colors[i],\n",
                "        lw=2.5,\n",
                "    )\n",
                "ax.set(ylabel=\"Count\")\n",
                "fig.tight_layout();"
            ]
        },
        {
            "cell_type": "code",
            "execution_count": null,
            "metadata": {},
            "outputs": [],
            "source": [
                "counts_pivot = cycle_counts.pivot_table(columns=\"time\", index=\"location\", values=\"count\", aggfunc=\"sum\")\n",
                "counts_pivot = counts_pivot.fillna(0).assign(average=lambda x: x.mean(axis=1))\n",
                "counts_pivot = counts_pivot[counts_pivot[\"average\"].between(200, 2500)]\n",
                "counts_pivot = counts_pivot.sort_values(\"average\", ascending=False).drop(columns=\"average\")\n",
                "\n",
                "fig, ax = plt.subplots(1, 1)\n",
                "sns.heatmap(counts_pivot, cmap=\"coolwarm\", cbar_kws={\"label\": \"Count\"})\n",
                "\n",
                "xs = np.arange(0, counts_pivot.shape[1], 10)\n",
                "xticklables = [c.strftime(\"%Y-%m-%d\") for c in counts_pivot.columns[xs]]\n",
                "ax.set(xticks=xs, xticklabels=xticklables)\n",
                "\n",
                "ys = np.arange(0, counts_pivot.shape[0])\n",
                "yticklables = counts_pivot.index[ys]\n",
                "ax.set_yticks(ys + 0.5)\n",
                "ax.set_yticklabels(yticklables, fontsize=\"small\")\n",
                "\n",
                "ax.set(xlabel=\"\", ylabel=\"\");"
            ]
        }
    ],
    "metadata": {
        "kernelspec": {
            "display_name": ".venv",
            "language": "python",
            "name": "python3"
        },
        "language_info": {
            "codemirror_mode": {
                "name": "ipython",
                "version": 3
            },
            "file_extension": ".py",
            "mimetype": "text/x-python",
            "name": "python",
            "nbconvert_exporter": "python",
            "pygments_lexer": "ipython3",
            "version": "3.12.9"
        }
    },
    "nbformat": 4,
    "nbformat_minor": 2
}
