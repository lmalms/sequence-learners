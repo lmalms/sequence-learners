{
    "metadata": {
        "kernelspec": {
            "language": "python",
            "display_name": "Python 3",
            "name": "python3"
        },
        "language_info": {
            "name": "python",
            "version": "3.10.13",
            "mimetype": "text/x-python",
            "codemirror_mode": {
                "name": "ipython",
                "version": 3
            },
            "pygments_lexer": "ipython3",
            "nbconvert_exporter": "python",
            "file_extension": ".py"
        },
        "kaggle": {
            "accelerator": "none",
            "dataSources": [
                {
                    "sourceId": 18599,
                    "databundleVersionId": 1236839,
                    "sourceType": "competition"
                }
            ],
            "dockerImageVersionId": 30746,
            "isInternetEnabled": true,
            "language": "python",
            "sourceType": "notebook",
            "isGpuEnabled": false
        }
    },
    "nbformat_minor": 4,
    "nbformat": 4,
    "cells": [
        {
            "cell_type": "code",
            "source": "import numpy as np",
            "metadata": {
                "_uuid": "8f2839f25d086af736a60e9eeb907d3b93b6e0e5",
                "_cell_guid": "b1076dfc-b9ad-4769-8c92-a6c4dae69d19",
                "trusted": true
            },
            "execution_count": null,
            "outputs": []
        },
        {
            "cell_type": "code",
            "source": "n_timeseries = 10\nn_train_steps = 100\nn_forecast_steps = 10\n\ntrain = np.random.randint(low=0, high=10, size=(n_train_steps, n_timeseries))\nvalid = np.random.randint(low=0, high=10, size=(n_forecast_steps, n_timeseries))\nforecast = np.random.randint(low=0, high=10, size=(n_forecast_steps, n_timeseries))",
            "metadata": {
                "trusted": true
            },
            "execution_count": null,
            "outputs": []
        },
        {
            "cell_type": "code",
            "source": "# Calculate MSE of naive forecasts on train set\nnaive_error = np.diff(train, axis=0)\nnaive_squared_error = naive_error ** 2\nnaive_mse = np.mean(naive_squared_error, axis= 0 )\nnaive_mse",
            "metadata": {
                "trusted": true
            },
            "execution_count": null,
            "outputs": []
        },
        {
            "cell_type": "code",
            "source": "# Calculate MSE of forecasts\nforecast_error = valid - forecast\nforecast_squared_error = forecast_error ** 2\nforecast_mse = np.mean(forecast_squared_error, axis=0)\nforecast_mse",
            "metadata": {
                "trusted": true
            },
            "execution_count": null,
            "outputs": []
        },
        {
            "cell_type": "code",
            "source": "# Calculate RMSSE\nrmsse_per_timeseries = np.sqrt(forecast_mse / naive_mse)\nrmsse_per_timeseries",
            "metadata": {
                "trusted": true
            },
            "execution_count": null,
            "outputs": []
        },
        {
            "cell_type": "code",
            "source": "# Average over timeseries\nrmsse = np.mean(rmsse_per_timeseries)\nrmsse",
            "metadata": {
                "trusted": true
            },
            "execution_count": null,
            "outputs": []
        },
        {
            "cell_type": "code",
            "source": "def rmsse(y_train, y_true, y_pred):\n    # Shape for all is (timestep, timeseries)\n    naive_mse = np.mean(np.diff(y_train, axis=0) ** 2, axis=0)\n    forecast_mse = np.mean((y_true - y_pred) ** 2, axis=0)\n    rmsse = np.sqrt(forecast_mse / naive_mse)\n    return np.mean(rmsse)",
            "metadata": {
                "trusted": true
            },
            "execution_count": null,
            "outputs": []
        },
        {
            "cell_type": "code",
            "source": "rmsse(train, valid, forecast)",
            "metadata": {
                "trusted": true
            },
            "execution_count": null,
            "outputs": []
        }
    ]
}