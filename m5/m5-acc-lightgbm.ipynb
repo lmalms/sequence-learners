{
    "metadata": {
        "kernelspec": {
            "language": "python",
            "display_name": "Python 3",
            "name": "python3"
        },
        "language_info": {
            "name": "python",
            "version": "3.10.13",
            "mimetype": "text/x-python",
            "codemirror_mode": {
                "name": "ipython",
                "version": 3
            },
            "pygments_lexer": "ipython3",
            "nbconvert_exporter": "python",
            "file_extension": ".py"
        },
        "kaggle": {
            "accelerator": "none",
            "dataSources": [
                {
                    "sourceId": 18599,
                    "databundleVersionId": 1236839,
                    "sourceType": "competition"
                },
                {
                    "sourceId": 9372923,
                    "sourceType": "datasetVersion",
                    "datasetId": 5684895
                }
            ],
            "dockerImageVersionId": 30746,
            "isInternetEnabled": true,
            "language": "python",
            "sourceType": "notebook",
            "isGpuEnabled": false
        }
    },
    "nbformat_minor": 4,
    "nbformat": 4,
    "cells": [
        {
            "cell_type": "code",
            "source": "import json\n\nimport matplotlib.pyplot as plt\nfrom matplotlib.pyplot import cm\nimport numpy as np\nimport pandas as pd\nfrom tqdm import tqdm\n\nimport lightgbm as lgbm",
            "metadata": {
                "_uuid": "8f2839f25d086af736a60e9eeb907d3b93b6e0e5",
                "_cell_guid": "b1076dfc-b9ad-4769-8c92-a6c4dae69d19",
                "trusted": true
            },
            "execution_count": null,
            "outputs": []
        },
        {
            "cell_type": "code",
            "source": "SUBMISSION_RUN = False",
            "metadata": {
                "trusted": true
            },
            "execution_count": null,
            "outputs": []
        },
        {
            "cell_type": "code",
            "source": "# Constants\n\n# Paths\nINPUT_BASE_PATH = \"/kaggle/input/\"\nRAW_DATA_INPUT_PATH = f\"{INPUT_BASE_PATH}/m5-forecasting-accuracy\"\nPROCESSED_DATA_INPUT_PATH = f\"{INPUT_BASE_PATH}/m5-acc\"\nOUTPUT_BASE_BATH = \"/kaggle/working\"\n\n# Timestamps\nMAX_TRAIN_TIMESTAMP = 1941\nSTART_TEST_TIMESTAMP = 1942\nSTART_TEST_WM_YR_WK = 11617",
            "metadata": {
                "trusted": true
            },
            "execution_count": null,
            "outputs": []
        },
        {
            "cell_type": "markdown",
            "source": "# Data Input",
            "metadata": {}
        },
        {
            "cell_type": "code",
            "source": "# Load raw data\n\n# CALENDAR_DATA = pd.read_csv(f\"{RAW_DATA_INPUT_PATH}/calendar.csv\")\n# SELL_PRICES = pd.read_csv(f\"{RAW_DATA_INPUT_PATH}/sell_prices.csv\")\n# SALES_TRAIN_EVALUATION = pd.read_csv(f\"{RAW_DATA_INPUT_PATH}/sales_train_evaluation.csv\")\n\nSAMPLE_SUBMISSION = pd.read_csv(f\"{RAW_DATA_INPUT_PATH}/sample_submission.csv\")\nSUBMISSION_INDEX = SAMPLE_SUBMISSION.set_index(\"id\").index\nVAL_SUBMISSION = SAMPLE_SUBMISSION[SAMPLE_SUBMISSION[\"id\"].str.contains(\"validation\")]\nEVAL_SUBMISSION = SAMPLE_SUBMISSION[SAMPLE_SUBMISSION[\"id\"].str.contains(\"evaluation\")]",
            "metadata": {
                "trusted": true
            },
            "execution_count": null,
            "outputs": []
        },
        {
            "cell_type": "code",
            "source": "# Load preprocessed data\ntrain_data_set = pd.read_parquet(f\"{PROCESSED_DATA_INPUT_PATH}/m5-acc-train.parquet\")",
            "metadata": {},
            "execution_count": null,
            "outputs": []
        },
        {
            "cell_type": "code",
            "source": "def cast_data_types(dataset: pd.DataFrame) -> pd.DataFrame:\n    item_category_cols = [\"dept_id\", \"cat_id\", \"store_id\", \"state_id\"]\n    date_category_cols = [\"wm_yr_wk\", \"weekday\", \"month\", \"year\", \"event_name\", \"event_type\", \"snap_CA\", \"snap_TX\", \"snap_WI\"]\n    for category_col in item_category_cols + date_category_cols:\n        try:\n            dataset[category_col] = dataset[category_col].astype(\"category\")\n        except KeyError:\n            print(f\"Column {col} does not exist. Skipping ...\")\n            pass\n    \n    col_to_numeric_dtype = [\n        (\"item_id\", \"float\"),\n        (\"d\", \"integer\"),\n        (\"count\", \"integer\"),\n        (\"sell_price\", \"float\"),\n        (\"weekday_sin\", \"float\"),\n        (\"weekday_cos\", \"float\"),\n        (\"month_sin\", \"float\"),\n        (\"month_cos\", \"float\"),\n        (\"av_item_state_sell_price\", \"float\"),\n        (\"av_dept_state_sell_price\", \"float\"),\n    ]\n    for (col, dtype) in col_to_numeric_dtype:\n        try:\n            dataset[col] = pd.to_numeric(dataset[col], downcast=dtype)\n        except KeyError:\n            print(f\"Column {col} does not exist. Skipping ...\")\n            pass\n    \n    return dataset",
            "metadata": {
                "trusted": true
            },
            "execution_count": null,
            "outputs": []
        },
        {
            "cell_type": "code",
            "source": "# Cast to lower resolution types to save memory\ntrain_data_set = cast_data_types(train_data_set)",
            "metadata": {
                "trusted": true
            },
            "execution_count": null,
            "outputs": []
        },
        {
            "cell_type": "markdown",
            "source": "# LightGBM Model",
            "metadata": {}
        },
        {
            "cell_type": "code",
            "source": "# Rolling window validation\n\ndef time_series_split(\n    df: pd.DataFrame,\n    n_folds: int = 5,\n    horizon: int = 28,\n    overlap: int = 0,\n    max_timestamp: int = MAX_TRAIN_TIMESTAMP,\n):\n    min_timestamp = max_timestamp - n_folds * horizon + (n_folds - 1) * overlap\n    for fold_idx in range(n_folds):\n        start = min_timestamp + fold_idx * (horizon - overlap)\n        stop = start + horizon\n\n        train_data = df[df[\"d\"] < start].copy()\n        valid_data = df[(df[\"d\"] >= start) & (df[\"d\"] < stop)].copy()\n        \n        print(f\"Fold index: {fold_idx}\")\n        print(f\"Train idx (start, end): ({train_data['d'].min()}, {train_data['d'].max()})\")\n        print(f\"Valid idx (start, end): ({valid_data['d'].min()}, {valid_data['d'].max()})\")\n        print(\"==================\")\n        \n        yield train_data, valid_data\n        \n        \ndef train_predict_score(\n    X_train: pd.DataFrame,\n    y_train: pd.Series,\n    X_test: pd.DataFrame,\n    y_test: pd.Series,\n) -> tuple[float, float]:\n    train_data = lgbm.Dataset(data=X_train, label=y_train)\n    valid_data = lgbm.Dataset(data=X_test, label=y_test)\n    model = lgbm.train(\n        PARAMETERS,\n        num_boost_round=1000,\n        train_set=train_data,\n        valid_sets=[valid_data],\n        callbacks=[\n            lgbm.early_stopping(stopping_rounds=5),\n            lgbm.log_evaluation(period=10),\n        ]\n    )\n    \n    y_hat = model.predict(X_test)\n    y_hat = np.clip(np.round(y_hat), a_min=0, a_max=np.inf)\n    y_hat = y_hat.astype(np.int32)\n    rmse = np.sqrt(np.mean((y_test - y_hat) ** 2))\n\n    return rmse, model.best_iteration",
            "metadata": {
                "trusted": true
            },
            "execution_count": null,
            "outputs": []
        },
        {
            "cell_type": "code",
            "source": "FEATURES = [\n    \"item_id\",\n    \"dept_id\",\n    \"cat_id\",\n    \"store_id\",\n    \"state_id\",\n    \"weekday_sin\",\n    \"weekday_cos\",\n    \"month_sin\",\n    \"month_cos\",\n    \"year\",\n    \"event_name\",\n    \"event_type\",\n    \"snap_CA\",\n    \"snap_TX\",\n    \"snap_WI\",\n    \"sell_price\",\n    \"av_item_state_sell_price\",\n    \"av_dept_state_sell_price\",\n]\nLABEL = \"count\"\n\nPARAMETERS = {\n    \"objective\": \"poisson\",\n    \"learning_rate\": 0.05,\n    \"metric\": \"rmse\",\n    \"force_col_wise\": True,\n}",
            "metadata": {
                "trusted": true
            },
            "execution_count": null,
            "outputs": []
        },
        {
            "cell_type": "code",
            "source": "if not SUBMISSION_RUN:\n    scores = []\n    best_iterations = []\n    \n    for train, valid in tqdm(time_series_split(data, n_folds=5), total=5):\n    \n        X_train, y_train = train[FEATURES], train[LABEL]\n        X_test, y_test = valid[FEATURES], valid[LABEL]\n        score, best_iter = train_predict_score(X_train, y_train, X_test, y_test)\n        scores.append(score)\n        best_iterations.append(best_iter)\n    \n    cv_results = {\n        \"scores\": scores,\n        \"mean_score\": np.mean(scores),\n        \"std_score\": np.std(scores),\n        \"best_iterations\": best_iterations,\n        \"mean_best_iteration\": np.mean(best_iterations)\n    }\n    \n    with open(f\"{OUTPUT_BASE_BATH}/cv_results.json\", \"w\") as f:\n        json.dump(cv_results, f)\n    \nelse:\n    train_data = lgbm.Dataset(data=data[FEATURES], label=data[LABEL])\n    model = lgbm.train(\n        PARAMETERS,\n        num_boost_round=400,\n        train_set=train_data,\n    )",
            "metadata": {
                "trusted": true
            },
            "execution_count": null,
            "outputs": []
        },
        {
            "cell_type": "markdown",
            "source": "# Forecast & Submit",
            "metadata": {}
        },
        {
            "cell_type": "code",
            "source": "def construct_test_df(\n    d_start: int,\n    d_end: int,\n    item_category_df: pd.DataFrame,\n    calendar_df: pd.DataFrame,\n    price_df: pd.DataFrame,\n) -> pd.DataFrame:\n    \n    d_range = list(range(d_start, d_end + 1))\n    d_range_df = pd.DataFrame(d_range, columns=[\"d\"])\n    test_df = pd.merge(item_id_categories, d_range_df, how=\"cross\")\n    test_df = merge_sales_and_calendar_data(test_df, calendar_df)\n    test_df = merge_sales_and_price_data(test_df, price_df)\n    return test_df\n\ndef map_test_df_columns(test_df: pd.DataFrame) -> pd.DataFrame:\n    test_df[\"item_id\"] = test_df[\"item_id\"].map(item_id_map)\n    test_df[\"dept_id\"] = test_df[\"dept_id\"].map(dept_id_map)\n    test_df[\"cat_id\"] = test_df[\"cat_id\"].map(cat_id_map)\n    test_df[\"store_id\"] = test_df[\"store_id\"].map(store_id_map)\n    test_df[\"state_id\"] = test_df[\"state_id\"].map(state_id_map)\n    test_df[\"event_name\"] = test_df[\"event_name\"].map(event_name_map)\n    test_df[\"event_type\"] = test_df[\"event_type\"].map(event_type_map)\n    return test_df\n\ndef pivot_forecast_df(X_test: pd.DataFrame, y_hat: np.ndarray) -> pd.DataFrame:\n    forecast_df = pd.concat([X_test, pd.DataFrame(y_hat, columns=[\"count\"])], axis=1)\n    forecast_df = forecast_df.pivot(columns=\"d\", index=\"id\", values=\"count\").sort_index(axis=1)\n    forecast_df = forecast_df.rename_axis(None, axis=1).reset_index()\n    return forecast_df\n\ndef rename_forecast_columns(forecast_df: pd.DataFrame, forecast_horizon: int = 28) -> pd.DataFrame:\n    forecast_df = forecast_df.set_index(\"id\")\n    forecast_df.columns = [f\"F{i}\" for i in range(1, forecast_horizon + 1)]\n    return forecast_df.reset_index()",
            "metadata": {
                "trusted": true
            },
            "execution_count": null,
            "outputs": []
        },
        {
            "cell_type": "code",
            "source": "if SUBMISSION_RUN:\n    test_d_start, test_d_end = 1942, 1969\n    test_df = construct_test_df(\n        d_start=test_d_start,\n        d_end=test_d_end,\n        item_category_df=item_id_categories,\n        calendar_df=calendar_df,\n        price_df=price_df,\n    )\n    test_df = map_test_df_columns(test_df)\n    test_df = cast_types(test_df)\n\n    y_hat = model.predict(test_df[FEATURES])\n    y_hat = np.clip(np.round(y_hat), a_min=0, a_max=np.inf)\n    y_hat = y_hat.astype(np.int32)\n\n    forecast_df = pivot_forecast_df(test_df, y_hat)\n    forecast_df = rename_forecast_columns(forecast_df)\n    \n    # Merge with sample submissions\n    EVAL_SUBMISSION = EVAL_SUBMISSION[[\"id\"]].merge(forecast_df, on=\"id\", how=\"left\")\n    FINAL_SUBMISSIONS = pd.concat([VAL_SUBMISSION, EVAL_SUBMISSION])\n    FINAL_SUBMISSIONS = FINAL_SUBMISSIONS.set_index(\"id\").reindex(SUBMISSION_INDEX).reset_index()\n    \n    FINAL_SUBMISSIONS.to_csv(f\"{OUTPUT_BASE_BATH}/submission.csv\", index=False)\n    ",
            "metadata": {
                "trusted": true
            },
            "execution_count": null,
            "outputs": []
        }
    ]
}