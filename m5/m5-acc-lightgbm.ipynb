{
    "cells": [
        {
            "cell_type": "code",
            "execution_count": 1,
            "id": "572fd997",
            "metadata": {
                "_cell_guid": "b1076dfc-b9ad-4769-8c92-a6c4dae69d19",
                "_uuid": "8f2839f25d086af736a60e9eeb907d3b93b6e0e5",
                "execution": {
                    "iopub.execute_input": "2024-09-24T06:55:56.224657Z",
                    "iopub.status.busy": "2024-09-24T06:55:56.223754Z",
                    "iopub.status.idle": "2024-09-24T06:55:59.946538Z",
                    "shell.execute_reply": "2024-09-24T06:55:59.945377Z"
                },
                "papermill": {
                    "duration": 3.734714,
                    "end_time": "2024-09-24T06:55:59.950186",
                    "exception": false,
                    "start_time": "2024-09-24T06:55:56.215472",
                    "status": "completed"
                },
                "tags": []
            },
            "outputs": [],
            "source": [
                "import json\n",
                "import gc\n",
                "\n",
                "import matplotlib.pyplot as plt\n",
                "from matplotlib.pyplot import cm\n",
                "import numpy as np\n",
                "import pandas as pd\n",
                "from tqdm import tqdm\n",
                "\n",
                "import lightgbm as lgbm"
            ]
        },
        {
            "cell_type": "code",
            "execution_count": 2,
            "id": "f761cbb5",
            "metadata": {
                "execution": {
                    "iopub.execute_input": "2024-09-24T06:55:59.967504Z",
                    "iopub.status.busy": "2024-09-24T06:55:59.966826Z",
                    "iopub.status.idle": "2024-09-24T06:55:59.972555Z",
                    "shell.execute_reply": "2024-09-24T06:55:59.971288Z"
                },
                "papermill": {
                    "duration": 0.015567,
                    "end_time": "2024-09-24T06:55:59.975089",
                    "exception": false,
                    "start_time": "2024-09-24T06:55:59.959522",
                    "status": "completed"
                },
                "tags": []
            },
            "outputs": [],
            "source": [
                "SUBMISSION_RUN = False"
            ]
        },
        {
            "cell_type": "code",
            "execution_count": 3,
            "id": "6755106c",
            "metadata": {
                "execution": {
                    "iopub.execute_input": "2024-09-24T06:55:59.988806Z",
                    "iopub.status.busy": "2024-09-24T06:55:59.987830Z",
                    "iopub.status.idle": "2024-09-24T06:55:59.993981Z",
                    "shell.execute_reply": "2024-09-24T06:55:59.992862Z"
                },
                "papermill": {
                    "duration": 0.015589,
                    "end_time": "2024-09-24T06:55:59.996401",
                    "exception": false,
                    "start_time": "2024-09-24T06:55:59.980812",
                    "status": "completed"
                },
                "tags": []
            },
            "outputs": [],
            "source": [
                "# Constants\n",
                "\n",
                "# Paths\n",
                "INPUT_BASE_PATH = \"/kaggle/input/\"\n",
                "RAW_DATA_INPUT_PATH = f\"{INPUT_BASE_PATH}/m5-forecasting-accuracy\"\n",
                "PROCESSED_DATA_INPUT_PATH = f\"{INPUT_BASE_PATH}/m5-acc\"\n",
                "OUTPUT_BASE_BATH = \"/kaggle/working\"\n",
                "\n",
                "# Timestamps\n",
                "MAX_TRAIN_TIMESTAMP = 1941\n",
                "START_TEST_TIMESTAMP = 1942\n",
                "START_TEST_WM_YR_WK = 11617"
            ]
        },
        {
            "cell_type": "markdown",
            "id": "3861cc1d",
            "metadata": {
                "papermill": {
                    "duration": 0.005339,
                    "end_time": "2024-09-24T06:56:00.007686",
                    "exception": false,
                    "start_time": "2024-09-24T06:56:00.002347",
                    "status": "completed"
                },
                "tags": []
            },
            "source": [
                "# Data Input"
            ]
        },
        {
            "cell_type": "code",
            "execution_count": 4,
            "id": "39acf87f",
            "metadata": {
                "execution": {
                    "iopub.execute_input": "2024-09-24T06:56:00.020843Z",
                    "iopub.status.busy": "2024-09-24T06:56:00.020408Z",
                    "iopub.status.idle": "2024-09-24T06:56:00.395668Z",
                    "shell.execute_reply": "2024-09-24T06:56:00.394355Z"
                },
                "papermill": {
                    "duration": 0.385189,
                    "end_time": "2024-09-24T06:56:00.398560",
                    "exception": false,
                    "start_time": "2024-09-24T06:56:00.013371",
                    "status": "completed"
                },
                "tags": []
            },
            "outputs": [],
            "source": [
                "# Load raw data\n",
                "\n",
                "# CALENDAR_DATA = pd.read_csv(f\"{RAW_DATA_INPUT_PATH}/calendar.csv\")\n",
                "# SELL_PRICES = pd.read_csv(f\"{RAW_DATA_INPUT_PATH}/sell_prices.csv\")\n",
                "# SALES_TRAIN_EVALUATION = pd.read_csv(f\"{RAW_DATA_INPUT_PATH}/sales_train_evaluation.csv\")\n",
                "\n",
                "SAMPLE_SUBMISSION = pd.read_csv(f\"{RAW_DATA_INPUT_PATH}/sample_submission.csv\")\n",
                "SUBMISSION_INDEX = SAMPLE_SUBMISSION.set_index(\"id\").index\n",
                "VAL_SUBMISSION = SAMPLE_SUBMISSION[SAMPLE_SUBMISSION[\"id\"].str.contains(\"validation\")]\n",
                "EVAL_SUBMISSION = SAMPLE_SUBMISSION[SAMPLE_SUBMISSION[\"id\"].str.contains(\"evaluation\")]"
            ]
        },
        {
            "cell_type": "code",
            "execution_count": 5,
            "id": "5d31a8a9",
            "metadata": {
                "execution": {
                    "iopub.execute_input": "2024-09-24T06:56:00.411901Z",
                    "iopub.status.busy": "2024-09-24T06:56:00.411461Z",
                    "iopub.status.idle": "2024-09-24T06:56:21.046921Z",
                    "shell.execute_reply": "2024-09-24T06:56:21.045828Z"
                },
                "papermill": {
                    "duration": 20.645959,
                    "end_time": "2024-09-24T06:56:21.050273",
                    "exception": false,
                    "start_time": "2024-09-24T06:56:00.404314",
                    "status": "completed"
                },
                "tags": []
            },
            "outputs": [],
            "source": [
                "# Load preprocessed data\n",
                "train_data_set = pd.read_parquet(f\"{PROCESSED_DATA_INPUT_PATH}/m5-acc-train.parquet\")"
            ]
        },
        {
            "cell_type": "code",
            "execution_count": 6,
            "id": "ac942b4f",
            "metadata": {
                "execution": {
                    "iopub.execute_input": "2024-09-24T06:56:21.063627Z",
                    "iopub.status.busy": "2024-09-24T06:56:21.063241Z",
                    "iopub.status.idle": "2024-09-24T06:56:30.823340Z",
                    "shell.execute_reply": "2024-09-24T06:56:30.822297Z"
                },
                "papermill": {
                    "duration": 9.769955,
                    "end_time": "2024-09-24T06:56:30.826053",
                    "exception": false,
                    "start_time": "2024-09-24T06:56:21.056098",
                    "status": "completed"
                },
                "tags": []
            },
            "outputs": [],
            "source": [
                "# Drop any columns that we dont need for training\n",
                "cols_to_drop = [\"av_store_dept_sales\", \"date\", \"wm_yr_wk\"]\n",
                "try:\n",
                "    train_data_set = train_data_set.drop(columns=cols_to_drop)\n",
                "except KeyError:\n",
                "    print(f\"Columns not found in axis. Skipping ...\")\n",
                "\n",
                "_ = gc.collect()"
            ]
        },
        {
            "cell_type": "code",
            "execution_count": 7,
            "id": "9beb87e3",
            "metadata": {
                "execution": {
                    "iopub.execute_input": "2024-09-24T06:56:30.839428Z",
                    "iopub.status.busy": "2024-09-24T06:56:30.839022Z",
                    "iopub.status.idle": "2024-09-24T06:56:50.173489Z",
                    "shell.execute_reply": "2024-09-24T06:56:50.172260Z"
                },
                "papermill": {
                    "duration": 19.344761,
                    "end_time": "2024-09-24T06:56:50.176624",
                    "exception": false,
                    "start_time": "2024-09-24T06:56:30.831863",
                    "status": "completed"
                },
                "tags": []
            },
            "outputs": [
                {
                    "name": "stdout",
                    "output_type": "stream",
                    "text": [
                        "Column wm_yr_wk does not exist. Skipping ...\n"
                    ]
                }
            ],
            "source": [
                "# Cast to lower resolution types to save memory\n",
                "def cast_data_types(dataset: pd.DataFrame) -> pd.DataFrame:\n",
                "    item_category_cols = [\"dept_id\", \"cat_id\", \"store_id\", \"state_id\"]\n",
                "    date_category_cols = [\"wm_yr_wk\", \"weekday\", \"month\", \"year\", \"event_name\", \"event_type\", \"snap_CA\", \"snap_TX\", \"snap_WI\"]\n",
                "    price_category_cols = [\"item_on_sale\"]\n",
                "    for category_col in item_category_cols + date_category_cols + price_category_cols:\n",
                "        try:\n",
                "            dataset[category_col] = dataset[category_col].astype(\"category\")\n",
                "        except KeyError:\n",
                "            print(f\"Column {category_col} does not exist. Skipping ...\")\n",
                "    \n",
                "    int_cols = [\"d\", \"count\"]\n",
                "    for int_col in int_cols:\n",
                "        try:\n",
                "            dataset[int_col] = pd.to_numeric(dataset[int_col], downcast=\"integer\")\n",
                "        except KeyError:\n",
                "            print(f\"Column {int_col} does not exist. Skipping ...\")\n",
                "            \n",
                "    float16_cols = [\"item_id\", \"sell_price\", \"weekday_sin\", \"weekday_cos\", \"month_sin\", \"month_cos\"]\n",
                "    for float_col in float16_cols:\n",
                "        try:\n",
                "            dataset[float_col] = dataset[float_col].astype(np.float16)\n",
                "        except KeyError:\n",
                "            print(f\"Column {int_col} does not exist. Skipping ...\")\n",
                "    \n",
                "    return dataset\n",
                "\n",
                "train_data_set = cast_data_types(train_data_set)"
            ]
        },
        {
            "cell_type": "markdown",
            "id": "561b9b2b",
            "metadata": {
                "papermill": {
                    "duration": 0.005523,
                    "end_time": "2024-09-24T06:56:50.188676",
                    "exception": false,
                    "start_time": "2024-09-24T06:56:50.183153",
                    "status": "completed"
                },
                "tags": []
            },
            "source": [
                "# LightGBM Model"
            ]
        },
        {
            "cell_type": "code",
            "execution_count": 8,
            "id": "a1c282f3",
            "metadata": {
                "execution": {
                    "iopub.execute_input": "2024-09-24T06:56:50.203190Z",
                    "iopub.status.busy": "2024-09-24T06:56:50.202726Z",
                    "iopub.status.idle": "2024-09-24T06:56:50.219080Z",
                    "shell.execute_reply": "2024-09-24T06:56:50.217568Z"
                },
                "papermill": {
                    "duration": 0.027177,
                    "end_time": "2024-09-24T06:56:50.221974",
                    "exception": false,
                    "start_time": "2024-09-24T06:56:50.194797",
                    "status": "completed"
                },
                "tags": []
            },
            "outputs": [],
            "source": [
                "# Rolling window validation\n",
                "\n",
                "def time_series_split(\n",
                "    df: pd.DataFrame,\n",
                "    n_folds: int = 5,\n",
                "    horizon: int = 28,\n",
                "    overlap: int = 0,\n",
                "    max_timestamp: int = MAX_TRAIN_TIMESTAMP,\n",
                "):\n",
                "    min_timestamp = max_timestamp - n_folds * horizon + (n_folds - 1) * overlap\n",
                "    for fold_idx in range(n_folds):\n",
                "        start = min_timestamp + fold_idx * (horizon - overlap)\n",
                "        stop = start + horizon\n",
                "\n",
                "        train_data = df[df[\"d\"] < start]\n",
                "        valid_data = df[(df[\"d\"] >= start) & (df[\"d\"] < stop)]\n",
                "        \n",
                "        print(f\"Fold index: {fold_idx}\")\n",
                "        print(f\"Train idx (start, end): ({train_data['d'].min()}, {train_data['d'].max()})\")\n",
                "        print(f\"Valid idx (start, end): ({valid_data['d'].min()}, {valid_data['d'].max()})\")\n",
                "        print(\"==================\")\n",
                "        \n",
                "        yield train_data, valid_data\n",
                "        \n",
                "        \n",
                "def train_predict_score(\n",
                "    X_train: pd.DataFrame,\n",
                "    y_train: pd.Series,\n",
                "    X_test: pd.DataFrame,\n",
                "    y_test: pd.Series,\n",
                "    train_parameters: dict,\n",
                "    dataset_parameters: dict | None = None,\n",
                ") -> tuple[float, float]:\n",
                "    dataset_parameters = dataset_parameters or {}\n",
                "    train_data = lgbm.Dataset(data=X_train, label=y_train, **dataset_parameters)\n",
                "    valid_data = lgbm.Dataset(data=X_test, label=y_test, **dataset_parameters)\n",
                "    model = lgbm.train(\n",
                "        train_parameters,\n",
                "        num_boost_round=3000,\n",
                "        train_set=train_data,\n",
                "        valid_sets=[valid_data],\n",
                "        callbacks=[\n",
                "            lgbm.early_stopping(stopping_rounds=5),\n",
                "            lgbm.log_evaluation(period=10),\n",
                "        ]\n",
                "    )\n",
                "    \n",
                "    y_hat = model.predict(X_test)\n",
                "    y_hat = np.clip(np.round(y_hat), a_min=0, a_max=np.inf)\n",
                "    y_hat = y_hat.astype(np.int32)\n",
                "    rmse = np.sqrt(np.mean((y_test - y_hat) ** 2))\n",
                "\n",
                "    return rmse, model.best_iteration"
            ]
        },
        {
            "cell_type": "code",
            "execution_count": 9,
            "id": "cf0c7465",
            "metadata": {
                "execution": {
                    "iopub.execute_input": "2024-09-24T06:56:50.236683Z",
                    "iopub.status.busy": "2024-09-24T06:56:50.235203Z",
                    "iopub.status.idle": "2024-09-24T06:56:50.244847Z",
                    "shell.execute_reply": "2024-09-24T06:56:50.243657Z"
                },
                "papermill": {
                    "duration": 0.019661,
                    "end_time": "2024-09-24T06:56:50.247621",
                    "exception": false,
                    "start_time": "2024-09-24T06:56:50.227960",
                    "status": "completed"
                },
                "tags": []
            },
            "outputs": [],
            "source": [
                "CATEGORICAL_FEATURES = [\n",
                "    \"dept_id\",\n",
                "    \"cat_id\",\n",
                "    \"store_id\",\n",
                "    \"state_id\",\n",
                "    \"year\",\n",
                "    \"event_name\",\n",
                "    \"event_type\",\n",
                "    \"snap_CA\",\n",
                "    \"snap_TX\",\n",
                "    \"snap_WI\",\n",
                "    \"item_on_sale\",\n",
                "]\n",
                "CONTINOUS_FEATURES = [\n",
                "    \"item_id\",\n",
                "    \"weekday_sin\",\n",
                "    \"weekday_cos\",\n",
                "    \"month_sin\",\n",
                "    \"month_cos\",\n",
                "    \"sell_price\",\n",
                "    \"sell_price_diff_1\",\n",
                "    \"sell_price_diff_2\",\n",
                "    \"sell_price_diff_3\",\n",
                "    \"sell_price_diff_7\",\n",
                "#     \"av_item_state_sell_price\",\n",
                "#     \"av_dept_state_sell_price\",\n",
                "    \"count_lag_28\",\n",
                "    \"count_lag_29\",\n",
                "    \"count_lag_30\",\n",
                "    \"count_lag_31\",\n",
                "    \"av_store_dept_sales_lag_28\",\n",
                "    \"av_store_dept_sales_lag_29\",\n",
                "    \"av_store_dept_sales_lag_30\",\n",
                "    \"av_store_dept_sales_lag_31\"\n",
                "]\n",
                "FEATURES = CATEGORICAL_FEATURES + CONTINOUS_FEATURES\n",
                "LABEL = \"count\"\n",
                "\n",
                "# Parameters\n",
                "DATASET_PARAMETERS = {}\n",
                "TRAIN_PARAMETERS = {\n",
                "    \"objective\": \"tweedie\",\n",
                "    \"learning_rate\": 0.05,\n",
                "    \"num_leaves\": 2 ** 7 - 1,\n",
                "    \"max_bin\": 2 ** 7 - 1,\n",
                "    \"metric\": \"rmse\",\n",
                "    \"force_col_wise\": True,\n",
                "}"
            ]
        },
        {
            "cell_type": "code",
            "execution_count": 10,
            "id": "38097af8",
            "metadata": {
                "execution": {
                    "iopub.execute_input": "2024-09-24T06:56:50.261169Z",
                    "iopub.status.busy": "2024-09-24T06:56:50.260728Z",
                    "iopub.status.idle": "2024-09-24T09:41:33.319630Z",
                    "shell.execute_reply": "2024-09-24T09:41:33.316106Z"
                },
                "papermill": {
                    "duration": 9883.070907,
                    "end_time": "2024-09-24T09:41:33.324451",
                    "exception": false,
                    "start_time": "2024-09-24T06:56:50.253544",
                    "status": "completed"
                },
                "tags": []
            },
            "outputs": [
                {
                    "name": "stderr",
                    "output_type": "stream",
                    "text": [
                        "  0%|          | 0/5 [00:00<?, ?it/s]"
                    ]
                },
                {
                    "name": "stdout",
                    "output_type": "stream",
                    "text": [
                        "Fold index: 0\n",
                        "Train idx (start, end): (1, 1800)\n",
                        "Valid idx (start, end): (1801, 1828)\n",
                        "==================\n",
                        "[LightGBM] [Info] Total Bins 1664\n",
                        "[LightGBM] [Info] Number of data points in the train set: 54882000, number of used features: 29\n",
                        "[LightGBM] [Info] Start training from score 0.106051\n",
                        "Training until validation scores don't improve for 5 rounds\n",
                        "[10]\tvalid_0's rmse: 3.23551\n",
                        "[20]\tvalid_0's rmse: 3.05209\n",
                        "[30]\tvalid_0's rmse: 2.87331\n",
                        "[40]\tvalid_0's rmse: 2.72877\n",
                        "[50]\tvalid_0's rmse: 2.63391\n",
                        "[60]\tvalid_0's rmse: 2.58194\n",
                        "[70]\tvalid_0's rmse: 2.55349\n",
                        "[80]\tvalid_0's rmse: 2.54434\n",
                        "[90]\tvalid_0's rmse: 2.53961\n",
                        "[100]\tvalid_0's rmse: 2.53472\n",
                        "[110]\tvalid_0's rmse: 2.53274\n",
                        "[120]\tvalid_0's rmse: 2.52919\n",
                        "[130]\tvalid_0's rmse: 2.52682\n",
                        "[140]\tvalid_0's rmse: 2.52485\n",
                        "[150]\tvalid_0's rmse: 2.52358\n",
                        "[160]\tvalid_0's rmse: 2.52163\n",
                        "[170]\tvalid_0's rmse: 2.51882\n",
                        "[180]\tvalid_0's rmse: 2.51725\n",
                        "[190]\tvalid_0's rmse: 2.51556\n",
                        "[200]\tvalid_0's rmse: 2.51137\n",
                        "[210]\tvalid_0's rmse: 2.5078\n",
                        "[220]\tvalid_0's rmse: 2.50636\n",
                        "[230]\tvalid_0's rmse: 2.5042\n",
                        "[240]\tvalid_0's rmse: 2.50345\n",
                        "[250]\tvalid_0's rmse: 2.50241\n",
                        "[260]\tvalid_0's rmse: 2.50037\n",
                        "[270]\tvalid_0's rmse: 2.49938\n",
                        "[280]\tvalid_0's rmse: 2.49866\n",
                        "[290]\tvalid_0's rmse: 2.49765\n",
                        "[300]\tvalid_0's rmse: 2.49665\n",
                        "[310]\tvalid_0's rmse: 2.49563\n",
                        "[320]\tvalid_0's rmse: 2.4939\n",
                        "[330]\tvalid_0's rmse: 2.49221\n",
                        "[340]\tvalid_0's rmse: 2.49077\n",
                        "[350]\tvalid_0's rmse: 2.4896\n",
                        "[360]\tvalid_0's rmse: 2.48801\n",
                        "[370]\tvalid_0's rmse: 2.48745\n",
                        "[380]\tvalid_0's rmse: 2.48526\n",
                        "[390]\tvalid_0's rmse: 2.48438\n",
                        "[400]\tvalid_0's rmse: 2.48373\n",
                        "[410]\tvalid_0's rmse: 2.48255\n",
                        "[420]\tvalid_0's rmse: 2.48171\n",
                        "[430]\tvalid_0's rmse: 2.4815\n",
                        "[440]\tvalid_0's rmse: 2.48031\n",
                        "[450]\tvalid_0's rmse: 2.47964\n",
                        "[460]\tvalid_0's rmse: 2.47901\n",
                        "[470]\tvalid_0's rmse: 2.47638\n",
                        "[480]\tvalid_0's rmse: 2.47603\n",
                        "[490]\tvalid_0's rmse: 2.4755\n",
                        "[500]\tvalid_0's rmse: 2.47432\n",
                        "[510]\tvalid_0's rmse: 2.47364\n",
                        "[520]\tvalid_0's rmse: 2.4733\n",
                        "[530]\tvalid_0's rmse: 2.47248\n",
                        "[540]\tvalid_0's rmse: 2.47174\n",
                        "[550]\tvalid_0's rmse: 2.47116\n",
                        "[560]\tvalid_0's rmse: 2.47095\n",
                        "[570]\tvalid_0's rmse: 2.47073\n",
                        "[580]\tvalid_0's rmse: 2.47036\n",
                        "[590]\tvalid_0's rmse: 2.4701\n",
                        "[600]\tvalid_0's rmse: 2.46982\n",
                        "[610]\tvalid_0's rmse: 2.4691\n",
                        "[620]\tvalid_0's rmse: 2.46836\n",
                        "[630]\tvalid_0's rmse: 2.46776\n",
                        "[640]\tvalid_0's rmse: 2.46773\n",
                        "Early stopping, best iteration is:\n",
                        "[636]\tvalid_0's rmse: 2.46749\n"
                    ]
                },
                {
                    "name": "stderr",
                    "output_type": "stream",
                    "text": [
                        " 20%|██        | 1/5 [59:18<3:57:14, 3558.60s/it]"
                    ]
                },
                {
                    "name": "stdout",
                    "output_type": "stream",
                    "text": [
                        "Fold index: 1\n",
                        "Train idx (start, end): (1, 1828)\n",
                        "Valid idx (start, end): (1829, 1856)\n",
                        "==================\n",
                        "[LightGBM] [Info] Total Bins 1670\n",
                        "[LightGBM] [Info] Number of data points in the train set: 55735720, number of used features: 29\n",
                        "[LightGBM] [Info] Start training from score 0.108273\n",
                        "Training until validation scores don't improve for 5 rounds\n",
                        "[10]\tvalid_0's rmse: 3.52227\n",
                        "[20]\tvalid_0's rmse: 3.30238\n",
                        "[30]\tvalid_0's rmse: 3.06667\n",
                        "[40]\tvalid_0's rmse: 2.8552\n",
                        "[50]\tvalid_0's rmse: 2.69645\n",
                        "[60]\tvalid_0's rmse: 2.59224\n",
                        "[70]\tvalid_0's rmse: 2.52889\n",
                        "[80]\tvalid_0's rmse: 2.49289\n",
                        "[90]\tvalid_0's rmse: 2.47332\n",
                        "[100]\tvalid_0's rmse: 2.46043\n",
                        "[110]\tvalid_0's rmse: 2.45362\n",
                        "[120]\tvalid_0's rmse: 2.4481\n",
                        "[130]\tvalid_0's rmse: 2.44278\n",
                        "[140]\tvalid_0's rmse: 2.43749\n",
                        "[150]\tvalid_0's rmse: 2.43322\n",
                        "[160]\tvalid_0's rmse: 2.43026\n",
                        "[170]\tvalid_0's rmse: 2.42848\n",
                        "[180]\tvalid_0's rmse: 2.42648\n",
                        "[190]\tvalid_0's rmse: 2.42448\n",
                        "[200]\tvalid_0's rmse: 2.42453\n",
                        "Early stopping, best iteration is:\n",
                        "[195]\tvalid_0's rmse: 2.42357\n"
                    ]
                },
                {
                    "name": "stderr",
                    "output_type": "stream",
                    "text": [
                        " 40%|████      | 2/5 [1:25:12<1:58:57, 2379.15s/it]"
                    ]
                },
                {
                    "name": "stdout",
                    "output_type": "stream",
                    "text": [
                        "Fold index: 2\n",
                        "Train idx (start, end): (1, 1856)\n",
                        "Valid idx (start, end): (1857, 1884)\n",
                        "==================\n",
                        "[LightGBM] [Info] Total Bins 1655\n",
                        "[LightGBM] [Info] Number of data points in the train set: 56589440, number of used features: 29\n",
                        "[LightGBM] [Info] Start training from score 0.111823\n",
                        "Training until validation scores don't improve for 5 rounds\n",
                        "[10]\tvalid_0's rmse: 3.43877\n",
                        "[20]\tvalid_0's rmse: 3.2076\n",
                        "[30]\tvalid_0's rmse: 2.95816\n",
                        "[40]\tvalid_0's rmse: 2.73505\n",
                        "[50]\tvalid_0's rmse: 2.57387\n",
                        "[60]\tvalid_0's rmse: 2.47475\n",
                        "[70]\tvalid_0's rmse: 2.42104\n",
                        "[80]\tvalid_0's rmse: 2.39369\n",
                        "[90]\tvalid_0's rmse: 2.38\n",
                        "[100]\tvalid_0's rmse: 2.37194\n",
                        "[110]\tvalid_0's rmse: 2.36503\n",
                        "[120]\tvalid_0's rmse: 2.36135\n",
                        "[130]\tvalid_0's rmse: 2.35899\n",
                        "[140]\tvalid_0's rmse: 2.35531\n",
                        "[150]\tvalid_0's rmse: 2.35338\n",
                        "Early stopping, best iteration is:\n",
                        "[154]\tvalid_0's rmse: 2.35273\n"
                    ]
                },
                {
                    "name": "stderr",
                    "output_type": "stream",
                    "text": [
                        " 60%|██████    | 3/5 [1:46:50<1:02:51, 1885.75s/it]"
                    ]
                },
                {
                    "name": "stdout",
                    "output_type": "stream",
                    "text": [
                        "Fold index: 3\n",
                        "Train idx (start, end): (1, 1884)\n",
                        "Valid idx (start, end): (1885, 1912)\n",
                        "==================\n",
                        "[LightGBM] [Info] Total Bins 1667\n",
                        "[LightGBM] [Info] Number of data points in the train set: 57443160, number of used features: 29\n",
                        "[LightGBM] [Info] Start training from score 0.115333\n",
                        "Training until validation scores don't improve for 5 rounds\n",
                        "[10]\tvalid_0's rmse: 3.43339\n",
                        "[20]\tvalid_0's rmse: 3.20278\n",
                        "[30]\tvalid_0's rmse: 2.95198\n",
                        "[40]\tvalid_0's rmse: 2.7254\n",
                        "[50]\tvalid_0's rmse: 2.55809\n",
                        "[60]\tvalid_0's rmse: 2.45083\n",
                        "[70]\tvalid_0's rmse: 2.39007\n",
                        "[80]\tvalid_0's rmse: 2.35695\n",
                        "[90]\tvalid_0's rmse: 2.33834\n",
                        "[100]\tvalid_0's rmse: 2.32781\n",
                        "[110]\tvalid_0's rmse: 2.32054\n",
                        "[120]\tvalid_0's rmse: 2.31565\n",
                        "[130]\tvalid_0's rmse: 2.31194\n",
                        "[140]\tvalid_0's rmse: 2.30893\n",
                        "[150]\tvalid_0's rmse: 2.30636\n",
                        "[160]\tvalid_0's rmse: 2.30432\n",
                        "[170]\tvalid_0's rmse: 2.30293\n",
                        "[180]\tvalid_0's rmse: 2.30175\n",
                        "[190]\tvalid_0's rmse: 2.30119\n",
                        "[200]\tvalid_0's rmse: 2.29919\n",
                        "[210]\tvalid_0's rmse: 2.29683\n",
                        "[220]\tvalid_0's rmse: 2.2947\n",
                        "[230]\tvalid_0's rmse: 2.29407\n",
                        "[240]\tvalid_0's rmse: 2.2911\n",
                        "[250]\tvalid_0's rmse: 2.29056\n",
                        "[260]\tvalid_0's rmse: 2.28903\n",
                        "[270]\tvalid_0's rmse: 2.28773\n",
                        "Early stopping, best iteration is:\n",
                        "[272]\tvalid_0's rmse: 2.28745\n"
                    ]
                },
                {
                    "name": "stderr",
                    "output_type": "stream",
                    "text": [
                        " 80%|████████  | 4/5 [2:20:27<32:17, 1937.44s/it]  "
                    ]
                },
                {
                    "name": "stdout",
                    "output_type": "stream",
                    "text": [
                        "Fold index: 4\n",
                        "Train idx (start, end): (1, 1912)\n",
                        "Valid idx (start, end): (1913, 1940)\n",
                        "==================\n",
                        "[LightGBM] [Info] Total Bins 1677\n",
                        "[LightGBM] [Info] Number of data points in the train set: 58296880, number of used features: 29\n",
                        "[LightGBM] [Info] Start training from score 0.118722\n",
                        "Training until validation scores don't improve for 5 rounds\n",
                        "[10]\tvalid_0's rmse: 3.43512\n",
                        "[20]\tvalid_0's rmse: 3.20142\n",
                        "[30]\tvalid_0's rmse: 2.94567\n",
                        "[40]\tvalid_0's rmse: 2.71377\n",
                        "[50]\tvalid_0's rmse: 2.5427\n",
                        "[60]\tvalid_0's rmse: 2.43461\n",
                        "[70]\tvalid_0's rmse: 2.37436\n",
                        "[80]\tvalid_0's rmse: 2.34112\n",
                        "[90]\tvalid_0's rmse: 2.32193\n",
                        "[100]\tvalid_0's rmse: 2.31274\n",
                        "[110]\tvalid_0's rmse: 2.30513\n",
                        "[120]\tvalid_0's rmse: 2.30081\n",
                        "[130]\tvalid_0's rmse: 2.29789\n",
                        "[140]\tvalid_0's rmse: 2.29458\n",
                        "[150]\tvalid_0's rmse: 2.29316\n",
                        "[160]\tvalid_0's rmse: 2.29198\n",
                        "[170]\tvalid_0's rmse: 2.29191\n",
                        "Early stopping, best iteration is:\n",
                        "[166]\tvalid_0's rmse: 2.2915\n"
                    ]
                },
                {
                    "name": "stderr",
                    "output_type": "stream",
                    "text": [
                        "100%|██████████| 5/5 [2:44:43<00:00, 1976.61s/it]\n"
                    ]
                }
            ],
            "source": [
                "if not SUBMISSION_RUN:\n",
                "    scores = []\n",
                "    best_iterations = []\n",
                "    \n",
                "    for train, valid in tqdm(time_series_split(train_data_set, n_folds=5), total=5):\n",
                "    \n",
                "        X_train, y_train = train[FEATURES], train[LABEL]\n",
                "        X_test, y_test = valid[FEATURES], valid[LABEL]\n",
                "        score, best_iter = train_predict_score(\n",
                "            X_train=X_train,\n",
                "            y_train=y_train,\n",
                "            X_test=X_test,\n",
                "            y_test=y_test,\n",
                "            train_parameters=TRAIN_PARAMETERS,\n",
                "            dataset_parameters=DATASET_PARAMETERS,\n",
                "        )\n",
                "        scores.append(score)\n",
                "        best_iterations.append(best_iter)\n",
                "    \n",
                "    cv_results = {\n",
                "        \"scores\": scores,\n",
                "        \"mean_score\": np.mean(scores),\n",
                "        \"std_score\": np.std(scores),\n",
                "        \"best_iterations\": best_iterations,\n",
                "        \"mean_best_iteration\": np.mean(best_iterations)\n",
                "    }\n",
                "    \n",
                "    with open(f\"{OUTPUT_BASE_BATH}/cv_results.json\", \"w\") as f:\n",
                "        json.dump(cv_results, f)\n",
                "    \n",
                "else:\n",
                "    train_data = lgbm.Dataset(data=data[FEATURES], label=data[LABEL], **DATASET_PARAMETERS)\n",
                "    model = lgbm.train(\n",
                "        TRAIN_PARAMETERS,\n",
                "        num_boost_round=400,\n",
                "        train_set=train_data,\n",
                "    )"
            ]
        },
        {
            "cell_type": "markdown",
            "id": "e87bf63c",
            "metadata": {
                "papermill": {
                    "duration": 0.022672,
                    "end_time": "2024-09-24T09:41:33.370170",
                    "exception": false,
                    "start_time": "2024-09-24T09:41:33.347498",
                    "status": "completed"
                },
                "tags": []
            },
            "source": [
                "# Forecast & Submit"
            ]
        },
        {
            "cell_type": "code",
            "execution_count": 11,
            "id": "6ccc6253",
            "metadata": {
                "execution": {
                    "iopub.execute_input": "2024-09-24T09:41:33.421301Z",
                    "iopub.status.busy": "2024-09-24T09:41:33.420682Z",
                    "iopub.status.idle": "2024-09-24T09:41:33.442881Z",
                    "shell.execute_reply": "2024-09-24T09:41:33.441329Z"
                },
                "papermill": {
                    "duration": 0.052581,
                    "end_time": "2024-09-24T09:41:33.445959",
                    "exception": false,
                    "start_time": "2024-09-24T09:41:33.393378",
                    "status": "completed"
                },
                "tags": []
            },
            "outputs": [],
            "source": [
                "def construct_test_df(\n",
                "    d_start: int,\n",
                "    d_end: int,\n",
                "    item_category_df: pd.DataFrame,\n",
                "    calendar_df: pd.DataFrame,\n",
                "    price_df: pd.DataFrame,\n",
                ") -> pd.DataFrame:\n",
                "    \n",
                "    d_range = list(range(d_start, d_end + 1))\n",
                "    d_range_df = pd.DataFrame(d_range, columns=[\"d\"])\n",
                "    test_df = pd.merge(item_id_categories, d_range_df, how=\"cross\")\n",
                "    test_df = merge_sales_and_calendar_data(test_df, calendar_df)\n",
                "    test_df = merge_sales_and_price_data(test_df, price_df)\n",
                "    return test_df\n",
                "\n",
                "def map_test_df_columns(test_df: pd.DataFrame) -> pd.DataFrame:\n",
                "    test_df[\"item_id\"] = test_df[\"item_id\"].map(item_id_map)\n",
                "    test_df[\"dept_id\"] = test_df[\"dept_id\"].map(dept_id_map)\n",
                "    test_df[\"cat_id\"] = test_df[\"cat_id\"].map(cat_id_map)\n",
                "    test_df[\"store_id\"] = test_df[\"store_id\"].map(store_id_map)\n",
                "    test_df[\"state_id\"] = test_df[\"state_id\"].map(state_id_map)\n",
                "    test_df[\"event_name\"] = test_df[\"event_name\"].map(event_name_map)\n",
                "    test_df[\"event_type\"] = test_df[\"event_type\"].map(event_type_map)\n",
                "    return test_df\n",
                "\n",
                "def pivot_forecast_df(X_test: pd.DataFrame, y_hat: np.ndarray) -> pd.DataFrame:\n",
                "    forecast_df = pd.concat([X_test, pd.DataFrame(y_hat, columns=[\"count\"])], axis=1)\n",
                "    forecast_df = forecast_df.pivot(columns=\"d\", index=\"id\", values=\"count\").sort_index(axis=1)\n",
                "    forecast_df = forecast_df.rename_axis(None, axis=1).reset_index()\n",
                "    return forecast_df\n",
                "\n",
                "def rename_forecast_columns(forecast_df: pd.DataFrame, forecast_horizon: int = 28) -> pd.DataFrame:\n",
                "    forecast_df = forecast_df.set_index(\"id\")\n",
                "    forecast_df.columns = [f\"F{i}\" for i in range(1, forecast_horizon + 1)]\n",
                "    return forecast_df.reset_index()"
            ]
        },
        {
            "cell_type": "code",
            "execution_count": 12,
            "id": "dd5b435a",
            "metadata": {
                "execution": {
                    "iopub.execute_input": "2024-09-24T09:41:33.493189Z",
                    "iopub.status.busy": "2024-09-24T09:41:33.492725Z",
                    "iopub.status.idle": "2024-09-24T09:41:33.504331Z",
                    "shell.execute_reply": "2024-09-24T09:41:33.503077Z"
                },
                "papermill": {
                    "duration": 0.038623,
                    "end_time": "2024-09-24T09:41:33.507304",
                    "exception": false,
                    "start_time": "2024-09-24T09:41:33.468681",
                    "status": "completed"
                },
                "tags": []
            },
            "outputs": [],
            "source": [
                "if SUBMISSION_RUN:\n",
                "    test_d_start, test_d_end = 1942, 1969\n",
                "    test_df = construct_test_df(\n",
                "        d_start=test_d_start,\n",
                "        d_end=test_d_end,\n",
                "        item_category_df=item_id_categories,\n",
                "        calendar_df=calendar_df,\n",
                "        price_df=price_df,\n",
                "    )\n",
                "    test_df = map_test_df_columns(test_df)\n",
                "    test_df = cast_types(test_df)\n",
                "\n",
                "    y_hat = model.predict(test_df[FEATURES])\n",
                "    y_hat = np.clip(np.round(y_hat), a_min=0, a_max=np.inf)\n",
                "    y_hat = y_hat.astype(np.int32)\n",
                "\n",
                "    forecast_df = pivot_forecast_df(test_df, y_hat)\n",
                "    forecast_df = rename_forecast_columns(forecast_df)\n",
                "    \n",
                "    # Merge with sample submissions\n",
                "    EVAL_SUBMISSION = EVAL_SUBMISSION[[\"id\"]].merge(forecast_df, on=\"id\", how=\"left\")\n",
                "    FINAL_SUBMISSIONS = pd.concat([VAL_SUBMISSION, EVAL_SUBMISSION])\n",
                "    FINAL_SUBMISSIONS = FINAL_SUBMISSIONS.set_index(\"id\").reindex(SUBMISSION_INDEX).reset_index()\n",
                "    \n",
                "    FINAL_SUBMISSIONS.to_csv(f\"{OUTPUT_BASE_BATH}/submission.csv\", index=False)\n",
                "    "
            ]
        }
    ],
    "metadata": {
        "kaggle": {
            "accelerator": "none",
            "dataSources": [
                {
                    "databundleVersionId": 1236839,
                    "sourceId": 18599,
                    "sourceType": "competition"
                },
                {
                    "databundleVersionId": 9676366,
                    "datasetId": 5684895,
                    "sourceId": 9467934,
                    "sourceType": "datasetVersion"
                }
            ],
            "dockerImageVersionId": 30746,
            "isGpuEnabled": false,
            "isInternetEnabled": true,
            "language": "python",
            "sourceType": "notebook"
        },
        "kernelspec": {
            "display_name": "Python 3",
            "language": "python",
            "name": "python3"
        },
        "language_info": {
            "codemirror_mode": {
                "name": "ipython",
                "version": 3
            },
            "file_extension": ".py",
            "mimetype": "text/x-python",
            "name": "python",
            "nbconvert_exporter": "python",
            "pygments_lexer": "ipython3",
            "version": "3.10.13"
        },
        "papermill": {
            "default_parameters": {},
            "duration": 9942.729227,
            "end_time": "2024-09-24T09:41:35.194205",
            "environment_variables": {},
            "exception": null,
            "input_path": "__notebook__.ipynb",
            "output_path": "__notebook__.ipynb",
            "parameters": {},
            "start_time": "2024-09-24T06:55:52.464978",
            "version": "2.5.0"
        }
    },
    "nbformat": 4,
    "nbformat_minor": 5
}