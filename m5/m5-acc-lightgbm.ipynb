{
    "cells": [
        {
            "cell_type": "code",
            "execution_count": 1,
            "id": "80fe4215",
            "metadata": {
                "_cell_guid": "b1076dfc-b9ad-4769-8c92-a6c4dae69d19",
                "_uuid": "8f2839f25d086af736a60e9eeb907d3b93b6e0e5",
                "execution": {
                    "iopub.execute_input": "2024-09-25T07:49:20.273348Z",
                    "iopub.status.busy": "2024-09-25T07:49:20.272939Z",
                    "iopub.status.idle": "2024-09-25T07:49:23.867526Z",
                    "shell.execute_reply": "2024-09-25T07:49:23.866129Z"
                },
                "papermill": {
                    "duration": 3.60376,
                    "end_time": "2024-09-25T07:49:23.870245",
                    "exception": false,
                    "start_time": "2024-09-25T07:49:20.266485",
                    "status": "completed"
                },
                "tags": []
            },
            "outputs": [],
            "source": [
                "import json\n",
                "import gc\n",
                "\n",
                "import matplotlib.pyplot as plt\n",
                "from matplotlib.pyplot import cm\n",
                "import numpy as np\n",
                "import pandas as pd\n",
                "from tqdm import tqdm\n",
                "\n",
                "import lightgbm as lgbm"
            ]
        },
        {
            "cell_type": "code",
            "execution_count": 2,
            "id": "f324a971",
            "metadata": {
                "execution": {
                    "iopub.execute_input": "2024-09-25T07:49:23.881216Z",
                    "iopub.status.busy": "2024-09-25T07:49:23.880644Z",
                    "iopub.status.idle": "2024-09-25T07:49:23.886190Z",
                    "shell.execute_reply": "2024-09-25T07:49:23.884896Z"
                },
                "papermill": {
                    "duration": 0.013891,
                    "end_time": "2024-09-25T07:49:23.888622",
                    "exception": false,
                    "start_time": "2024-09-25T07:49:23.874731",
                    "status": "completed"
                },
                "tags": []
            },
            "outputs": [],
            "source": [
                "SUBMISSION_RUN = False"
            ]
        },
        {
            "cell_type": "code",
            "execution_count": 3,
            "id": "4c797cac",
            "metadata": {
                "execution": {
                    "iopub.execute_input": "2024-09-25T07:49:23.899085Z",
                    "iopub.status.busy": "2024-09-25T07:49:23.898339Z",
                    "iopub.status.idle": "2024-09-25T07:49:23.904380Z",
                    "shell.execute_reply": "2024-09-25T07:49:23.903241Z"
                },
                "papermill": {
                    "duration": 0.013767,
                    "end_time": "2024-09-25T07:49:23.906621",
                    "exception": false,
                    "start_time": "2024-09-25T07:49:23.892854",
                    "status": "completed"
                },
                "tags": []
            },
            "outputs": [],
            "source": [
                "# Constants\n",
                "\n",
                "# Paths\n",
                "INPUT_BASE_PATH = \"/kaggle/input/\"\n",
                "RAW_DATA_INPUT_PATH = f\"{INPUT_BASE_PATH}/m5-forecasting-accuracy\"\n",
                "PROCESSED_DATA_INPUT_PATH = f\"{INPUT_BASE_PATH}/m5-acc\"\n",
                "OUTPUT_BASE_BATH = \"/kaggle/working\"\n",
                "\n",
                "# Timestamps\n",
                "MAX_TRAIN_TIMESTAMP = 1941\n",
                "START_TEST_TIMESTAMP = 1942\n",
                "START_TEST_WM_YR_WK = 11617"
            ]
        },
        {
            "cell_type": "markdown",
            "id": "9081f8f4",
            "metadata": {
                "papermill": {
                    "duration": 0.00393,
                    "end_time": "2024-09-25T07:49:23.914936",
                    "exception": false,
                    "start_time": "2024-09-25T07:49:23.911006",
                    "status": "completed"
                },
                "tags": []
            },
            "source": [
                "# Data Input"
            ]
        },
        {
            "cell_type": "code",
            "execution_count": 4,
            "id": "a128433d",
            "metadata": {
                "execution": {
                    "iopub.execute_input": "2024-09-25T07:49:23.925167Z",
                    "iopub.status.busy": "2024-09-25T07:49:23.924741Z",
                    "iopub.status.idle": "2024-09-25T07:49:24.235064Z",
                    "shell.execute_reply": "2024-09-25T07:49:24.233879Z"
                },
                "papermill": {
                    "duration": 0.318692,
                    "end_time": "2024-09-25T07:49:24.237756",
                    "exception": false,
                    "start_time": "2024-09-25T07:49:23.919064",
                    "status": "completed"
                },
                "tags": []
            },
            "outputs": [],
            "source": [
                "# Load raw data\n",
                "\n",
                "# CALENDAR_DATA = pd.read_csv(f\"{RAW_DATA_INPUT_PATH}/calendar.csv\")\n",
                "# SELL_PRICES = pd.read_csv(f\"{RAW_DATA_INPUT_PATH}/sell_prices.csv\")\n",
                "# SALES_TRAIN_EVALUATION = pd.read_csv(f\"{RAW_DATA_INPUT_PATH}/sales_train_evaluation.csv\")\n",
                "\n",
                "SAMPLE_SUBMISSION = pd.read_csv(f\"{RAW_DATA_INPUT_PATH}/sample_submission.csv\")\n",
                "SUBMISSION_INDEX = SAMPLE_SUBMISSION.set_index(\"id\").index\n",
                "VAL_SUBMISSION = SAMPLE_SUBMISSION[SAMPLE_SUBMISSION[\"id\"].str.contains(\"validation\")]\n",
                "EVAL_SUBMISSION = SAMPLE_SUBMISSION[SAMPLE_SUBMISSION[\"id\"].str.contains(\"evaluation\")]"
            ]
        },
        {
            "cell_type": "code",
            "execution_count": 5,
            "id": "7f139685",
            "metadata": {
                "execution": {
                    "iopub.execute_input": "2024-09-25T07:49:24.248544Z",
                    "iopub.status.busy": "2024-09-25T07:49:24.248179Z",
                    "iopub.status.idle": "2024-09-25T07:49:43.539976Z",
                    "shell.execute_reply": "2024-09-25T07:49:43.538802Z"
                },
                "papermill": {
                    "duration": 19.300968,
                    "end_time": "2024-09-25T07:49:43.542931",
                    "exception": false,
                    "start_time": "2024-09-25T07:49:24.241963",
                    "status": "completed"
                },
                "tags": []
            },
            "outputs": [],
            "source": [
                "# Load preprocessed data\n",
                "train_data_set = pd.read_parquet(f\"{PROCESSED_DATA_INPUT_PATH}/m5-acc-train.parquet\")"
            ]
        },
        {
            "cell_type": "code",
            "execution_count": 6,
            "id": "92073198",
            "metadata": {
                "execution": {
                    "iopub.execute_input": "2024-09-25T07:49:43.553594Z",
                    "iopub.status.busy": "2024-09-25T07:49:43.553207Z",
                    "iopub.status.idle": "2024-09-25T07:49:49.996841Z",
                    "shell.execute_reply": "2024-09-25T07:49:49.995597Z"
                },
                "papermill": {
                    "duration": 6.451859,
                    "end_time": "2024-09-25T07:49:49.999366",
                    "exception": false,
                    "start_time": "2024-09-25T07:49:43.547507",
                    "status": "completed"
                },
                "tags": []
            },
            "outputs": [],
            "source": [
                "# Drop any columns that we dont need for training\n",
                "cols_to_drop = [\"av_store_dept_sales\", \"date\", \"wm_yr_wk\"]\n",
                "try:\n",
                "    train_data_set = train_data_set.drop(columns=cols_to_drop)\n",
                "except KeyError:\n",
                "    print(f\"Columns not found in axis. Skipping ...\")\n",
                "\n",
                "_ = gc.collect()"
            ]
        },
        {
            "cell_type": "code",
            "execution_count": null,
            "id": "acb43f21",
            "metadata": {
                "execution": {
                    "iopub.execute_input": "2024-09-25T07:49:50.009599Z",
                    "iopub.status.busy": "2024-09-25T07:49:50.009199Z",
                    "iopub.status.idle": "2024-09-25T07:50:06.861765Z",
                    "shell.execute_reply": "2024-09-25T07:50:06.860596Z"
                },
                "papermill": {
                    "duration": 16.860863,
                    "end_time": "2024-09-25T07:50:06.864487",
                    "exception": false,
                    "start_time": "2024-09-25T07:49:50.003624",
                    "status": "completed"
                },
                "tags": []
            },
            "outputs": [],
            "source": [
                "# Cast to lower resolution types to save memory\n",
                "def cast_data_types(dataset: pd.DataFrame) -> pd.DataFrame:\n",
                "    item_category_cols = [\"dept_id\", \"cat_id\", \"store_id\", \"state_id\"]\n",
                "    date_category_cols = [\"wm_yr_wk\", \"weekday\", \"month\", \"year\", \"event_name\", \"event_type\", \"snap_CA\", \"snap_TX\", \"snap_WI\"]\n",
                "    price_category_cols = [\"item_on_sale\"]\n",
                "    for category_col in item_category_cols + date_category_cols + price_category_cols:\n",
                "        try:\n",
                "            dataset[category_col] = dataset[category_col].astype(\"category\")\n",
                "        except KeyError:\n",
                "            print(f\"Column {category_col} does not exist. Skipping ...\")\n",
                "    \n",
                "    int_cols = [\"d\", \"count\"]\n",
                "    for int_col in int_cols:\n",
                "        try:\n",
                "            dataset[int_col] = pd.to_numeric(dataset[int_col], downcast=\"integer\")\n",
                "        except KeyError:\n",
                "            print(f\"Column {int_col} does not exist. Skipping ...\")\n",
                "            \n",
                "    float16_cols = [\"item_id\", \"sell_price\", \"weekday_sin\", \"weekday_cos\", \"month_sin\", \"month_cos\"]\n",
                "    for float_col in float16_cols:\n",
                "        try:\n",
                "            dataset[float_col] = dataset[float_col].astype(np.float16)\n",
                "        except KeyError:\n",
                "            print(f\"Column {int_col} does not exist. Skipping ...\")\n",
                "    \n",
                "    return dataset\n",
                "\n",
                "train_data_set = cast_data_types(train_data_set)"
            ]
        },
        {
            "cell_type": "markdown",
            "id": "d371ab73",
            "metadata": {
                "papermill": {
                    "duration": 0.003978,
                    "end_time": "2024-09-25T07:50:06.872876",
                    "exception": false,
                    "start_time": "2024-09-25T07:50:06.868898",
                    "status": "completed"
                },
                "tags": []
            },
            "source": [
                "# LightGBM Model"
            ]
        },
        {
            "cell_type": "code",
            "execution_count": 8,
            "id": "ef212587",
            "metadata": {
                "execution": {
                    "iopub.execute_input": "2024-09-25T07:50:06.883416Z",
                    "iopub.status.busy": "2024-09-25T07:50:06.883031Z",
                    "iopub.status.idle": "2024-09-25T07:50:06.894597Z",
                    "shell.execute_reply": "2024-09-25T07:50:06.893481Z"
                },
                "papermill": {
                    "duration": 0.019516,
                    "end_time": "2024-09-25T07:50:06.896970",
                    "exception": false,
                    "start_time": "2024-09-25T07:50:06.877454",
                    "status": "completed"
                },
                "tags": []
            },
            "outputs": [],
            "source": [
                "# Rolling window validation\n",
                "\n",
                "def time_series_split(\n",
                "    df: pd.DataFrame,\n",
                "    n_folds: int = 5,\n",
                "    horizon: int = 28,\n",
                "    overlap: int = 0,\n",
                "    max_timestamp: int = MAX_TRAIN_TIMESTAMP,\n",
                "):\n",
                "    min_timestamp = max_timestamp - n_folds * horizon + (n_folds - 1) * overlap\n",
                "    for fold_idx in range(n_folds):\n",
                "        start = min_timestamp + fold_idx * (horizon - overlap)\n",
                "        stop = start + horizon\n",
                "\n",
                "        train_data = df[df[\"d\"] < start]\n",
                "        valid_data = df[(df[\"d\"] >= start) & (df[\"d\"] < stop)]\n",
                "        \n",
                "        print(f\"Fold index: {fold_idx}\")\n",
                "        print(f\"Train idx (start, end): ({train_data['d'].min()}, {train_data['d'].max()})\")\n",
                "        print(f\"Valid idx (start, end): ({valid_data['d'].min()}, {valid_data['d'].max()})\")\n",
                "        print(\"==================\")\n",
                "        \n",
                "        yield train_data, valid_data\n",
                "        \n",
                "        \n",
                "def train_predict_score(\n",
                "    X_train: pd.DataFrame,\n",
                "    y_train: pd.Series,\n",
                "    X_test: pd.DataFrame,\n",
                "    y_test: pd.Series,\n",
                "    train_parameters: dict,\n",
                "    dataset_parameters: dict | None = None,\n",
                ") -> tuple[float, float]:\n",
                "    dataset_parameters = dataset_parameters or {}\n",
                "    train_data = lgbm.Dataset(data=X_train, label=y_train, **dataset_parameters)\n",
                "    valid_data = lgbm.Dataset(data=X_test, label=y_test, **dataset_parameters)\n",
                "    model = lgbm.train(\n",
                "        train_parameters,\n",
                "        num_boost_round=3000,\n",
                "        train_set=train_data,\n",
                "        valid_sets=[valid_data],\n",
                "        callbacks=[\n",
                "            lgbm.early_stopping(stopping_rounds=5),\n",
                "            lgbm.log_evaluation(period=10),\n",
                "        ]\n",
                "    )\n",
                "    \n",
                "    y_hat = model.predict(X_test)\n",
                "    y_hat = np.clip(y_hat, a_min=0, a_max=np.inf)\n",
                "    rmse = np.sqrt(np.mean((y_test - y_hat) ** 2))\n",
                "\n",
                "    return rmse, model.best_iteration"
            ]
        },
        {
            "cell_type": "code",
            "execution_count": 9,
            "id": "0e4ae478",
            "metadata": {
                "execution": {
                    "iopub.execute_input": "2024-09-25T07:50:06.907909Z",
                    "iopub.status.busy": "2024-09-25T07:50:06.906831Z",
                    "iopub.status.idle": "2024-09-25T07:50:06.914774Z",
                    "shell.execute_reply": "2024-09-25T07:50:06.913641Z"
                },
                "papermill": {
                    "duration": 0.01586,
                    "end_time": "2024-09-25T07:50:06.917119",
                    "exception": false,
                    "start_time": "2024-09-25T07:50:06.901259",
                    "status": "completed"
                },
                "tags": []
            },
            "outputs": [],
            "source": [
                "CATEGORICAL_FEATURES = [\n",
                "    \"dept_id\",\n",
                "    \"cat_id\",\n",
                "    \"store_id\",\n",
                "    \"state_id\",\n",
                "    \"year\",\n",
                "    \"event_name\",\n",
                "    \"event_type\",\n",
                "    \"snap_CA\",\n",
                "    \"snap_TX\",\n",
                "    \"snap_WI\",\n",
                "    \"item_on_sale\",\n",
                "]\n",
                "CONTINOUS_FEATURES = [\n",
                "    \"item_id\",\n",
                "    \"weekday_sin\",\n",
                "    \"weekday_cos\",\n",
                "    \"month_sin\",\n",
                "    \"month_cos\",\n",
                "    \"sell_price\",\n",
                "    \"sell_price_diff_1\",\n",
                "    \"sell_price_diff_2\",\n",
                "    \"sell_price_diff_3\",\n",
                "    \"sell_price_diff_7\",\n",
                "#     \"av_item_state_sell_price\",\n",
                "#     \"av_dept_state_sell_price\",\n",
                "    \"count_lag_28\",\n",
                "    \"count_lag_29\",\n",
                "    \"count_lag_30\",\n",
                "    \"count_lag_31\",\n",
                "    \"av_store_dept_sales_lag_28\",\n",
                "    \"av_store_dept_sales_lag_29\",\n",
                "    \"av_store_dept_sales_lag_30\",\n",
                "    \"av_store_dept_sales_lag_31\"\n",
                "]\n",
                "FEATURES = CATEGORICAL_FEATURES + CONTINOUS_FEATURES\n",
                "LABEL = \"count\"\n",
                "\n",
                "# Parameters\n",
                "DATASET_PARAMETERS = {}\n",
                "TRAIN_PARAMETERS = {\n",
                "    \"objective\": \"tweedie\",\n",
                "    'tweedie_variance_power': 1.1,\n",
                "    \"learning_rate\": 0.05,\n",
                "    \"num_leaves\": 2 ** 7 - 1,\n",
                "    \"max_bin\": 2 ** 7 - 1,\n",
                "    \"bagging_freq\": 1,\n",
                "    \"bagging_fraction\": 0.8,\n",
                "    \"metric\": \"rmse\",\n",
                "    \"force_col_wise\": True,\n",
                "}"
            ]
        },
        {
            "cell_type": "code",
            "execution_count": null,
            "id": "bfd659c7",
            "metadata": {
                "execution": {
                    "iopub.execute_input": "2024-09-25T07:50:06.927720Z",
                    "iopub.status.busy": "2024-09-25T07:50:06.926807Z",
                    "iopub.status.idle": "2024-09-25T10:33:28.930090Z",
                    "shell.execute_reply": "2024-09-25T10:33:28.928691Z"
                },
                "papermill": {
                    "duration": 9802.025739,
                    "end_time": "2024-09-25T10:33:28.947089",
                    "exception": false,
                    "start_time": "2024-09-25T07:50:06.921350",
                    "status": "completed"
                },
                "tags": []
            },
            "outputs": [],
            "source": [
                "if not SUBMISSION_RUN:\n",
                "    scores = []\n",
                "    best_iterations = []\n",
                "    \n",
                "    for train, valid in tqdm(time_series_split(train_data_set, n_folds=5), total=5):\n",
                "    \n",
                "        X_train, y_train = train[FEATURES], train[LABEL]\n",
                "        X_test, y_test = valid[FEATURES], valid[LABEL]\n",
                "        score, best_iter = train_predict_score(\n",
                "            X_train=X_train,\n",
                "            y_train=y_train,\n",
                "            X_test=X_test,\n",
                "            y_test=y_test,\n",
                "            train_parameters=TRAIN_PARAMETERS,\n",
                "            dataset_parameters=DATASET_PARAMETERS,\n",
                "        )\n",
                "        scores.append(score)\n",
                "        best_iterations.append(best_iter)\n",
                "    \n",
                "    cv_results = {\n",
                "        \"scores\": scores,\n",
                "        \"mean_score\": np.mean(scores),\n",
                "        \"std_score\": np.std(scores),\n",
                "        \"best_iterations\": best_iterations,\n",
                "        \"mean_best_iteration\": np.mean(best_iterations)\n",
                "    }\n",
                "    \n",
                "    with open(f\"{OUTPUT_BASE_BATH}/cv_results.json\", \"w\") as f:\n",
                "        json.dump(cv_results, f)\n",
                "    \n",
                "else:\n",
                "    train_data = lgbm.Dataset(\n",
                "        data=train_data_set[FEATURES],\n",
                "        label=train_data_set[LABEL],\n",
                "        **DATASET_PARAMETERS,\n",
                "    )\n",
                "    model = lgbm.train(\n",
                "        TRAIN_PARAMETERS,\n",
                "        num_boost_round=250,\n",
                "        train_set=train_data,\n",
                "    )"
            ]
        },
        {
            "cell_type": "markdown",
            "id": "e4d0c53d",
            "metadata": {
                "papermill": {
                    "duration": 0.015258,
                    "end_time": "2024-09-25T10:33:28.978463",
                    "exception": false,
                    "start_time": "2024-09-25T10:33:28.963205",
                    "status": "completed"
                },
                "tags": []
            },
            "source": [
                "# Forecast & Submit"
            ]
        },
        {
            "cell_type": "code",
            "execution_count": 11,
            "id": "0f5e4bf2",
            "metadata": {
                "execution": {
                    "iopub.execute_input": "2024-09-25T10:33:29.011979Z",
                    "iopub.status.busy": "2024-09-25T10:33:29.011010Z",
                    "iopub.status.idle": "2024-09-25T10:33:29.019339Z",
                    "shell.execute_reply": "2024-09-25T10:33:29.018116Z"
                },
                "papermill": {
                    "duration": 0.028022,
                    "end_time": "2024-09-25T10:33:29.021650",
                    "exception": false,
                    "start_time": "2024-09-25T10:33:28.993628",
                    "status": "completed"
                },
                "tags": []
            },
            "outputs": [],
            "source": [
                "def pivot_forecast_df(X_test: pd.DataFrame, y_hat: np.ndarray) -> pd.DataFrame:\n",
                "    forecast_df = pd.concat([X_test, pd.DataFrame(y_hat, columns=[\"count\"])], axis=1)\n",
                "    forecast_df = forecast_df.pivot(columns=\"d\", index=\"id\", values=\"count\").sort_index(axis=1)\n",
                "    forecast_df = forecast_df.rename_axis(None, axis=1).reset_index()\n",
                "    return forecast_df\n",
                "\n",
                "def rename_forecast_columns(forecast_df: pd.DataFrame, forecast_horizon: int = 28) -> pd.DataFrame:\n",
                "    forecast_df = forecast_df.set_index(\"id\")\n",
                "    forecast_df.columns = [f\"F{i}\" for i in range(1, forecast_horizon + 1)]\n",
                "    return forecast_df.reset_index()"
            ]
        },
        {
            "cell_type": "code",
            "execution_count": 12,
            "id": "547dde8e",
            "metadata": {
                "execution": {
                    "iopub.execute_input": "2024-09-25T10:33:29.054424Z",
                    "iopub.status.busy": "2024-09-25T10:33:29.054024Z",
                    "iopub.status.idle": "2024-09-25T10:33:29.062951Z",
                    "shell.execute_reply": "2024-09-25T10:33:29.061770Z"
                },
                "papermill": {
                    "duration": 0.027775,
                    "end_time": "2024-09-25T10:33:29.065220",
                    "exception": false,
                    "start_time": "2024-09-25T10:33:29.037445",
                    "status": "completed"
                },
                "tags": []
            },
            "outputs": [],
            "source": [
                "if SUBMISSION_RUN:\n",
                "    test_data_set = pd.read_parquet(f\"{PROCESSED_DATA_INPUT_PATH}/m5-acc-test.parquet\")\n",
                "    \n",
                "    # Drop any columns that we dont need for training\n",
                "    cols_to_drop = [\"av_store_dept_sales\", \"date\", \"wm_yr_wk\"]\n",
                "    for col in cols_to_drop:\n",
                "        try:\n",
                "            test_data_set = test_data_set.drop([col], axis=1)\n",
                "        except KeyError:\n",
                "            print(f\"Column '{col}' not found in axis. Skipping ...\")\n",
                "    _ = gc.collect()\n",
                "\n",
                "    test_data_set = cast_data_types(test_data_set)\n",
                "\n",
                "    y_hat = model.predict(test_data_set[FEATURES])\n",
                "    y_hat = np.clip(y_hat, a_min=0, a_max=np.inf)\n",
                "\n",
                "    forecast_df = pivot_forecast_df(test_data_set, y_hat)\n",
                "    forecast_df = rename_forecast_columns(forecast_df)\n",
                "    \n",
                "    # Merge with sample submissions\n",
                "    EVAL_SUBMISSION = EVAL_SUBMISSION[[\"id\"]].merge(forecast_df, on=\"id\", how=\"left\")\n",
                "    FINAL_SUBMISSIONS = pd.concat([VAL_SUBMISSION, EVAL_SUBMISSION])\n",
                "    FINAL_SUBMISSIONS = FINAL_SUBMISSIONS.set_index(\"id\").reindex(SUBMISSION_INDEX).reset_index()\n",
                "    \n",
                "    FINAL_SUBMISSIONS.to_csv(f\"{OUTPUT_BASE_BATH}/submission.csv\", index=False)"
            ]
        }
    ],
    "metadata": {
        "kaggle": {
            "accelerator": "none",
            "dataSources": [
                {
                    "databundleVersionId": 1236839,
                    "sourceId": 18599,
                    "sourceType": "competition"
                },
                {
                    "datasetId": 5684895,
                    "sourceId": 9467934,
                    "sourceType": "datasetVersion"
                }
            ],
            "dockerImageVersionId": 30746,
            "isGpuEnabled": false,
            "isInternetEnabled": true,
            "language": "python",
            "sourceType": "notebook"
        },
        "kernelspec": {
            "display_name": "Python 3",
            "language": "python",
            "name": "python3"
        },
        "language_info": {
            "codemirror_mode": {
                "name": "ipython",
                "version": 3
            },
            "file_extension": ".py",
            "mimetype": "text/x-python",
            "name": "python",
            "nbconvert_exporter": "python",
            "pygments_lexer": "ipython3",
            "version": "3.10.13"
        },
        "papermill": {
            "default_parameters": {},
            "duration": 9853.593709,
            "end_time": "2024-09-25T10:33:30.325390",
            "environment_variables": {},
            "exception": null,
            "input_path": "__notebook__.ipynb",
            "output_path": "__notebook__.ipynb",
            "parameters": {},
            "start_time": "2024-09-25T07:49:16.731681",
            "version": "2.5.0"
        }
    },
    "nbformat": 4,
    "nbformat_minor": 5
}