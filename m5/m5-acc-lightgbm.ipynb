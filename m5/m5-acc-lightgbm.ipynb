{
    "metadata": {
        "kernelspec": {
            "language": "python",
            "display_name": "Python 3",
            "name": "python3"
        },
        "language_info": {
            "name": "python",
            "version": "3.10.13",
            "mimetype": "text/x-python",
            "codemirror_mode": {
                "name": "ipython",
                "version": 3
            },
            "pygments_lexer": "ipython3",
            "nbconvert_exporter": "python",
            "file_extension": ".py"
        },
        "kaggle": {
            "accelerator": "none",
            "dataSources": [
                {
                    "sourceId": 18599,
                    "databundleVersionId": 1236839,
                    "sourceType": "competition"
                }
            ],
            "dockerImageVersionId": 30746,
            "isInternetEnabled": true,
            "language": "python",
            "sourceType": "notebook",
            "isGpuEnabled": false
        }
    },
    "nbformat_minor": 4,
    "nbformat": 4,
    "cells": [
        {
            "cell_type": "code",
            "source": "import numpy as np\nimport pandas as pd\nimport matplotlib.pyplot as plt",
            "metadata": {
                "_uuid": "8f2839f25d086af736a60e9eeb907d3b93b6e0e5",
                "_cell_guid": "b1076dfc-b9ad-4769-8c92-a6c4dae69d19",
                "execution": {
                    "iopub.status.busy": "2024-07-22T08:05:58.350441Z",
                    "iopub.status.idle": "2024-07-22T08:05:58.350834Z",
                    "shell.execute_reply.started": "2024-07-22T08:05:58.350653Z",
                    "shell.execute_reply": "2024-07-22T08:05:58.350670Z"
                },
                "trusted": true
            },
            "execution_count": null,
            "outputs": []
        },
        {
            "cell_type": "code",
            "source": "INPUT_BASE_PATH = \"/kaggle/input/m5-forecasting-accuracy\"\nOUTPUT_BASE_BATH = \"/kaggle/working\"\n\nCALENDAR_DATA = pd.read_csv(f\"{INPUT_BASE_PATH}/calendar.csv\")\nSELL_PRICES = pd.read_csv(f\"{INPUT_BASE_PATH}/sell_prices.csv\")\nSALES_TRAIN_EVALUATION = pd.read_csv(f\"{INPUT_BASE_PATH}/sales_train_evaluation.csv\")\nSALES_TRAIN_VALIDATION = pd.read_csv(f\"{INPUT_BASE_PATH}/sales_train_validation.csv\")\nSAMPLE_SUBMISSION = pd.read_csv(f\"{INPUT_BASE_PATH}/sample_submission.csv\")",
            "metadata": {
                "execution": {
                    "iopub.status.busy": "2024-07-22T08:05:58.352304Z",
                    "iopub.status.idle": "2024-07-22T08:05:58.352687Z",
                    "shell.execute_reply.started": "2024-07-22T08:05:58.352503Z",
                    "shell.execute_reply": "2024-07-22T08:05:58.352524Z"
                },
                "trusted": true
            },
            "execution_count": null,
            "outputs": []
        },
        {
            "cell_type": "markdown",
            "source": "## FEATURE ENGINEERING FUNCTIONS",
            "metadata": {}
        },
        {
            "cell_type": "code",
            "source": "def mean_sales(df: pd.DataFrame) -> pd.DataFrame:\n    df = df.groupby([\"date\", \"d\"])[[\"count\"]].mean().reset_index()\n    return df\n    \n\ndef temporal_features(df: pd.DataFrame) -> pd.DataFrame:\n    df[\"weekday\"] = df[\"date\"].dt.weekday\n    df[\"week\"] = df[\"date\"].dt.isocalendar().week\n    df[\"year\"] = df[\"date\"].dt.year\n    \n    return df\n\ndef lagged_features(df: pd.DataFrame, lags: list[int]) -> pd.DataFrame:\n    lag_dfs = []\n    for lag in lags:\n        lagged_sales_df = pd.DataFrame(\n            {\n                \"date\": df[\"date\"],\n                f\"date_lag_{lag}\": df[\"date\"] - pd.Timedelta(days=lag)\n            }\n        )\n        lagged_sales_df = pd.merge(\n            left=lagged_sales_df,\n            right=df[[\"date\", \"count\"]],\n            how=\"left\",\n            left_on=f\"date_lag_{lag}\",\n            right_on=\"date\",\n        )\n        lagged_sales_df = lagged_sales_df[[\"date_x\", f\"date_lag_{lag}\", \"count\"]]\n        lagged_sales_df = lagged_sales_df.rename(columns={\"date_x\": \"date\", \"count\": f\"count_lag_{lag}\"})\n        lag_dfs.append(lagged_sales_df)\n    \n    # Merge everything\n    for lag_df in lag_dfs:\n        df = pd.merge(left=df, right=lag_df, on=\"date\")\n    return df",
            "metadata": {
                "execution": {
                    "iopub.status.busy": "2024-07-22T08:05:58.353790Z",
                    "iopub.status.idle": "2024-07-22T08:05:58.354129Z",
                    "shell.execute_reply.started": "2024-07-22T08:05:58.353964Z",
                    "shell.execute_reply": "2024-07-22T08:05:58.353979Z"
                },
                "trusted": true
            },
            "execution_count": null,
            "outputs": []
        },
        {
            "cell_type": "code",
            "source": "## Feature engineering funcs for forecasting\n\ndef lagged_features_forecast(train_df: pd.DataFrame, test_df: pd.DataFrame, lags: list[int]) -> pd.DataFrame:\n    lagged_dfs = []\n    for lag in lags:\n        lagged_df = pd.DataFrame(\n            {\n                \"date\": test_df[\"date\"],\n                f\"date_lag_{lag}\": test_df[\"date\"] - pd.Timedelta(days=lag)\n            }\n        )\n        lagged_df = pd.merge(\n            left=lagged_df,\n            right=train_df[[\"date\", \"count\"]],\n            how=\"left\",\n            left_on=f\"date_lag_{lag}\",\n            right_on=\"date\",\n        )\n        lagged_df = lagged_df[[\"date_x\", f\"date_lag_{lag}\", \"count\"]]\n        lagged_df = lagged_df.rename(columns={\"date_x\": \"date\", \"count\": f\"count_lag_{lag}\"})\n        lagged_dfs.append(lagged_df)\n    \n    # Merge everything\n    for lag_df in lagged_dfs:\n        test_df = pd.merge(left=test_df, right=lag_df, on=\"date\")\n    return test_df\n\n\ndef construct_test_df(train_df: pd.DataFrame, lags: list[int]) -> pd.DataFrame:\n    forecast_dates = pd.date_range(\n        start=train_df[\"date\"].max(),\n        end=train_df[\"date\"].max() + pd.Timedelta(days=28),\n        freq=\"d\",\n        inclusive=\"right\",\n    )\n    forecast_df = pd.DataFrame({\"date\": forecast_dates})\n    foreacst_df = temporal_features(forecast_df)\n    foreacst_df = lagged_features_forecast(train_df, forecast_df, lags)\n    return forecast_df",
            "metadata": {
                "execution": {
                    "iopub.status.busy": "2024-07-22T08:05:58.355458Z",
                    "iopub.status.idle": "2024-07-22T08:05:58.355827Z",
                    "shell.execute_reply.started": "2024-07-22T08:05:58.355662Z",
                    "shell.execute_reply": "2024-07-22T08:05:58.355677Z"
                },
                "trusted": true
            },
            "execution_count": null,
            "outputs": []
        },
        {
            "cell_type": "markdown",
            "source": "## VALIDATION DATASET -- PUBLIC LEADERBOARD",
            "metadata": {}
        },
        {
            "cell_type": "code",
            "source": "# Utils for working with datasets\n\nvalidation_product_id_to_int = {\n    product_id: idx\n    for (idx, product_id) in enumerate(SALES_TRAIN_VALIDATION[\"id\"].unique(), start=1)\n}\n\nvalidation_int_to_product_id = {\n    idx: product_id\n    for (product_id, idx) in validation_product_id_to_int.items()\n}\n\ntimestamp_ids = [f\"d_{i}\" for i in range(1, 1914)]",
            "metadata": {
                "execution": {
                    "iopub.status.busy": "2024-07-22T08:05:58.357250Z",
                    "iopub.status.idle": "2024-07-22T08:05:58.357635Z",
                    "shell.execute_reply.started": "2024-07-22T08:05:58.357424Z",
                    "shell.execute_reply": "2024-07-22T08:05:58.357439Z"
                },
                "trusted": true
            },
            "execution_count": null,
            "outputs": []
        },
        {
            "cell_type": "code",
            "source": "# Unpivot dataset\n\ntrain_df_validation = SALES_TRAIN_VALIDATION.copy(deep=True)\ntrain_df_validation[\"product_id\"] = train_df_validation[\"id\"].map(validation_product_id_to_int)",
            "metadata": {
                "execution": {
                    "iopub.status.busy": "2024-07-22T08:05:58.358837Z",
                    "iopub.status.idle": "2024-07-22T08:05:58.359184Z",
                    "shell.execute_reply.started": "2024-07-22T08:05:58.359010Z",
                    "shell.execute_reply": "2024-07-22T08:05:58.359025Z"
                },
                "trusted": true
            },
            "execution_count": null,
            "outputs": []
        },
        {
            "cell_type": "code",
            "source": "product_sale_dfs = []\nproduct_ids = train_df_validation[\"product_id\"].unique()\nfor p_id in product_ids:\n    product_sale_counts = train_df_validation[train_df_validation[\"product_id\"] == p_id]\n    product_sale_counts = product_sale_counts[timestamp_ids].T.reset_index()\n    product_sale_counts.columns = [\"timestamp_id\", \"count\"]\n    product_sale_counts[\"product_id\"] = p_id\n    product_sale_dfs.append(product_sale_counts)\n\nproduct_sales_df = pd.concat(product_sale_dfs)",
            "metadata": {
                "execution": {
                    "iopub.status.busy": "2024-07-22T08:05:58.360841Z",
                    "iopub.status.idle": "2024-07-22T08:05:58.361184Z",
                    "shell.execute_reply.started": "2024-07-22T08:05:58.361015Z",
                    "shell.execute_reply": "2024-07-22T08:05:58.361030Z"
                },
                "trusted": true
            },
            "execution_count": null,
            "outputs": []
        },
        {
            "cell_type": "code",
            "source": "validation_product_sales = pd.merge(\n    left=product_sales_df,\n    right=CALENDAR_DATA[[\"date\", \"d\", \"event_name_1\", \"event_type_1\", \"event_name_2\", \"event_type_2\", \"snap_CA\", \"snap_TX\", \"snap_WI\"]],\n    how=\"left\",\n    left_on=[\"timestamp_id\"],\n    right_on=[\"d\"],\n    indicator=True,\n)",
            "metadata": {
                "execution": {
                    "iopub.status.busy": "2024-07-22T08:05:58.363990Z",
                    "iopub.status.idle": "2024-07-22T08:05:58.364340Z",
                    "shell.execute_reply.started": "2024-07-22T08:05:58.364168Z",
                    "shell.execute_reply": "2024-07-22T08:05:58.364183Z"
                },
                "trusted": true
            },
            "execution_count": null,
            "outputs": []
        },
        {
            "cell_type": "code",
            "source": "# As a start only predict the mean sales\nmean_validation_sales = mean_sales(validation_product_sales)",
            "metadata": {
                "execution": {
                    "iopub.status.busy": "2024-07-22T08:05:58.365287Z",
                    "iopub.status.idle": "2024-07-22T08:05:58.365656Z",
                    "shell.execute_reply.started": "2024-07-22T08:05:58.365457Z",
                    "shell.execute_reply": "2024-07-22T08:05:58.365471Z"
                },
                "trusted": true
            },
            "execution_count": null,
            "outputs": []
        },
        {
            "cell_type": "code",
            "source": "# Temporal features\nmean_validation_sales[\"date\"] = pd.to_datetime(mean_validation_sales[\"date\"], yearfirst=True)\nmean_validation_sales = temporal_features(mean_validation_sales)",
            "metadata": {
                "execution": {
                    "iopub.status.busy": "2024-07-22T07:28:12.776681Z",
                    "iopub.execute_input": "2024-07-22T07:28:12.777097Z",
                    "iopub.status.idle": "2024-07-22T07:28:12.797381Z",
                    "shell.execute_reply.started": "2024-07-22T07:28:12.777065Z",
                    "shell.execute_reply": "2024-07-22T07:28:12.796029Z"
                },
                "trusted": true
            },
            "execution_count": 11,
            "outputs": []
        },
        {
            "cell_type": "code",
            "source": "# Lagged features\nLAGS = [1, 2, 3, 7]\nmean_validation_sales = lagged_features(mean_validation_sales, LAGS)",
            "metadata": {
                "execution": {
                    "iopub.status.busy": "2024-07-22T07:29:43.004716Z",
                    "iopub.execute_input": "2024-07-22T07:29:43.005461Z",
                    "iopub.status.idle": "2024-07-22T07:29:43.043335Z",
                    "shell.execute_reply.started": "2024-07-22T07:29:43.005424Z",
                    "shell.execute_reply": "2024-07-22T07:29:43.042224Z"
                },
                "trusted": true
            },
            "execution_count": 13,
            "outputs": []
        },
        {
            "cell_type": "code",
            "source": "# Construct the test df\nconstruct_test_df(mean_validation_sales, LAGS)",
            "metadata": {
                "execution": {
                    "iopub.status.busy": "2024-07-22T08:04:27.326457Z",
                    "iopub.execute_input": "2024-07-22T08:04:27.326988Z",
                    "iopub.status.idle": "2024-07-22T08:04:27.379212Z",
                    "shell.execute_reply.started": "2024-07-22T08:04:27.326949Z",
                    "shell.execute_reply": "2024-07-22T08:04:27.377997Z"
                },
                "trusted": true
            },
            "execution_count": 49,
            "outputs": [
                {
                    "execution_count": 49,
                    "output_type": "execute_result",
                    "data": {
                        "text/plain": "         date  weekday  week  year\n0  2016-04-25        0    17  2016\n1  2016-04-26        1    17  2016\n2  2016-04-27        2    17  2016\n3  2016-04-28        3    17  2016\n4  2016-04-29        4    17  2016\n5  2016-04-30        5    17  2016\n6  2016-05-01        6    17  2016\n7  2016-05-02        0    18  2016\n8  2016-05-03        1    18  2016\n9  2016-05-04        2    18  2016\n10 2016-05-05        3    18  2016\n11 2016-05-06        4    18  2016\n12 2016-05-07        5    18  2016\n13 2016-05-08        6    18  2016\n14 2016-05-09        0    19  2016\n15 2016-05-10        1    19  2016\n16 2016-05-11        2    19  2016\n17 2016-05-12        3    19  2016\n18 2016-05-13        4    19  2016\n19 2016-05-14        5    19  2016\n20 2016-05-15        6    19  2016\n21 2016-05-16        0    20  2016\n22 2016-05-17        1    20  2016\n23 2016-05-18        2    20  2016\n24 2016-05-19        3    20  2016\n25 2016-05-20        4    20  2016\n26 2016-05-21        5    20  2016\n27 2016-05-22        6    20  2016",
                        "text/html": "<div>\n<style scoped>\n    .dataframe tbody tr th:only-of-type {\n        vertical-align: middle;\n    }\n\n    .dataframe tbody tr th {\n        vertical-align: top;\n    }\n\n    .dataframe thead th {\n        text-align: right;\n    }\n</style>\n<table border=\"1\" class=\"dataframe\">\n  <thead>\n    <tr style=\"text-align: right;\">\n      <th></th>\n      <th>date</th>\n      <th>weekday</th>\n      <th>week</th>\n      <th>year</th>\n    </tr>\n  </thead>\n  <tbody>\n    <tr>\n      <th>0</th>\n      <td>2016-04-25</td>\n      <td>0</td>\n      <td>17</td>\n      <td>2016</td>\n    </tr>\n    <tr>\n      <th>1</th>\n      <td>2016-04-26</td>\n      <td>1</td>\n      <td>17</td>\n      <td>2016</td>\n    </tr>\n    <tr>\n      <th>2</th>\n      <td>2016-04-27</td>\n      <td>2</td>\n      <td>17</td>\n      <td>2016</td>\n    </tr>\n    <tr>\n      <th>3</th>\n      <td>2016-04-28</td>\n      <td>3</td>\n      <td>17</td>\n      <td>2016</td>\n    </tr>\n    <tr>\n      <th>4</th>\n      <td>2016-04-29</td>\n      <td>4</td>\n      <td>17</td>\n      <td>2016</td>\n    </tr>\n    <tr>\n      <th>5</th>\n      <td>2016-04-30</td>\n      <td>5</td>\n      <td>17</td>\n      <td>2016</td>\n    </tr>\n    <tr>\n      <th>6</th>\n      <td>2016-05-01</td>\n      <td>6</td>\n      <td>17</td>\n      <td>2016</td>\n    </tr>\n    <tr>\n      <th>7</th>\n      <td>2016-05-02</td>\n      <td>0</td>\n      <td>18</td>\n      <td>2016</td>\n    </tr>\n    <tr>\n      <th>8</th>\n      <td>2016-05-03</td>\n      <td>1</td>\n      <td>18</td>\n      <td>2016</td>\n    </tr>\n    <tr>\n      <th>9</th>\n      <td>2016-05-04</td>\n      <td>2</td>\n      <td>18</td>\n      <td>2016</td>\n    </tr>\n    <tr>\n      <th>10</th>\n      <td>2016-05-05</td>\n      <td>3</td>\n      <td>18</td>\n      <td>2016</td>\n    </tr>\n    <tr>\n      <th>11</th>\n      <td>2016-05-06</td>\n      <td>4</td>\n      <td>18</td>\n      <td>2016</td>\n    </tr>\n    <tr>\n      <th>12</th>\n      <td>2016-05-07</td>\n      <td>5</td>\n      <td>18</td>\n      <td>2016</td>\n    </tr>\n    <tr>\n      <th>13</th>\n      <td>2016-05-08</td>\n      <td>6</td>\n      <td>18</td>\n      <td>2016</td>\n    </tr>\n    <tr>\n      <th>14</th>\n      <td>2016-05-09</td>\n      <td>0</td>\n      <td>19</td>\n      <td>2016</td>\n    </tr>\n    <tr>\n      <th>15</th>\n      <td>2016-05-10</td>\n      <td>1</td>\n      <td>19</td>\n      <td>2016</td>\n    </tr>\n    <tr>\n      <th>16</th>\n      <td>2016-05-11</td>\n      <td>2</td>\n      <td>19</td>\n      <td>2016</td>\n    </tr>\n    <tr>\n      <th>17</th>\n      <td>2016-05-12</td>\n      <td>3</td>\n      <td>19</td>\n      <td>2016</td>\n    </tr>\n    <tr>\n      <th>18</th>\n      <td>2016-05-13</td>\n      <td>4</td>\n      <td>19</td>\n      <td>2016</td>\n    </tr>\n    <tr>\n      <th>19</th>\n      <td>2016-05-14</td>\n      <td>5</td>\n      <td>19</td>\n      <td>2016</td>\n    </tr>\n    <tr>\n      <th>20</th>\n      <td>2016-05-15</td>\n      <td>6</td>\n      <td>19</td>\n      <td>2016</td>\n    </tr>\n    <tr>\n      <th>21</th>\n      <td>2016-05-16</td>\n      <td>0</td>\n      <td>20</td>\n      <td>2016</td>\n    </tr>\n    <tr>\n      <th>22</th>\n      <td>2016-05-17</td>\n      <td>1</td>\n      <td>20</td>\n      <td>2016</td>\n    </tr>\n    <tr>\n      <th>23</th>\n      <td>2016-05-18</td>\n      <td>2</td>\n      <td>20</td>\n      <td>2016</td>\n    </tr>\n    <tr>\n      <th>24</th>\n      <td>2016-05-19</td>\n      <td>3</td>\n      <td>20</td>\n      <td>2016</td>\n    </tr>\n    <tr>\n      <th>25</th>\n      <td>2016-05-20</td>\n      <td>4</td>\n      <td>20</td>\n      <td>2016</td>\n    </tr>\n    <tr>\n      <th>26</th>\n      <td>2016-05-21</td>\n      <td>5</td>\n      <td>20</td>\n      <td>2016</td>\n    </tr>\n    <tr>\n      <th>27</th>\n      <td>2016-05-22</td>\n      <td>6</td>\n      <td>20</td>\n      <td>2016</td>\n    </tr>\n  </tbody>\n</table>\n</div>"
                    },
                    "metadata": {}
                }
            ]
        },
        {
            "cell_type": "code",
            "source": "lagged_features_forecast(mean_validation_sales, forecast_df, LAGS)",
            "metadata": {
                "execution": {
                    "iopub.status.busy": "2024-07-22T08:02:52.216181Z",
                    "iopub.execute_input": "2024-07-22T08:02:52.216712Z",
                    "iopub.status.idle": "2024-07-22T08:02:52.277315Z",
                    "shell.execute_reply.started": "2024-07-22T08:02:52.216670Z",
                    "shell.execute_reply": "2024-07-22T08:02:52.275829Z"
                },
                "trusted": true
            },
            "execution_count": 48,
            "outputs": [
                {
                    "execution_count": 48,
                    "output_type": "execute_result",
                    "data": {
                        "text/plain": "         date  weekday  week  year date_lag_1  count_lag_1 date_lag_2  \\\n0  2016-04-25        0    17  2016 2016-04-24     1.633158 2016-04-23   \n1  2016-04-26        1    17  2016 2016-04-25          NaN 2016-04-24   \n2  2016-04-27        2    17  2016 2016-04-26          NaN 2016-04-25   \n3  2016-04-28        3    17  2016 2016-04-27          NaN 2016-04-26   \n4  2016-04-29        4    17  2016 2016-04-28          NaN 2016-04-27   \n5  2016-04-30        5    17  2016 2016-04-29          NaN 2016-04-28   \n6  2016-05-01        6    17  2016 2016-04-30          NaN 2016-04-29   \n7  2016-05-02        0    18  2016 2016-05-01          NaN 2016-04-30   \n8  2016-05-03        1    18  2016 2016-05-02          NaN 2016-05-01   \n9  2016-05-04        2    18  2016 2016-05-03          NaN 2016-05-02   \n10 2016-05-05        3    18  2016 2016-05-04          NaN 2016-05-03   \n11 2016-05-06        4    18  2016 2016-05-05          NaN 2016-05-04   \n12 2016-05-07        5    18  2016 2016-05-06          NaN 2016-05-05   \n13 2016-05-08        6    18  2016 2016-05-07          NaN 2016-05-06   \n14 2016-05-09        0    19  2016 2016-05-08          NaN 2016-05-07   \n15 2016-05-10        1    19  2016 2016-05-09          NaN 2016-05-08   \n16 2016-05-11        2    19  2016 2016-05-10          NaN 2016-05-09   \n17 2016-05-12        3    19  2016 2016-05-11          NaN 2016-05-10   \n18 2016-05-13        4    19  2016 2016-05-12          NaN 2016-05-11   \n19 2016-05-14        5    19  2016 2016-05-13          NaN 2016-05-12   \n20 2016-05-15        6    19  2016 2016-05-14          NaN 2016-05-13   \n21 2016-05-16        0    20  2016 2016-05-15          NaN 2016-05-14   \n22 2016-05-17        1    20  2016 2016-05-16          NaN 2016-05-15   \n23 2016-05-18        2    20  2016 2016-05-17          NaN 2016-05-16   \n24 2016-05-19        3    20  2016 2016-05-18          NaN 2016-05-17   \n25 2016-05-20        4    20  2016 2016-05-19          NaN 2016-05-18   \n26 2016-05-21        5    20  2016 2016-05-20          NaN 2016-05-19   \n27 2016-05-22        6    20  2016 2016-05-21          NaN 2016-05-20   \n\n    count_lag_2 date_lag_3  count_lag_3 date_lag_7  count_lag_7  \n0      1.605838 2016-04-22     1.328862 2016-04-18     1.248245  \n1      1.633158 2016-04-23     1.605838 2016-04-19     1.232207  \n2           NaN 2016-04-24     1.633158 2016-04-20     1.159167  \n3           NaN 2016-04-25          NaN 2016-04-21     1.149000  \n4           NaN 2016-04-26          NaN 2016-04-22     1.328862  \n5           NaN 2016-04-27          NaN 2016-04-23     1.605838  \n6           NaN 2016-04-28          NaN 2016-04-24     1.633158  \n7           NaN 2016-04-29          NaN 2016-04-25          NaN  \n8           NaN 2016-04-30          NaN 2016-04-26          NaN  \n9           NaN 2016-05-01          NaN 2016-04-27          NaN  \n10          NaN 2016-05-02          NaN 2016-04-28          NaN  \n11          NaN 2016-05-03          NaN 2016-04-29          NaN  \n12          NaN 2016-05-04          NaN 2016-04-30          NaN  \n13          NaN 2016-05-05          NaN 2016-05-01          NaN  \n14          NaN 2016-05-06          NaN 2016-05-02          NaN  \n15          NaN 2016-05-07          NaN 2016-05-03          NaN  \n16          NaN 2016-05-08          NaN 2016-05-04          NaN  \n17          NaN 2016-05-09          NaN 2016-05-05          NaN  \n18          NaN 2016-05-10          NaN 2016-05-06          NaN  \n19          NaN 2016-05-11          NaN 2016-05-07          NaN  \n20          NaN 2016-05-12          NaN 2016-05-08          NaN  \n21          NaN 2016-05-13          NaN 2016-05-09          NaN  \n22          NaN 2016-05-14          NaN 2016-05-10          NaN  \n23          NaN 2016-05-15          NaN 2016-05-11          NaN  \n24          NaN 2016-05-16          NaN 2016-05-12          NaN  \n25          NaN 2016-05-17          NaN 2016-05-13          NaN  \n26          NaN 2016-05-18          NaN 2016-05-14          NaN  \n27          NaN 2016-05-19          NaN 2016-05-15          NaN  ",
                        "text/html": "<div>\n<style scoped>\n    .dataframe tbody tr th:only-of-type {\n        vertical-align: middle;\n    }\n\n    .dataframe tbody tr th {\n        vertical-align: top;\n    }\n\n    .dataframe thead th {\n        text-align: right;\n    }\n</style>\n<table border=\"1\" class=\"dataframe\">\n  <thead>\n    <tr style=\"text-align: right;\">\n      <th></th>\n      <th>date</th>\n      <th>weekday</th>\n      <th>week</th>\n      <th>year</th>\n      <th>date_lag_1</th>\n      <th>count_lag_1</th>\n      <th>date_lag_2</th>\n      <th>count_lag_2</th>\n      <th>date_lag_3</th>\n      <th>count_lag_3</th>\n      <th>date_lag_7</th>\n      <th>count_lag_7</th>\n    </tr>\n  </thead>\n  <tbody>\n    <tr>\n      <th>0</th>\n      <td>2016-04-25</td>\n      <td>0</td>\n      <td>17</td>\n      <td>2016</td>\n      <td>2016-04-24</td>\n      <td>1.633158</td>\n      <td>2016-04-23</td>\n      <td>1.605838</td>\n      <td>2016-04-22</td>\n      <td>1.328862</td>\n      <td>2016-04-18</td>\n      <td>1.248245</td>\n    </tr>\n    <tr>\n      <th>1</th>\n      <td>2016-04-26</td>\n      <td>1</td>\n      <td>17</td>\n      <td>2016</td>\n      <td>2016-04-25</td>\n      <td>NaN</td>\n      <td>2016-04-24</td>\n      <td>1.633158</td>\n      <td>2016-04-23</td>\n      <td>1.605838</td>\n      <td>2016-04-19</td>\n      <td>1.232207</td>\n    </tr>\n    <tr>\n      <th>2</th>\n      <td>2016-04-27</td>\n      <td>2</td>\n      <td>17</td>\n      <td>2016</td>\n      <td>2016-04-26</td>\n      <td>NaN</td>\n      <td>2016-04-25</td>\n      <td>NaN</td>\n      <td>2016-04-24</td>\n      <td>1.633158</td>\n      <td>2016-04-20</td>\n      <td>1.159167</td>\n    </tr>\n    <tr>\n      <th>3</th>\n      <td>2016-04-28</td>\n      <td>3</td>\n      <td>17</td>\n      <td>2016</td>\n      <td>2016-04-27</td>\n      <td>NaN</td>\n      <td>2016-04-26</td>\n      <td>NaN</td>\n      <td>2016-04-25</td>\n      <td>NaN</td>\n      <td>2016-04-21</td>\n      <td>1.149000</td>\n    </tr>\n    <tr>\n      <th>4</th>\n      <td>2016-04-29</td>\n      <td>4</td>\n      <td>17</td>\n      <td>2016</td>\n      <td>2016-04-28</td>\n      <td>NaN</td>\n      <td>2016-04-27</td>\n      <td>NaN</td>\n      <td>2016-04-26</td>\n      <td>NaN</td>\n      <td>2016-04-22</td>\n      <td>1.328862</td>\n    </tr>\n    <tr>\n      <th>5</th>\n      <td>2016-04-30</td>\n      <td>5</td>\n      <td>17</td>\n      <td>2016</td>\n      <td>2016-04-29</td>\n      <td>NaN</td>\n      <td>2016-04-28</td>\n      <td>NaN</td>\n      <td>2016-04-27</td>\n      <td>NaN</td>\n      <td>2016-04-23</td>\n      <td>1.605838</td>\n    </tr>\n    <tr>\n      <th>6</th>\n      <td>2016-05-01</td>\n      <td>6</td>\n      <td>17</td>\n      <td>2016</td>\n      <td>2016-04-30</td>\n      <td>NaN</td>\n      <td>2016-04-29</td>\n      <td>NaN</td>\n      <td>2016-04-28</td>\n      <td>NaN</td>\n      <td>2016-04-24</td>\n      <td>1.633158</td>\n    </tr>\n    <tr>\n      <th>7</th>\n      <td>2016-05-02</td>\n      <td>0</td>\n      <td>18</td>\n      <td>2016</td>\n      <td>2016-05-01</td>\n      <td>NaN</td>\n      <td>2016-04-30</td>\n      <td>NaN</td>\n      <td>2016-04-29</td>\n      <td>NaN</td>\n      <td>2016-04-25</td>\n      <td>NaN</td>\n    </tr>\n    <tr>\n      <th>8</th>\n      <td>2016-05-03</td>\n      <td>1</td>\n      <td>18</td>\n      <td>2016</td>\n      <td>2016-05-02</td>\n      <td>NaN</td>\n      <td>2016-05-01</td>\n      <td>NaN</td>\n      <td>2016-04-30</td>\n      <td>NaN</td>\n      <td>2016-04-26</td>\n      <td>NaN</td>\n    </tr>\n    <tr>\n      <th>9</th>\n      <td>2016-05-04</td>\n      <td>2</td>\n      <td>18</td>\n      <td>2016</td>\n      <td>2016-05-03</td>\n      <td>NaN</td>\n      <td>2016-05-02</td>\n      <td>NaN</td>\n      <td>2016-05-01</td>\n      <td>NaN</td>\n      <td>2016-04-27</td>\n      <td>NaN</td>\n    </tr>\n    <tr>\n      <th>10</th>\n      <td>2016-05-05</td>\n      <td>3</td>\n      <td>18</td>\n      <td>2016</td>\n      <td>2016-05-04</td>\n      <td>NaN</td>\n      <td>2016-05-03</td>\n      <td>NaN</td>\n      <td>2016-05-02</td>\n      <td>NaN</td>\n      <td>2016-04-28</td>\n      <td>NaN</td>\n    </tr>\n    <tr>\n      <th>11</th>\n      <td>2016-05-06</td>\n      <td>4</td>\n      <td>18</td>\n      <td>2016</td>\n      <td>2016-05-05</td>\n      <td>NaN</td>\n      <td>2016-05-04</td>\n      <td>NaN</td>\n      <td>2016-05-03</td>\n      <td>NaN</td>\n      <td>2016-04-29</td>\n      <td>NaN</td>\n    </tr>\n    <tr>\n      <th>12</th>\n      <td>2016-05-07</td>\n      <td>5</td>\n      <td>18</td>\n      <td>2016</td>\n      <td>2016-05-06</td>\n      <td>NaN</td>\n      <td>2016-05-05</td>\n      <td>NaN</td>\n      <td>2016-05-04</td>\n      <td>NaN</td>\n      <td>2016-04-30</td>\n      <td>NaN</td>\n    </tr>\n    <tr>\n      <th>13</th>\n      <td>2016-05-08</td>\n      <td>6</td>\n      <td>18</td>\n      <td>2016</td>\n      <td>2016-05-07</td>\n      <td>NaN</td>\n      <td>2016-05-06</td>\n      <td>NaN</td>\n      <td>2016-05-05</td>\n      <td>NaN</td>\n      <td>2016-05-01</td>\n      <td>NaN</td>\n    </tr>\n    <tr>\n      <th>14</th>\n      <td>2016-05-09</td>\n      <td>0</td>\n      <td>19</td>\n      <td>2016</td>\n      <td>2016-05-08</td>\n      <td>NaN</td>\n      <td>2016-05-07</td>\n      <td>NaN</td>\n      <td>2016-05-06</td>\n      <td>NaN</td>\n      <td>2016-05-02</td>\n      <td>NaN</td>\n    </tr>\n    <tr>\n      <th>15</th>\n      <td>2016-05-10</td>\n      <td>1</td>\n      <td>19</td>\n      <td>2016</td>\n      <td>2016-05-09</td>\n      <td>NaN</td>\n      <td>2016-05-08</td>\n      <td>NaN</td>\n      <td>2016-05-07</td>\n      <td>NaN</td>\n      <td>2016-05-03</td>\n      <td>NaN</td>\n    </tr>\n    <tr>\n      <th>16</th>\n      <td>2016-05-11</td>\n      <td>2</td>\n      <td>19</td>\n      <td>2016</td>\n      <td>2016-05-10</td>\n      <td>NaN</td>\n      <td>2016-05-09</td>\n      <td>NaN</td>\n      <td>2016-05-08</td>\n      <td>NaN</td>\n      <td>2016-05-04</td>\n      <td>NaN</td>\n    </tr>\n    <tr>\n      <th>17</th>\n      <td>2016-05-12</td>\n      <td>3</td>\n      <td>19</td>\n      <td>2016</td>\n      <td>2016-05-11</td>\n      <td>NaN</td>\n      <td>2016-05-10</td>\n      <td>NaN</td>\n      <td>2016-05-09</td>\n      <td>NaN</td>\n      <td>2016-05-05</td>\n      <td>NaN</td>\n    </tr>\n    <tr>\n      <th>18</th>\n      <td>2016-05-13</td>\n      <td>4</td>\n      <td>19</td>\n      <td>2016</td>\n      <td>2016-05-12</td>\n      <td>NaN</td>\n      <td>2016-05-11</td>\n      <td>NaN</td>\n      <td>2016-05-10</td>\n      <td>NaN</td>\n      <td>2016-05-06</td>\n      <td>NaN</td>\n    </tr>\n    <tr>\n      <th>19</th>\n      <td>2016-05-14</td>\n      <td>5</td>\n      <td>19</td>\n      <td>2016</td>\n      <td>2016-05-13</td>\n      <td>NaN</td>\n      <td>2016-05-12</td>\n      <td>NaN</td>\n      <td>2016-05-11</td>\n      <td>NaN</td>\n      <td>2016-05-07</td>\n      <td>NaN</td>\n    </tr>\n    <tr>\n      <th>20</th>\n      <td>2016-05-15</td>\n      <td>6</td>\n      <td>19</td>\n      <td>2016</td>\n      <td>2016-05-14</td>\n      <td>NaN</td>\n      <td>2016-05-13</td>\n      <td>NaN</td>\n      <td>2016-05-12</td>\n      <td>NaN</td>\n      <td>2016-05-08</td>\n      <td>NaN</td>\n    </tr>\n    <tr>\n      <th>21</th>\n      <td>2016-05-16</td>\n      <td>0</td>\n      <td>20</td>\n      <td>2016</td>\n      <td>2016-05-15</td>\n      <td>NaN</td>\n      <td>2016-05-14</td>\n      <td>NaN</td>\n      <td>2016-05-13</td>\n      <td>NaN</td>\n      <td>2016-05-09</td>\n      <td>NaN</td>\n    </tr>\n    <tr>\n      <th>22</th>\n      <td>2016-05-17</td>\n      <td>1</td>\n      <td>20</td>\n      <td>2016</td>\n      <td>2016-05-16</td>\n      <td>NaN</td>\n      <td>2016-05-15</td>\n      <td>NaN</td>\n      <td>2016-05-14</td>\n      <td>NaN</td>\n      <td>2016-05-10</td>\n      <td>NaN</td>\n    </tr>\n    <tr>\n      <th>23</th>\n      <td>2016-05-18</td>\n      <td>2</td>\n      <td>20</td>\n      <td>2016</td>\n      <td>2016-05-17</td>\n      <td>NaN</td>\n      <td>2016-05-16</td>\n      <td>NaN</td>\n      <td>2016-05-15</td>\n      <td>NaN</td>\n      <td>2016-05-11</td>\n      <td>NaN</td>\n    </tr>\n    <tr>\n      <th>24</th>\n      <td>2016-05-19</td>\n      <td>3</td>\n      <td>20</td>\n      <td>2016</td>\n      <td>2016-05-18</td>\n      <td>NaN</td>\n      <td>2016-05-17</td>\n      <td>NaN</td>\n      <td>2016-05-16</td>\n      <td>NaN</td>\n      <td>2016-05-12</td>\n      <td>NaN</td>\n    </tr>\n    <tr>\n      <th>25</th>\n      <td>2016-05-20</td>\n      <td>4</td>\n      <td>20</td>\n      <td>2016</td>\n      <td>2016-05-19</td>\n      <td>NaN</td>\n      <td>2016-05-18</td>\n      <td>NaN</td>\n      <td>2016-05-17</td>\n      <td>NaN</td>\n      <td>2016-05-13</td>\n      <td>NaN</td>\n    </tr>\n    <tr>\n      <th>26</th>\n      <td>2016-05-21</td>\n      <td>5</td>\n      <td>20</td>\n      <td>2016</td>\n      <td>2016-05-20</td>\n      <td>NaN</td>\n      <td>2016-05-19</td>\n      <td>NaN</td>\n      <td>2016-05-18</td>\n      <td>NaN</td>\n      <td>2016-05-14</td>\n      <td>NaN</td>\n    </tr>\n    <tr>\n      <th>27</th>\n      <td>2016-05-22</td>\n      <td>6</td>\n      <td>20</td>\n      <td>2016</td>\n      <td>2016-05-21</td>\n      <td>NaN</td>\n      <td>2016-05-20</td>\n      <td>NaN</td>\n      <td>2016-05-19</td>\n      <td>NaN</td>\n      <td>2016-05-15</td>\n      <td>NaN</td>\n    </tr>\n  </tbody>\n</table>\n</div>"
                    },
                    "metadata": {}
                }
            ]
        },
        {
            "cell_type": "code",
            "source": "lagged_df",
            "metadata": {
                "execution": {
                    "iopub.status.busy": "2024-07-22T07:53:39.699964Z",
                    "iopub.execute_input": "2024-07-22T07:53:39.700399Z",
                    "iopub.status.idle": "2024-07-22T07:53:39.715321Z",
                    "shell.execute_reply.started": "2024-07-22T07:53:39.700365Z",
                    "shell.execute_reply": "2024-07-22T07:53:39.714068Z"
                },
                "trusted": true
            },
            "execution_count": 36,
            "outputs": [
                {
                    "execution_count": 36,
                    "output_type": "execute_result",
                    "data": {
                        "text/plain": "         date date_lag_1  count_lag_1\n0  2016-04-25 2016-04-24     1.633158\n1  2016-04-26 2016-04-25          NaN\n2  2016-04-27 2016-04-26          NaN\n3  2016-04-28 2016-04-27          NaN\n4  2016-04-29 2016-04-28          NaN\n5  2016-04-30 2016-04-29          NaN\n6  2016-05-01 2016-04-30          NaN\n7  2016-05-02 2016-05-01          NaN\n8  2016-05-03 2016-05-02          NaN\n9  2016-05-04 2016-05-03          NaN\n10 2016-05-05 2016-05-04          NaN\n11 2016-05-06 2016-05-05          NaN\n12 2016-05-07 2016-05-06          NaN\n13 2016-05-08 2016-05-07          NaN\n14 2016-05-09 2016-05-08          NaN\n15 2016-05-10 2016-05-09          NaN\n16 2016-05-11 2016-05-10          NaN\n17 2016-05-12 2016-05-11          NaN\n18 2016-05-13 2016-05-12          NaN\n19 2016-05-14 2016-05-13          NaN\n20 2016-05-15 2016-05-14          NaN\n21 2016-05-16 2016-05-15          NaN\n22 2016-05-17 2016-05-16          NaN\n23 2016-05-18 2016-05-17          NaN\n24 2016-05-19 2016-05-18          NaN\n25 2016-05-20 2016-05-19          NaN\n26 2016-05-21 2016-05-20          NaN\n27 2016-05-22 2016-05-21          NaN",
                        "text/html": "<div>\n<style scoped>\n    .dataframe tbody tr th:only-of-type {\n        vertical-align: middle;\n    }\n\n    .dataframe tbody tr th {\n        vertical-align: top;\n    }\n\n    .dataframe thead th {\n        text-align: right;\n    }\n</style>\n<table border=\"1\" class=\"dataframe\">\n  <thead>\n    <tr style=\"text-align: right;\">\n      <th></th>\n      <th>date</th>\n      <th>date_lag_1</th>\n      <th>count_lag_1</th>\n    </tr>\n  </thead>\n  <tbody>\n    <tr>\n      <th>0</th>\n      <td>2016-04-25</td>\n      <td>2016-04-24</td>\n      <td>1.633158</td>\n    </tr>\n    <tr>\n      <th>1</th>\n      <td>2016-04-26</td>\n      <td>2016-04-25</td>\n      <td>NaN</td>\n    </tr>\n    <tr>\n      <th>2</th>\n      <td>2016-04-27</td>\n      <td>2016-04-26</td>\n      <td>NaN</td>\n    </tr>\n    <tr>\n      <th>3</th>\n      <td>2016-04-28</td>\n      <td>2016-04-27</td>\n      <td>NaN</td>\n    </tr>\n    <tr>\n      <th>4</th>\n      <td>2016-04-29</td>\n      <td>2016-04-28</td>\n      <td>NaN</td>\n    </tr>\n    <tr>\n      <th>5</th>\n      <td>2016-04-30</td>\n      <td>2016-04-29</td>\n      <td>NaN</td>\n    </tr>\n    <tr>\n      <th>6</th>\n      <td>2016-05-01</td>\n      <td>2016-04-30</td>\n      <td>NaN</td>\n    </tr>\n    <tr>\n      <th>7</th>\n      <td>2016-05-02</td>\n      <td>2016-05-01</td>\n      <td>NaN</td>\n    </tr>\n    <tr>\n      <th>8</th>\n      <td>2016-05-03</td>\n      <td>2016-05-02</td>\n      <td>NaN</td>\n    </tr>\n    <tr>\n      <th>9</th>\n      <td>2016-05-04</td>\n      <td>2016-05-03</td>\n      <td>NaN</td>\n    </tr>\n    <tr>\n      <th>10</th>\n      <td>2016-05-05</td>\n      <td>2016-05-04</td>\n      <td>NaN</td>\n    </tr>\n    <tr>\n      <th>11</th>\n      <td>2016-05-06</td>\n      <td>2016-05-05</td>\n      <td>NaN</td>\n    </tr>\n    <tr>\n      <th>12</th>\n      <td>2016-05-07</td>\n      <td>2016-05-06</td>\n      <td>NaN</td>\n    </tr>\n    <tr>\n      <th>13</th>\n      <td>2016-05-08</td>\n      <td>2016-05-07</td>\n      <td>NaN</td>\n    </tr>\n    <tr>\n      <th>14</th>\n      <td>2016-05-09</td>\n      <td>2016-05-08</td>\n      <td>NaN</td>\n    </tr>\n    <tr>\n      <th>15</th>\n      <td>2016-05-10</td>\n      <td>2016-05-09</td>\n      <td>NaN</td>\n    </tr>\n    <tr>\n      <th>16</th>\n      <td>2016-05-11</td>\n      <td>2016-05-10</td>\n      <td>NaN</td>\n    </tr>\n    <tr>\n      <th>17</th>\n      <td>2016-05-12</td>\n      <td>2016-05-11</td>\n      <td>NaN</td>\n    </tr>\n    <tr>\n      <th>18</th>\n      <td>2016-05-13</td>\n      <td>2016-05-12</td>\n      <td>NaN</td>\n    </tr>\n    <tr>\n      <th>19</th>\n      <td>2016-05-14</td>\n      <td>2016-05-13</td>\n      <td>NaN</td>\n    </tr>\n    <tr>\n      <th>20</th>\n      <td>2016-05-15</td>\n      <td>2016-05-14</td>\n      <td>NaN</td>\n    </tr>\n    <tr>\n      <th>21</th>\n      <td>2016-05-16</td>\n      <td>2016-05-15</td>\n      <td>NaN</td>\n    </tr>\n    <tr>\n      <th>22</th>\n      <td>2016-05-17</td>\n      <td>2016-05-16</td>\n      <td>NaN</td>\n    </tr>\n    <tr>\n      <th>23</th>\n      <td>2016-05-18</td>\n      <td>2016-05-17</td>\n      <td>NaN</td>\n    </tr>\n    <tr>\n      <th>24</th>\n      <td>2016-05-19</td>\n      <td>2016-05-18</td>\n      <td>NaN</td>\n    </tr>\n    <tr>\n      <th>25</th>\n      <td>2016-05-20</td>\n      <td>2016-05-19</td>\n      <td>NaN</td>\n    </tr>\n    <tr>\n      <th>26</th>\n      <td>2016-05-21</td>\n      <td>2016-05-20</td>\n      <td>NaN</td>\n    </tr>\n    <tr>\n      <th>27</th>\n      <td>2016-05-22</td>\n      <td>2016-05-21</td>\n      <td>NaN</td>\n    </tr>\n  </tbody>\n</table>\n</div>"
                    },
                    "metadata": {}
                }
            ]
        },
        {
            "cell_type": "code",
            "source": "",
            "metadata": {
                "execution": {
                    "iopub.status.busy": "2024-07-22T07:40:27.536515Z",
                    "iopub.execute_input": "2024-07-22T07:40:27.536975Z",
                    "iopub.status.idle": "2024-07-22T07:40:27.545059Z",
                    "shell.execute_reply.started": "2024-07-22T07:40:27.536937Z",
                    "shell.execute_reply": "2024-07-22T07:40:27.543802Z"
                },
                "trusted": true
            },
            "execution_count": 27,
            "outputs": [
                {
                    "execution_count": 27,
                    "output_type": "execute_result",
                    "data": {
                        "text/plain": "DatetimeIndex(['2016-04-25', '2016-04-26', '2016-04-27', '2016-04-28',\n               '2016-04-29', '2016-04-30', '2016-05-01', '2016-05-02',\n               '2016-05-03', '2016-05-04', '2016-05-05', '2016-05-06',\n               '2016-05-07', '2016-05-08', '2016-05-09', '2016-05-10',\n               '2016-05-11', '2016-05-12', '2016-05-13', '2016-05-14',\n               '2016-05-15', '2016-05-16', '2016-05-17', '2016-05-18',\n               '2016-05-19', '2016-05-20', '2016-05-21', '2016-05-22'],\n              dtype='datetime64[ns]', freq='D')"
                    },
                    "metadata": {}
                }
            ]
        },
        {
            "cell_type": "code",
            "source": "mean_validation_sales",
            "metadata": {
                "execution": {
                    "iopub.status.busy": "2024-07-22T07:39:21.495327Z",
                    "iopub.execute_input": "2024-07-22T07:39:21.495751Z",
                    "iopub.status.idle": "2024-07-22T07:39:21.520655Z",
                    "shell.execute_reply.started": "2024-07-22T07:39:21.495717Z",
                    "shell.execute_reply": "2024-07-22T07:39:21.519447Z"
                },
                "trusted": true
            },
            "execution_count": 23,
            "outputs": [
                {
                    "execution_count": 23,
                    "output_type": "execute_result",
                    "data": {
                        "text/plain": "           date       d     count  weekday  week  year date_lag_1  \\\n0    2011-01-29     d_1  1.070220        5     4  2011 2011-01-28   \n1    2011-01-30     d_2  1.041292        6     4  2011 2011-01-29   \n2    2011-01-31     d_3  0.780026        0     5  2011 2011-01-30   \n3    2011-02-01     d_4  0.833454        1     5  2011 2011-01-31   \n4    2011-02-02     d_5  0.627944        2     5  2011 2011-02-01   \n...         ...     ...       ...      ...   ...   ...        ...   \n1908 2016-04-20  d_1909  1.159167        2    16  2016 2016-04-19   \n1909 2016-04-21  d_1910  1.149000        3    16  2016 2016-04-20   \n1910 2016-04-22  d_1911  1.328862        4    16  2016 2016-04-21   \n1911 2016-04-23  d_1912  1.605838        5    16  2016 2016-04-22   \n1912 2016-04-24  d_1913  1.633158        6    16  2016 2016-04-23   \n\n      count_lag_1 date_lag_2  count_lag_2 date_lag_3  count_lag_3 date_lag_7  \\\n0             NaN 2011-01-27          NaN 2011-01-26          NaN 2011-01-22   \n1        1.070220 2011-01-28          NaN 2011-01-27          NaN 2011-01-23   \n2        1.041292 2011-01-29     1.070220 2011-01-28          NaN 2011-01-24   \n3        0.780026 2011-01-30     1.041292 2011-01-29     1.070220 2011-01-25   \n4        0.833454 2011-01-31     0.780026 2011-01-30     1.041292 2011-01-26   \n...           ...        ...          ...        ...          ...        ...   \n1908     1.232207 2016-04-18     1.248245 2016-04-17     1.693670 2016-04-13   \n1909     1.159167 2016-04-19     1.232207 2016-04-18     1.248245 2016-04-14   \n1910     1.149000 2016-04-20     1.159167 2016-04-19     1.232207 2016-04-15   \n1911     1.328862 2016-04-21     1.149000 2016-04-20     1.159167 2016-04-16   \n1912     1.605838 2016-04-22     1.328862 2016-04-21     1.149000 2016-04-17   \n\n      count_lag_7  \n0             NaN  \n1             NaN  \n2             NaN  \n3             NaN  \n4             NaN  \n...           ...  \n1908     1.154247  \n1909     1.230863  \n1910     1.370581  \n1911     1.586159  \n1912     1.693670  \n\n[1913 rows x 14 columns]",
                        "text/html": "<div>\n<style scoped>\n    .dataframe tbody tr th:only-of-type {\n        vertical-align: middle;\n    }\n\n    .dataframe tbody tr th {\n        vertical-align: top;\n    }\n\n    .dataframe thead th {\n        text-align: right;\n    }\n</style>\n<table border=\"1\" class=\"dataframe\">\n  <thead>\n    <tr style=\"text-align: right;\">\n      <th></th>\n      <th>date</th>\n      <th>d</th>\n      <th>count</th>\n      <th>weekday</th>\n      <th>week</th>\n      <th>year</th>\n      <th>date_lag_1</th>\n      <th>count_lag_1</th>\n      <th>date_lag_2</th>\n      <th>count_lag_2</th>\n      <th>date_lag_3</th>\n      <th>count_lag_3</th>\n      <th>date_lag_7</th>\n      <th>count_lag_7</th>\n    </tr>\n  </thead>\n  <tbody>\n    <tr>\n      <th>0</th>\n      <td>2011-01-29</td>\n      <td>d_1</td>\n      <td>1.070220</td>\n      <td>5</td>\n      <td>4</td>\n      <td>2011</td>\n      <td>2011-01-28</td>\n      <td>NaN</td>\n      <td>2011-01-27</td>\n      <td>NaN</td>\n      <td>2011-01-26</td>\n      <td>NaN</td>\n      <td>2011-01-22</td>\n      <td>NaN</td>\n    </tr>\n    <tr>\n      <th>1</th>\n      <td>2011-01-30</td>\n      <td>d_2</td>\n      <td>1.041292</td>\n      <td>6</td>\n      <td>4</td>\n      <td>2011</td>\n      <td>2011-01-29</td>\n      <td>1.070220</td>\n      <td>2011-01-28</td>\n      <td>NaN</td>\n      <td>2011-01-27</td>\n      <td>NaN</td>\n      <td>2011-01-23</td>\n      <td>NaN</td>\n    </tr>\n    <tr>\n      <th>2</th>\n      <td>2011-01-31</td>\n      <td>d_3</td>\n      <td>0.780026</td>\n      <td>0</td>\n      <td>5</td>\n      <td>2011</td>\n      <td>2011-01-30</td>\n      <td>1.041292</td>\n      <td>2011-01-29</td>\n      <td>1.070220</td>\n      <td>2011-01-28</td>\n      <td>NaN</td>\n      <td>2011-01-24</td>\n      <td>NaN</td>\n    </tr>\n    <tr>\n      <th>3</th>\n      <td>2011-02-01</td>\n      <td>d_4</td>\n      <td>0.833454</td>\n      <td>1</td>\n      <td>5</td>\n      <td>2011</td>\n      <td>2011-01-31</td>\n      <td>0.780026</td>\n      <td>2011-01-30</td>\n      <td>1.041292</td>\n      <td>2011-01-29</td>\n      <td>1.070220</td>\n      <td>2011-01-25</td>\n      <td>NaN</td>\n    </tr>\n    <tr>\n      <th>4</th>\n      <td>2011-02-02</td>\n      <td>d_5</td>\n      <td>0.627944</td>\n      <td>2</td>\n      <td>5</td>\n      <td>2011</td>\n      <td>2011-02-01</td>\n      <td>0.833454</td>\n      <td>2011-01-31</td>\n      <td>0.780026</td>\n      <td>2011-01-30</td>\n      <td>1.041292</td>\n      <td>2011-01-26</td>\n      <td>NaN</td>\n    </tr>\n    <tr>\n      <th>...</th>\n      <td>...</td>\n      <td>...</td>\n      <td>...</td>\n      <td>...</td>\n      <td>...</td>\n      <td>...</td>\n      <td>...</td>\n      <td>...</td>\n      <td>...</td>\n      <td>...</td>\n      <td>...</td>\n      <td>...</td>\n      <td>...</td>\n      <td>...</td>\n    </tr>\n    <tr>\n      <th>1908</th>\n      <td>2016-04-20</td>\n      <td>d_1909</td>\n      <td>1.159167</td>\n      <td>2</td>\n      <td>16</td>\n      <td>2016</td>\n      <td>2016-04-19</td>\n      <td>1.232207</td>\n      <td>2016-04-18</td>\n      <td>1.248245</td>\n      <td>2016-04-17</td>\n      <td>1.693670</td>\n      <td>2016-04-13</td>\n      <td>1.154247</td>\n    </tr>\n    <tr>\n      <th>1909</th>\n      <td>2016-04-21</td>\n      <td>d_1910</td>\n      <td>1.149000</td>\n      <td>3</td>\n      <td>16</td>\n      <td>2016</td>\n      <td>2016-04-20</td>\n      <td>1.159167</td>\n      <td>2016-04-19</td>\n      <td>1.232207</td>\n      <td>2016-04-18</td>\n      <td>1.248245</td>\n      <td>2016-04-14</td>\n      <td>1.230863</td>\n    </tr>\n    <tr>\n      <th>1910</th>\n      <td>2016-04-22</td>\n      <td>d_1911</td>\n      <td>1.328862</td>\n      <td>4</td>\n      <td>16</td>\n      <td>2016</td>\n      <td>2016-04-21</td>\n      <td>1.149000</td>\n      <td>2016-04-20</td>\n      <td>1.159167</td>\n      <td>2016-04-19</td>\n      <td>1.232207</td>\n      <td>2016-04-15</td>\n      <td>1.370581</td>\n    </tr>\n    <tr>\n      <th>1911</th>\n      <td>2016-04-23</td>\n      <td>d_1912</td>\n      <td>1.605838</td>\n      <td>5</td>\n      <td>16</td>\n      <td>2016</td>\n      <td>2016-04-22</td>\n      <td>1.328862</td>\n      <td>2016-04-21</td>\n      <td>1.149000</td>\n      <td>2016-04-20</td>\n      <td>1.159167</td>\n      <td>2016-04-16</td>\n      <td>1.586159</td>\n    </tr>\n    <tr>\n      <th>1912</th>\n      <td>2016-04-24</td>\n      <td>d_1913</td>\n      <td>1.633158</td>\n      <td>6</td>\n      <td>16</td>\n      <td>2016</td>\n      <td>2016-04-23</td>\n      <td>1.605838</td>\n      <td>2016-04-22</td>\n      <td>1.328862</td>\n      <td>2016-04-21</td>\n      <td>1.149000</td>\n      <td>2016-04-17</td>\n      <td>1.693670</td>\n    </tr>\n  </tbody>\n</table>\n<p>1913 rows × 14 columns</p>\n</div>"
                    },
                    "metadata": {}
                }
            ]
        },
        {
            "cell_type": "markdown",
            "source": "## EVALUATION DATASET -- PRIVATE LEADERBOARD",
            "metadata": {
                "execution": {
                    "iopub.status.busy": "2024-07-13T21:43:03.183333Z",
                    "iopub.execute_input": "2024-07-13T21:43:03.183726Z",
                    "iopub.status.idle": "2024-07-13T21:43:03.189495Z",
                    "shell.execute_reply.started": "2024-07-13T21:43:03.183695Z",
                    "shell.execute_reply": "2024-07-13T21:43:03.188237Z"
                }
            }
        },
        {
            "cell_type": "code",
            "source": "SALES_TRAIN_EVALUATION",
            "metadata": {
                "trusted": true
            },
            "execution_count": null,
            "outputs": []
        },
        {
            "cell_type": "code",
            "source": "SAMPLE_SUBMISSION",
            "metadata": {
                "execution": {
                    "iopub.status.busy": "2024-07-22T07:37:40.146765Z",
                    "iopub.execute_input": "2024-07-22T07:37:40.148030Z",
                    "iopub.status.idle": "2024-07-22T07:37:40.216938Z",
                    "shell.execute_reply.started": "2024-07-22T07:37:40.147973Z",
                    "shell.execute_reply": "2024-07-22T07:37:40.215831Z"
                },
                "trusted": true
            },
            "execution_count": 20,
            "outputs": [
                {
                    "execution_count": 20,
                    "output_type": "execute_result",
                    "data": {
                        "text/plain": "                                  id  F1  F2  F3  F4  F5  F6  F7  F8  F9  ...  \\\n0      HOBBIES_1_001_CA_1_validation   0   0   0   0   0   0   0   0   0  ...   \n1      HOBBIES_1_002_CA_1_validation   0   0   0   0   0   0   0   0   0  ...   \n2      HOBBIES_1_003_CA_1_validation   0   0   0   0   0   0   0   0   0  ...   \n3      HOBBIES_1_004_CA_1_validation   0   0   0   0   0   0   0   0   0  ...   \n4      HOBBIES_1_005_CA_1_validation   0   0   0   0   0   0   0   0   0  ...   \n...                              ...  ..  ..  ..  ..  ..  ..  ..  ..  ..  ...   \n60975    FOODS_3_823_WI_3_evaluation   0   0   0   0   0   0   0   0   0  ...   \n60976    FOODS_3_824_WI_3_evaluation   0   0   0   0   0   0   0   0   0  ...   \n60977    FOODS_3_825_WI_3_evaluation   0   0   0   0   0   0   0   0   0  ...   \n60978    FOODS_3_826_WI_3_evaluation   0   0   0   0   0   0   0   0   0  ...   \n60979    FOODS_3_827_WI_3_evaluation   0   0   0   0   0   0   0   0   0  ...   \n\n       F19  F20  F21  F22  F23  F24  F25  F26  F27  F28  \n0        0    0    0    0    0    0    0    0    0    0  \n1        0    0    0    0    0    0    0    0    0    0  \n2        0    0    0    0    0    0    0    0    0    0  \n3        0    0    0    0    0    0    0    0    0    0  \n4        0    0    0    0    0    0    0    0    0    0  \n...    ...  ...  ...  ...  ...  ...  ...  ...  ...  ...  \n60975    0    0    0    0    0    0    0    0    0    0  \n60976    0    0    0    0    0    0    0    0    0    0  \n60977    0    0    0    0    0    0    0    0    0    0  \n60978    0    0    0    0    0    0    0    0    0    0  \n60979    0    0    0    0    0    0    0    0    0    0  \n\n[60980 rows x 29 columns]",
                        "text/html": "<div>\n<style scoped>\n    .dataframe tbody tr th:only-of-type {\n        vertical-align: middle;\n    }\n\n    .dataframe tbody tr th {\n        vertical-align: top;\n    }\n\n    .dataframe thead th {\n        text-align: right;\n    }\n</style>\n<table border=\"1\" class=\"dataframe\">\n  <thead>\n    <tr style=\"text-align: right;\">\n      <th></th>\n      <th>id</th>\n      <th>F1</th>\n      <th>F2</th>\n      <th>F3</th>\n      <th>F4</th>\n      <th>F5</th>\n      <th>F6</th>\n      <th>F7</th>\n      <th>F8</th>\n      <th>F9</th>\n      <th>...</th>\n      <th>F19</th>\n      <th>F20</th>\n      <th>F21</th>\n      <th>F22</th>\n      <th>F23</th>\n      <th>F24</th>\n      <th>F25</th>\n      <th>F26</th>\n      <th>F27</th>\n      <th>F28</th>\n    </tr>\n  </thead>\n  <tbody>\n    <tr>\n      <th>0</th>\n      <td>HOBBIES_1_001_CA_1_validation</td>\n      <td>0</td>\n      <td>0</td>\n      <td>0</td>\n      <td>0</td>\n      <td>0</td>\n      <td>0</td>\n      <td>0</td>\n      <td>0</td>\n      <td>0</td>\n      <td>...</td>\n      <td>0</td>\n      <td>0</td>\n      <td>0</td>\n      <td>0</td>\n      <td>0</td>\n      <td>0</td>\n      <td>0</td>\n      <td>0</td>\n      <td>0</td>\n      <td>0</td>\n    </tr>\n    <tr>\n      <th>1</th>\n      <td>HOBBIES_1_002_CA_1_validation</td>\n      <td>0</td>\n      <td>0</td>\n      <td>0</td>\n      <td>0</td>\n      <td>0</td>\n      <td>0</td>\n      <td>0</td>\n      <td>0</td>\n      <td>0</td>\n      <td>...</td>\n      <td>0</td>\n      <td>0</td>\n      <td>0</td>\n      <td>0</td>\n      <td>0</td>\n      <td>0</td>\n      <td>0</td>\n      <td>0</td>\n      <td>0</td>\n      <td>0</td>\n    </tr>\n    <tr>\n      <th>2</th>\n      <td>HOBBIES_1_003_CA_1_validation</td>\n      <td>0</td>\n      <td>0</td>\n      <td>0</td>\n      <td>0</td>\n      <td>0</td>\n      <td>0</td>\n      <td>0</td>\n      <td>0</td>\n      <td>0</td>\n      <td>...</td>\n      <td>0</td>\n      <td>0</td>\n      <td>0</td>\n      <td>0</td>\n      <td>0</td>\n      <td>0</td>\n      <td>0</td>\n      <td>0</td>\n      <td>0</td>\n      <td>0</td>\n    </tr>\n    <tr>\n      <th>3</th>\n      <td>HOBBIES_1_004_CA_1_validation</td>\n      <td>0</td>\n      <td>0</td>\n      <td>0</td>\n      <td>0</td>\n      <td>0</td>\n      <td>0</td>\n      <td>0</td>\n      <td>0</td>\n      <td>0</td>\n      <td>...</td>\n      <td>0</td>\n      <td>0</td>\n      <td>0</td>\n      <td>0</td>\n      <td>0</td>\n      <td>0</td>\n      <td>0</td>\n      <td>0</td>\n      <td>0</td>\n      <td>0</td>\n    </tr>\n    <tr>\n      <th>4</th>\n      <td>HOBBIES_1_005_CA_1_validation</td>\n      <td>0</td>\n      <td>0</td>\n      <td>0</td>\n      <td>0</td>\n      <td>0</td>\n      <td>0</td>\n      <td>0</td>\n      <td>0</td>\n      <td>0</td>\n      <td>...</td>\n      <td>0</td>\n      <td>0</td>\n      <td>0</td>\n      <td>0</td>\n      <td>0</td>\n      <td>0</td>\n      <td>0</td>\n      <td>0</td>\n      <td>0</td>\n      <td>0</td>\n    </tr>\n    <tr>\n      <th>...</th>\n      <td>...</td>\n      <td>...</td>\n      <td>...</td>\n      <td>...</td>\n      <td>...</td>\n      <td>...</td>\n      <td>...</td>\n      <td>...</td>\n      <td>...</td>\n      <td>...</td>\n      <td>...</td>\n      <td>...</td>\n      <td>...</td>\n      <td>...</td>\n      <td>...</td>\n      <td>...</td>\n      <td>...</td>\n      <td>...</td>\n      <td>...</td>\n      <td>...</td>\n      <td>...</td>\n    </tr>\n    <tr>\n      <th>60975</th>\n      <td>FOODS_3_823_WI_3_evaluation</td>\n      <td>0</td>\n      <td>0</td>\n      <td>0</td>\n      <td>0</td>\n      <td>0</td>\n      <td>0</td>\n      <td>0</td>\n      <td>0</td>\n      <td>0</td>\n      <td>...</td>\n      <td>0</td>\n      <td>0</td>\n      <td>0</td>\n      <td>0</td>\n      <td>0</td>\n      <td>0</td>\n      <td>0</td>\n      <td>0</td>\n      <td>0</td>\n      <td>0</td>\n    </tr>\n    <tr>\n      <th>60976</th>\n      <td>FOODS_3_824_WI_3_evaluation</td>\n      <td>0</td>\n      <td>0</td>\n      <td>0</td>\n      <td>0</td>\n      <td>0</td>\n      <td>0</td>\n      <td>0</td>\n      <td>0</td>\n      <td>0</td>\n      <td>...</td>\n      <td>0</td>\n      <td>0</td>\n      <td>0</td>\n      <td>0</td>\n      <td>0</td>\n      <td>0</td>\n      <td>0</td>\n      <td>0</td>\n      <td>0</td>\n      <td>0</td>\n    </tr>\n    <tr>\n      <th>60977</th>\n      <td>FOODS_3_825_WI_3_evaluation</td>\n      <td>0</td>\n      <td>0</td>\n      <td>0</td>\n      <td>0</td>\n      <td>0</td>\n      <td>0</td>\n      <td>0</td>\n      <td>0</td>\n      <td>0</td>\n      <td>...</td>\n      <td>0</td>\n      <td>0</td>\n      <td>0</td>\n      <td>0</td>\n      <td>0</td>\n      <td>0</td>\n      <td>0</td>\n      <td>0</td>\n      <td>0</td>\n      <td>0</td>\n    </tr>\n    <tr>\n      <th>60978</th>\n      <td>FOODS_3_826_WI_3_evaluation</td>\n      <td>0</td>\n      <td>0</td>\n      <td>0</td>\n      <td>0</td>\n      <td>0</td>\n      <td>0</td>\n      <td>0</td>\n      <td>0</td>\n      <td>0</td>\n      <td>...</td>\n      <td>0</td>\n      <td>0</td>\n      <td>0</td>\n      <td>0</td>\n      <td>0</td>\n      <td>0</td>\n      <td>0</td>\n      <td>0</td>\n      <td>0</td>\n      <td>0</td>\n    </tr>\n    <tr>\n      <th>60979</th>\n      <td>FOODS_3_827_WI_3_evaluation</td>\n      <td>0</td>\n      <td>0</td>\n      <td>0</td>\n      <td>0</td>\n      <td>0</td>\n      <td>0</td>\n      <td>0</td>\n      <td>0</td>\n      <td>0</td>\n      <td>...</td>\n      <td>0</td>\n      <td>0</td>\n      <td>0</td>\n      <td>0</td>\n      <td>0</td>\n      <td>0</td>\n      <td>0</td>\n      <td>0</td>\n      <td>0</td>\n      <td>0</td>\n    </tr>\n  </tbody>\n</table>\n<p>60980 rows × 29 columns</p>\n</div>"
                    },
                    "metadata": {}
                }
            ]
        },
        {
            "cell_type": "code",
            "source": "",
            "metadata": {},
            "execution_count": null,
            "outputs": []
        },
        {
            "cell_type": "markdown",
            "source": "## Submission",
            "metadata": {}
        },
        {
            "cell_type": "code",
            "source": "SAMPLE_SUBMISSION",
            "metadata": {
                "execution": {
                    "iopub.status.busy": "2024-07-22T06:24:44.164355Z",
                    "iopub.execute_input": "2024-07-22T06:24:44.164714Z",
                    "iopub.status.idle": "2024-07-22T06:24:44.230946Z",
                    "shell.execute_reply.started": "2024-07-22T06:24:44.164683Z",
                    "shell.execute_reply": "2024-07-22T06:24:44.229752Z"
                },
                "trusted": true
            },
            "execution_count": 25,
            "outputs": [
                {
                    "execution_count": 25,
                    "output_type": "execute_result",
                    "data": {
                        "text/plain": "                                  id  F1  F2  F3  F4  F5  F6  F7  F8  F9  ...  \\\n0      HOBBIES_1_001_CA_1_validation   0   0   0   0   0   0   0   0   0  ...   \n1      HOBBIES_1_002_CA_1_validation   0   0   0   0   0   0   0   0   0  ...   \n2      HOBBIES_1_003_CA_1_validation   0   0   0   0   0   0   0   0   0  ...   \n3      HOBBIES_1_004_CA_1_validation   0   0   0   0   0   0   0   0   0  ...   \n4      HOBBIES_1_005_CA_1_validation   0   0   0   0   0   0   0   0   0  ...   \n...                              ...  ..  ..  ..  ..  ..  ..  ..  ..  ..  ...   \n60975    FOODS_3_823_WI_3_evaluation   0   0   0   0   0   0   0   0   0  ...   \n60976    FOODS_3_824_WI_3_evaluation   0   0   0   0   0   0   0   0   0  ...   \n60977    FOODS_3_825_WI_3_evaluation   0   0   0   0   0   0   0   0   0  ...   \n60978    FOODS_3_826_WI_3_evaluation   0   0   0   0   0   0   0   0   0  ...   \n60979    FOODS_3_827_WI_3_evaluation   0   0   0   0   0   0   0   0   0  ...   \n\n       F19  F20  F21  F22  F23  F24  F25  F26  F27  F28  \n0        0    0    0    0    0    0    0    0    0    0  \n1        0    0    0    0    0    0    0    0    0    0  \n2        0    0    0    0    0    0    0    0    0    0  \n3        0    0    0    0    0    0    0    0    0    0  \n4        0    0    0    0    0    0    0    0    0    0  \n...    ...  ...  ...  ...  ...  ...  ...  ...  ...  ...  \n60975    0    0    0    0    0    0    0    0    0    0  \n60976    0    0    0    0    0    0    0    0    0    0  \n60977    0    0    0    0    0    0    0    0    0    0  \n60978    0    0    0    0    0    0    0    0    0    0  \n60979    0    0    0    0    0    0    0    0    0    0  \n\n[60980 rows x 29 columns]",
                        "text/html": "<div>\n<style scoped>\n    .dataframe tbody tr th:only-of-type {\n        vertical-align: middle;\n    }\n\n    .dataframe tbody tr th {\n        vertical-align: top;\n    }\n\n    .dataframe thead th {\n        text-align: right;\n    }\n</style>\n<table border=\"1\" class=\"dataframe\">\n  <thead>\n    <tr style=\"text-align: right;\">\n      <th></th>\n      <th>id</th>\n      <th>F1</th>\n      <th>F2</th>\n      <th>F3</th>\n      <th>F4</th>\n      <th>F5</th>\n      <th>F6</th>\n      <th>F7</th>\n      <th>F8</th>\n      <th>F9</th>\n      <th>...</th>\n      <th>F19</th>\n      <th>F20</th>\n      <th>F21</th>\n      <th>F22</th>\n      <th>F23</th>\n      <th>F24</th>\n      <th>F25</th>\n      <th>F26</th>\n      <th>F27</th>\n      <th>F28</th>\n    </tr>\n  </thead>\n  <tbody>\n    <tr>\n      <th>0</th>\n      <td>HOBBIES_1_001_CA_1_validation</td>\n      <td>0</td>\n      <td>0</td>\n      <td>0</td>\n      <td>0</td>\n      <td>0</td>\n      <td>0</td>\n      <td>0</td>\n      <td>0</td>\n      <td>0</td>\n      <td>...</td>\n      <td>0</td>\n      <td>0</td>\n      <td>0</td>\n      <td>0</td>\n      <td>0</td>\n      <td>0</td>\n      <td>0</td>\n      <td>0</td>\n      <td>0</td>\n      <td>0</td>\n    </tr>\n    <tr>\n      <th>1</th>\n      <td>HOBBIES_1_002_CA_1_validation</td>\n      <td>0</td>\n      <td>0</td>\n      <td>0</td>\n      <td>0</td>\n      <td>0</td>\n      <td>0</td>\n      <td>0</td>\n      <td>0</td>\n      <td>0</td>\n      <td>...</td>\n      <td>0</td>\n      <td>0</td>\n      <td>0</td>\n      <td>0</td>\n      <td>0</td>\n      <td>0</td>\n      <td>0</td>\n      <td>0</td>\n      <td>0</td>\n      <td>0</td>\n    </tr>\n    <tr>\n      <th>2</th>\n      <td>HOBBIES_1_003_CA_1_validation</td>\n      <td>0</td>\n      <td>0</td>\n      <td>0</td>\n      <td>0</td>\n      <td>0</td>\n      <td>0</td>\n      <td>0</td>\n      <td>0</td>\n      <td>0</td>\n      <td>...</td>\n      <td>0</td>\n      <td>0</td>\n      <td>0</td>\n      <td>0</td>\n      <td>0</td>\n      <td>0</td>\n      <td>0</td>\n      <td>0</td>\n      <td>0</td>\n      <td>0</td>\n    </tr>\n    <tr>\n      <th>3</th>\n      <td>HOBBIES_1_004_CA_1_validation</td>\n      <td>0</td>\n      <td>0</td>\n      <td>0</td>\n      <td>0</td>\n      <td>0</td>\n      <td>0</td>\n      <td>0</td>\n      <td>0</td>\n      <td>0</td>\n      <td>...</td>\n      <td>0</td>\n      <td>0</td>\n      <td>0</td>\n      <td>0</td>\n      <td>0</td>\n      <td>0</td>\n      <td>0</td>\n      <td>0</td>\n      <td>0</td>\n      <td>0</td>\n    </tr>\n    <tr>\n      <th>4</th>\n      <td>HOBBIES_1_005_CA_1_validation</td>\n      <td>0</td>\n      <td>0</td>\n      <td>0</td>\n      <td>0</td>\n      <td>0</td>\n      <td>0</td>\n      <td>0</td>\n      <td>0</td>\n      <td>0</td>\n      <td>...</td>\n      <td>0</td>\n      <td>0</td>\n      <td>0</td>\n      <td>0</td>\n      <td>0</td>\n      <td>0</td>\n      <td>0</td>\n      <td>0</td>\n      <td>0</td>\n      <td>0</td>\n    </tr>\n    <tr>\n      <th>...</th>\n      <td>...</td>\n      <td>...</td>\n      <td>...</td>\n      <td>...</td>\n      <td>...</td>\n      <td>...</td>\n      <td>...</td>\n      <td>...</td>\n      <td>...</td>\n      <td>...</td>\n      <td>...</td>\n      <td>...</td>\n      <td>...</td>\n      <td>...</td>\n      <td>...</td>\n      <td>...</td>\n      <td>...</td>\n      <td>...</td>\n      <td>...</td>\n      <td>...</td>\n      <td>...</td>\n    </tr>\n    <tr>\n      <th>60975</th>\n      <td>FOODS_3_823_WI_3_evaluation</td>\n      <td>0</td>\n      <td>0</td>\n      <td>0</td>\n      <td>0</td>\n      <td>0</td>\n      <td>0</td>\n      <td>0</td>\n      <td>0</td>\n      <td>0</td>\n      <td>...</td>\n      <td>0</td>\n      <td>0</td>\n      <td>0</td>\n      <td>0</td>\n      <td>0</td>\n      <td>0</td>\n      <td>0</td>\n      <td>0</td>\n      <td>0</td>\n      <td>0</td>\n    </tr>\n    <tr>\n      <th>60976</th>\n      <td>FOODS_3_824_WI_3_evaluation</td>\n      <td>0</td>\n      <td>0</td>\n      <td>0</td>\n      <td>0</td>\n      <td>0</td>\n      <td>0</td>\n      <td>0</td>\n      <td>0</td>\n      <td>0</td>\n      <td>...</td>\n      <td>0</td>\n      <td>0</td>\n      <td>0</td>\n      <td>0</td>\n      <td>0</td>\n      <td>0</td>\n      <td>0</td>\n      <td>0</td>\n      <td>0</td>\n      <td>0</td>\n    </tr>\n    <tr>\n      <th>60977</th>\n      <td>FOODS_3_825_WI_3_evaluation</td>\n      <td>0</td>\n      <td>0</td>\n      <td>0</td>\n      <td>0</td>\n      <td>0</td>\n      <td>0</td>\n      <td>0</td>\n      <td>0</td>\n      <td>0</td>\n      <td>...</td>\n      <td>0</td>\n      <td>0</td>\n      <td>0</td>\n      <td>0</td>\n      <td>0</td>\n      <td>0</td>\n      <td>0</td>\n      <td>0</td>\n      <td>0</td>\n      <td>0</td>\n    </tr>\n    <tr>\n      <th>60978</th>\n      <td>FOODS_3_826_WI_3_evaluation</td>\n      <td>0</td>\n      <td>0</td>\n      <td>0</td>\n      <td>0</td>\n      <td>0</td>\n      <td>0</td>\n      <td>0</td>\n      <td>0</td>\n      <td>0</td>\n      <td>...</td>\n      <td>0</td>\n      <td>0</td>\n      <td>0</td>\n      <td>0</td>\n      <td>0</td>\n      <td>0</td>\n      <td>0</td>\n      <td>0</td>\n      <td>0</td>\n      <td>0</td>\n    </tr>\n    <tr>\n      <th>60979</th>\n      <td>FOODS_3_827_WI_3_evaluation</td>\n      <td>0</td>\n      <td>0</td>\n      <td>0</td>\n      <td>0</td>\n      <td>0</td>\n      <td>0</td>\n      <td>0</td>\n      <td>0</td>\n      <td>0</td>\n      <td>...</td>\n      <td>0</td>\n      <td>0</td>\n      <td>0</td>\n      <td>0</td>\n      <td>0</td>\n      <td>0</td>\n      <td>0</td>\n      <td>0</td>\n      <td>0</td>\n      <td>0</td>\n    </tr>\n  </tbody>\n</table>\n<p>60980 rows × 29 columns</p>\n</div>"
                    },
                    "metadata": {}
                }
            ]
        },
        {
            "cell_type": "code",
            "source": "SAMPLE_SUBMISSION.to_csv(f\"{OUTPUT_BASE_BATH}/submission.csv\", index=False)",
            "metadata": {
                "trusted": true
            },
            "execution_count": null,
            "outputs": []
        }
    ]
}