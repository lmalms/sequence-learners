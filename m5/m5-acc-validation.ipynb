{
    "metadata": {
        "kernelspec": {
            "language": "python",
            "display_name": "Python 3",
            "name": "python3"
        },
        "language_info": {
            "name": "python",
            "version": "3.10.13",
            "mimetype": "text/x-python",
            "codemirror_mode": {
                "name": "ipython",
                "version": 3
            },
            "pygments_lexer": "ipython3",
            "nbconvert_exporter": "python",
            "file_extension": ".py"
        }
    },
    "nbformat_minor": 4,
    "nbformat": 4,
    "cells": [
        {
            "cell_type": "code",
            "source": "import numpy as np\nimport pandas as pd\nimport matplotlib.pyplot as plt\nfrom tqdm import tqdm",
            "metadata": {
                "_uuid": "8f2839f25d086af736a60e9eeb907d3b93b6e0e5",
                "_cell_guid": "b1076dfc-b9ad-4769-8c92-a6c4dae69d19",
                "execution": {
                    "iopub.status.busy": "2024-07-23T08:14:44.727859Z",
                    "iopub.execute_input": "2024-07-23T08:14:44.728436Z",
                    "iopub.status.idle": "2024-07-23T08:14:44.735893Z",
                    "shell.execute_reply.started": "2024-07-23T08:14:44.728395Z",
                    "shell.execute_reply": "2024-07-23T08:14:44.733947Z"
                },
                "trusted": true
            },
            "execution_count": 4,
            "outputs": []
        },
        {
            "cell_type": "code",
            "source": "INPUT_BASE_PATH = \"/kaggle/input/m5-forecasting-accuracy\"\nOUTPUT_BASE_BATH = \"/kaggle/working\"\n\nCALENDAR_DATA = pd.read_csv(f\"{INPUT_BASE_PATH}/calendar.csv\")\n# SELL_PRICES = pd.read_csv(f\"{INPUT_BASE_PATH}/sell_prices.csv\")\n# SALES_TRAIN_EVALUATION = pd.read_csv(f\"{INPUT_BASE_PATH}/sales_train_evaluation.csv\")\nSALES_TRAIN_VALIDATION = pd.read_csv(f\"{INPUT_BASE_PATH}/sales_train_validation.csv\")\nSAMPLE_SUBMISSION = pd.read_csv(f\"{INPUT_BASE_PATH}/sample_submission.csv\")",
            "metadata": {
                "execution": {
                    "iopub.status.busy": "2024-07-23T08:14:45.641223Z",
                    "iopub.execute_input": "2024-07-23T08:14:45.641702Z",
                    "iopub.status.idle": "2024-07-23T08:14:51.798469Z",
                    "shell.execute_reply.started": "2024-07-23T08:14:45.641668Z",
                    "shell.execute_reply": "2024-07-23T08:14:51.796937Z"
                },
                "trusted": true
            },
            "execution_count": 5,
            "outputs": []
        },
        {
            "cell_type": "markdown",
            "source": "# PREPROCESSING & FEATURE ENGINEERING",
            "metadata": {}
        },
        {
            "cell_type": "code",
            "source": "def flatten_sales_df(sales_df: pd.DataFrame, timestamp_cols: list[str]) -> pd.DataFrame:\n    sales_dfs = []\n    grouper = train_df.groupby(\n        [\n            \"item_id\",\n            \"dept_id\",\n            \"cat_id\",\n            \"store_id\",\n            \"state_id\"\n        ]\n    )\n    for key, sales_df in tqdm(grouper):\n        (item, dept, cat, store, state) = key\n        sales_df = sales_df[timestamp_cols].T.reset_index()\n        sales_df.columns = [\"d\", \"count\"]\n        sales_df = sales_df.assign(\n            d = sales_df[\"d\"].apply(lambda d: int(d.lstrip(\"d_\"))),\n#             item_id = item,\n            dept_id = dept,\n            cat_id = cat,\n            store_id = store,\n            state_id = state,\n        )\n        sales_dfs.append(sales_df)\n    return pd.concat(sales_dfs)\n\n\ndef format_calendar_features(calendar_data: pd.DataFrame) -> pd.DataFrame:\n    ...\n        \n\ndef merge_sales_and_calendar_data(sales_df: pd.DataFrame, calendar_data: pd.DataFrame) -> pd.DataFrame:\n    return sales_df.merge(right=calendar_data, on=\"d\", how=\"left\")",
            "metadata": {
                "execution": {
                    "iopub.status.busy": "2024-07-23T08:09:47.906611Z",
                    "iopub.execute_input": "2024-07-23T08:09:47.906977Z",
                    "iopub.status.idle": "2024-07-23T08:09:47.919697Z",
                    "shell.execute_reply.started": "2024-07-23T08:09:47.906945Z",
                    "shell.execute_reply": "2024-07-23T08:09:47.918272Z"
                },
                "trusted": true
            },
            "execution_count": 3,
            "outputs": []
        },
        {
            "cell_type": "code",
            "source": "timestamp_cols = [f\"d_{i}\" for i in range(1, 1914)]\n\ntrain_df = SALES_TRAIN_VALIDATION.copy(deep=True)\ntrain_df = flatten_sales_df(train_df, timestamp_cols)\n# train_df = merge_sales_and_calendar_data(train_df, CALENDAR_DATA)",
            "metadata": {
                "trusted": true
            },
            "execution_count": null,
            "outputs": []
        },
        {
            "cell_type": "code",
            "source": "MAX_VALIDATION_TIMESTAMP = 1913\nVALIDATION_PERIOD = 28\nN_FOLDS = 10\n\nfor fold_idx in range(N_FOLDS):\n    start = MAX_VALIDATION_TIMESTAMP - (N_FOLDS - fold_idx) * VALIDATION_PERIOD\n    stop = start + VALIDATION_PERIOD\n    \n    # Select train data and valid data\n    train_data = train_df[train_df[\"d_int\"] <= start].copy()\n    valid_data = train_df[(train_df[\"d_int\"] > start) & (train_df[\"d_int\"] <= stop)].copy()\n\n    break",
            "metadata": {
                "trusted": true
            },
            "execution_count": null,
            "outputs": []
        },
        {
            "cell_type": "code",
            "source": "\"d_1\".lstrip(\"d_\")",
            "metadata": {
                "execution": {
                    "iopub.status.busy": "2024-07-23T07:51:18.782693Z",
                    "iopub.execute_input": "2024-07-23T07:51:18.783117Z",
                    "iopub.status.idle": "2024-07-23T07:51:18.791780Z",
                    "shell.execute_reply.started": "2024-07-23T07:51:18.783088Z",
                    "shell.execute_reply": "2024-07-23T07:51:18.790180Z"
                },
                "trusted": true
            },
            "execution_count": 12,
            "outputs": [
                {
                    "execution_count": 12,
                    "output_type": "execute_result",
                    "data": {
                        "text/plain": "'1'"
                    },
                    "metadata": {}
                }
            ]
        },
        {
            "cell_type": "code",
            "source": "",
            "metadata": {},
            "execution_count": null,
            "outputs": []
        }
    ]
}