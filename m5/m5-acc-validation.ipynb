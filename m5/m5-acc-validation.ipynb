{
    "metadata": {
        "kernelspec": {
            "language": "python",
            "display_name": "Python 3",
            "name": "python3"
        },
        "language_info": {
            "name": "python",
            "version": "3.10.13",
            "mimetype": "text/x-python",
            "codemirror_mode": {
                "name": "ipython",
                "version": 3
            },
            "pygments_lexer": "ipython3",
            "nbconvert_exporter": "python",
            "file_extension": ".py"
        },
        "kaggle": {
            "accelerator": "none",
            "dataSources": [
                {
                    "sourceId": 18599,
                    "databundleVersionId": 1236839,
                    "sourceType": "competition"
                }
            ],
            "dockerImageVersionId": 30746,
            "isInternetEnabled": true,
            "language": "python",
            "sourceType": "notebook",
            "isGpuEnabled": false
        }
    },
    "nbformat_minor": 4,
    "nbformat": 4,
    "cells": [
        {
            "cell_type": "code",
            "source": "import numpy as np\nimport pandas as pd\nimport matplotlib.pyplot as plt\nfrom tqdm import tqdm",
            "metadata": {
                "_uuid": "8f2839f25d086af736a60e9eeb907d3b93b6e0e5",
                "_cell_guid": "b1076dfc-b9ad-4769-8c92-a6c4dae69d19",
                "trusted": true
            },
            "execution_count": null,
            "outputs": []
        },
        {
            "cell_type": "code",
            "source": "INPUT_BASE_PATH = \"/kaggle/input/m5-forecasting-accuracy\"\nOUTPUT_BASE_BATH = \"/kaggle/working\"\n\nCALENDAR_DATA = pd.read_csv(f\"{INPUT_BASE_PATH}/calendar.csv\")\n# SELL_PRICES = pd.read_csv(f\"{INPUT_BASE_PATH}/sell_prices.csv\")\n# SALES_TRAIN_EVALUATION = pd.read_csv(f\"{INPUT_BASE_PATH}/sales_train_evaluation.csv\")\nSALES_TRAIN_VALIDATION = pd.read_csv(f\"{INPUT_BASE_PATH}/sales_train_validation.csv\")\nSAMPLE_SUBMISSION = pd.read_csv(f\"{INPUT_BASE_PATH}/sample_submission.csv\")",
            "metadata": {
                "trusted": true
            },
            "execution_count": null,
            "outputs": []
        },
        {
            "cell_type": "markdown",
            "source": "# PREPROCESSING & FEATURE ENGINEERING",
            "metadata": {}
        },
        {
            "cell_type": "code",
            "source": "def flatten_sales_df(sales_df: pd.DataFrame, timestamp_cols: list[str]) -> pd.DataFrame:\n    sales_dfs = []\n    grouper = train_df.groupby(\n        [\n            \"item_id\",\n            \"dept_id\",\n            \"cat_id\",\n            \"store_id\",\n            \"state_id\"\n        ]\n    )\n    for key, sales_df in tqdm(grouper):\n        (item, dept, cat, store, state) = key\n        sales_df = sales_df[timestamp_cols].T.reset_index()\n        sales_df.columns = [\"d\", \"count\"]\n        sales_df = sales_df.assign(\n            d = sales_df[\"d\"].apply(lambda d: int(d.lstrip(\"d_\"))),\n            item_id = item,\n            dept_id = dept,\n            cat_id = cat,\n            store_id = store,\n            state_id = state,\n        )\n        sales_dfs.append(sales_df)\n    return pd.concat(sales_dfs)\n\n\ndef select_format_calendar_features(calendar_data: pd.DataFrame) -> pd.DataFrame:\n    # Drop columns\n    cols_to_drop = [\"wm_yr_wk\", \"weekday\", \"event_name_2\", \"event_type_2\"]\n    calendar_data = calendar_data.copy().drop(columns=cols_to_drop)\n    \n    # Format cols\n    calendar_data[\"d\"] = calendar_data[\"d\"].apply(lambda d: int(d.lstrip(\"d_\")))\n    calendar_data = calendar_data.rename(columns={\"event_name_1\": \"event_name\", \"event_type_1\": \"event_type\"})\n    \n    return calendar_data\n\n\ndef get_calendar_event_mapping(calendar_data: pd.DataFrame):\n    event_name_map = {e_name: i for (i, e_name) in enumerate(calendar_data[\"event_name\"].unique())}\n    event_type_map = {e_type: i for (i, e_type) in enumerate(calendar_data[\"event_type\"].unique())}\n    return event_name_map, event_type_map\n    \n\ndef merge_sales_and_calendar_data(sales_df: pd.DataFrame, calendar_data: pd.DataFrame) -> pd.DataFrame:\n    return sales_df.merge(right=calendar_data, on=\"d\", how=\"left\")",
            "metadata": {
                "trusted": true
            },
            "execution_count": null,
            "outputs": []
        },
        {
            "cell_type": "code",
            "source": "timestamp_cols = [f\"d_{i}\" for i in range(1000, 1914)]\n\n# Process sales data\ntrain_df = flatten_sales_df(SALES_TRAIN_VALIDATION, timestamp_cols)\n\n# Process calendar data\ncalendar_data = select_format_calendar_features(CALENDAR_DATA)\nevent_name_map, event_type_map = get_calendar_event_mapping(calendar_data)\ncalendar_data[\"event_name\"] = calendar_data[\"event_name\"].map(event_name_map)\ncalendar_data[\"event_type\"] = calendar_data[\"event_type\"].map(event_type_map)\n\n# Merge\ntrain_df = merge_sales_and_calendar_data(train_df, calendar_data)\n",
            "metadata": {
                "trusted": true
            },
            "execution_count": null,
            "outputs": []
        },
        {
            "cell_type": "code",
            "source": "# Rolling window validation\n\nMAX_VALIDATION_TIMESTAMP = 1913\nHORIZON = 28\nOVERLAP = 14\nN_FOLDS = 10\nMIN_VALIDATION_TIMESTAMP = MAX_VALIDATION_TIMESTAMP - N_FOLDS * HORIZON + (N_FOLDS - 1) * OVERLAP\n\nfor fold_idx in range(N_FOLDS):\n    start = MIN_VALIDATION_TIMESTAMP + fold_idx * (HORIZON - OVERLAP)\n    stop = start + HORIZON\n    \n    # Select train data and valid data\n    train_data = train_df[train_df[\"d\"] < start]\n    valid_data = train_df[(train_df[\"d\"] >= start) & (train_df[\"d\"] < stop)]\n\n    if fold_idx == 2: break\n        \n    del train_data\n    del valid_data",
            "metadata": {
                "trusted": true
            },
            "execution_count": null,
            "outputs": []
        },
        {
            "cell_type": "code",
            "source": "print(train_data[\"d\"].min(), train_data[\"d\"].max())\nprint(valid_data[\"d\"].min(), valid_data[\"d\"].max())",
            "metadata": {
                "trusted": true
            },
            "execution_count": null,
            "outputs": []
        },
        {
            "cell_type": "code",
            "source": "print(train_data[\"d\"].min(), train_data[\"d\"].max())\nprint(valid_data[\"d\"].min(), valid_data[\"d\"].max())",
            "metadata": {
                "trusted": true
            },
            "execution_count": null,
            "outputs": []
        },
        {
            "cell_type": "code",
            "source": "print(train_data[\"d\"].min(), train_data[\"d\"].max())\nprint(valid_data[\"d\"].min(), valid_data[\"d\"].max())",
            "metadata": {
                "trusted": true
            },
            "execution_count": null,
            "outputs": []
        }
    ]
}