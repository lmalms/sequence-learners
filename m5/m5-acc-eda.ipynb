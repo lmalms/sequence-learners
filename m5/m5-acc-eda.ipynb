{
    "metadata": {
        "kernelspec": {
            "language": "python",
            "display_name": "Python 3",
            "name": "python3"
        },
        "language_info": {
            "name": "python",
            "version": "3.10.13",
            "mimetype": "text/x-python",
            "codemirror_mode": {
                "name": "ipython",
                "version": 3
            },
            "pygments_lexer": "ipython3",
            "nbconvert_exporter": "python",
            "file_extension": ".py"
        }
    },
    "nbformat_minor": 4,
    "nbformat": 4,
    "cells": [
        {
            "cell_type": "code",
            "source": "import numpy as np\nimport pandas as pd\nimport matplotlib.pyplot as plt\nfrom tqdm import tqdm",
            "metadata": {
                "trusted": true
            },
            "execution_count": null,
            "outputs": []
        },
        {
            "cell_type": "code",
            "source": "INPUT_BASE_PATH = \"/kaggle/input/m5-forecasting-accuracy\"\nOUTPUT_BASE_BATH = \"/kaggle/working\"\n\nCALENDAR_DATA = pd.read_csv(f\"{INPUT_BASE_PATH}/calendar.csv\")\nSELL_PRICES = pd.read_csv(f\"{INPUT_BASE_PATH}/sell_prices.csv\")\nSALES_TRAIN_EVALUATION = pd.read_csv(f\"{INPUT_BASE_PATH}/sales_train_evaluation.csv\")\nSALES_TRAIN_VALIDATION = pd.read_csv(f\"{INPUT_BASE_PATH}/sales_train_validation.csv\")\nSAMPLE_SUBMISSION = pd.read_csv(f\"{INPUT_BASE_PATH}/sample_submission.csv\")",
            "metadata": {
                "trusted": true
            },
            "execution_count": null,
            "outputs": []
        },
        {
            "cell_type": "code",
            "source": "def get_product_id_mappings(df: pd.DataFrame):\n    id_to_int = {\n        product_id: i\n        for (i, product_id) in enumerate(df[\"id\"].unique(), start=1)\n    }\n    int_to_id = {v: k for (k,v) in id_to_int.items()}\n    return id_to_int, int_to_id\n\n\ndef flatten_sales_df(df: pd.DataFrame) -> pd.DataFrame:\n    sales_dfs = []\n    timestamp_cols = [f\"d_{i}\" for i in range(1, 1914)]\n    product_ids = df[\"product_id\"].unique()\n    for p_id in tqdm(product_ids):\n        sales_df = df[df[\"product_id\"] == p_id]\n        sales_df = sales_df[timestamp_cols].T.reset_index()\n        sales_df.columns = [\"timestamp_id\", \"count\"]\n        sales_df[\"product_id\"] = p_id\n        sales_dfs.append(sales_df)\n\n    return pd.concat(sales_dfs)\n    ",
            "metadata": {
                "trusted": true
            },
            "execution_count": null,
            "outputs": []
        },
        {
            "cell_type": "code",
            "source": "timestamp_cols = [f\"d_{i}\" for i in range(1, 1914)]\n\n# Simplify product id mappings\nproduct_id_to_int, int_to_product_id = get_product_id_mappings(SALES_TRAIN_VALIDATION)\ntrain_df = SALES_TRAIN_VALIDATION.copy(deep=True)\ntrain_df[\"product_id\"] = train_df[\"id\"].map(product_id_to_int)",
            "metadata": {
                "trusted": true
            },
            "execution_count": null,
            "outputs": []
        },
        {
            "cell_type": "markdown",
            "source": "# SALES BY STORE",
            "metadata": {
                "execution": {
                    "iopub.status.busy": "2024-07-22T20:37:25.945738Z",
                    "iopub.execute_input": "2024-07-22T20:37:25.946145Z",
                    "iopub.status.idle": "2024-07-22T20:37:25.986313Z",
                    "shell.execute_reply.started": "2024-07-22T20:37:25.946112Z",
                    "shell.execute_reply": "2024-07-22T20:37:25.985112Z"
                }
            }
        },
        {
            "cell_type": "code",
            "source": "store_ids = list(train_df[\"store_id\"].unique())\n\nn_samples = 500\n\nfig, ax = plt.subplots(5, 2, sharex=True, sharey=True, figsize=(15, 10))\nax = ax.flatten()\nfor i, store_id in enumerate(store_ids):\n    store_df = train_df[train_df[\"store_id\"] == store_id].copy(deep=True)\n    total_sales = store_df[timestamp_cols].sum(axis=0)\n    total_sales = total_sales.iloc[-n_samples:]\n    ax[i].plot(np.arange(n_samples), total_sales.values, label=store_id)\n    ax[i].legend()\n\nfig.tight_layout();",
            "metadata": {
                "trusted": true
            },
            "execution_count": null,
            "outputs": []
        },
        {
            "cell_type": "markdown",
            "source": "# SALES BY CATEGORY",
            "metadata": {
                "execution": {
                    "iopub.status.busy": "2024-07-22T20:39:02.870765Z",
                    "iopub.execute_input": "2024-07-22T20:39:02.871155Z",
                    "iopub.status.idle": "2024-07-22T20:39:02.875995Z",
                    "shell.execute_reply.started": "2024-07-22T20:39:02.871125Z",
                    "shell.execute_reply": "2024-07-22T20:39:02.874832Z"
                }
            }
        },
        {
            "cell_type": "markdown",
            "source": "# SALES BY DEPARTMENT",
            "metadata": {}
        },
        {
            "cell_type": "code",
            "source": "",
            "metadata": {},
            "execution_count": null,
            "outputs": []
        }
    ]
}