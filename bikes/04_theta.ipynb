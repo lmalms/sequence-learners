{
 "cells": [
  {
   "cell_type": "code",
   "execution_count": null,
   "id": "f2cff1ac",
   "metadata": {},
   "outputs": [],
   "source": [
    "%load_ext autoreload\n",
    "%autoreload 2"
   ]
  },
  {
   "cell_type": "code",
   "execution_count": null,
   "id": "b2e3783e",
   "metadata": {},
   "outputs": [],
   "source": [
    "import pandas as pd\n",
    "import matplotlib.pyplot as plt\n",
    "\n",
    "from statsmodels.tsa.forecasting.theta import ThetaModel\n",
    "\n",
    "from bikes.evaluate.split import train_test_split, TEST_PERIOD"
   ]
  },
  {
   "cell_type": "code",
   "execution_count": null,
   "id": "620135a9",
   "metadata": {},
   "outputs": [],
   "source": [
    "def plot_timeseries(actual: pd.Series, predicted: pd.Series):\n",
    "    fig, ax = plt.subplots()\n",
    "\n",
    "    ax.plot(actual, label=\"Observed\")\n",
    "    ax.plot(predicted, label=\"Predicted\")\n",
    "\n",
    "    ax.set(ylabel=\"Count\")\n",
    "    for tick in ax.get_xticklabels():\n",
    "        tick.set_rotation(45)\n",
    "    ax.legend()\n",
    "\n",
    "    fig.tight_layout();\n",
    "\n",
    "    return ax"
   ]
  },
  {
   "cell_type": "markdown",
   "id": "644c4985",
   "metadata": {},
   "source": [
    "## Theta Model"
   ]
  },
  {
   "cell_type": "code",
   "execution_count": null,
   "id": "068c2b4c",
   "metadata": {},
   "outputs": [],
   "source": [
    "cycle_counts = pd.read_csv(\"cycle_counts.csv\", parse_dates=[\"date\"])"
   ]
  },
  {
   "cell_type": "code",
   "execution_count": null,
   "id": "34531a88",
   "metadata": {},
   "outputs": [],
   "source": [
    "LOCATION = \"Quay Street Eco Display Classic\"\n",
    "\n",
    "location_df = cycle_counts.loc[cycle_counts[\"location\"] == LOCATION].copy()\n",
    "location_df = location_df.set_index(\"date\").sort_index()\n",
    "train_df, test_df = train_test_split(location_df)\n",
    "y_train, y_test = train_df[\"count\"], test_df[\"count\"]"
   ]
  },
  {
   "cell_type": "code",
   "execution_count": null,
   "id": "17cb11f0",
   "metadata": {},
   "outputs": [],
   "source": [
    "fig, ax = plt.subplots()\n",
    "ax.plot(y_train.iloc[-300:], label=\"Observed\", lw=2)\n",
    "ax.set(ylabel=\"Count\")\n",
    "for tick in ax.get_xticklabels():\n",
    "    tick.set_rotation(45)\n",
    "ax.legend()\n",
    "fig.tight_layout();"
   ]
  },
  {
   "cell_type": "code",
   "execution_count": null,
   "id": "830dc19f",
   "metadata": {},
   "outputs": [],
   "source": [
    "theta = ThetaModel(y_train)\n",
    "theta = theta.fit()\n",
    "\n",
    "test_start, test_end = TEST_PERIOD\n",
    "test_dates = pd.date_range(test_start, test_end, freq=\"D\", inclusive=\"left\")\n",
    "forecasts = theta.forecast(steps=len(test_dates))\n",
    "forecasts.index = test_dates"
   ]
  },
  {
   "cell_type": "code",
   "execution_count": null,
   "id": "65cdbe51",
   "metadata": {},
   "outputs": [],
   "source": [
    "plot_timeseries(y_test, forecasts)"
   ]
  },
  {
   "cell_type": "code",
   "execution_count": null,
   "id": "dd20c531",
   "metadata": {},
   "outputs": [],
   "source": [
    "# Save forecasts\n",
    "forecast_df = pd.merge(\n",
    "    left=test_df.rename(columns={\"count\": \"ytrue\"}),\n",
    "    right=forecasts.to_frame(name=\"yhat_theta\"),\n",
    "    left_index=True,\n",
    "    right_index=True,\n",
    "    how=\"left\"\n",
    ")\n",
    "forecast_df = forecast_df.reset_index()"
   ]
  },
  {
   "cell_type": "code",
   "execution_count": null,
   "id": "c4536557",
   "metadata": {},
   "outputs": [],
   "source": [
    "assert not forecast_df[\"date\"].isna().any()"
   ]
  },
  {
   "cell_type": "code",
   "execution_count": null,
   "id": "1d94a67b",
   "metadata": {},
   "outputs": [],
   "source": [
    "forecast_df.to_csv(f\"./forecasts/theta/{LOCATION.replace(' ', '_').lower()}.csv\")"
   ]
  }
 ],
 "metadata": {
  "kernelspec": {
   "display_name": "bikes",
   "language": "python",
   "name": "python3"
  },
  "language_info": {
   "codemirror_mode": {
    "name": "ipython",
    "version": 3
   },
   "file_extension": ".py",
   "mimetype": "text/x-python",
   "name": "python",
   "nbconvert_exporter": "python",
   "pygments_lexer": "ipython3",
   "version": "3.12.9"
  }
 },
 "nbformat": 4,
 "nbformat_minor": 5
}
