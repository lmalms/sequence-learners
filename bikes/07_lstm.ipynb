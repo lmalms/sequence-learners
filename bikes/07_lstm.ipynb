{
 "cells": [
  {
   "cell_type": "code",
   "execution_count": null,
   "id": "81a6444b",
   "metadata": {},
   "outputs": [],
   "source": [
    "%load_ext autoreload\n",
    "%autoreload 2"
   ]
  },
  {
   "cell_type": "code",
   "execution_count": null,
   "id": "251a7b18",
   "metadata": {},
   "outputs": [],
   "source": [
    "import pandas as pd\n",
    "import matplotlib.pyplot as plt\n",
    "from tqdm import tqdm\n",
    "\n",
    "import torch\n",
    "import torch.nn as nn\n",
    "from torch.optim import Adam\n",
    "from torch.utils.data import DataLoader\n",
    "\n",
    "from bikes.preprocess.preprocess import get_tensor_train_dataset, Scaler\n",
    "from bikes.evaluate.split import train_test_split"
   ]
  },
  {
   "cell_type": "code",
   "execution_count": null,
   "id": "25c9d82a",
   "metadata": {},
   "outputs": [],
   "source": [
    "def plot_timeseries(actual: pd.Series, predicted: pd.Series):\n",
    "    fig, ax = plt.subplots()\n",
    "\n",
    "    ax.plot(actual, label=\"Observed\")\n",
    "    ax.plot(predicted, label=\"Predicted\")\n",
    "\n",
    "    ax.set(ylabel=\"Count\")\n",
    "    for tick in ax.get_xticklabels():\n",
    "        tick.set_rotation(45)\n",
    "    ax.legend()\n",
    "\n",
    "    fig.tight_layout();\n",
    "\n",
    "    return ax"
   ]
  },
  {
   "cell_type": "markdown",
   "id": "f43975b7",
   "metadata": {},
   "source": [
    "## LSTM"
   ]
  },
  {
   "cell_type": "code",
   "execution_count": null,
   "id": "36faa6c9",
   "metadata": {},
   "outputs": [],
   "source": [
    "class LstmForecaster(nn.Module):\n",
    "    def __init__(self,  horizon: int, input_size: int = 1, hidden_size: int = 25, num_layers: int =1):\n",
    "        super().__init__()\n",
    "        self.lstm = nn.LSTM(input_size=input_size, hidden_size=hidden_size, num_layers=num_layers, batch_first=True)\n",
    "        self.linear = nn.Linear(in_features=hidden_size, out_features=horizon)\n",
    "\n",
    "    def forward(self, x: torch.Tensor) -> torch.Tensor:\n",
    "        out_, _ = self.lstm(x)\n",
    "        return self.linear(out_)"
   ]
  },
  {
   "cell_type": "code",
   "execution_count": null,
   "id": "fe1f6d6a",
   "metadata": {},
   "outputs": [],
   "source": [
    "cycle_counts = pd.read_csv(\"cycle_counts.csv\", parse_dates=[\"date\"])"
   ]
  },
  {
   "cell_type": "code",
   "execution_count": null,
   "id": "01da4460",
   "metadata": {},
   "outputs": [],
   "source": [
    "LOCATION = \"Quay Street Eco Display Classic\"\n",
    "\n",
    "location_df = cycle_counts.loc[cycle_counts[\"location\"] == LOCATION].copy()\n",
    "location_df = location_df.set_index(\"date\").sort_index()\n",
    "train_df, test_df = train_test_split(location_df)\n",
    "y_train, y_test = train_df[\"count\"], test_df[\"count\"]"
   ]
  },
  {
   "cell_type": "code",
   "execution_count": null,
   "id": "8bf31045",
   "metadata": {},
   "outputs": [],
   "source": [
    "fig, ax = plt.subplots()\n",
    "ax.plot(y_train.iloc[-500:], label=\"Observed\", lw=2)\n",
    "ax.set(ylabel=\"Count\")\n",
    "for tick in ax.get_xticklabels():\n",
    "    tick.set_rotation(45)\n",
    "ax.legend()\n",
    "fig.tight_layout();"
   ]
  },
  {
   "cell_type": "code",
   "execution_count": null,
   "id": "b78dc1c0",
   "metadata": {},
   "outputs": [],
   "source": [
    "# Prepare data\n",
    "scaler = Scaler()\n",
    "y_train_scaled = scaler.fit_transform(y_train)\n",
    "\n",
    "out_seq_length = len(y_test.index)\n",
    "in_seq_length = 6 * out_seq_length\n",
    "\n",
    "ts = get_tensor_train_dataset(y_train_scaled, in_seq_length=in_seq_length, out_seq_length=out_seq_length)\n",
    "dataloader = DataLoader(ts, batch_size=32)"
   ]
  },
  {
   "cell_type": "code",
   "execution_count": null,
   "id": "80819796",
   "metadata": {},
   "outputs": [],
   "source": [
    "# Training loop\n",
    "model = LstmForecaster(horizon=out_seq_length)\n",
    "\n",
    "loss_fn = nn.MSELoss()\n",
    "optimizer = Adam(model.parameters(), lr=1e-03)\n",
    "\n",
    "model.train()\n",
    "iteration_loss = []\n",
    "n_epochs = 100\n",
    "pgbar = tqdm(range(n_epochs))\n",
    "for epoch in pgbar:\n",
    "    for X, y in dataloader:\n",
    "        optimizer.zero_grad()\n",
    "        y_hat = model(X)\n",
    "        loss = loss_fn(y, y_hat)\n",
    "        loss.backward()\n",
    "        optimizer.step()\n",
    "    iteration_loss.append(float(loss.detach()))\n",
    "    pgbar.set_description(f\"Epoch [{epoch + 1} / {n_epochs}] - Loss = {loss:.3f}\")"
   ]
  },
  {
   "cell_type": "code",
   "execution_count": null,
   "id": "cbfbe9bb",
   "metadata": {},
   "outputs": [],
   "source": [
    "plt.plot(iteration_loss)\n",
    "plt.xlabel(\"Epoch\")\n",
    "plt.ylabel(\"MSE Loss\");"
   ]
  },
  {
   "cell_type": "code",
   "execution_count": null,
   "id": "2be5ae31",
   "metadata": {},
   "outputs": [],
   "source": [
    "# Forecast\n",
    "X_test = y_train_scaled.iloc[-in_seq_length:].values\n",
    "X_test = torch.tensor(X_test, dtype=torch.float)\n",
    "X_test = X_test.view(-1, in_seq_length, 1)\n",
    "\n",
    "model.eval()\n",
    "with torch.no_grad():\n",
    "    forecasts = model(X_test)\n",
    "\n",
    "forecasts = pd.Series(data=forecasts[-1, -1].numpy(), index=y_test.index)\n",
    "forecasts = scaler.inverse_transform(forecasts)"
   ]
  },
  {
   "cell_type": "code",
   "execution_count": null,
   "id": "243c0e4b",
   "metadata": {},
   "outputs": [],
   "source": [
    "plot_timeseries(y_test, forecasts)"
   ]
  },
  {
   "cell_type": "code",
   "execution_count": null,
   "id": "d370cc45",
   "metadata": {},
   "outputs": [],
   "source": [
    "# Save forecasts\n",
    "forecast_df = pd.merge(\n",
    "    left=test_df.rename(columns={\"count\": \"ytrue\"}),\n",
    "    right=forecasts.to_frame(name=\"yhat_lstm\"),\n",
    "    left_index=True,\n",
    "    right_index=True,\n",
    "    how=\"left\"\n",
    ")\n",
    "forecast_df = forecast_df.reset_index()"
   ]
  },
  {
   "cell_type": "code",
   "execution_count": null,
   "id": "9d94da9a",
   "metadata": {},
   "outputs": [],
   "source": [
    "assert not forecast_df[\"date\"].isna().any()"
   ]
  },
  {
   "cell_type": "code",
   "execution_count": null,
   "id": "11b5a82a",
   "metadata": {},
   "outputs": [],
   "source": [
    "forecast_df.to_csv(f\"./forecasts/lstm/{LOCATION.replace(' ', '_').lower()}.csv\")"
   ]
  }
 ],
 "metadata": {
  "kernelspec": {
   "display_name": ".venv",
   "language": "python",
   "name": "python3"
  },
  "language_info": {
   "codemirror_mode": {
    "name": "ipython",
    "version": 3
   },
   "file_extension": ".py",
   "mimetype": "text/x-python",
   "name": "python",
   "nbconvert_exporter": "python",
   "pygments_lexer": "ipython3",
   "version": "3.12.9"
  }
 },
 "nbformat": 4,
 "nbformat_minor": 5
}
