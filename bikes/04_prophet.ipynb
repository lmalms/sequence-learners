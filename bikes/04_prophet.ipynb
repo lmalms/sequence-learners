{
 "cells": [
  {
   "cell_type": "code",
   "execution_count": null,
   "metadata": {},
   "outputs": [],
   "source": [
    "import pandas as pd\n",
    "import numpy as np\n",
    "import matplotlib.pyplot as plt\n",
    "\n",
    "from prophet import Prophet\n",
    "from prophet.plot import add_changepoints_to_plot"
   ]
  },
  {
   "cell_type": "markdown",
   "metadata": {},
   "source": [
    "# Prophet"
   ]
  },
  {
   "cell_type": "code",
   "execution_count": null,
   "metadata": {},
   "outputs": [],
   "source": [
    "LOCATION = \"Nelson St\""
   ]
  },
  {
   "cell_type": "code",
   "execution_count": null,
   "metadata": {},
   "outputs": [],
   "source": [
    "cycle_counts = pd.read_csv(\"cycle_counts.csv\", parse_dates=[\"time\"])\n",
    "cycle_counts = cycle_counts[cycle_counts[\"location\"] == LOCATION]"
   ]
  },
  {
   "cell_type": "code",
   "execution_count": null,
   "metadata": {},
   "outputs": [],
   "source": [
    "fig, ax = plt.subplots()\n",
    "ax.plot(cycle_counts[\"time\"], cycle_counts[\"count\"], lw=1.5)\n",
    "ax.set(title=LOCATION, ylabel=\"Count\")\n",
    "for tick in ax.get_xticklabels():\n",
    "    tick.set_rotation(45)\n",
    "fig.tight_layout();"
   ]
  },
  {
   "cell_type": "code",
   "execution_count": null,
   "metadata": {},
   "outputs": [],
   "source": [
    "cycle_counts[\"time\"] = pd.to_datetime(cycle_counts[\"time\"])\n",
    "cycle_counts = cycle_counts.set_index(\"time\").drop(columns=[\"location\"])\n",
    "cycle_counts = cycle_counts.resample(\"D\").sum().interpolate()"
   ]
  },
  {
   "cell_type": "markdown",
   "metadata": {},
   "source": [
    "## Fourier Series"
   ]
  },
  {
   "cell_type": "code",
   "execution_count": null,
   "metadata": {},
   "outputs": [],
   "source": [
    "y = np.array(cycle_counts[\"count\"])\n",
    "n_samples = len(y)\n",
    "\n",
    "y_fft = np.fft.fft(y)\n",
    "x_fft = np.fft.fftfreq(n_samples, d=1)  # sampling frequency of 1 / day\n",
    "\n",
    "# For real valued series, the FFT is symmetric so only plot the positive half of the frequencies\n",
    "fig, ax = plt.subplots()\n",
    "ax.plot(\n",
    "    x_fft[:n_samples // 2],\n",
    "    1 / n_samples * np.abs(y_fft)[:n_samples // 2],\n",
    "    lw=2,\n",
    ")\n",
    "for i in [1, 2, 3]:\n",
    "    ax.axvline(i/7, color=\"grey\", ls=\"--\")\n",
    "ax.set(xlabel=\"Freq (1 / day)\", ylabel=\"Magnitude\")\n",
    "fig.tight_layout();"
   ]
  },
  {
   "cell_type": "code",
   "execution_count": null,
   "metadata": {},
   "outputs": [],
   "source": [
    "# Seaonality as a partial fourier sum\n",
    "\n",
    "y = np.array(cycle_counts[\"count\"])\n",
    "n_samples = len(y)\n",
    "\n",
    "period = 7\n",
    "ks = np.array([1, 2])\n",
    "theta_cos = np.array([0.3, -0.1])\n",
    "theta_sin = np.array([0.15, 0.5])\n",
    "ts = np.arange(n_samples).reshape(-1, 1)\n",
    "\n",
    "X_cos = np.cos(2 * np.pi * ks * ts / period)\n",
    "X_sin = np.cos(2 * np.pi * ks * ts / period)\n",
    "\n",
    "y_hat = np.dot(X_cos, theta_cos) + np.dot(X_sin, theta_sin)"
   ]
  },
  {
   "cell_type": "code",
   "execution_count": null,
   "metadata": {},
   "outputs": [],
   "source": [
    "y_scaled = y - y.mean()\n",
    "y_scaled /= y_scaled.max()\n",
    "plt.plot(y_scaled[-50:])\n",
    "plt.plot(y_hat[-50:])"
   ]
  },
  {
   "cell_type": "markdown",
   "metadata": {},
   "source": [
    "## Prophet Model"
   ]
  },
  {
   "cell_type": "code",
   "execution_count": null,
   "metadata": {},
   "outputs": [],
   "source": [
    "cycle_counts = cycle_counts.reset_index().rename(columns={\"time\": \"ds\", \"count\": \"y\"})\n",
    "\n",
    "model = Prophet()\n",
    "model = model.fit(cycle_counts)"
   ]
  },
  {
   "cell_type": "code",
   "execution_count": null,
   "metadata": {},
   "outputs": [],
   "source": [
    "forecast = model.predict(cycle_counts[[\"ds\"]])\n",
    "fig = model.plot(forecast)\n",
    "add_changepoints_to_plot(fig.gca(), model, forecast);"
   ]
  },
  {
   "cell_type": "code",
   "execution_count": null,
   "metadata": {},
   "outputs": [],
   "source": [
    "# Plotting components"
   ]
  },
  {
   "cell_type": "code",
   "execution_count": null,
   "metadata": {},
   "outputs": [],
   "source": [
    "model.params"
   ]
  },
  {
   "cell_type": "code",
   "execution_count": null,
   "metadata": {},
   "outputs": [],
   "source": []
  }
 ],
 "metadata": {
  "kernelspec": {
   "display_name": ".venv",
   "language": "python",
   "name": "python3"
  },
  "language_info": {
   "codemirror_mode": {
    "name": "ipython",
    "version": 3
   },
   "file_extension": ".py",
   "mimetype": "text/x-python",
   "name": "python",
   "nbconvert_exporter": "python",
   "pygments_lexer": "ipython3",
   "version": "3.12.9"
  }
 },
 "nbformat": 4,
 "nbformat_minor": 2
}
