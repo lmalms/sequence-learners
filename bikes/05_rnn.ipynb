{
 "cells": [
  {
   "cell_type": "code",
   "execution_count": null,
   "id": "8e46c805",
   "metadata": {},
   "outputs": [],
   "source": [
    "import numpy as np\n",
    "import matplotlib.pyplot as plt\n",
    "\n",
    "import torch\n",
    "import torch.nn as nn\n",
    "import torch.nn.functional as F\n",
    "from torch.optim import SGD, Adam\n",
    "from torch.utils.data import DataLoader, TensorDataset"
   ]
  },
  {
   "cell_type": "code",
   "execution_count": null,
   "id": "495d9103",
   "metadata": {},
   "outputs": [],
   "source": [
    "class BasicNN(nn.Module):\n",
    "    def __init__(self):\n",
    "        super().__init__()\n",
    "        self.w00 = nn.Parameter(torch.tensor(1.7), requires_grad=False)\n",
    "        self.b00 = nn.Parameter(torch.tensor(-0.85), requires_grad=False)\n",
    "        self.w01 = nn.Parameter(torch.tensor(-40.8), requires_grad=False)\n",
    "\n",
    "        self.w10 = nn.Parameter(torch.tensor(12.6), requires_grad=False)\n",
    "        self.b10 = nn.Parameter(torch.tensor(0.0), requires_grad=False)\n",
    "        self.w11 = nn.Parameter(torch.tensor(2.7), requires_grad=False)\n",
    "\n",
    "        self.final_bias = nn.Parameter(torch.tensor(-16.0), requires_grad=True)\n",
    "\n",
    "    def forward(self, input):\n",
    "        input_to_top_relu = input * self.w00 + self.b00\n",
    "        top_relu_output = F.relu(input_to_top_relu)\n",
    "        scaled_top_relu_output = top_relu_output * self.w01\n",
    "\n",
    "        input_to_bottom_relu = input * self.w10 + self.b10\n",
    "        bottom_relu_output = F.relu(input_to_bottom_relu)\n",
    "        scaled_bottom_relu_output = bottom_relu_output * self.w11\n",
    "\n",
    "        input_to_final_relu = scaled_top_relu_output + scaled_bottom_relu_output + self.final_bias\n",
    "\n",
    "        return F.relu(input_to_final_relu)"
   ]
  },
  {
   "cell_type": "code",
   "execution_count": null,
   "id": "7803a757",
   "metadata": {},
   "outputs": [],
   "source": [
    "model = BasicNN()"
   ]
  },
  {
   "cell_type": "code",
   "execution_count": null,
   "id": "54664b0c",
   "metadata": {},
   "outputs": [],
   "source": [
    "inputs = torch.tensor([0.0, 0.1, 0.2, 0.3, 0.4, 0.5, 0.6, 0.7, 0.8, 0.9, 1.0])\n",
    "labels = torch.tensor([0.0, 0.0, 0.0, 0.0, 0.0, 1.0, 0.0, 0.0, 0.0, 0.0, 0.0])\n",
    "\n",
    "optimizer = SGD(model.parameters(), lr=0.1)\n",
    "total_loss = 0.0\n",
    "for epoch in range(100):\n",
    "    total_loss = 0\n",
    "    for i in range(len(inputs)):\n",
    "        input_i = inputs[i]\n",
    "        label_i = labels[i]\n",
    "        output_i = model(input_i)\n",
    "        loss = (label_i - output_i) ** 2\n",
    "        loss.backward()\n",
    "        total_loss += float(loss)\n",
    "    \n",
    "    if total_loss < 0.0001:\n",
    "        print(\"Num steps: \", epoch)\n",
    "        print(\"Total loss: \", total_loss, \"\\n======\")\n",
    "        break\n",
    "    \n",
    "    optimizer.step()\n",
    "    optimizer.zero_grad()\n",
    "    print(\"Step: \", epoch)\n",
    "    print(\"Total loss: \", total_loss)\n",
    "    print(\"Bias value: \", model.final_bias.data, \"\\n======\") "
   ]
  },
  {
   "cell_type": "code",
   "execution_count": null,
   "id": "0e52db44",
   "metadata": {},
   "outputs": [],
   "source": [
    "final_outputs = model(inputs)\n",
    "plt.plot(inputs, final_outputs.detach())"
   ]
  },
  {
   "cell_type": "markdown",
   "id": "f444e81d",
   "metadata": {},
   "source": [
    "## LSTM"
   ]
  },
  {
   "cell_type": "code",
   "execution_count": null,
   "id": "66a4be51",
   "metadata": {},
   "outputs": [],
   "source": [
    "x_start, x_end = 0, 100\n",
    "n_samples = 1000\n",
    "noise = 0.0\n",
    "\n",
    "x = np.linspace(x_start, x_end, num=n_samples)\n",
    "y = np.sin(x) ** 2 + 0.5 * np.cos(x) + np.random.normal(loc=0, scale=noise, size=n_samples)\n",
    "plt.plot(x, y)"
   ]
  },
  {
   "cell_type": "code",
   "execution_count": null,
   "id": "e77f501d",
   "metadata": {},
   "outputs": [],
   "source": [
    "class LSTMModel(nn.Module):\n",
    "    def __init__(self, input_size=1, hidden_size=50, output_size=1, num_layers=1):\n",
    "        super(LSTMModel, self).__init__()\n",
    "        self.hidden_size = hidden_size\n",
    "        self.num_layers = num_layers\n",
    "        self.lstm = nn.LSTM(input_size, hidden_size, num_layers, batch_first=True)\n",
    "        self.fc = nn.Linear(hidden_size, output_size)\n",
    "\n",
    "    def forward(self, x):\n",
    "        out, _ = self.lstm(x)\n",
    "        out = self.fc(out)\n",
    "        return out"
   ]
  },
  {
   "cell_type": "code",
   "execution_count": null,
   "id": "0cba6107",
   "metadata": {},
   "outputs": [],
   "source": [
    "lstm = LSTMModel(input_size=1, hidden_size=50, output_size=1, num_layers=1)"
   ]
  },
  {
   "cell_type": "code",
   "execution_count": null,
   "id": "f68e55e7",
   "metadata": {},
   "outputs": [],
   "source": [
    "# Prepare the data\n",
    "xs = []\n",
    "ys = []\n",
    "\n",
    "for i in range(len(y) - 1):\n",
    "    xs.append(y[i])\n",
    "    ys.append(y[i + 1])\n",
    "\n",
    "xs = np.array(xs).reshape(-1, 1)\n",
    "xs = torch.tensor(xs, dtype=torch.float32)\n",
    "\n",
    "ys = np.array(ys).reshape(-1, 1)\n",
    "ys = torch.tensor(ys, dtype=torch.float32)"
   ]
  },
  {
   "cell_type": "code",
   "execution_count": null,
   "id": "b8dd9f03",
   "metadata": {},
   "outputs": [],
   "source": [
    "# Train the model\n",
    "criterion = nn.MSELoss()\n",
    "optimizer = Adam(lstm.parameters(), lr=0.01)\n",
    "num_epochs = 100\n",
    "for epoch in range(num_epochs):\n",
    "    lstm.train()\n",
    "    optimizer.zero_grad()\n",
    "    \n",
    "    # Forward pass\n",
    "    y_hat = lstm(xs)\n",
    "    loss = criterion(y_hat, ys)\n",
    "\n",
    "    # Backward pass and optimization\n",
    "    loss.backward()\n",
    "    optimizer.step()\n",
    "\n",
    "    if (epoch + 1) % 10 == 0:\n",
    "        print(f'Epoch [{epoch + 1}/{num_epochs}], Loss: {loss.item():.4f}')"
   ]
  },
  {
   "cell_type": "code",
   "execution_count": null,
   "id": "db440793",
   "metadata": {},
   "outputs": [],
   "source": [
    "# Fitted values\n",
    "lstm.eval()\n",
    "with torch.no_grad():\n",
    "    y_hat = lstm(xs)\n",
    "y_hat = y_hat.numpy()\n",
    "\n",
    "plt.plot(np.arange(len(y)), y, label='Original values', color='blue')\n",
    "plt.plot(np.arange(len(y_hat)), y_hat, label='Fitted values', color='red')"
   ]
  },
  {
   "cell_type": "code",
   "execution_count": null,
   "id": "74f327ca",
   "metadata": {},
   "outputs": [],
   "source": [
    "# https://www.youtube.com/watch?v=RHGiXPuo_pI\n",
    "# article on LSTMs, RNNs, and GRUs"
   ]
  },
  {
   "cell_type": "markdown",
   "id": "665a2f61",
   "metadata": {},
   "source": [
    "### Going further with RNNs"
   ]
  },
  {
   "cell_type": "code",
   "execution_count": null,
   "id": "b9a1bd55",
   "metadata": {},
   "outputs": [],
   "source": [
    "# Useful resources:\n",
    "# https://medium.com/@imjeremyhi/understanding-recurrent-networks-part-1-simple-rnn-lstm-cc53e7475980\n",
    "# https://github.com/fastai/fastbook/blob/master/12_nlp_dive.ipynb"
   ]
  },
  {
   "cell_type": "code",
   "execution_count": null,
   "id": "78a86e01",
   "metadata": {},
   "outputs": [],
   "source": [
    "# Predict next value based on the last 10 values\n",
    "x_start, x_end = 0, 100\n",
    "n_samples = 1000\n",
    "noise = 0.0\n",
    "\n",
    "x = np.linspace(x_start, x_end, num=n_samples)\n",
    "y = np.sin(x) + np.cos(0.5 * x) + 0.4 * np.cos(0.1 * x)\n",
    "plt.plot(x, y)"
   ]
  },
  {
   "cell_type": "code",
   "execution_count": null,
   "id": "5df75521",
   "metadata": {},
   "outputs": [],
   "source": [
    "seq_len = 3\n",
    "xs, ys = [], []\n",
    "for i in range(len(y) - seq_len):\n",
    "    xs.append(y[i:i + seq_len])\n",
    "    ys.append(y[i + seq_len])\n",
    "\n",
    "xs = np.array(xs).reshape(-1, seq_len)\n",
    "xs = torch.tensor(xs, dtype=torch.float32)\n",
    "\n",
    "ys = np.array(ys).reshape(-1, 1)\n",
    "ys = torch.tensor(ys, dtype=torch.float32)"
   ]
  },
  {
   "cell_type": "code",
   "execution_count": null,
   "id": "6887922c",
   "metadata": {},
   "outputs": [],
   "source": [
    "class RNN1(nn.Module):\n",
    "    def __init__(self, input_size=1, hidden_size=25):\n",
    "        super().__init__()\n",
    "        self.input_size = input_size\n",
    "        self.hidden_size = hidden_size\n",
    "        self.ih = nn.Linear(input_size, hidden_size)\n",
    "        self.hh = nn.Linear(hidden_size, hidden_size)\n",
    "        self.ho = nn.Linear(hidden_size, 1)\n",
    "    \n",
    "    def forward(self, x: torch.Tensor):\n",
    "        x = x.view(-1, 3)  # Reshape to (batch_size, seq_len)\n",
    "        h = torch.zeros(x.shape[0], self.hidden_size)\n",
    "        h = F.relu(self.ih(x[:, 0].view(-1, 1)) + self.hh(h))  # .view(-1, 1) to make it 2D\n",
    "        h = F.relu(self.ih(x[:, 1].view(-1, 1)) + self.hh(h))\n",
    "        h = F.relu(self.ih(x[:, 2].view(-1, 1)) + self.hh(h))\n",
    "        return self.ho(h)"
   ]
  },
  {
   "cell_type": "code",
   "execution_count": null,
   "id": "22385b58",
   "metadata": {},
   "outputs": [],
   "source": [
    "# Define model\n",
    "rnn_model = RNN1(input_size=1, hidden_size=25)\n",
    "\n",
    "# Define data loaders\n",
    "dataset = TensorDataset(xs, ys)\n",
    "dataloader = DataLoader(dataset, batch_size=32)\n",
    "\n",
    "criterion = nn.MSELoss()\n",
    "optimizer = Adam(rnn_model.parameters(), lr=0.01)\n",
    "num_epochs = 100\n",
    "\n",
    "rnn_model.train()\n",
    "for epoch in range(num_epochs):\n",
    "    for inputs, labels in dataloader:\n",
    "        optimizer.zero_grad()\n",
    "        outputs = rnn_model(inputs)\n",
    "        loss = criterion(outputs, labels)\n",
    "        loss.backward()\n",
    "        optimizer.step()\n",
    "\n",
    "    if (epoch + 1) % 10 == 0:\n",
    "        print(f'Epoch [{epoch + 1}/{num_epochs}], Loss: {loss.item():.4f}')"
   ]
  },
  {
   "cell_type": "code",
   "execution_count": null,
   "id": "35f0019a",
   "metadata": {},
   "outputs": [],
   "source": [
    "# Fitted values\n",
    "rnn_model.eval()\n",
    "with torch.no_grad():\n",
    "    fitted_values = rnn_model(xs).view(-1)\n",
    "fitted_values = fitted_values.numpy()\n",
    "\n",
    "plt.plot(x, y, label='Original values', color='blue')\n",
    "plt.plot(x[seq_len:], fitted_values, label='Fitted values', color='red')"
   ]
  },
  {
   "cell_type": "markdown",
   "id": "358bc7ec",
   "metadata": {},
   "source": [
    "## Forecasting several timestamps ahead"
   ]
  },
  {
   "cell_type": "code",
   "execution_count": null,
   "id": "6ae6e4c2",
   "metadata": {},
   "outputs": [],
   "source": [
    "# Predict next value based on the last 10 values\n",
    "x_start, x_end = 0, 100\n",
    "n_samples = 1000\n",
    "noise = 0.2\n",
    "\n",
    "x = np.linspace(x_start, x_end, num=n_samples)\n",
    "y = np.sin(x) + np.cos(0.5 * x) + 0.4 * np.cos(0.1 * x) + np.random.normal(loc=0, scale=noise, size=n_samples)\n",
    "plt.plot(x, y)"
   ]
  },
  {
   "cell_type": "code",
   "execution_count": null,
   "id": "9a17f210",
   "metadata": {},
   "outputs": [],
   "source": [
    "in_seq_len = 60\n",
    "out_seq_len = 21\n",
    "\n",
    "xs, ys = [], []\n",
    "for i in range(len(y) - in_seq_len - out_seq_len):\n",
    "    xs.append(y[i:i + in_seq_len])\n",
    "    for j in range(in_seq_len):\n",
    "        ys.append(y[i + j + 1: i + j + out_seq_len + 1])\n",
    "\n",
    "xs = np.array(xs).reshape(-1, in_seq_len)\n",
    "ys = np.array(ys).reshape(-1, in_seq_len, out_seq_len)"
   ]
  },
  {
   "cell_type": "code",
   "execution_count": null,
   "id": "c0415b0f",
   "metadata": {},
   "outputs": [],
   "source": [
    "sample_idx = 4\n",
    "fig, axes = plt.subplots(in_seq_len, 1, figsize=(10, in_seq_len * 1.5), sharex=True)\n",
    "axes = axes.flatten()\n",
    "\n",
    "for i in range(in_seq_len):\n",
    "    axes[i].scatter(\n",
    "        x[sample_idx:sample_idx + in_seq_len + out_seq_len],\n",
    "        y[sample_idx:sample_idx + in_seq_len + out_seq_len],\n",
    "        label='Original sequence',\n",
    "        color='blue'\n",
    "    )\n",
    "\n",
    "    axes[i].plot(\n",
    "        x[sample_idx:sample_idx + in_seq_len],\n",
    "        xs[sample_idx],\n",
    "        label='Input sequence',\n",
    "        color='green',\n",
    "        lw=2.5,\n",
    "    )\n",
    "\n",
    "    axes[i].plot(\n",
    "        x[sample_idx + i + 1:sample_idx + i + out_seq_len + 1],\n",
    "        ys[sample_idx, i],\n",
    "        label='Output sequence',\n",
    "        color='orange',\n",
    "    )\n",
    "\n",
    "fig.tight_layout();"
   ]
  },
  {
   "cell_type": "code",
   "execution_count": null,
   "id": "352c7c4b",
   "metadata": {},
   "outputs": [],
   "source": [
    "class RNN2(nn.Module):\n",
    "    def __init__(\n",
    "        self,\n",
    "        in_seq_length: int,\n",
    "        out_seq_len: int,\n",
    "        input_size: int = 1,\n",
    "        hidden_size: int = 25,\n",
    "        batch_size: int = 32,\n",
    "    ):\n",
    "        super().__init__()\n",
    "        self.in_seq_length = in_seq_length\n",
    "        self.out_seq_len = out_seq_len\n",
    "        self.hidden_size = hidden_size\n",
    "        self.input_size = input_size\n",
    "        self.batch_size = batch_size\n",
    "        self.ih = nn.Linear(input_size, hidden_size)\n",
    "        self.hh = nn.Linear(hidden_size, hidden_size)\n",
    "        self.ho = nn.Linear(hidden_size, out_seq_len)\n",
    "    \n",
    "    def forward(self, x: torch.Tensor, h: torch.Tensor | None = None):\n",
    "        if h is None:\n",
    "            h = torch.zeros(self.batch_size, self.hidden_size, dtype=torch.float32)\n",
    "        \n",
    "        outs = []\n",
    "        for i in range(self.in_seq_length):\n",
    "            h = F.relu(self.ih(x[:, i].view(-1, 1)) + self.hh(h))\n",
    "            outs.append(self.ho(h))\n",
    "        outs = torch.stack(outs, dim=1)\n",
    "        return outs"
   ]
  },
  {
   "cell_type": "code",
   "execution_count": null,
   "id": "22db9ac6",
   "metadata": {},
   "outputs": [],
   "source": [
    "batch_size = 32\n",
    "\n",
    "xs = torch.tensor(xs, dtype=torch.float32)\n",
    "ys = torch.tensor(ys, dtype=torch.float32)\n",
    "\n",
    "ds = TensorDataset(xs, ys)\n",
    "dl = DataLoader(ds, batch_size=32, drop_last=True)"
   ]
  },
  {
   "cell_type": "code",
   "execution_count": null,
   "id": "bf3db7c0",
   "metadata": {},
   "outputs": [],
   "source": [
    "rnn_model = RNN2(in_seq_length=in_seq_len, out_seq_len=out_seq_len, batch_size=batch_size)\n",
    "criterion = nn.MSELoss()\n",
    "optimizer = Adam(rnn_model.parameters(), lr=1e-03)\n",
    "\n",
    "# Training loop\n",
    "n_epochs = 250\n",
    "rnn_model.train()\n",
    "for epoch in range(n_epochs):\n",
    "    for inputs, labels in dl:\n",
    "        optimizer.zero_grad()\n",
    "        outputs = rnn_model(inputs)\n",
    "        loss = criterion(outputs, labels)\n",
    "        loss.backward()\n",
    "        optimizer.step()\n",
    "\n",
    "    if (epoch + 1) % 1 == 0:\n",
    "        print(f'Epoch [{epoch + 1}/{n_epochs}], Loss: {loss.item():.4f}')"
   ]
  },
  {
   "cell_type": "code",
   "execution_count": null,
   "id": "2bf97ef1",
   "metadata": {},
   "outputs": [],
   "source": [
    "# Plot the fitted values for each batch\n",
    "plt.plot(x, y)\n",
    "\n",
    "for batch_idx, (inputs, _) in enumerate(dl):\n",
    "    outputs = rnn_model(inputs).detach().numpy()\n",
    "    x_start = batch_idx * batch_size + in_seq_len + 1\n",
    "    x_end = x_start + out_seq_len\n",
    "    plt.plot(x[x_start: x_end], outputs[0, -1, :], color=\"red\")"
   ]
  },
  {
   "cell_type": "markdown",
   "id": "cba0d0ce",
   "metadata": {},
   "source": [
    "## Multilayer RNN"
   ]
  },
  {
   "cell_type": "code",
   "execution_count": null,
   "id": "1112d30c",
   "metadata": {},
   "outputs": [],
   "source": [
    "class RNN3(nn.Module):\n",
    "    def __init__(\n",
    "        self,\n",
    "        in_seq_length: int,\n",
    "        out_seq_len: int,\n",
    "        input_size: int = 1,\n",
    "        hidden_size: int = 25,\n",
    "        batch_size: int = 32,\n",
    "        num_layers: int = 1\n",
    "    ):\n",
    "        super().__init__()\n",
    "        self.in_seq_length = in_seq_length\n",
    "        self.out_seq_len = out_seq_len\n",
    "        self.hidden_size = hidden_size\n",
    "        self.input_size = input_size\n",
    "        self.batch_size = batch_size\n",
    "        self.rnn = nn.RNN(input_size=input_size, hidden_size=hidden_size, num_layers=num_layers, batch_first=True)\n",
    "        self.ho = nn.Linear(in_features=hidden_size, out_features=out_seq_len)\n",
    "    \n",
    "    def forward(self, x: torch.Tensor) -> torch.Tensor:\n",
    "        out, _ = self.rnn(x)\n",
    "        return self.ho(out)"
   ]
  },
  {
   "cell_type": "code",
   "execution_count": null,
   "id": "c6b6d90d",
   "metadata": {},
   "outputs": [],
   "source": [
    "# Predict next value based on the last 10 values\n",
    "x_start, x_end = 0, 100\n",
    "n_samples = 1000\n",
    "noise = 0.3\n",
    "\n",
    "x = np.linspace(x_start, x_end, num=n_samples)\n",
    "y = np.sin(x) + np.cos(0.5 * x) + 0.4 * np.cos(0.1 * x) + np.random.normal(loc=0, scale=noise, size=n_samples)\n",
    "plt.plot(x, y)"
   ]
  },
  {
   "cell_type": "code",
   "execution_count": null,
   "id": "d8eb862e",
   "metadata": {},
   "outputs": [],
   "source": [
    "# Prepare datasets\n",
    "in_seq_len = 60\n",
    "out_seq_len = 21\n",
    "\n",
    "xs, ys = [], []\n",
    "for i in range(len(y) - in_seq_len - out_seq_len):\n",
    "    xs.append(y[i:i + in_seq_len])\n",
    "    for j in range(in_seq_len):\n",
    "        ys.append(y[i + j + 1: i + j + out_seq_len + 1])\n",
    "\n",
    "xs = np.array(xs).reshape(-1, in_seq_len, 1)\n",
    "xs = torch.tensor(xs, dtype=torch.float32)\n",
    "\n",
    "ys = np.array(ys).reshape(-1, in_seq_len, out_seq_len)\n",
    "ys = torch.tensor(ys, dtype=torch.float32)"
   ]
  },
  {
   "cell_type": "code",
   "execution_count": null,
   "id": "22de6c0b",
   "metadata": {},
   "outputs": [],
   "source": [
    "batch_size = 32\n",
    "ds = TensorDataset(xs, ys)\n",
    "dl = DataLoader(ds, batch_size=32)"
   ]
  },
  {
   "cell_type": "code",
   "execution_count": null,
   "id": "696dc0bb",
   "metadata": {},
   "outputs": [],
   "source": [
    "rnn_model = RNN3(\n",
    "    in_seq_length=in_seq_len,\n",
    "    out_seq_len=out_seq_len,\n",
    "    input_size=1,\n",
    "    hidden_size=25,\n",
    "    num_layers=3,\n",
    "    batch_size=batch_size\n",
    ")\n",
    "criterion = nn.MSELoss()\n",
    "optimizer = Adam(rnn_model.parameters(), lr=1e-03)\n",
    "\n",
    "# Training loop\n",
    "n_epochs = 200\n",
    "rnn_model.train()\n",
    "for epoch in range(n_epochs):\n",
    "    for inputs, labels in dl:\n",
    "        optimizer.zero_grad()\n",
    "        outputs = rnn_model(inputs)\n",
    "        loss = criterion(outputs, labels)\n",
    "        loss.backward()\n",
    "        optimizer.step()\n",
    "\n",
    "    if (epoch + 1) % 10 == 0:\n",
    "        print(f'Epoch [{epoch + 1}/{n_epochs}], Loss: {loss.item():.4f}')"
   ]
  },
  {
   "cell_type": "markdown",
   "id": "1a5ff421",
   "metadata": {},
   "source": [
    "## Multilayer LSTM, Long Horizon"
   ]
  }
 ],
 "metadata": {
  "kernelspec": {
   "display_name": ".venv",
   "language": "python",
   "name": "python3"
  },
  "language_info": {
   "codemirror_mode": {
    "name": "ipython",
    "version": 3
   },
   "file_extension": ".py",
   "mimetype": "text/x-python",
   "name": "python",
   "nbconvert_exporter": "python",
   "pygments_lexer": "ipython3",
   "version": "3.12.9"
  }
 },
 "nbformat": 4,
 "nbformat_minor": 5
}
