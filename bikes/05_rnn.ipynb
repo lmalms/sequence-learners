{
 "cells": [
  {
   "cell_type": "code",
   "execution_count": null,
   "id": "8e46c805",
   "metadata": {},
   "outputs": [],
   "source": [
    "import torch\n",
    "import torch.nn as nn\n",
    "import torch.nn.functional as F\n",
    "from torch.optim import SGD\n",
    "\n",
    "import matplotlib.pyplot as plt"
   ]
  },
  {
   "cell_type": "code",
   "execution_count": null,
   "id": "495d9103",
   "metadata": {},
   "outputs": [],
   "source": [
    "class BasicNN(nn.Module):\n",
    "    def __init__(self):\n",
    "        super().__init__()\n",
    "        self.w00 = nn.Parameter(torch.tensor(1.7), requires_grad=False)\n",
    "        self.b00 = nn.Parameter(torch.tensor(-0.85), requires_grad=False)\n",
    "        self.w01 = nn.Parameter(torch.tensor(-40.8), requires_grad=False)\n",
    "\n",
    "        self.w10 = nn.Parameter(torch.tensor(12.6), requires_grad=False)\n",
    "        self.b10 = nn.Parameter(torch.tensor(0.0), requires_grad=False)\n",
    "        self.w11 = nn.Parameter(torch.tensor(2.7), requires_grad=False)\n",
    "\n",
    "        self.final_bias = nn.Parameter(torch.tensor(-16.0), requires_grad=True)\n",
    "\n",
    "    def forward(self, input):\n",
    "        input_to_top_relu = input * self.w00 + self.b00\n",
    "        top_relu_output = F.relu(input_to_top_relu)\n",
    "        scaled_top_relu_output = top_relu_output * self.w01\n",
    "\n",
    "        input_to_bottom_relu = input * self.w10 + self.b10\n",
    "        bottom_relu_output = F.relu(input_to_bottom_relu)\n",
    "        scaled_bottom_relu_output = bottom_relu_output * self.w11\n",
    "\n",
    "        input_to_final_relu = scaled_top_relu_output + scaled_bottom_relu_output + self.final_bias\n",
    "\n",
    "        return F.relu(input_to_final_relu)"
   ]
  },
  {
   "cell_type": "code",
   "execution_count": null,
   "id": "7803a757",
   "metadata": {},
   "outputs": [],
   "source": [
    "model = BasicNN()"
   ]
  },
  {
   "cell_type": "code",
   "execution_count": null,
   "id": "54664b0c",
   "metadata": {},
   "outputs": [],
   "source": [
    "inputs = torch.tensor([0.0, 0.1, 0.2, 0.3, 0.4, 0.5, 0.6, 0.7, 0.8, 0.9, 1.0])\n",
    "labels = torch.tensor([0.0, 0.0, 0.0, 0.0, 0.0, 1.0, 0.0, 0.0, 0.0, 0.0, 0.0])\n",
    "\n",
    "optimizer = SGD(model.parameters(), lr=0.1)\n",
    "total_loss = 0.0\n",
    "for epoch in range(100):\n",
    "    total_loss = 0\n",
    "    for i in range(len(inputs)):\n",
    "        input_i = inputs[i]\n",
    "        label_i = labels[i]\n",
    "        output_i = model(input_i)\n",
    "        loss = (label_i - output_i) ** 2\n",
    "        loss.backward()\n",
    "        total_loss += float(loss)\n",
    "    \n",
    "    if total_loss < 0.0001:\n",
    "        print(\"Num steps: \", epoch)\n",
    "        print(\"Total loss: \", total_loss, \"\\n======\")\n",
    "        break\n",
    "    \n",
    "    optimizer.step()\n",
    "    optimizer.zero_grad()\n",
    "    print(\"Step: \", epoch)\n",
    "    print(\"Total loss: \", total_loss)\n",
    "    print(\"Bias value: \", model.final_bias.data, \"\\n======\") "
   ]
  },
  {
   "cell_type": "code",
   "execution_count": null,
   "id": "0e52db44",
   "metadata": {},
   "outputs": [],
   "source": [
    "final_outputs = model(inputs)\n",
    "plt.plot(inputs, final_outputs.detach())"
   ]
  },
  {
   "cell_type": "markdown",
   "id": "f444e81d",
   "metadata": {},
   "source": [
    "## LSTM"
   ]
  },
  {
   "cell_type": "code",
   "execution_count": null,
   "id": "8f52ad32",
   "metadata": {},
   "outputs": [],
   "source": [
    "import numpy as np\n",
    "import torch\n",
    "import torch.nn as nn\n",
    "import torch.optim as optim\n",
    "import matplotlib.pyplot as plt"
   ]
  },
  {
   "cell_type": "code",
   "execution_count": null,
   "id": "66a4be51",
   "metadata": {},
   "outputs": [],
   "source": [
    "x_start, x_end = 0, 100\n",
    "n_samples = 1000\n",
    "noise = 0.0\n",
    "\n",
    "x = np.linspace(x_start, x_end, num=n_samples)\n",
    "y = np.sin(x) ** 2 + 0.5 * np.cos(x) + np.random.normal(loc=0, scale=noise, size=n_samples)\n",
    "plt.plot(x, y)"
   ]
  },
  {
   "cell_type": "code",
   "execution_count": null,
   "id": "e77f501d",
   "metadata": {},
   "outputs": [],
   "source": [
    "class LSTMModel(nn.Module):\n",
    "    def __init__(self, input_size=1, hidden_size=50, output_size=1, num_layers=1):\n",
    "        super(LSTMModel, self).__init__()\n",
    "        self.hidden_size = hidden_size\n",
    "        self.num_layers = num_layers\n",
    "        self.lstm = nn.LSTM(input_size, hidden_size, num_layers, batch_first=True)\n",
    "        self.fc = nn.Linear(hidden_size, output_size)\n",
    "\n",
    "    def forward(self, x):\n",
    "        out, _ = self.lstm(x)\n",
    "        out = self.fc(out)\n",
    "        return out"
   ]
  },
  {
   "cell_type": "code",
   "execution_count": null,
   "id": "0cba6107",
   "metadata": {},
   "outputs": [],
   "source": [
    "lstm = LSTMModel(input_size=1, hidden_size=50, output_size=1, num_layers=1)"
   ]
  },
  {
   "cell_type": "code",
   "execution_count": null,
   "id": "f68e55e7",
   "metadata": {},
   "outputs": [],
   "source": [
    "# Prepare the data\n",
    "xs = []\n",
    "ys = []\n",
    "\n",
    "for i in range(len(y) - 1):\n",
    "    xs.append(y[i])\n",
    "    ys.append(y[i + 1])\n",
    "\n",
    "xs = np.array(xs).reshape(-1, 1)\n",
    "xs = torch.tensor(xs, dtype=torch.float32)\n",
    "\n",
    "ys = np.array(ys).reshape(-1, 1)\n",
    "ys = torch.tensor(ys, dtype=torch.float32)"
   ]
  },
  {
   "cell_type": "code",
   "execution_count": null,
   "id": "b8dd9f03",
   "metadata": {},
   "outputs": [],
   "source": [
    "# Train the model\n",
    "criterion = nn.MSELoss()\n",
    "optimizer = optim.Adam(lstm.parameters(), lr=0.01)\n",
    "num_epochs = 100\n",
    "for epoch in range(num_epochs):\n",
    "    lstm.train()\n",
    "    optimizer.zero_grad()\n",
    "    \n",
    "    # Forward pass\n",
    "    y_hat = lstm(xs)\n",
    "    loss = criterion(y_hat, ys)\n",
    "\n",
    "    # Backward pass and optimization\n",
    "    loss.backward()\n",
    "    optimizer.step()\n",
    "\n",
    "    if (epoch + 1) % 10 == 0:\n",
    "        print(f'Epoch [{epoch + 1}/{num_epochs}], Loss: {loss.item():.4f}')"
   ]
  },
  {
   "cell_type": "code",
   "execution_count": null,
   "id": "db440793",
   "metadata": {},
   "outputs": [],
   "source": [
    "# Fitted values\n",
    "lstm.eval()\n",
    "with torch.no_grad():\n",
    "    y_hat = lstm(xs)\n",
    "y_hat = y_hat.numpy()\n",
    "\n",
    "plt.plot(np.arange(len(y)), y, label='Original values', color='blue')\n",
    "plt.plot(np.arange(len(y_hat)), y_hat, label='Fitted values', color='red')"
   ]
  },
  {
   "cell_type": "code",
   "execution_count": null,
   "id": "74f327ca",
   "metadata": {},
   "outputs": [],
   "source": [
    "# https://www.youtube.com/watch?v=RHGiXPuo_pI\n",
    "# article on LSTMs, RNNs, and GRUs"
   ]
  },
  {
   "cell_type": "markdown",
   "id": "665a2f61",
   "metadata": {},
   "source": [
    "### Going further with RNNs"
   ]
  },
  {
   "cell_type": "code",
   "execution_count": null,
   "id": "b9a1bd55",
   "metadata": {},
   "outputs": [],
   "source": [
    "# Useful resources:\n",
    "# https://medium.com/@imjeremyhi/understanding-recurrent-networks-part-1-simple-rnn-lstm-cc53e7475980\n",
    "# https://github.com/fastai/fastbook/blob/master/12_nlp_dive.ipynb"
   ]
  },
  {
   "cell_type": "code",
   "execution_count": null,
   "id": "78a86e01",
   "metadata": {},
   "outputs": [],
   "source": [
    "# Predict next value based on the last 10 values\n",
    "x_start, x_end = 0, 100\n",
    "n_samples = 1000\n",
    "noise = 0.0\n",
    "\n",
    "x = np.linspace(x_start, x_end, num=n_samples)\n",
    "y = np.sin(x) + np.cos(0.5 * x) + 0.4 * np.cos(0.1 * x)\n",
    "plt.plot(x, y)"
   ]
  },
  {
   "cell_type": "code",
   "execution_count": null,
   "id": "5df75521",
   "metadata": {},
   "outputs": [],
   "source": [
    "seq_len = 3\n",
    "xs, ys = [], []\n",
    "for i in range(len(y) - seq_len):\n",
    "    xs.append(y[i:i + seq_len])\n",
    "    ys.append(y[i + seq_len])\n",
    "\n",
    "xs = np.array(xs).reshape(-1, seq_len)\n",
    "xs = torch.tensor(xs, dtype=torch.float32)\n",
    "\n",
    "ys = np.array(ys).reshape(-1, 1)\n",
    "ys = torch.tensor(ys, dtype=torch.float32)"
   ]
  },
  {
   "cell_type": "code",
   "execution_count": null,
   "id": "6887922c",
   "metadata": {},
   "outputs": [],
   "source": [
    "class RNN1(nn.Module):\n",
    "    def __init__(self, input_size=1, hidden_size=25):\n",
    "        super().__init__()\n",
    "        self.input_size = input_size\n",
    "        self.hidden_size = hidden_size\n",
    "        self.ih = nn.Linear(input_size, hidden_size)\n",
    "        self.hh = nn.Linear(hidden_size, hidden_size)\n",
    "        self.ho = nn.Linear(hidden_size, 1)\n",
    "    \n",
    "    def forward(self, x: torch.Tensor):\n",
    "        x = x.view(-1, 3)  # Reshape to (batch_size, seq_len)\n",
    "        h0 = torch.zeros(x.shape[0], self.hidden_size)\n",
    "        h1 = F.relu(self.ih(x[:, 0].view(-1, 1)) + self.hh(h0))  # .view(-1, 1) to make it 2D\n",
    "        h2 = F.relu(self.ih(x[:, 1].view(-1, 1)) + self.hh(h1))\n",
    "        h3 = F.relu(self.ih(x[:, 2].view(-1, 1)) + self.hh(h2))\n",
    "        return self.ho(h3)"
   ]
  },
  {
   "cell_type": "code",
   "execution_count": null,
   "id": "8ba1ba5b",
   "metadata": {},
   "outputs": [],
   "source": [
    "# Using torch data loader\n",
    "from torch.utils.data import DataLoader, TensorDataset\n",
    "dataset = TensorDataset(xs, ys)\n",
    "dataloader = DataLoader(dataset, batch_size=32)"
   ]
  }
 ],
 "metadata": {
  "kernelspec": {
   "display_name": ".venv",
   "language": "python",
   "name": "python3"
  },
  "language_info": {
   "codemirror_mode": {
    "name": "ipython",
    "version": 3
   },
   "file_extension": ".py",
   "mimetype": "text/x-python",
   "name": "python",
   "nbconvert_exporter": "python",
   "pygments_lexer": "ipython3",
   "version": "3.12.9"
  }
 },
 "nbformat": 4,
 "nbformat_minor": 5
}
