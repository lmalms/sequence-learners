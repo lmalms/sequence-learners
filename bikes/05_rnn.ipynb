{
 "cells": [
  {
   "cell_type": "code",
   "execution_count": 10,
   "id": "8e46c805",
   "metadata": {},
   "outputs": [],
   "source": [
    "import torch\n",
    "import torch.nn as nn\n",
    "import torch.nn.functional as F\n",
    "from torch.optim import SGD\n",
    "\n",
    "import matplotlib.pyplot as plt"
   ]
  },
  {
   "cell_type": "code",
   "execution_count": null,
   "id": "495d9103",
   "metadata": {},
   "outputs": [],
   "source": [
    "class BasicNN(nn.Module):\n",
    "    def __init__(self):\n",
    "        super().__init__()\n",
    "        self.w00 = nn.Parameter(torch.tensor(1.7), requires_grad=False)\n",
    "        self.b00 = nn.Parameter(torch.tensor(-0.85), requires_grad=False)\n",
    "        self.w01 = nn.Parameter(torch.tensor(-40.8), requires_grad=False)\n",
    "\n",
    "        self.w10 = nn.Parameter(torch.tensor(12.6), requires_grad=False)\n",
    "        self.b10 = nn.Parameter(torch.tensor(0.0), requires_grad=False)\n",
    "        self.w11 = nn.Parameter(torch.tensor(2.7), requires_grad=False)\n",
    "\n",
    "        self.final_bias = nn.Parameter(torch.tensor(-16.0), requires_grad=True)\n",
    "\n",
    "    def forward(self, input):\n",
    "        input_to_top_relu = input * self.w00 + self.b00\n",
    "        top_relu_output = F.relu(input_to_top_relu)\n",
    "        scaled_top_relu_output = top_relu_output * self.w01\n",
    "\n",
    "        input_to_bottom_relu = input * self.w10 + self.b10\n",
    "        bottom_relu_output = F.relu(input_to_bottom_relu)\n",
    "        scaled_bottom_relu_output = bottom_relu_output * self.w11\n",
    "\n",
    "        input_to_final_relu = scaled_top_relu_output + scaled_bottom_relu_output + self.final_bias\n",
    "\n",
    "        return F.relu(input_to_final_relu)"
   ]
  },
  {
   "cell_type": "code",
   "execution_count": 30,
   "id": "7803a757",
   "metadata": {},
   "outputs": [],
   "source": [
    "model = BasicNN()"
   ]
  },
  {
   "cell_type": "code",
   "execution_count": 35,
   "id": "54664b0c",
   "metadata": {},
   "outputs": [
    {
     "name": "stdout",
     "output_type": "stream",
     "text": [
      "Num steps:  0\n",
      "Total loss:  1.4551915228366852e-11 \n",
      "======\n"
     ]
    }
   ],
   "source": [
    "inputs = torch.tensor([0.0, 0.1, 0.2, 0.3, 0.4, 0.5, 0.6, 0.7, 0.8, 0.9, 1.0])\n",
    "labels = torch.tensor([0.0, 0.0, 0.0, 0.0, 0.0, 1.0, 0.0, 0.0, 0.0, 0.0, 0.0])\n",
    "\n",
    "optimizer = SGD(model.parameters(), lr=0.1)\n",
    "total_loss = 0.0\n",
    "for epoch in range(100):\n",
    "    total_loss = 0\n",
    "    for i in range(len(inputs)):\n",
    "        input_i = inputs[i]\n",
    "        label_i = labels[i]\n",
    "        output_i = model(input_i)\n",
    "        loss = (label_i - output_i) ** 2\n",
    "        loss.backward()\n",
    "        total_loss += float(loss)\n",
    "    \n",
    "    if total_loss < 0.0001:\n",
    "        print(\"Num steps: \", epoch)\n",
    "        print(\"Total loss: \", total_loss, \"\\n======\")\n",
    "        break\n",
    "    \n",
    "    optimizer.step()\n",
    "    optimizer.zero_grad()\n",
    "    print(\"Step: \", epoch)\n",
    "    print(\"Total loss: \", total_loss)\n",
    "    print(\"Bias value: \", model.final_bias.data, \"\\n======\") "
   ]
  },
  {
   "cell_type": "code",
   "execution_count": 36,
   "id": "0e52db44",
   "metadata": {},
   "outputs": [
    {
     "data": {
      "text/plain": [
       "[<matplotlib.lines.Line2D at 0x14353e4b0>]"
      ]
     },
     "execution_count": 36,
     "metadata": {},
     "output_type": "execute_result"
    },
    {
     "data": {
      "image/png": "[encoded data removed]",
      "text/plain": [
       "<Figure size 640x480 with 1 Axes>"
      ]
     },
     "metadata": {},
     "output_type": "display_data"
    }
   ],
   "source": [
    "final_outputs = model(inputs)\n",
    "plt.plot(inputs, final_outputs.detach())"
   ]
  },
  {
   "cell_type": "code",
   "execution_count": null,
   "id": "f444e81d",
   "metadata": {},
   "outputs": [],
   "source": []
  }
 ],
 "metadata": {
  "kernelspec": {
   "display_name": ".venv",
   "language": "python",
   "name": "python3"
  },
  "language_info": {
   "codemirror_mode": {
    "name": "ipython",
    "version": 3
   },
   "file_extension": ".py",
   "mimetype": "text/x-python",
   "name": "python",
   "nbconvert_exporter": "python",
   "pygments_lexer": "ipython3",
   "version": "3.12.9"
  }
 },
 "nbformat": 4,
 "nbformat_minor": 5
}
