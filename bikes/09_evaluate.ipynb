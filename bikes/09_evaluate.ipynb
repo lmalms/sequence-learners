{
 "cells": [
  {
   "cell_type": "code",
   "execution_count": null,
   "id": "4038efb2",
   "metadata": {},
   "outputs": [],
   "source": [
    "import numpy as np\n",
    "import matplotlib.pyplot as plt\n",
    "\n",
    "_ = np.seterr(divide=\"raise\")"
   ]
  },
  {
   "cell_type": "markdown",
   "id": "5a8a94ef",
   "metadata": {},
   "source": [
    "# Evaluation criteria\n",
    "\n",
    "## Some general points to consider when choosing an evaluation metric:\n",
    "\n",
    "### Does scale matter?\n",
    "If you need to compare forecast accuracy across datasets or across time series with different scales, choose a scale-independent metric. Common options:\n",
    "- MAPE (Mean Absolute Percentage Error)\n",
    "- sMAPE (Symmetric MAPE)\n",
    "- MASE (Mean Absolute Scaled Error)\n",
    "- RMSSE (Root Mean Squared Scaled Error)\n",
    "\n",
    "If you're only evaluating performance within a single time series, scale-dependent metrics like MAE (Mean Absolute Error) or RMSE (Root Mean Squared Error) may be more appropriate and stable.\n",
    "\n",
    "### "
   ]
  },
  {
   "cell_type": "markdown",
   "id": "dc827e3d",
   "metadata": {},
   "source": [
    "## Scale independent measures"
   ]
  },
  {
   "cell_type": "code",
   "execution_count": null,
   "id": "132388d6",
   "metadata": {},
   "outputs": [],
   "source": [
    "# How do these metrics behave with y_true = 0 ?\n",
    "# How do these metrics behave with y_true close to 0 ?\n",
    "# Symmmetry of errors: \"MAPE and MdAPE also have the disadvantage that they put a heavier penalty on positive errors than on negative errors\".\n"
   ]
  },
  {
   "cell_type": "code",
   "execution_count": null,
   "id": "94c1515d",
   "metadata": {},
   "outputs": [],
   "source": [
    "import pandas as pd"
   ]
  },
  {
   "cell_type": "code",
   "execution_count": null,
   "id": "b177ad3c",
   "metadata": {},
   "outputs": [],
   "source": [
    "y_train = pd.Series(np.arange(21))\n",
    "y_train.to_numpy()[7:].shape\n",
    "y_train.to_numpy()[:-7].shape"
   ]
  },
  {
   "cell_type": "markdown",
   "id": "e07f4252",
   "metadata": {},
   "source": [
    "### MAPE"
   ]
  },
  {
   "cell_type": "code",
   "execution_count": null,
   "id": "5848a649",
   "metadata": {},
   "outputs": [],
   "source": [
    "# y_true = 0\n",
    "\n",
    "y_true = np.array([5, 0, 4, 3, 1])\n",
    "y_hat = np.array([1, 3, 5, 2, 1])\n",
    "np.mean(np.abs((y_true - y_hat) / y_true * 100))"
   ]
  },
  {
   "cell_type": "code",
   "execution_count": null,
   "id": "76b00966",
   "metadata": {},
   "outputs": [],
   "source": [
    "y_true = np.array([4, 3, 1, 7, 8])\n",
    "y_hat = np.array([1, 3, 5, 2, 1])\n",
    "np.mean(np.abs((y_true - y_hat) / y_true * 100))"
   ]
  },
  {
   "cell_type": "code",
   "execution_count": null,
   "id": "439b6f01",
   "metadata": {},
   "outputs": [],
   "source": [
    "y_true = np.array([0.1, 0.01, 0.3, 0.5, 0.2])\n",
    "y_hat = np.array([0.5, 0.2, 0.3, 0.1, 0.1])\n",
    "np.mean(np.abs((y_true - y_hat) / y_true * 100))"
   ]
  },
  {
   "cell_type": "code",
   "execution_count": null,
   "id": "a37f9f2c",
   "metadata": {},
   "outputs": [],
   "source": [
    "n_samples = 1000\n",
    "errors = []\n",
    "y_true = np.random.normal(size=n_samples) / 1e6\n",
    "y_hat = np.random.normal(size=n_samples) / 1e6"
   ]
  },
  {
   "cell_type": "code",
   "execution_count": null,
   "id": "e405158e",
   "metadata": {},
   "outputs": [],
   "source": [
    "plt.hist(y_true)"
   ]
  },
  {
   "cell_type": "code",
   "execution_count": null,
   "id": "73d234bd",
   "metadata": {},
   "outputs": [],
   "source": [
    "y_true, y_hat = 0.1, 0.2\n",
    "error = y_true - y_hat\n",
    "pct_error = error / y_true\n",
    "\n",
    "print(\"Error: \", error)\n",
    "print(\"Pct Error: \", pct_error)"
   ]
  },
  {
   "cell_type": "code",
   "execution_count": null,
   "id": "2c6524a6",
   "metadata": {},
   "outputs": [],
   "source": [
    "\n",
    "\n",
    "# Set seed for reproducibility\n",
    "np.random.seed(42)\n",
    "\n",
    "# Simulate actual values (Y_t) and predictions (Y_hat)\n",
    "# Mostly around 100, but a few near zero\n",
    "Y_t = np.concatenate([np.random.normal(100, 10, 95), np.random.uniform(0.01, 1, 5)])\n",
    "Y_hat = Y_t + np.random.normal(0, 5, len(Y_t))  # Add some noise\n",
    "\n",
    "# Calculate percentage error\n",
    "percentage_error = np.abs((Y_t - Y_hat) / Y_t) * 100"
   ]
  },
  {
   "cell_type": "code",
   "execution_count": 1,
   "id": "f2d8297e",
   "metadata": {},
   "outputs": [],
   "source": [
    "%load_ext autoreload\n",
    "%autoreload 2"
   ]
  },
  {
   "cell_type": "code",
   "execution_count": 29,
   "id": "39910a7a",
   "metadata": {},
   "outputs": [],
   "source": [
    "from datetime import datetime\n",
    "from pathlib import Path\n",
    "import pandas as pd\n",
    "import matplotlib.pyplot as plt\n",
    "\n",
    "from statsmodels.tsa.seasonal import MSTL\n",
    "from bikes.utils.preprocess import Scaler\n",
    "from bikes.models.ets import ExponentialSmoothingLearner\n",
    "from bikes.models.sarima import SARIMASequenceLearner\n",
    "from bikes.models.prophet import ProphetSequenceLearner\n",
    "from bikes.models.theta import ThetaSequenceLearner\n",
    "from bikes.models.prophet import ProphetSequenceLearner\n",
    "from bikes.models.rnn import RNNSequenceLearner\n",
    "\n",
    "from bikes.evaluate import run_evaluation\n",
    "from bikes.utils.preprocess import get_tensor_train_dataset\n",
    "\n",
    "import torch\n",
    "import torch.nn as nn"
   ]
  },
  {
   "cell_type": "code",
   "execution_count": 3,
   "id": "81172fab",
   "metadata": {},
   "outputs": [],
   "source": [
    "cycle_counts = pd.read_csv(\"cycle_counts.csv\", parse_dates=[\"date\"])"
   ]
  },
  {
   "cell_type": "code",
   "execution_count": 22,
   "id": "fb9dad6c",
   "metadata": {},
   "outputs": [],
   "source": [
    "location = \"Nelson Street\"\n",
    "\n",
    "location_df = cycle_counts[cycle_counts[\"location\"] == location]\n",
    "location_df = location_df.set_index(\"date\").sort_index()\n",
    "\n",
    "ts = get_tensor_train_dataset(location_df[\"count\"], 90, 30)"
   ]
  },
  {
   "cell_type": "code",
   "execution_count": 25,
   "id": "24885c08",
   "metadata": {},
   "outputs": [],
   "source": [
    "X, y = ts.tensors"
   ]
  },
  {
   "cell_type": "code",
   "execution_count": 27,
   "id": "2f4c7980",
   "metadata": {},
   "outputs": [
    {
     "data": {
      "text/plain": [
       "torch.Size([976, 90, 1])"
      ]
     },
     "execution_count": 27,
     "metadata": {},
     "output_type": "execute_result"
    }
   ],
   "source": [
    "X.size()"
   ]
  },
  {
   "cell_type": "code",
   "execution_count": 28,
   "id": "518d635a",
   "metadata": {},
   "outputs": [
    {
     "data": {
      "text/plain": [
       "torch.Size([976, 90, 30])"
      ]
     },
     "execution_count": 28,
     "metadata": {},
     "output_type": "execute_result"
    }
   ],
   "source": [
    "y.size()"
   ]
  },
  {
   "cell_type": "code",
   "execution_count": 30,
   "id": "942f06ea",
   "metadata": {},
   "outputs": [],
   "source": [
    "lstm = nn.LSTM(input_size=1, hidden_size=25, batch_first=True)\n",
    "linear = nn.Linear(in_features=25, out_features=30)\n",
    "\n",
    "out, _ = lstm(X)"
   ]
  },
  {
   "cell_type": "code",
   "execution_count": 33,
   "id": "886ffd93",
   "metadata": {},
   "outputs": [
    {
     "data": {
      "text/plain": [
       "torch.Size([976, 90, 30])"
      ]
     },
     "execution_count": 33,
     "metadata": {},
     "output_type": "execute_result"
    }
   ],
   "source": [
    "linear(out).shape"
   ]
  },
  {
   "cell_type": "code",
   "execution_count": 20,
   "id": "41271086",
   "metadata": {},
   "outputs": [
    {
     "name": "stderr",
     "output_type": "stream",
     "text": [
      "/Users/lukasmalms/faculty/sequence-learners/bikes/.venv/lib/python3.12/site-packages/statsmodels/tsa/base/tsa_model.py:473: ValueWarning: No frequency information was provided, so inferred frequency D will be used.\n",
      "  self._init_dates(dates, freq)\n",
      "/Users/lukasmalms/faculty/sequence-learners/bikes/.venv/lib/python3.12/site-packages/statsmodels/tsa/base/tsa_model.py:473: ValueWarning: No frequency information was provided, so inferred frequency D will be used.\n",
      "  self._init_dates(dates, freq)\n",
      "/Users/lukasmalms/faculty/sequence-learners/bikes/.venv/lib/python3.12/site-packages/statsmodels/tsa/base/tsa_model.py:473: ValueWarning: No frequency information was provided, so inferred frequency D will be used.\n",
      "  self._init_dates(dates, freq)\n",
      "/Users/lukasmalms/faculty/sequence-learners/bikes/.venv/lib/python3.12/site-packages/statsmodels/tsa/base/tsa_model.py:473: ValueWarning: No frequency information was provided, so inferred frequency D will be used.\n",
      "  self._init_dates(dates, freq)\n",
      "/Users/lukasmalms/faculty/sequence-learners/bikes/.venv/lib/python3.12/site-packages/statsmodels/tsa/base/tsa_model.py:473: ValueWarning: No frequency information was provided, so inferred frequency D will be used.\n",
      "  self._init_dates(dates, freq)\n",
      "/Users/lukasmalms/faculty/sequence-learners/bikes/.venv/lib/python3.12/site-packages/statsmodels/tsa/forecasting/theta.py:44: UserWarning: Only PeriodIndexes, DatetimeIndexes with a frequency set, RangesIndexes, and Index with a unit increment support extending. The index is set will contain the position relative to the data length.\n",
      "  return DeterministicTerm._extend_index(index, steps)\n",
      "/Users/lukasmalms/faculty/sequence-learners/bikes/.venv/lib/python3.12/site-packages/statsmodels/tsa/forecasting/theta.py:44: UserWarning: Only PeriodIndexes, DatetimeIndexes with a frequency set, RangesIndexes, and Index with a unit increment support extending. The index is set will contain the position relative to the data length.\n",
      "  return DeterministicTerm._extend_index(index, steps)\n",
      "/Users/lukasmalms/faculty/sequence-learners/bikes/.venv/lib/python3.12/site-packages/statsmodels/tsa/forecasting/theta.py:44: UserWarning: Only PeriodIndexes, DatetimeIndexes with a frequency set, RangesIndexes, and Index with a unit increment support extending. The index is set will contain the position relative to the data length.\n",
      "  return DeterministicTerm._extend_index(index, steps)\n",
      "/Users/lukasmalms/faculty/sequence-learners/bikes/.venv/lib/python3.12/site-packages/statsmodels/tsa/forecasting/theta.py:44: UserWarning: Only PeriodIndexes, DatetimeIndexes with a frequency set, RangesIndexes, and Index with a unit increment support extending. The index is set will contain the position relative to the data length.\n",
      "  return DeterministicTerm._extend_index(index, steps)\n",
      "/Users/lukasmalms/faculty/sequence-learners/bikes/.venv/lib/python3.12/site-packages/statsmodels/tsa/forecasting/theta.py:44: UserWarning: Only PeriodIndexes, DatetimeIndexes with a frequency set, RangesIndexes, and Index with a unit increment support extending. The index is set will contain the position relative to the data length.\n",
      "  return DeterministicTerm._extend_index(index, steps)\n",
      "00:04:42 - cmdstanpy - INFO - Chain [1] start processing\n",
      "00:04:42 - cmdstanpy - INFO - Chain [1] done processing\n",
      "00:04:42 - cmdstanpy - INFO - Chain [1] start processing\n",
      "00:04:42 - cmdstanpy - INFO - Chain [1] done processing\n",
      "00:04:42 - cmdstanpy - INFO - Chain [1] start processing\n",
      "00:04:42 - cmdstanpy - INFO - Chain [1] done processing\n",
      "00:04:42 - cmdstanpy - INFO - Chain [1] start processing\n",
      "00:04:42 - cmdstanpy - INFO - Chain [1] done processing\n",
      "00:04:42 - cmdstanpy - INFO - Chain [1] start processing\n",
      "00:04:42 - cmdstanpy - INFO - Chain [1] done processing\n"
     ]
    }
   ],
   "source": [
    "all_forecasts = run_evaluation(cycle_counts_df=cycle_counts, forecast_dir=Path(\"/Users/lukasmalms/Desktop/bikes\"))"
   ]
  },
  {
   "cell_type": "code",
   "execution_count": null,
   "id": "a23c9596",
   "metadata": {},
   "outputs": [],
   "source": []
  },
  {
   "cell_type": "code",
   "execution_count": 17,
   "id": "dabe0f15",
   "metadata": {},
   "outputs": [
    {
     "data": {
      "image/png": "[encoded data removed]",
      "text/plain": [
       "<Figure size 640x480 with 1 Axes>"
      ]
     },
     "metadata": {},
     "output_type": "display_data"
    }
   ],
   "source": [
    "fold_idx = 0\n",
    "models = all_forecasts[all_forecasts[\"fold_idx\"] == fold_idx][\"model\"].unique()\n",
    "\n",
    "fig, ax = plt.subplots()\n",
    "\n",
    "for i, model in enumerate(models):    \n",
    "    model_df = all_forecasts[\n",
    "        (all_forecasts[\"fold_idx\"] == fold_idx)\n",
    "        & (all_forecasts[\"model\"] == model)\n",
    "    ]\n",
    "    if i == 0:\n",
    "        ax.plot(model_df[\"date\"].values, model_df[\"actual\"].values)\n",
    "    ax.plot(model_df[\"date\"].values, model_df[\"forecast\"].values)\n",
    "\n",
    "for tick in ax.get_xticklabels():\n",
    "    tick.set_rotation(45)"
   ]
  },
  {
   "cell_type": "code",
   "execution_count": 13,
   "id": "51c4c44f",
   "metadata": {},
   "outputs": [
    {
     "data": {
      "text/html": [
       "<div>\n",
       "<style scoped>\n",
       "    .dataframe tbody tr th:only-of-type {\n",
       "        vertical-align: middle;\n",
       "    }\n",
       "\n",
       "    .dataframe tbody tr th {\n",
       "        vertical-align: top;\n",
       "    }\n",
       "\n",
       "    .dataframe thead th {\n",
       "        text-align: right;\n",
       "    }\n",
       "</style>\n",
       "<table border=\"1\" class=\"dataframe\">\n",
       "  <thead>\n",
       "    <tr style=\"text-align: right;\">\n",
       "      <th></th>\n",
       "      <th>date</th>\n",
       "      <th>location</th>\n",
       "      <th>actual</th>\n",
       "      <th>forecast</th>\n",
       "      <th>model</th>\n",
       "      <th>fold_idx</th>\n",
       "    </tr>\n",
       "  </thead>\n",
       "  <tbody>\n",
       "    <tr>\n",
       "      <th>0</th>\n",
       "      <td>2024-08-01</td>\n",
       "      <td>Nelson Street</td>\n",
       "      <td>769</td>\n",
       "      <td>737.430095</td>\n",
       "      <td>ExponentialSmoothingLearner</td>\n",
       "      <td>0</td>\n",
       "    </tr>\n",
       "    <tr>\n",
       "      <th>1</th>\n",
       "      <td>2024-08-02</td>\n",
       "      <td>Nelson Street</td>\n",
       "      <td>582</td>\n",
       "      <td>479.481484</td>\n",
       "      <td>ExponentialSmoothingLearner</td>\n",
       "      <td>0</td>\n",
       "    </tr>\n",
       "    <tr>\n",
       "      <th>2</th>\n",
       "      <td>2024-08-03</td>\n",
       "      <td>Nelson Street</td>\n",
       "      <td>272</td>\n",
       "      <td>242.022248</td>\n",
       "      <td>ExponentialSmoothingLearner</td>\n",
       "      <td>0</td>\n",
       "    </tr>\n",
       "    <tr>\n",
       "      <th>3</th>\n",
       "      <td>2024-08-04</td>\n",
       "      <td>Nelson Street</td>\n",
       "      <td>234</td>\n",
       "      <td>227.294007</td>\n",
       "      <td>ExponentialSmoothingLearner</td>\n",
       "      <td>0</td>\n",
       "    </tr>\n",
       "    <tr>\n",
       "      <th>4</th>\n",
       "      <td>2024-08-05</td>\n",
       "      <td>Nelson Street</td>\n",
       "      <td>744</td>\n",
       "      <td>625.231185</td>\n",
       "      <td>ExponentialSmoothingLearner</td>\n",
       "      <td>0</td>\n",
       "    </tr>\n",
       "    <tr>\n",
       "      <th>5</th>\n",
       "      <td>2024-08-06</td>\n",
       "      <td>Nelson Street</td>\n",
       "      <td>885</td>\n",
       "      <td>790.229293</td>\n",
       "      <td>ExponentialSmoothingLearner</td>\n",
       "      <td>0</td>\n",
       "    </tr>\n",
       "    <tr>\n",
       "      <th>6</th>\n",
       "      <td>2024-08-07</td>\n",
       "      <td>Nelson Street</td>\n",
       "      <td>937</td>\n",
       "      <td>757.734861</td>\n",
       "      <td>ExponentialSmoothingLearner</td>\n",
       "      <td>0</td>\n",
       "    </tr>\n",
       "    <tr>\n",
       "      <th>7</th>\n",
       "      <td>2024-08-08</td>\n",
       "      <td>Nelson Street</td>\n",
       "      <td>683</td>\n",
       "      <td>737.383704</td>\n",
       "      <td>ExponentialSmoothingLearner</td>\n",
       "      <td>0</td>\n",
       "    </tr>\n",
       "    <tr>\n",
       "      <th>8</th>\n",
       "      <td>2024-08-09</td>\n",
       "      <td>Nelson Street</td>\n",
       "      <td>643</td>\n",
       "      <td>479.451621</td>\n",
       "      <td>ExponentialSmoothingLearner</td>\n",
       "      <td>0</td>\n",
       "    </tr>\n",
       "    <tr>\n",
       "      <th>9</th>\n",
       "      <td>2024-08-10</td>\n",
       "      <td>Nelson Street</td>\n",
       "      <td>249</td>\n",
       "      <td>242.007326</td>\n",
       "      <td>ExponentialSmoothingLearner</td>\n",
       "      <td>0</td>\n",
       "    </tr>\n",
       "    <tr>\n",
       "      <th>10</th>\n",
       "      <td>2024-08-11</td>\n",
       "      <td>Nelson Street</td>\n",
       "      <td>297</td>\n",
       "      <td>227.280132</td>\n",
       "      <td>ExponentialSmoothingLearner</td>\n",
       "      <td>0</td>\n",
       "    </tr>\n",
       "    <tr>\n",
       "      <th>11</th>\n",
       "      <td>2024-08-12</td>\n",
       "      <td>Nelson Street</td>\n",
       "      <td>705</td>\n",
       "      <td>625.193400</td>\n",
       "      <td>ExponentialSmoothingLearner</td>\n",
       "      <td>0</td>\n",
       "    </tr>\n",
       "    <tr>\n",
       "      <th>12</th>\n",
       "      <td>2024-08-13</td>\n",
       "      <td>Nelson Street</td>\n",
       "      <td>955</td>\n",
       "      <td>790.182014</td>\n",
       "      <td>ExponentialSmoothingLearner</td>\n",
       "      <td>0</td>\n",
       "    </tr>\n",
       "    <tr>\n",
       "      <th>13</th>\n",
       "      <td>2024-08-14</td>\n",
       "      <td>Nelson Street</td>\n",
       "      <td>861</td>\n",
       "      <td>757.689979</td>\n",
       "      <td>ExponentialSmoothingLearner</td>\n",
       "      <td>0</td>\n",
       "    </tr>\n",
       "    <tr>\n",
       "      <th>14</th>\n",
       "      <td>2024-08-15</td>\n",
       "      <td>Nelson Street</td>\n",
       "      <td>867</td>\n",
       "      <td>737.340464</td>\n",
       "      <td>ExponentialSmoothingLearner</td>\n",
       "      <td>0</td>\n",
       "    </tr>\n",
       "    <tr>\n",
       "      <th>15</th>\n",
       "      <td>2024-08-16</td>\n",
       "      <td>Nelson Street</td>\n",
       "      <td>545</td>\n",
       "      <td>479.423787</td>\n",
       "      <td>ExponentialSmoothingLearner</td>\n",
       "      <td>0</td>\n",
       "    </tr>\n",
       "    <tr>\n",
       "      <th>16</th>\n",
       "      <td>2024-08-17</td>\n",
       "      <td>Nelson Street</td>\n",
       "      <td>140</td>\n",
       "      <td>241.993417</td>\n",
       "      <td>ExponentialSmoothingLearner</td>\n",
       "      <td>0</td>\n",
       "    </tr>\n",
       "    <tr>\n",
       "      <th>17</th>\n",
       "      <td>2024-08-18</td>\n",
       "      <td>Nelson Street</td>\n",
       "      <td>110</td>\n",
       "      <td>227.267200</td>\n",
       "      <td>ExponentialSmoothingLearner</td>\n",
       "      <td>0</td>\n",
       "    </tr>\n",
       "    <tr>\n",
       "      <th>18</th>\n",
       "      <td>2024-08-19</td>\n",
       "      <td>Nelson Street</td>\n",
       "      <td>506</td>\n",
       "      <td>625.158182</td>\n",
       "      <td>ExponentialSmoothingLearner</td>\n",
       "      <td>0</td>\n",
       "    </tr>\n",
       "    <tr>\n",
       "      <th>19</th>\n",
       "      <td>2024-08-20</td>\n",
       "      <td>Nelson Street</td>\n",
       "      <td>844</td>\n",
       "      <td>790.137947</td>\n",
       "      <td>ExponentialSmoothingLearner</td>\n",
       "      <td>0</td>\n",
       "    </tr>\n",
       "    <tr>\n",
       "      <th>20</th>\n",
       "      <td>2024-08-21</td>\n",
       "      <td>Nelson Street</td>\n",
       "      <td>784</td>\n",
       "      <td>757.648147</td>\n",
       "      <td>ExponentialSmoothingLearner</td>\n",
       "      <td>0</td>\n",
       "    </tr>\n",
       "    <tr>\n",
       "      <th>21</th>\n",
       "      <td>2024-08-22</td>\n",
       "      <td>Nelson Street</td>\n",
       "      <td>852</td>\n",
       "      <td>737.300161</td>\n",
       "      <td>ExponentialSmoothingLearner</td>\n",
       "      <td>0</td>\n",
       "    </tr>\n",
       "    <tr>\n",
       "      <th>22</th>\n",
       "      <td>2024-08-23</td>\n",
       "      <td>Nelson Street</td>\n",
       "      <td>613</td>\n",
       "      <td>479.397844</td>\n",
       "      <td>ExponentialSmoothingLearner</td>\n",
       "      <td>0</td>\n",
       "    </tr>\n",
       "    <tr>\n",
       "      <th>23</th>\n",
       "      <td>2024-08-24</td>\n",
       "      <td>Nelson Street</td>\n",
       "      <td>159</td>\n",
       "      <td>241.980452</td>\n",
       "      <td>ExponentialSmoothingLearner</td>\n",
       "      <td>0</td>\n",
       "    </tr>\n",
       "    <tr>\n",
       "      <th>24</th>\n",
       "      <td>2024-08-25</td>\n",
       "      <td>Nelson Street</td>\n",
       "      <td>308</td>\n",
       "      <td>227.255146</td>\n",
       "      <td>ExponentialSmoothingLearner</td>\n",
       "      <td>0</td>\n",
       "    </tr>\n",
       "    <tr>\n",
       "      <th>25</th>\n",
       "      <td>2024-08-26</td>\n",
       "      <td>Nelson Street</td>\n",
       "      <td>760</td>\n",
       "      <td>625.125357</td>\n",
       "      <td>ExponentialSmoothingLearner</td>\n",
       "      <td>0</td>\n",
       "    </tr>\n",
       "    <tr>\n",
       "      <th>26</th>\n",
       "      <td>2024-08-27</td>\n",
       "      <td>Nelson Street</td>\n",
       "      <td>598</td>\n",
       "      <td>790.096874</td>\n",
       "      <td>ExponentialSmoothingLearner</td>\n",
       "      <td>0</td>\n",
       "    </tr>\n",
       "    <tr>\n",
       "      <th>27</th>\n",
       "      <td>2024-08-28</td>\n",
       "      <td>Nelson Street</td>\n",
       "      <td>814</td>\n",
       "      <td>757.609156</td>\n",
       "      <td>ExponentialSmoothingLearner</td>\n",
       "      <td>0</td>\n",
       "    </tr>\n",
       "    <tr>\n",
       "      <th>28</th>\n",
       "      <td>2024-08-29</td>\n",
       "      <td>Nelson Street</td>\n",
       "      <td>631</td>\n",
       "      <td>737.262597</td>\n",
       "      <td>ExponentialSmoothingLearner</td>\n",
       "      <td>0</td>\n",
       "    </tr>\n",
       "    <tr>\n",
       "      <th>29</th>\n",
       "      <td>2024-08-30</td>\n",
       "      <td>Nelson Street</td>\n",
       "      <td>614</td>\n",
       "      <td>479.373663</td>\n",
       "      <td>ExponentialSmoothingLearner</td>\n",
       "      <td>0</td>\n",
       "    </tr>\n",
       "    <tr>\n",
       "      <th>30</th>\n",
       "      <td>2024-08-31</td>\n",
       "      <td>Nelson Street</td>\n",
       "      <td>149</td>\n",
       "      <td>241.968369</td>\n",
       "      <td>ExponentialSmoothingLearner</td>\n",
       "      <td>0</td>\n",
       "    </tr>\n",
       "  </tbody>\n",
       "</table>\n",
       "</div>"
      ],
      "text/plain": [
       "         date       location  actual    forecast                        model  \\\n",
       "0  2024-08-01  Nelson Street     769  737.430095  ExponentialSmoothingLearner   \n",
       "1  2024-08-02  Nelson Street     582  479.481484  ExponentialSmoothingLearner   \n",
       "2  2024-08-03  Nelson Street     272  242.022248  ExponentialSmoothingLearner   \n",
       "3  2024-08-04  Nelson Street     234  227.294007  ExponentialSmoothingLearner   \n",
       "4  2024-08-05  Nelson Street     744  625.231185  ExponentialSmoothingLearner   \n",
       "5  2024-08-06  Nelson Street     885  790.229293  ExponentialSmoothingLearner   \n",
       "6  2024-08-07  Nelson Street     937  757.734861  ExponentialSmoothingLearner   \n",
       "7  2024-08-08  Nelson Street     683  737.383704  ExponentialSmoothingLearner   \n",
       "8  2024-08-09  Nelson Street     643  479.451621  ExponentialSmoothingLearner   \n",
       "9  2024-08-10  Nelson Street     249  242.007326  ExponentialSmoothingLearner   \n",
       "10 2024-08-11  Nelson Street     297  227.280132  ExponentialSmoothingLearner   \n",
       "11 2024-08-12  Nelson Street     705  625.193400  ExponentialSmoothingLearner   \n",
       "12 2024-08-13  Nelson Street     955  790.182014  ExponentialSmoothingLearner   \n",
       "13 2024-08-14  Nelson Street     861  757.689979  ExponentialSmoothingLearner   \n",
       "14 2024-08-15  Nelson Street     867  737.340464  ExponentialSmoothingLearner   \n",
       "15 2024-08-16  Nelson Street     545  479.423787  ExponentialSmoothingLearner   \n",
       "16 2024-08-17  Nelson Street     140  241.993417  ExponentialSmoothingLearner   \n",
       "17 2024-08-18  Nelson Street     110  227.267200  ExponentialSmoothingLearner   \n",
       "18 2024-08-19  Nelson Street     506  625.158182  ExponentialSmoothingLearner   \n",
       "19 2024-08-20  Nelson Street     844  790.137947  ExponentialSmoothingLearner   \n",
       "20 2024-08-21  Nelson Street     784  757.648147  ExponentialSmoothingLearner   \n",
       "21 2024-08-22  Nelson Street     852  737.300161  ExponentialSmoothingLearner   \n",
       "22 2024-08-23  Nelson Street     613  479.397844  ExponentialSmoothingLearner   \n",
       "23 2024-08-24  Nelson Street     159  241.980452  ExponentialSmoothingLearner   \n",
       "24 2024-08-25  Nelson Street     308  227.255146  ExponentialSmoothingLearner   \n",
       "25 2024-08-26  Nelson Street     760  625.125357  ExponentialSmoothingLearner   \n",
       "26 2024-08-27  Nelson Street     598  790.096874  ExponentialSmoothingLearner   \n",
       "27 2024-08-28  Nelson Street     814  757.609156  ExponentialSmoothingLearner   \n",
       "28 2024-08-29  Nelson Street     631  737.262597  ExponentialSmoothingLearner   \n",
       "29 2024-08-30  Nelson Street     614  479.373663  ExponentialSmoothingLearner   \n",
       "30 2024-08-31  Nelson Street     149  241.968369  ExponentialSmoothingLearner   \n",
       "\n",
       "    fold_idx  \n",
       "0          0  \n",
       "1          0  \n",
       "2          0  \n",
       "3          0  \n",
       "4          0  \n",
       "5          0  \n",
       "6          0  \n",
       "7          0  \n",
       "8          0  \n",
       "9          0  \n",
       "10         0  \n",
       "11         0  \n",
       "12         0  \n",
       "13         0  \n",
       "14         0  \n",
       "15         0  \n",
       "16         0  \n",
       "17         0  \n",
       "18         0  \n",
       "19         0  \n",
       "20         0  \n",
       "21         0  \n",
       "22         0  \n",
       "23         0  \n",
       "24         0  \n",
       "25         0  \n",
       "26         0  \n",
       "27         0  \n",
       "28         0  \n",
       "29         0  \n",
       "30         0  "
      ]
     },
     "execution_count": 13,
     "metadata": {},
     "output_type": "execute_result"
    }
   ],
   "source": [
    "model_df"
   ]
  },
  {
   "cell_type": "code",
   "execution_count": null,
   "id": "08b41a74",
   "metadata": {},
   "outputs": [],
   "source": [
    "location = \"Nelson Street\"\n",
    "\n",
    "location_df = cycle_counts[cycle_counts[\"location\"] == location].copy()\n",
    "location_df = location_df.set_index(\"date\").sort_index()\n",
    "\n",
    "train_df = location_df.loc[:val_start]\n",
    "val_df = location_df.loc[val_start: val_end]"
   ]
  },
  {
   "cell_type": "code",
   "execution_count": null,
   "id": "9ce5670b",
   "metadata": {},
   "outputs": [],
   "source": [
    "model = SARIMASequenceLearner(\n",
    "    horizon=31,\n",
    "    order=(1, 1, 2),\n",
    "    seasonal_order=(1, 1, 1, 7),\n",
    "    freq=\"D\",\n",
    ")"
   ]
  },
  {
   "cell_type": "code",
   "execution_count": null,
   "id": "449081c2",
   "metadata": {},
   "outputs": [],
   "source": [
    "model.fit(train_df.loc[:, \"count\"])\n",
    "y_hat = model.predict()"
   ]
  },
  {
   "cell_type": "code",
   "execution_count": null,
   "id": "a8478271",
   "metadata": {},
   "outputs": [],
   "source": [
    "ax = y_hat.plot()\n",
    "val_df.loc[:, \"count\"].plot(ax=ax)"
   ]
  },
  {
   "cell_type": "code",
   "execution_count": null,
   "id": "4534622d",
   "metadata": {},
   "outputs": [],
   "source": [
    "from statsmodels.graphics.tsaplots import plot_acf, plot_pacf"
   ]
  },
  {
   "cell_type": "code",
   "execution_count": null,
   "id": "0fae635d",
   "metadata": {},
   "outputs": [],
   "source": [
    "y_train = train_df.loc[:, \"count\"]\n",
    "plot_acf(y_train.diff(7).diff(1).dropna());"
   ]
  },
  {
   "cell_type": "code",
   "execution_count": null,
   "id": "4096fb9f",
   "metadata": {},
   "outputs": [],
   "source": [
    "plot_pacf(y_train.diff(7).diff(1).dropna());"
   ]
  },
  {
   "cell_type": "code",
   "execution_count": null,
   "id": "d94fd30e",
   "metadata": {},
   "outputs": [],
   "source": [
    "y_train.plot()"
   ]
  },
  {
   "cell_type": "code",
   "execution_count": null,
   "id": "15c84b0a",
   "metadata": {},
   "outputs": [],
   "source": [
    "y_train.diff(7).dropna().plot(kind=\"hist\")"
   ]
  },
  {
   "cell_type": "code",
   "execution_count": null,
   "id": "1487bbff",
   "metadata": {},
   "outputs": [],
   "source": [
    "forecast_df.plot(y=[\"count\", \"ExponentialSmoothingLearner\", \"SARIMASequenceLearner\"])"
   ]
  },
  {
   "cell_type": "code",
   "execution_count": null,
   "id": "eaddf1d1",
   "metadata": {},
   "outputs": [],
   "source": [
    "pd.merge(\n",
    "    left=val_df,\n",
    "    right=y_hat_ets,\n",
    "    left_index=True,\n",
    "    right_index=True\n",
    ")"
   ]
  },
  {
   "cell_type": "code",
   "execution_count": null,
   "id": "70e49b74",
   "metadata": {},
   "outputs": [],
   "source": []
  },
  {
   "cell_type": "code",
   "execution_count": null,
   "id": "f437653a",
   "metadata": {},
   "outputs": [],
   "source": [
    "fig, ax = plt.subplots()\n",
    "\n",
    "ax.plot(\n",
    "    train_df.index.values[-100:],\n",
    "    train_df[\"count\"].values[-100:],\n",
    ")\n",
    "ax.plot(\n",
    "    val_df.index.values,\n",
    "    val_df[\"count\"].values,\n",
    ")\n",
    "\n",
    "ets = ExponentialSmoothingLearner(horizon=31, trend=\"add\", damped_trend=True, seasonal=\"mul\", seasonal_periods=7, freq=\"D\")\n",
    "ets.fit(train_df[\"count\"])\n",
    "y_hat_ets = ets.predict()\n",
    "\n",
    "ax.plot(\n",
    "    y_hat_ets.index.values,\n",
    "    y_hat_ets.values,\n",
    ")"
   ]
  },
  {
   "cell_type": "code",
   "execution_count": null,
   "id": "54364b12",
   "metadata": {},
   "outputs": [],
   "source": [
    "y_hat_ets"
   ]
  },
  {
   "cell_type": "code",
   "execution_count": null,
   "id": "3c254069",
   "metadata": {},
   "outputs": [],
   "source": [
    "i = 5\n",
    "loc = sorted(cycle_counts[\"location\"].unique())[i]a\n",
    "\n",
    "location_df = cycle_counts[cycle_counts[\"location\"] == loc].sort_values(\"date\").set_index(\"date\")\n",
    "y_train = location_df.loc[:datetime(2024, 10, 31), \"count\"]\n",
    "\n",
    "horizon = 61\n",
    "\n",
    "print(\"Fitting ETS model....\\n\")\n",
    "ets = ExponentialSmoothingLearner(horizon=horizon, seasonal=\"add\", seasonal_periods=7, freq=\"D\")\n",
    "ets.fit(y_train)\n",
    "y_hat_ets = ets.predict()\n",
    "\n",
    "print(\"Fitting SARIMA model....\\n\")\n",
    "sarima = SARIMASequenceLearner(horizon=horizon, order=(1, 0, 2), seasonal_order=(0, 1, 1, 7), freq=\"D\")\n",
    "sarima.fit(y_train)\n",
    "y_hat_sarima = sarima.predict()\n",
    "\n",
    "print(\"Fitting Theta model....\\n\")\n",
    "theta = ThetaSequenceLearner(horizon=horizon)\n",
    "theta.fit(y_train)\n",
    "y_hat_theta = theta.predict()\n",
    "\n",
    "print(\"Fitting Prophet model....\\n\")\n",
    "prophet = ProphetSequenceLearner(horizon=horizon, growth=\"linear\", changepoint_prior_scale=0.05, yearly_seasonality='auto', weekly_seasonality=3)\n",
    "prophet.fit(y_train)\n",
    "y_hat_prophet = prophet.predict()\n",
    "\n",
    "print(\"Fitting RNN model....\\n\")\n",
    "scaler = Scaler()\n",
    "y_train_scaled = scaler.fit_transform(y_train)\n",
    "\n",
    "model = RNNSequenceLearner(horizon=horizon, input_size=1, hidden_size=25)\n",
    "model.fit(y_train_scaled)\n",
    "y_hat_rnn = model.predict(y_train_scaled)\n",
    "y_hat_rnn = pd.Series(scaler.inverse_transform(y_hat_rnn.values), index=y_hat_rnn.index)"
   ]
  },
  {
   "cell_type": "code",
   "execution_count": null,
   "id": "d8c136b3",
   "metadata": {},
   "outputs": [],
   "source": []
  }
 ],
 "metadata": {
  "kernelspec": {
   "display_name": "bikes",
   "language": "python",
   "name": "python3"
  },
  "language_info": {
   "codemirror_mode": {
    "name": "ipython",
    "version": 3
   },
   "file_extension": ".py",
   "mimetype": "text/x-python",
   "name": "python",
   "nbconvert_exporter": "python",
   "pygments_lexer": "ipython3",
   "version": "3.12.9"
  }
 },
 "nbformat": 4,
 "nbformat_minor": 5
}
