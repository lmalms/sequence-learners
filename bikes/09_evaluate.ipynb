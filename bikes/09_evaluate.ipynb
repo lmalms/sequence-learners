{
 "cells": [
  {
   "cell_type": "code",
   "execution_count": null,
   "id": "d1f1c9b3",
   "metadata": {},
   "outputs": [],
   "source": [
    "%load_ext autoreload\n",
    "%autoreload 2"
   ]
  },
  {
   "cell_type": "code",
   "execution_count": null,
   "id": "4038efb2",
   "metadata": {},
   "outputs": [],
   "source": [
    "from datetime import datetime\n",
    "from pathlib import Path\n",
    "import pandas as pd\n",
    "import matplotlib.pyplot as plt\n",
    "\n",
    "from statsmodels.tsa.seasonal import MSTL\n",
    "\n",
    "from bikes.preprocess.preprocess import Scaler, get_tensor_train_dataset\n",
    "\n",
    "import torch\n",
    "import torch.nn as nn"
   ]
  },
  {
   "cell_type": "code",
   "execution_count": null,
   "id": "f6fe5b3b",
   "metadata": {},
   "outputs": [],
   "source": [
    "cycle_counts = pd.read_csv(\"cycle_counts.csv\", parse_dates=[\"date\"])"
   ]
  },
  {
   "cell_type": "code",
   "execution_count": null,
   "id": "0a7dda62",
   "metadata": {},
   "outputs": [],
   "source": [
    "LOCATION = \"Nelson Street\"\n",
    "\n",
    "location_df = cycle_counts.loc[cycle_counts[\"location\"] == LOCATION].copy()\n",
    "location_df = location_df.set_index(\"date\").sort_index()"
   ]
  },
  {
   "cell_type": "code",
   "execution_count": null,
   "id": "b26940f9",
   "metadata": {},
   "outputs": [],
   "source": [
    "TEST_PERIOD = datetime(2024, 10, 1), datetime(2025, 1, 1)\n",
    "\n",
    "\n",
    "def train_test_split(df: pd.DataFrame) -> tuple[pd.DataFrame, pd.DataFrame]:\n",
    "    test_start_idx, test_end_idx = df.index.get_indexer(TEST_PERIOD)\n",
    "    train_df = df.iloc[:test_start_idx].copy()\n",
    "    test_df = df.iloc[test_start_idx:test_end_idx].copy()\n",
    "    return train_df, test_df"
   ]
  },
  {
   "cell_type": "code",
   "execution_count": null,
   "id": "070ee1fb",
   "metadata": {},
   "outputs": [],
   "source": [
    "def plot_timeseries(actual: pd.Series, predicted: pd.Series):\n",
    "    fig, ax = plt.subplots()\n",
    "    \n",
    "    ax.plot(actual, label=\"Observed\")\n",
    "    ax.plot(predicted, label=\"Predicted\")\n",
    "    \n",
    "    ax.set(ylabel=\"Count\")\n",
    "    for tick in ax.get_xticklabels():\n",
    "        tick.set_rotation(45)\n",
    "    ax.legend()\n",
    "    \n",
    "    fig.tight_layout();\n",
    "    \n",
    "    return ax"
   ]
  },
  {
   "cell_type": "markdown",
   "id": "34759161",
   "metadata": {},
   "source": [
    "## Sequence Learner Models"
   ]
  },
  {
   "cell_type": "code",
   "execution_count": null,
   "id": "f2ab654a",
   "metadata": {},
   "outputs": [],
   "source": [
    "FORECASTS: dict[str, pd.Series] = {}\n",
    "\n",
    "TRAIN_DF, TEST_DF = train_test_split(location_df)"
   ]
  },
  {
   "cell_type": "markdown",
   "id": "249e56bf",
   "metadata": {},
   "source": [
    "### Exponential Smoothing"
   ]
  },
  {
   "cell_type": "code",
   "execution_count": null,
   "id": "5c3785cf",
   "metadata": {},
   "outputs": [],
   "source": [
    "from statsmodels.tsa.seasonal import MSTL\n",
    "from statsmodels.tsa.api import ExponentialSmoothing"
   ]
  },
  {
   "cell_type": "code",
   "execution_count": null,
   "id": "2f4c7980",
   "metadata": {},
   "outputs": [],
   "source": [
    "ets = ExponentialSmoothing(\n",
    "    TRAIN_DF[\"count\"],\n",
    "    trend=None,\n",
    "    damped_trend=None,\n",
    "    seasonal=\"mul\",\n",
    "    seasonal_periods=7\n",
    ")\n",
    "ets = ets.fit()\n",
    "\n",
    "fitted_values = ets.predict(start=TRAIN_DF.index[0], end=TRAIN_DF.index[-1])\n",
    "forecasts = ets.predict(start=TEST_DF.index[0], end=TEST_DF.index[-1])"
   ]
  },
  {
   "cell_type": "code",
   "execution_count": null,
   "id": "b3a28193",
   "metadata": {},
   "outputs": [],
   "source": [
    "plot_timeseries(TRAIN_DF[\"count\"], fitted_values)\n",
    "plot_timeseries(TEST_DF[\"count\"], forecasts)"
   ]
  },
  {
   "cell_type": "markdown",
   "id": "805ed479",
   "metadata": {},
   "source": [
    "### SARIMAX"
   ]
  },
  {
   "cell_type": "code",
   "execution_count": null,
   "id": "af9ba4af",
   "metadata": {},
   "outputs": [],
   "source": [
    "from statsmodels.graphics.tsaplots import plot_acf, plot_pacf\n",
    "from statsmodels.tsa.statespace.sarimax import SARIMAX"
   ]
  },
  {
   "cell_type": "code",
   "execution_count": null,
   "id": "1cfd4166",
   "metadata": {},
   "outputs": [],
   "source": [
    "TRAIN_DF[\"count\"].diff(7).diff(1).dropna().plot()"
   ]
  },
  {
   "cell_type": "code",
   "execution_count": null,
   "id": "dd7aa11f",
   "metadata": {},
   "outputs": [],
   "source": [
    "fig, ax = plt.subplots(1, 2, figsize=(10, 3.5), sharey=True,)\n",
    "\n",
    "plot_acf(TRAIN_DF[\"count\"].diff(7).diff(1).dropna(), ax=ax[0])\n",
    "ax[0].set(xlabel=\"Lag\")\n",
    "\n",
    "plot_pacf(TRAIN_DF[\"count\"].diff(7).diff(1).dropna(), ax=ax[1])\n",
    "ax[1].set(xlabel=\"Lag\")\n",
    "\n",
    "fig.tight_layout();"
   ]
  },
  {
   "cell_type": "code",
   "execution_count": null,
   "id": "7ec1eb13",
   "metadata": {},
   "outputs": [],
   "source": [
    "sarimax = SARIMAX(\n",
    "    endog=TRAIN_DF[\"count\"],\n",
    "    order=(1, 1, 1),\n",
    "    seasonal_order=(2, 1, 1, 7),\n",
    "    freq=\"D\"\n",
    ")\n",
    "sarimax = sarimax.fit()     \n",
    "\n",
    "fitted_values = sarimax.predict(start=TRAIN_DF.index[0], end=TRAIN_DF.index[-1])\n",
    "forecasts = sarimax.predict(start=TEST_DF.index[0], end=TEST_DF.index[-1])"
   ]
  },
  {
   "cell_type": "code",
   "execution_count": null,
   "id": "938d1be5",
   "metadata": {},
   "outputs": [],
   "source": [
    "plot_timeseries(TRAIN_DF[\"count\"], fitted_values)\n",
    "plot_timeseries(TEST_DF[\"count\"], forecasts)"
   ]
  },
  {
   "cell_type": "markdown",
   "id": "4cdd5eee",
   "metadata": {},
   "source": [
    "### Theta Model"
   ]
  },
  {
   "cell_type": "code",
   "execution_count": null,
   "id": "942f06ea",
   "metadata": {},
   "outputs": [],
   "source": [
    "from statsmodels.tsa.forecasting.theta import ThetaModel"
   ]
  },
  {
   "cell_type": "code",
   "execution_count": null,
   "id": "886ffd93",
   "metadata": {},
   "outputs": [],
   "source": [
    "theta = ThetaModel(endog=TRAIN_DF[\"count\"], period=7)\n",
    "theta = theta.fit()\n",
    "\n",
    "forecasts = theta.forecast(steps=len(TEST_DF))\n",
    "forecasts.index = TEST_DF.index"
   ]
  },
  {
   "cell_type": "code",
   "execution_count": null,
   "id": "506effb0",
   "metadata": {},
   "outputs": [],
   "source": [
    "plot_timeseries(TEST_DF[\"count\"], forecasts)"
   ]
  },
  {
   "cell_type": "markdown",
   "id": "a23c9596",
   "metadata": {},
   "source": [
    "### Prophet"
   ]
  },
  {
   "cell_type": "code",
   "execution_count": null,
   "id": "2b8aaf4b",
   "metadata": {},
   "outputs": [],
   "source": [
    "from prophet import Prophet"
   ]
  },
  {
   "cell_type": "code",
   "execution_count": null,
   "id": "434b769f",
   "metadata": {},
   "outputs": [],
   "source": [
    "prophet_train_df = pd.DataFrame({\"ds\": TRAIN_DF.index.values, \"y\": TRAIN_DF[\"count\"].values})\n",
    "prophet_test_df = pd.DataFrame({\"ds\": TEST_DF.index.values})\n",
    "\n",
    "prophet = Prophet()\n",
    "prophet = prophet.fit(prophet_train_df)\n",
    "\n",
    "fitted_values = prophet.predict(prophet_train_df)\n",
    "fitted_values = fitted_values[[\"ds\", \"yhat\"]].rename(columns={\"ds\":\"date\", \"yhat\": \"count\"}).set_index(\"date\").squeeze()\n",
    "\n",
    "forecasts = prophet.predict(prophet_test_df)\n",
    "forecasts = forecasts[[\"ds\", \"yhat\"]].rename(columns={\"ds\":\"date\", \"yhat\": \"count\"}).set_index(\"date\").squeeze()"
   ]
  },
  {
   "cell_type": "code",
   "execution_count": null,
   "id": "224f1b07",
   "metadata": {},
   "outputs": [],
   "source": [
    "plot_timeseries(TRAIN_DF[\"count\"], fitted_values)\n",
    "plot_timeseries(TEST_DF[\"count\"], forecasts)"
   ]
  },
  {
   "cell_type": "markdown",
   "id": "b890fd4b",
   "metadata": {},
   "source": [
    "## Save Forecasts"
   ]
  },
  {
   "cell_type": "code",
   "execution_count": null,
   "id": "2af2aed2",
   "metadata": {},
   "outputs": [],
   "source": []
  }
 ],
 "metadata": {
  "kernelspec": {
   "display_name": "bikes",
   "language": "python",
   "name": "python3"
  },
  "language_info": {
   "codemirror_mode": {
    "name": "ipython",
    "version": 3
   },
   "file_extension": ".py",
   "mimetype": "text/x-python",
   "name": "python",
   "nbconvert_exporter": "python",
   "pygments_lexer": "ipython3",
   "version": "3.12.9"
  }
 },
 "nbformat": 4,
 "nbformat_minor": 5
}
