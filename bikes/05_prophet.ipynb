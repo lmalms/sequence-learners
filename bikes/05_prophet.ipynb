{
 "cells": [
  {
   "cell_type": "code",
   "execution_count": null,
   "id": "8500321f",
   "metadata": {},
   "outputs": [],
   "source": [
    "%load_ext autoreload\n",
    "%autoreload 2"
   ]
  },
  {
   "cell_type": "code",
   "execution_count": null,
   "id": "a6d4fa52",
   "metadata": {},
   "outputs": [],
   "source": [
    "import pandas as pd\n",
    "import matplotlib.pyplot as plt\n",
    "\n",
    "from prophet import Prophet\n",
    "\n",
    "from bikes.evaluate.split import train_test_split, TEST_PERIOD"
   ]
  },
  {
   "cell_type": "code",
   "execution_count": null,
   "id": "441b62ac",
   "metadata": {},
   "outputs": [],
   "source": [
    "def plot_timeseries(actual: pd.Series, predicted: pd.Series):\n",
    "    fig, ax = plt.subplots()\n",
    "\n",
    "    ax.plot(actual, label=\"Observed\")\n",
    "    ax.plot(predicted, label=\"Predicted\")\n",
    "\n",
    "    ax.set(ylabel=\"Count\")\n",
    "    for tick in ax.get_xticklabels():\n",
    "        tick.set_rotation(45)\n",
    "    ax.legend()\n",
    "\n",
    "    fig.tight_layout();\n",
    "\n",
    "    return ax"
   ]
  },
  {
   "cell_type": "markdown",
   "id": "d34f74c6",
   "metadata": {},
   "source": [
    "## Prophet"
   ]
  },
  {
   "cell_type": "code",
   "execution_count": null,
   "id": "dc69b233",
   "metadata": {},
   "outputs": [],
   "source": [
    "cycle_counts = pd.read_csv(\"cycle_counts.csv\", parse_dates=[\"date\"])"
   ]
  },
  {
   "cell_type": "code",
   "execution_count": null,
   "id": "4b1c1bc2",
   "metadata": {},
   "outputs": [],
   "source": [
    "LOCATION = \"Quay Street Eco Display Classic\"\n",
    "\n",
    "location_df = cycle_counts.loc[cycle_counts[\"location\"] == LOCATION].copy()\n",
    "location_df = location_df.set_index(\"date\").sort_index()\n",
    "train_df, test_df = train_test_split(location_df)\n",
    "y_train, y_test = train_df[\"count\"], test_df[\"count\"]"
   ]
  },
  {
   "cell_type": "code",
   "execution_count": null,
   "id": "74708cda",
   "metadata": {},
   "outputs": [],
   "source": [
    "fig, ax = plt.subplots()\n",
    "ax.plot(y_train.iloc[-500:], label=\"Observed\")\n",
    "ax.set(ylabel=\"Count\")\n",
    "for tick in ax.get_xticklabels():\n",
    "    tick.set_rotation(45)\n",
    "ax.legend()\n",
    "fig.tight_layout();"
   ]
  },
  {
   "cell_type": "code",
   "execution_count": null,
   "id": "ee64cb0e",
   "metadata": {},
   "outputs": [],
   "source": [
    "prophet_train_df = (\n",
    "    train_df\n",
    "    .drop(columns=[\"location\"])\n",
    "    .reset_index()\n",
    "    .rename(columns={\"date\": \"ds\", \"count\": \"y\"})\n",
    ")\n",
    "\n",
    "prophet = Prophet().fit(prophet_train_df)\n",
    "\n",
    "test_start, test_end = TEST_PERIOD\n",
    "test_dates = pd.date_range(test_start, test_end, freq=\"D\", inclusive=\"left\")\n",
    "forecasts = prophet.predict(pd.DataFrame({\"ds\": test_dates}))[[\"ds\", \"yhat\"]]\n",
    "forecasts = forecasts.set_index(\"ds\").rename(columns={\"yhat\": \"yhat_prophet\"})"
   ]
  },
  {
   "cell_type": "code",
   "execution_count": null,
   "id": "7a64620d",
   "metadata": {},
   "outputs": [],
   "source": [
    "plot_timeseries(y_test, forecasts[\"yhat_prophet\"])"
   ]
  },
  {
   "cell_type": "code",
   "execution_count": null,
   "id": "926ac103",
   "metadata": {},
   "outputs": [],
   "source": [
    "# Save forecasts\n",
    "forecast_df = pd.merge(\n",
    "    left=test_df.rename(columns={\"count\": \"ytrue\"}),\n",
    "    right=forecasts,\n",
    "    left_index=True,\n",
    "    right_index=True,\n",
    "    how=\"left\"\n",
    ")\n",
    "forecast_df = forecast_df.reset_index()"
   ]
  },
  {
   "cell_type": "code",
   "execution_count": null,
   "id": "b7b91466",
   "metadata": {},
   "outputs": [],
   "source": [
    "assert not forecast_df[\"date\"].isna().any()"
   ]
  },
  {
   "cell_type": "code",
   "execution_count": null,
   "id": "f46f7a93",
   "metadata": {},
   "outputs": [],
   "source": [
    "forecast_df.to_csv(f\"./forecasts/prophet/{LOCATION.replace(' ', '_').lower()}.csv\")"
   ]
  }
 ],
 "metadata": {
  "kernelspec": {
   "display_name": "bikes",
   "language": "python",
   "name": "python3"
  },
  "language_info": {
   "codemirror_mode": {
    "name": "ipython",
    "version": 3
   },
   "file_extension": ".py",
   "mimetype": "text/x-python",
   "name": "python",
   "nbconvert_exporter": "python",
   "pygments_lexer": "ipython3",
   "version": "3.12.9"
  }
 },
 "nbformat": 4,
 "nbformat_minor": 5
}
