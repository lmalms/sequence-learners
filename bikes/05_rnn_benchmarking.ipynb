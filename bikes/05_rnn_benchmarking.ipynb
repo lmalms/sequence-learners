{
 "cells": [
  {
   "cell_type": "code",
   "execution_count": null,
   "id": "8e46c805",
   "metadata": {},
   "outputs": [],
   "source": [
    "import numpy as np\n",
    "import matplotlib.pyplot as plt\n",
    "\n",
    "import torch\n",
    "import torch.nn as nn\n",
    "import torch.nn.functional as F\n",
    "from torch.optim import SGD, Adam\n",
    "from torch.utils.data import DataLoader, TensorDataset"
   ]
  },
  {
   "cell_type": "code",
   "execution_count": null,
   "id": "495d9103",
   "metadata": {},
   "outputs": [],
   "source": [
    "# Useful resources:\n",
    "# https://medium.com/@imjeremyhi/understanding-recurrent-networks-part-1-simple-rnn-lstm-cc53e7475980\n",
    "# https://github.com/fastai/fastbook/blob/master/12_nlp_dive.ipynb\n",
    "# https://towardsdatascience.com/building-rnn-lstm-and-gru-for-time-series-using-pytorch-a46e5b094e7b/\n",
    "# https://github.com/SheezaShabbir/Time-series-Analysis-using-LSTM-RNN-and-GRU?tab=readme-ov-file\n",
    "# https://www.kaggle.com/datasets/robikscube/hourly-energy-consumption\n"
   ]
  }
 ],
 "metadata": {
  "kernelspec": {
   "display_name": ".venv",
   "language": "python",
   "name": "python3"
  },
  "language_info": {
   "codemirror_mode": {
    "name": "ipython",
    "version": 3
   },
   "file_extension": ".py",
   "mimetype": "text/x-python",
   "name": "python",
   "nbconvert_exporter": "python",
   "pygments_lexer": "ipython3",
   "version": "3.12.9"
  }
 },
 "nbformat": 4,
 "nbformat_minor": 5
}
