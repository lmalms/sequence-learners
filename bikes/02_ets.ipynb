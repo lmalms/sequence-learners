{
 "cells": [
  {
   "cell_type": "code",
   "execution_count": null,
   "id": "7e2be171",
   "metadata": {},
   "outputs": [],
   "source": [
    "%load_ext autoreload\n",
    "%autoreload 2"
   ]
  },
  {
   "cell_type": "code",
   "execution_count": null,
   "id": "17d3b5ee",
   "metadata": {},
   "outputs": [],
   "source": [
    "import pandas as pd\n",
    "import matplotlib.pyplot as plt\n",
    "\n",
    "from statsmodels.tsa.seasonal import MSTL\n",
    "from statsmodels.tsa.api import ExponentialSmoothing\n",
    "\n",
    "from bikes.evaluate.split import train_test_split"
   ]
  },
  {
   "cell_type": "code",
   "execution_count": null,
   "id": "91b92a65",
   "metadata": {},
   "outputs": [],
   "source": [
    "def plot_timeseries(actual: pd.Series, predicted: pd.Series):\n",
    "    fig, ax = plt.subplots()\n",
    "\n",
    "    ax.plot(actual, label=\"Observed\")\n",
    "    ax.plot(predicted, label=\"Predicted\")\n",
    "\n",
    "    ax.set(ylabel=\"Count\")\n",
    "    for tick in ax.get_xticklabels():\n",
    "        tick.set_rotation(45)\n",
    "    ax.legend()\n",
    "\n",
    "    fig.tight_layout();\n",
    "\n",
    "    return ax"
   ]
  },
  {
   "cell_type": "markdown",
   "id": "bc3fe0fa",
   "metadata": {},
   "source": [
    "## Exponential Smoothing"
   ]
  },
  {
   "cell_type": "code",
   "execution_count": null,
   "id": "384081ab",
   "metadata": {},
   "outputs": [],
   "source": [
    "cycle_counts = pd.read_csv(\"cycle_counts.csv\", parse_dates=[\"date\"])"
   ]
  },
  {
   "cell_type": "code",
   "execution_count": null,
   "id": "6f30ef94",
   "metadata": {},
   "outputs": [],
   "source": [
    "LOCATION = \"Quay Street Eco Display Classic\"\n",
    "\n",
    "location_df = cycle_counts.loc[cycle_counts[\"location\"] == LOCATION].copy()\n",
    "location_df = location_df.set_index(\"date\").sort_index()\n",
    "train_df, test_df = train_test_split(location_df)\n",
    "y_train, y_test = train_df[\"count\"], test_df[\"count\"]"
   ]
  },
  {
   "cell_type": "code",
   "execution_count": null,
   "id": "400d7596",
   "metadata": {},
   "outputs": [],
   "source": [
    "fig, ax = plt.subplots()\n",
    "ax.plot(y_train.iloc[-300:], label=\"Observed\")\n",
    "ax.set(ylabel=\"Count\")\n",
    "for tick in ax.get_xticklabels():\n",
    "    tick.set_rotation(45)\n",
    "ax.legend()\n",
    "fig.tight_layout();"
   ]
  },
  {
   "cell_type": "code",
   "execution_count": null,
   "id": "25c80968",
   "metadata": {},
   "outputs": [],
   "source": [
    "stl = MSTL(y_train, periods=7)\n",
    "result = stl.fit()\n",
    "result.plot();"
   ]
  },
  {
   "cell_type": "code",
   "execution_count": null,
   "id": "9415eaf4",
   "metadata": {},
   "outputs": [],
   "source": [
    "ets = ExponentialSmoothing(\n",
    "    y_train,\n",
    "    trend=\"add\",\n",
    "    damped_trend=True,\n",
    "    seasonal=\"mul\",\n",
    "    seasonal_periods=7\n",
    ")\n",
    "ets = ets.fit()\n",
    "\n",
    "fitted_values = ets.predict(start=y_train.index[0], end=y_train.index[-1])\n",
    "forecasts = ets.predict(start=y_test.index[0], end=y_test.index[-1])"
   ]
  },
  {
   "cell_type": "code",
   "execution_count": null,
   "id": "9821d86d",
   "metadata": {},
   "outputs": [],
   "source": [
    "ets.summary()"
   ]
  },
  {
   "cell_type": "code",
   "execution_count": null,
   "id": "41bb3d8d",
   "metadata": {},
   "outputs": [],
   "source": [
    "plot_timeseries(y_train, fitted_values)"
   ]
  },
  {
   "cell_type": "code",
   "execution_count": null,
   "id": "ba4e5c9c",
   "metadata": {},
   "outputs": [],
   "source": [
    "plot_timeseries(y_test, forecasts)"
   ]
  },
  {
   "cell_type": "code",
   "execution_count": null,
   "id": "d307f785",
   "metadata": {},
   "outputs": [],
   "source": [
    "# Save forecasts\n",
    "forecast_df = pd.merge(\n",
    "    left=test_df.rename(columns={\"count\": \"ytrue\"}),\n",
    "    right=forecasts.to_frame(name=\"yhat_ets\"),\n",
    "    left_index=True,\n",
    "    right_index=True,\n",
    "    how=\"outer\"\n",
    ")\n",
    "forecast_df = forecast_df.reset_index()"
   ]
  },
  {
   "cell_type": "code",
   "execution_count": null,
   "id": "c3a1aa02",
   "metadata": {},
   "outputs": [],
   "source": [
    "forecast_df.head()"
   ]
  },
  {
   "cell_type": "code",
   "execution_count": null,
   "id": "524123ef",
   "metadata": {},
   "outputs": [],
   "source": [
    "forecast_df.to_csv(f\"./forecasts/ets/{LOCATION.replace(' ', '_').lower()}.csv\")"
   ]
  }
 ],
 "metadata": {
  "kernelspec": {
   "display_name": ".venv",
   "language": "python",
   "name": "python3"
  },
  "language_info": {
   "codemirror_mode": {
    "name": "ipython",
    "version": 3
   },
   "file_extension": ".py",
   "mimetype": "text/x-python",
   "name": "python",
   "nbconvert_exporter": "python",
   "pygments_lexer": "ipython3",
   "version": "3.12.9"
  }
 },
 "nbformat": 4,
 "nbformat_minor": 5
}
