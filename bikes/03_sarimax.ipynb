{
 "cells": [
  {
   "cell_type": "code",
   "execution_count": null,
   "id": "dba59349",
   "metadata": {},
   "outputs": [],
   "source": [
    "%load_ext autoreload\n",
    "%autoreload 2"
   ]
  },
  {
   "cell_type": "code",
   "execution_count": null,
   "id": "75276225",
   "metadata": {},
   "outputs": [],
   "source": [
    "import pandas as pd\n",
    "import matplotlib.pyplot as plt\n",
    "\n",
    "from statsmodels.graphics.tsaplots import plot_acf, plot_pacf\n",
    "from statsmodels.tsa.statespace.sarimax import SARIMAX\n",
    "\n",
    "from bikes.evaluate.split import train_test_split"
   ]
  },
  {
   "cell_type": "code",
   "execution_count": null,
   "id": "d57af345",
   "metadata": {},
   "outputs": [],
   "source": [
    "def plot_timeseries(actual: pd.Series, predicted: pd.Series):\n",
    "    fig, ax = plt.subplots()\n",
    "\n",
    "    ax.plot(actual, label=\"Observed\")\n",
    "    ax.plot(predicted, label=\"Predicted\")\n",
    "\n",
    "    ax.set(ylabel=\"Count\")\n",
    "    for tick in ax.get_xticklabels():\n",
    "        tick.set_rotation(45)\n",
    "    ax.legend()\n",
    "\n",
    "    fig.tight_layout();\n",
    "\n",
    "    return ax"
   ]
  },
  {
   "cell_type": "markdown",
   "id": "a4946dc1",
   "metadata": {},
   "source": [
    "## SARIMAX"
   ]
  },
  {
   "cell_type": "code",
   "execution_count": null,
   "id": "a5d0fe65",
   "metadata": {},
   "outputs": [],
   "source": [
    "cycle_counts = pd.read_csv(\"cycle_counts.csv\", parse_dates=[\"date\"])"
   ]
  },
  {
   "cell_type": "code",
   "execution_count": null,
   "id": "9791db46",
   "metadata": {},
   "outputs": [],
   "source": [
    "LOCATION = \"Dominion Road\"\n",
    "\n",
    "location_df = cycle_counts.loc[cycle_counts[\"location\"] == LOCATION].copy()\n",
    "location_df = location_df.set_index(\"date\").sort_index()\n",
    "train_df, test_df = train_test_split(location_df)\n",
    "y_train, y_test = train_df[\"count\"], test_df[\"count\"]"
   ]
  },
  {
   "cell_type": "code",
   "execution_count": null,
   "id": "cc607d13",
   "metadata": {},
   "outputs": [],
   "source": [
    "fig, ax = plt.subplots()\n",
    "ax.plot(y_train.iloc[-300:], label=\"Observed\", lw=2)\n",
    "ax.set(ylabel=\"Count\")\n",
    "for tick in ax.get_xticklabels():\n",
    "    tick.set_rotation(45)\n",
    "ax.legend()\n",
    "fig.tight_layout();"
   ]
  },
  {
   "cell_type": "code",
   "execution_count": null,
   "id": "66e35dba",
   "metadata": {},
   "outputs": [],
   "source": [
    "y_train_diff = y_train.diff(7).dropna()\n",
    "\n",
    "fig, ax = plt.subplots(1, 3, figsize=(12, 3.5))\n",
    "\n",
    "ax[0].plot(y_train_diff)\n",
    "for tick in ax[0].get_xticklabels():\n",
    "    tick.set_rotation(45)\n",
    "\n",
    "plot_acf(y_train_diff, ax=ax[1]);\n",
    "\n",
    "plot_pacf(y_train_diff, ax=ax[2]);\n",
    "\n",
    "fig.tight_layout();"
   ]
  },
  {
   "cell_type": "code",
   "execution_count": null,
   "id": "532427e6",
   "metadata": {},
   "outputs": [],
   "source": [
    "sarimax = SARIMAX(\n",
    "    endog=y_train,\n",
    "    order=(2, 1, 1),\n",
    "    seasonal_order=(2, 1, 1, 7),\n",
    "    enforce_stationarity=True,\n",
    ")\n",
    "sarimax = sarimax.fit()\n",
    "\n",
    "fitted_values = sarimax.predict(start=y_train.index[0], end=y_train.index[-1])\n",
    "forecasts = sarimax.predict(start=y_test.index[0], end=y_test.index[-1])"
   ]
  },
  {
   "cell_type": "code",
   "execution_count": null,
   "id": "0f9728fe",
   "metadata": {},
   "outputs": [],
   "source": [
    "sarimax.summary()"
   ]
  },
  {
   "cell_type": "code",
   "execution_count": null,
   "id": "247b36f6",
   "metadata": {},
   "outputs": [],
   "source": [
    "plot_timeseries(y_train, fitted_values)"
   ]
  },
  {
   "cell_type": "code",
   "execution_count": null,
   "id": "39ea5ba8",
   "metadata": {},
   "outputs": [],
   "source": [
    "plot_timeseries(y_test, forecasts)"
   ]
  },
  {
   "cell_type": "code",
   "execution_count": null,
   "id": "b2aa2c02",
   "metadata": {},
   "outputs": [],
   "source": [
    "# Save forecasts\n",
    "forecast_df = pd.merge(\n",
    "    left=test_df.rename(columns={\"count\": \"ytrue\"}),\n",
    "    right=forecasts.to_frame(name=\"yhat_sarimax\"),\n",
    "    left_index=True,\n",
    "    right_index=True,\n",
    "    how=\"left\"\n",
    ")\n",
    "forecast_df = forecast_df.reset_index()"
   ]
  },
  {
   "cell_type": "code",
   "execution_count": null,
   "id": "7091058e",
   "metadata": {},
   "outputs": [],
   "source": [
    "assert not forecast_df[\"date\"].isna().any()"
   ]
  },
  {
   "cell_type": "code",
   "execution_count": null,
   "id": "93cdb359",
   "metadata": {},
   "outputs": [],
   "source": [
    "forecast_df.to_csv(f\"./forecasts/sarimax/{LOCATION.replace(' ', '_').lower()}.csv\")"
   ]
  }
 ],
 "metadata": {
  "kernelspec": {
   "display_name": "bikes",
   "language": "python",
   "name": "python3"
  },
  "language_info": {
   "codemirror_mode": {
    "name": "ipython",
    "version": 3
   },
   "file_extension": ".py",
   "mimetype": "text/x-python",
   "name": "python",
   "nbconvert_exporter": "python",
   "pygments_lexer": "ipython3",
   "version": "3.12.9"
  }
 },
 "nbformat": 4,
 "nbformat_minor": 5
}
