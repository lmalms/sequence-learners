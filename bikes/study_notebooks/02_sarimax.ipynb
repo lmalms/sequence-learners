{
 "cells": [
  {
   "cell_type": "code",
   "execution_count": null,
   "metadata": {},
   "outputs": [],
   "source": [
    "import pandas as pd\n",
    "import numpy as np\n",
    "import matplotlib.pyplot as plt\n",
    "\n",
    "from statsmodels.graphics.tsaplots import plot_acf, plot_pacf\n",
    "from statsmodels.tsa.statespace.sarimax import SARIMAX\n",
    "from statsmodels.tsa.stattools import kpss, adfuller"
   ]
  },
  {
   "cell_type": "markdown",
   "metadata": {},
   "source": [
    "# SARIMA"
   ]
  },
  {
   "cell_type": "code",
   "execution_count": null,
   "metadata": {},
   "outputs": [],
   "source": [
    "LOCATION = \"Nelson Street\""
   ]
  },
  {
   "cell_type": "code",
   "execution_count": null,
   "metadata": {},
   "outputs": [],
   "source": [
    "cycle_counts_path = \"../cycle_counts.csv\"\n",
    "cycle_counts = pd.read_csv(cycle_counts_path, parse_dates=[\"date\"])\n",
    "cycle_counts = cycle_counts[cycle_counts[\"location\"] == LOCATION]"
   ]
  },
  {
   "cell_type": "code",
   "execution_count": null,
   "metadata": {},
   "outputs": [],
   "source": [
    "fig, ax = plt.subplots()\n",
    "ax.plot(cycle_counts[\"date\"], cycle_counts[\"count\"], lw=1.5)\n",
    "ax.set(title=LOCATION, ylabel=\"Count\")\n",
    "for tick in ax.get_xticklabels():\n",
    "    tick.set_rotation(45)\n",
    "fig.tight_layout();"
   ]
  },
  {
   "cell_type": "code",
   "execution_count": null,
   "metadata": {},
   "outputs": [],
   "source": [
    "cycle_counts[\"date\"] = pd.to_datetime(cycle_counts[\"date\"])\n",
    "cycle_counts = cycle_counts.set_index(\"date\").drop(columns=[\"location\"])\n",
    "cycle_counts = cycle_counts.resample(\"D\").sum()\n",
    "cycle_counts = cycle_counts.fillna(0)"
   ]
  },
  {
   "cell_type": "markdown",
   "metadata": {},
   "source": [
    "## Autocorrelation"
   ]
  },
  {
   "cell_type": "markdown",
   "metadata": {},
   "source": [
    "### Augmented Dickey Fuller (ADF) Test\n",
    "\n",
    "- **Null Hypothesis:** Timeseries is non-stationary.\n",
    "- **Alternate Hypothesis:** Timeseries is stationary.\n",
    "\n",
    "### Kwiatkowski-Phillips-Schmidt-Shin (KPSS) Test\n",
    "\n",
    "- **Null Hypothesis:** Timeseries is stationary.\n",
    "- **Alternate Hypothesis:** Timeseries is non-stationary.\n",
    "\n",
    "\n",
    "**Note,** that both tests assume that the data is non-seasonal. Need other ways of formally testing for stationarity in seasonal data, see for example: https://otexts.com/fpp3/stationarity.html"
   ]
  },
  {
   "cell_type": "code",
   "execution_count": null,
   "metadata": {},
   "outputs": [],
   "source": [
    "fig, ax = plt.subplots(1, 2, figsize=(10, 3.5), sharey=True,)\n",
    "\n",
    "plot_acf(cycle_counts[\"count\"], ax=ax[0])\n",
    "ax[0].set(xlabel=\"Lag\")\n",
    "\n",
    "plot_pacf(cycle_counts[\"count\"], ax=ax[1])\n",
    "ax[1].set(xlabel=\"Lag\")\n",
    "\n",
    "fig.tight_layout();"
   ]
  },
  {
   "cell_type": "markdown",
   "metadata": {},
   "source": [
    "### Differencing"
   ]
  },
  {
   "cell_type": "markdown",
   "metadata": {},
   "source": [
    "#### Seasonal Differencing"
   ]
  },
  {
   "cell_type": "code",
   "execution_count": null,
   "metadata": {},
   "outputs": [],
   "source": [
    "seasonal_diffs = cycle_counts[\"count\"].diff(7).dropna()\n",
    "seasonal_diffs.plot()"
   ]
  },
  {
   "cell_type": "code",
   "execution_count": null,
   "metadata": {},
   "outputs": [],
   "source": [
    "fig, ax = plt.subplots(1, 2, figsize=(10, 3.5), sharey=True,)\n",
    "\n",
    "plot_acf(seasonal_diffs, ax=ax[0])\n",
    "ax[0].set(xlabel=\"Lag\")\n",
    "\n",
    "plot_pacf(seasonal_diffs, ax=ax[1])\n",
    "ax[1].set(xlabel=\"Lag\")\n",
    "\n",
    "fig.tight_layout();"
   ]
  },
  {
   "cell_type": "code",
   "execution_count": null,
   "metadata": {},
   "outputs": [],
   "source": [
    "results_adf = adfuller(seasonal_diffs)\n",
    "print(f\"ADF Results:\\ntest statistic: {results_adf[0]:.2f}\\np-value: {results_adf[1]:.2f}\")"
   ]
  },
  {
   "cell_type": "code",
   "execution_count": null,
   "metadata": {},
   "outputs": [],
   "source": [
    "results_kpss = kpss(seasonal_diffs)\n",
    "print(f\"KPSS Results:\\ntest statistic: {results_kpss[0]:.2f}\\np-value: {results_kpss[1]:.2f}\")"
   ]
  },
  {
   "cell_type": "markdown",
   "metadata": {},
   "source": [
    "### SARIMA Model"
   ]
  },
  {
   "cell_type": "code",
   "execution_count": null,
   "metadata": {},
   "outputs": [],
   "source": [
    "model = SARIMAX(\n",
    "    endog=cycle_counts[\"count\"],\n",
    "    order=(0, 0, 1),  # (1, 0, 2)\n",
    "    seasonal_order=(0, 1, 1, 7),  # (0, 1, 1, 7)\n",
    ")\n",
    "model = model.fit()\n",
    "y_hat = model.predict(start=cycle_counts.index[0], end=cycle_counts.index[-1])"
   ]
  },
  {
   "cell_type": "code",
   "execution_count": null,
   "metadata": {},
   "outputs": [],
   "source": [
    "fig, ax = plt.subplots()\n",
    "ax.plot(cycle_counts[\"count\"], label=\"Observed\")\n",
    "ax.plot(y_hat, label=\"Fitted\")\n",
    "ax.set(title=LOCATION, ylabel=\"Count\")\n",
    "ax.legend()\n",
    "for tick in ax.get_xticklabels():\n",
    "    tick.set_rotation(45)\n",
    "fig.tight_layout();"
   ]
  },
  {
   "cell_type": "markdown",
   "metadata": {},
   "source": [
    "### Residuals"
   ]
  },
  {
   "cell_type": "code",
   "execution_count": null,
   "metadata": {},
   "outputs": [],
   "source": [
    "resid = cycle_counts[\"count\"] - y_hat\n",
    "\n",
    "fig, ax = plt.subplots(2, 2, figsize=(12, 5.5))\n",
    "ax = ax.flatten()\n",
    "\n",
    "ax[0].hist(np.array(resid), bins=20)\n",
    "ax[0].set(ylabel=\"Frequency\", xlabel=\"Residuals\")\n",
    "\n",
    "ax[1].axhline(0, color=\"black\", linestyle=\"--\")\n",
    "ax[1].scatter(np.array(cycle_counts[\"count\"]), np.array(resid))\n",
    "ax[1].set(xlabel=\"Observed\", ylabel=\"Residuals\")\n",
    "\n",
    "ax[2].plot(cycle_counts[\"count\"].index, np.array(resid))\n",
    "ax[2].set(ylabel=\"Residuals\")\n",
    "for tick in ax[2].get_xticklabels():\n",
    "    tick.set_rotation(45)\n",
    "\n",
    "plot_acf(resid, ax=ax[3])\n",
    "ax[3].set(title=\"\", xlabel=\"Lag\", ylabel=\"ACF\")\n",
    "\n",
    "fig.tight_layout();"
   ]
  },
  {
   "cell_type": "markdown",
   "metadata": {},
   "source": [
    "### Forecasting"
   ]
  },
  {
   "cell_type": "code",
   "execution_count": null,
   "metadata": {},
   "outputs": [],
   "source": [
    "n_test = 21\n",
    "\n",
    "train = cycle_counts[\"count\"].iloc[: -n_test]\n",
    "val = cycle_counts[\"count\"].iloc[-n_test:]\n",
    "\n",
    "model = SARIMAX(\n",
    "    endog=train,\n",
    "    order=(1, 0, 2),\n",
    "    seasonal_order=(0, 1, 1, 7),\n",
    ")\n",
    "model = model.fit()"
   ]
  },
  {
   "cell_type": "code",
   "execution_count": null,
   "metadata": {},
   "outputs": [],
   "source": [
    "forecasts = model.get_prediction(\n",
    "    start=val.index.min(),\n",
    "    end=val.index.max()\n",
    ")\n",
    "\n",
    "predicted_mean = forecasts.predicted_mean.to_frame(name=\"mean\")\n",
    "conf_int_90 = (\n",
    "    forecasts.conf_int(alpha=0.10)\n",
    "    .rename(columns={\"lower count\": \"lower_0.10\", \"upper count\": \"upper_0.10\"})\n",
    ")\n",
    "conf_int_95 = (\n",
    "    forecasts.conf_int(alpha=0.05)\n",
    "    .rename(columns={\"lower count\": \"lower_0.05\", \"upper count\": \"upper_0.05\"})\n",
    ")\n",
    "forecasts_df = pd.concat([predicted_mean, conf_int_90, conf_int_95], axis=1)"
   ]
  },
  {
   "cell_type": "code",
   "execution_count": null,
   "metadata": {},
   "outputs": [],
   "source": [
    "fig, ax = plt.subplots()\n",
    "\n",
    "ax.plot(train.index.values[-50:], train.values[-50:], lw=2.5, color=\"black\")\n",
    "\n",
    "ax.fill_between(\n",
    "    forecasts_df.index.values,\n",
    "    forecasts_df[\"lower_0.10\"].values,\n",
    "    forecasts_df[\"upper_0.10\"].values,\n",
    "    alpha=0.2,\n",
    "    color=\"blue\"\n",
    ")\n",
    "ax.fill_between(\n",
    "    forecasts_df.index.values,\n",
    "    forecasts_df[\"lower_0.05\"].values,\n",
    "    forecasts_df[\"upper_0.05\"].values,\n",
    "    alpha=0.1,\n",
    "    color=\"blue\"\n",
    ")\n",
    "ax.plot(\n",
    "    forecasts_df.index.values,\n",
    "    forecasts_df[\"mean\"].values,\n",
    "    lw=2.5,\n",
    "    color=\"blue\",\n",
    "    ls=\"--\"\n",
    ")\n",
    "\n",
    "ax.plot(val.index.values, val.values, lw=2.5, color=\"blue\")\n",
    "ax.set(ylabel=\"Counts\")\n",
    "\n",
    "fig.tight_layout();"
   ]
  }
 ],
 "metadata": {
  "kernelspec": {
   "display_name": "bikes",
   "language": "python",
   "name": "python3"
  },
  "language_info": {
   "codemirror_mode": {
    "name": "ipython",
    "version": 3
   },
   "file_extension": ".py",
   "mimetype": "text/x-python",
   "name": "python",
   "nbconvert_exporter": "python",
   "pygments_lexer": "ipython3",
   "version": "3.12.9"
  }
 },
 "nbformat": 4,
 "nbformat_minor": 2
}
