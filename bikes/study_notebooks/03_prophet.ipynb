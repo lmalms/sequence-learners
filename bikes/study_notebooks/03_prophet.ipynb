{
 "cells": [
  {
   "cell_type": "code",
   "execution_count": null,
   "metadata": {},
   "outputs": [],
   "source": [
    "import pandas as pd\n",
    "import numpy as np\n",
    "import matplotlib.pyplot as plt\n",
    "from matplotlib.dates import AutoDateLocator, AutoDateFormatter\n",
    "\n",
    "from scipy.optimize import minimize\n",
    "\n",
    "from prophet import Prophet\n",
    "from prophet.plot import add_changepoints_to_plot"
   ]
  },
  {
   "cell_type": "markdown",
   "metadata": {},
   "source": [
    "# Prophet"
   ]
  },
  {
   "cell_type": "code",
   "execution_count": null,
   "metadata": {},
   "outputs": [],
   "source": [
    "LOCATION = \"Nelson Street\""
   ]
  },
  {
   "cell_type": "code",
   "execution_count": null,
   "metadata": {},
   "outputs": [],
   "source": [
    "cycle_counts_path = \"../cycle_counts.csv\"\n",
    "cycle_counts = pd.read_csv(cycle_counts_path, parse_dates=[\"date\"])\n",
    "cycle_counts = cycle_counts[cycle_counts[\"location\"] == LOCATION]"
   ]
  },
  {
   "cell_type": "code",
   "execution_count": null,
   "metadata": {},
   "outputs": [],
   "source": [
    "fig, ax = plt.subplots()\n",
    "ax.plot(cycle_counts[\"date\"], cycle_counts[\"count\"], lw=1.5)\n",
    "ax.set(title=LOCATION, ylabel=\"Count\")\n",
    "for tick in ax.get_xticklabels():\n",
    "    tick.set_rotation(45)\n",
    "fig.tight_layout();"
   ]
  },
  {
   "cell_type": "code",
   "execution_count": null,
   "metadata": {},
   "outputs": [],
   "source": [
    "cycle_counts[\"date\"] = pd.to_datetime(cycle_counts[\"date\"])\n",
    "cycle_counts = cycle_counts.set_index(\"date\").drop(columns=[\"location\"])\n",
    "cycle_counts = cycle_counts.resample(\"D\").sum()\n",
    "cycle_counts = cycle_counts.fillna(0)"
   ]
  },
  {
   "cell_type": "markdown",
   "metadata": {},
   "source": [
    "## Fourier Series"
   ]
  },
  {
   "cell_type": "code",
   "execution_count": null,
   "metadata": {},
   "outputs": [],
   "source": [
    "y = np.array(cycle_counts[\"count\"])\n",
    "n_samples = len(y)\n",
    "\n",
    "y_fft = np.fft.fft(y)\n",
    "x_fft = np.fft.fftfreq(n_samples, d=1)  # sampling frequency of 1 / day\n",
    "\n",
    "# For real valued series, the FFT is symmetric so only plot the positive half of the frequencies\n",
    "fig, ax = plt.subplots()\n",
    "ax.plot(\n",
    "    x_fft[:n_samples // 2],\n",
    "    1 / n_samples * np.abs(y_fft)[:n_samples // 2],\n",
    "    lw=2,\n",
    ")\n",
    "for i in [1, 2, 3]:\n",
    "    ax.axvline(i/7, color=\"grey\", ls=\"--\")\n",
    "ax.set(xlabel=\"Freq (1 / day)\", ylabel=\"Magnitude\")\n",
    "fig.tight_layout();"
   ]
  },
  {
   "cell_type": "code",
   "execution_count": null,
   "metadata": {},
   "outputs": [],
   "source": [
    "# Seaonality as a partial fourier sum\n",
    "\n",
    "y = np.array(cycle_counts[\"count\"])\n",
    "y_scaled = y - y.mean()\n",
    "n_samples = len(y)\n",
    "\n",
    "period = 7\n",
    "ks = np.array([1, 2, 3])\n",
    "ts = np.arange(n_samples).reshape(-1, 1)\n",
    "\n",
    "X_cos = np.cos(2 * np.pi * ks * ts / period)\n",
    "X_sin = np.sin(2 * np.pi * ks * ts / period)\n",
    "\n",
    "\n",
    "def fourier_sum(theta: np.ndarray) -> np.ndarray:\n",
    "    a0, a1, b1, a2, b2, a3, b3 = theta\n",
    "    theta_cos = np.array([a1, a2, a3])\n",
    "    theta_sin = np.array([b1, b2, b3]) \n",
    "    return a0 + np.dot(X_cos, theta_cos) + np.dot(X_sin, theta_sin)\n",
    "\n",
    "\n",
    "def obj(x: np.ndarray):\n",
    "    y_hat = fourier_sum(x)\n",
    "    return np.mean((y - y_hat) ** 2)\n",
    "\n",
    "\n",
    "result = minimize(obj, x0=np.array([1, 0.5, 0.5, 0.5, 0.5, 0.5, 0.5]))\n",
    "y_hat = fourier_sum(result.x)"
   ]
  },
  {
   "cell_type": "code",
   "execution_count": null,
   "metadata": {},
   "outputs": [],
   "source": [
    "fig, ax = plt.subplots()\n",
    "n_samples_to_plot = 150\n",
    "ax.plot(y[-n_samples_to_plot:], label=\"Observed\", lw=2)\n",
    "ax.plot(y_hat[-n_samples_to_plot:], label=\"Fitted\", lw=2)\n",
    "ax.set(ylabel=\"Count\")\n",
    "ax.legend()\n",
    "fig.tight_layout();"
   ]
  },
  {
   "cell_type": "markdown",
   "metadata": {},
   "source": [
    "## Prophet Model"
   ]
  },
  {
   "cell_type": "code",
   "execution_count": null,
   "metadata": {},
   "outputs": [],
   "source": [
    "cycle_counts = cycle_counts.reset_index().rename(columns={\"date\": \"ds\", \"count\": \"y\"})\n",
    "\n",
    "n_test = 4 * 7\n",
    "train = cycle_counts.iloc[:-n_test]\n",
    "val = cycle_counts.iloc[-n_test:]"
   ]
  },
  {
   "cell_type": "code",
   "execution_count": null,
   "metadata": {},
   "outputs": [],
   "source": [
    "model = Prophet(\n",
    "    growth=\"linear\",\n",
    "    changepoint_prior_scale=0.05,  # adjust trend changepoint sparsity (lower values -> more regularization)\n",
    "    yearly_seasonality='auto',\n",
    "    weekly_seasonality=3, # Number of weekly Fourier terms (default = 3)\n",
    ")\n",
    "model = model.fit(train)"
   ]
  },
  {
   "cell_type": "markdown",
   "metadata": {},
   "source": [
    "### Investigate the fit"
   ]
  },
  {
   "cell_type": "code",
   "execution_count": null,
   "metadata": {},
   "outputs": [],
   "source": [
    "# Fitted Values\n",
    "\n",
    "fitted_values = model.predict(train[[\"ds\"]])\n",
    "fig = model.plot(fitted_values)\n",
    "add_changepoints_to_plot(fig.gca(), model, fitted_values);"
   ]
  },
  {
   "cell_type": "code",
   "execution_count": null,
   "metadata": {},
   "outputs": [],
   "source": [
    "# Fitted components\n",
    "fig = model.plot_components(fitted_values)"
   ]
  },
  {
   "cell_type": "markdown",
   "metadata": {},
   "source": [
    "### Forecast"
   ]
  },
  {
   "cell_type": "code",
   "execution_count": null,
   "metadata": {},
   "outputs": [],
   "source": [
    "forecasts = model.predict(val[[\"ds\"]])\n",
    "\n",
    "fig, ax = plt.subplots()\n",
    "ax.plot(train[\"ds\"].values[-4*7:], train[\"y\"].values[-4*7:], lw=2, color=\"black\")\n",
    "ax.plot(val[\"ds\"].values, val[\"y\"].values, lw=2, color=\"#1f77b4\")\n",
    "ax.plot(forecasts[\"ds\"].values, forecasts[\"yhat\"].values[-4*7:], lw=2, ls=\"--\", color=\"#1f77b4\")\n",
    "ax.fill_between(\n",
    "    forecasts[\"ds\"].values,\n",
    "    forecasts['yhat_lower'],\n",
    "    forecasts['yhat_upper'],\n",
    "    color='#0072B2',\n",
    "    alpha=0.2\n",
    ")\n",
    "\n",
    "locator = AutoDateLocator(interval_multiples=False)\n",
    "formatter = AutoDateFormatter(locator)\n",
    "ax.xaxis.set_major_locator(locator)\n",
    "ax.xaxis.set_major_formatter(formatter)\n",
    "ax.grid(True, which='major', c='gray', ls='-', lw=1, alpha=0.2)\n",
    "ax.set(ylabel=\"Counts\")\n",
    "\n",
    "for tick in ax.get_xticklabels():\n",
    "    tick.set_rotation(45)\n",
    "fig.tight_layout();"
   ]
  }
 ],
 "metadata": {
  "kernelspec": {
   "display_name": "bikes",
   "language": "python",
   "name": "python3"
  },
  "language_info": {
   "codemirror_mode": {
    "name": "ipython",
    "version": 3
   },
   "file_extension": ".py",
   "mimetype": "text/x-python",
   "name": "python",
   "nbconvert_exporter": "python",
   "pygments_lexer": "ipython3",
   "version": "3.12.9"
  }
 },
 "nbformat": 4,
 "nbformat_minor": 2
}
