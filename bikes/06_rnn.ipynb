{
 "cells": [
  {
   "cell_type": "code",
   "execution_count": 1,
   "id": "81a6444b",
   "metadata": {},
   "outputs": [],
   "source": [
    "%load_ext autoreload\n",
    "%autoreload 2"
   ]
  },
  {
   "cell_type": "code",
   "execution_count": 2,
   "id": "251a7b18",
   "metadata": {},
   "outputs": [
    {
     "name": "stderr",
     "output_type": "stream",
     "text": [
      "/Users/lukasmalms/faculty/sequence-learners/bikes/.venv/lib/python3.12/site-packages/tqdm/auto.py:21: TqdmWarning: IProgress not found. Please update jupyter and ipywidgets. See https://ipywidgets.readthedocs.io/en/stable/user_install.html\n",
      "  from .autonotebook import tqdm as notebook_tqdm\n",
      "Importing plotly failed. Interactive plots will not work.\n"
     ]
    }
   ],
   "source": [
    "import pandas as pd\n",
    "import matplotlib.pyplot as plt\n",
    "from tqdm import tqdm\n",
    "\n",
    "import torch\n",
    "import torch.nn as nn\n",
    "from torch.optim import Adam\n",
    "from torch.utils.data import DataLoader\n",
    "\n",
    "from bikes.preprocess.preprocess import get_tensor_train_dataset, Scaler\n",
    "from bikes.evaluate.split import train_test_split, TEST_PERIOD"
   ]
  },
  {
   "cell_type": "code",
   "execution_count": 3,
   "id": "25c9d82a",
   "metadata": {},
   "outputs": [],
   "source": [
    "def plot_timeseries(actual: pd.Series, predicted: pd.Series):\n",
    "    fig, ax = plt.subplots()\n",
    "\n",
    "    ax.plot(actual, label=\"Observed\")\n",
    "    ax.plot(predicted, label=\"Predicted\")\n",
    "\n",
    "    ax.set(ylabel=\"Count\")\n",
    "    for tick in ax.get_xticklabels():\n",
    "        tick.set_rotation(45)\n",
    "    ax.legend()\n",
    "\n",
    "    fig.tight_layout();\n",
    "\n",
    "    return ax"
   ]
  },
  {
   "cell_type": "markdown",
   "id": "f43975b7",
   "metadata": {},
   "source": [
    "## RNN"
   ]
  },
  {
   "cell_type": "code",
   "execution_count": 4,
   "id": "36faa6c9",
   "metadata": {},
   "outputs": [],
   "source": [
    "class RnnForecaster(nn.Module):\n",
    "    def __init__(self,  horizon: int, input_size: int = 1, hidden_size: int = 25, num_layers: int =1):\n",
    "        super().__init__()\n",
    "        self.rnn = nn.RNN(input_size=input_size, hidden_size=hidden_size, num_layers=num_layers, batch_first=True)\n",
    "        self.ho = nn.Linear(in_features=hidden_size, out_features=horizon)\n",
    "\n",
    "    def forward(self, x: torch.Tensor) -> torch.Tensor:\n",
    "        out_, _ = self.rnn(x)\n",
    "        return self.ho(out_)"
   ]
  },
  {
   "cell_type": "code",
   "execution_count": 5,
   "id": "fe1f6d6a",
   "metadata": {},
   "outputs": [],
   "source": [
    "cycle_counts = pd.read_csv(\"cycle_counts.csv\", parse_dates=[\"date\"])"
   ]
  },
  {
   "cell_type": "code",
   "execution_count": 6,
   "id": "01da4460",
   "metadata": {},
   "outputs": [],
   "source": [
    "LOCATION = \"Dominion Road\"\n",
    "\n",
    "location_df = cycle_counts.loc[cycle_counts[\"location\"] == LOCATION].copy()\n",
    "location_df = location_df.set_index(\"date\").sort_index()\n",
    "train_df, test_df = train_test_split(location_df)\n",
    "y, y_test = train_df[\"count\"], test_df[\"count\"]"
   ]
  },
  {
   "cell_type": "code",
   "execution_count": 7,
   "id": "b78dc1c0",
   "metadata": {},
   "outputs": [],
   "source": [
    "# Prepare data\n",
    "scaler = Scaler()\n",
    "y_train_scaled = scaler.fit_transform(y)\n",
    "\n",
    "test_start, test_end = TEST_PERIOD\n",
    "test_dates = pd.date_range(test_start, test_end, freq=\"D\", inclusive=\"left\")\n",
    "\n",
    "out_seq_length = len(test_dates)\n",
    "in_seq_length = 6 * out_seq_length\n",
    "ts = get_tensor_train_dataset(y_train_scaled, in_seq_length=in_seq_length, out_seq_length=out_seq_length)\n",
    "dataloader = DataLoader(ts, batch_size=32)"
   ]
  },
  {
   "cell_type": "code",
   "execution_count": null,
   "id": "80819796",
   "metadata": {},
   "outputs": [
    {
     "name": "stderr",
     "output_type": "stream",
     "text": [
      "Epoch [99 / 100]: Loss = 0.474: 100%|██████████| 100/100 [00:27<00:00,  3.64it/s]\n"
     ]
    }
   ],
   "source": [
    "# Training loop\n",
    "model = RnnForecaster(horizon=out_seq_length)\n",
    "\n",
    "loss_fn = nn.MSELoss()\n",
    "optimizer = Adam(model.parameters(), lr=1e-03)\n",
    "\n",
    "model.train()\n",
    "iteration_loss = []\n",
    "n_epochs = 100\n",
    "pgbar = tqdm(range(100))\n",
    "for epoch in pgbar:\n",
    "    for X, y in dataloader:\n",
    "        optimizer.zero_grad()\n",
    "        y_hat = model(X)\n",
    "        loss = loss_fn(y, y_hat)\n",
    "        loss.backward()\n",
    "        optimizer.step()\n",
    "    iteration_loss.append(float(loss.detach()))\n",
    "    pgbar.set_description(f\"Epoch [{epoch + 1} / {n_epochs}] - Loss = {loss:.3f}\")"
   ]
  },
  {
   "cell_type": "code",
   "execution_count": 10,
   "id": "cbfbe9bb",
   "metadata": {},
   "outputs": [
    {
     "data": {
      "image/png": "[encoded data removed]",
      "text/plain": [
       "<Figure size 640x480 with 1 Axes>"
      ]
     },
     "metadata": {},
     "output_type": "display_data"
    }
   ],
   "source": [
    "plt.plot(iteration_loss)\n",
    "plt.xlabel(\"Epoch\")\n",
    "plt.ylabel(\"MSE Loss\");"
   ]
  },
  {
   "cell_type": "code",
   "execution_count": null,
   "id": "2be5ae31",
   "metadata": {},
   "outputs": [],
   "source": [
    "# Forecast\n"
   ]
  }
 ],
 "metadata": {
  "kernelspec": {
   "display_name": "bikes",
   "language": "python",
   "name": "python3"
  },
  "language_info": {
   "codemirror_mode": {
    "name": "ipython",
    "version": 3
   },
   "file_extension": ".py",
   "mimetype": "text/x-python",
   "name": "python",
   "nbconvert_exporter": "python",
   "pygments_lexer": "ipython3",
   "version": "3.12.9"
  }
 },
 "nbformat": 4,
 "nbformat_minor": 5
}
