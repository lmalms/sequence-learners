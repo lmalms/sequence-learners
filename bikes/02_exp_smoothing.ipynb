{
 "cells": [
  {
   "cell_type": "code",
   "execution_count": 1,
   "metadata": {},
   "outputs": [],
   "source": [
    "import pandas as pd\n",
    "import numpy as np\n",
    "import matplotlib.pyplot as plt\n",
    "\n",
    "from statsmodels.tsa.seasonal import MSTL\n",
    "from statsmodels.tsa.holtwinters import ExponentialSmoothing\n",
    "from statsmodels.graphics.tsaplots import plot_acf"
   ]
  },
  {
   "cell_type": "markdown",
   "metadata": {},
   "source": [
    "# Exponential Smoothing"
   ]
  },
  {
   "cell_type": "code",
   "execution_count": null,
   "metadata": {},
   "outputs": [],
   "source": [
    "LOCATION = \"Nelson St\""
   ]
  },
  {
   "cell_type": "code",
   "execution_count": null,
   "metadata": {},
   "outputs": [],
   "source": [
    "cycle_counts = pd.read_csv(\"cycle_counts.csv\", parse_dates=[\"time\"])\n",
    "cycle_counts = cycle_counts[cycle_counts[\"location\"] == LOCATION]"
   ]
  },
  {
   "cell_type": "code",
   "execution_count": null,
   "metadata": {},
   "outputs": [],
   "source": [
    "fig, ax = plt.subplots()\n",
    "ax.plot(cycle_counts[\"time\"], cycle_counts[\"count\"])\n",
    "ax.set(title=LOCATION, ylabel=\"Count\")\n",
    "for tick in ax.get_xticklabels():\n",
    "    tick.set_rotation(45)\n",
    "fig.tight_layout();"
   ]
  },
  {
   "cell_type": "markdown",
   "metadata": {},
   "source": [
    "## STL Decomposition"
   ]
  },
  {
   "cell_type": "code",
   "execution_count": null,
   "metadata": {},
   "outputs": [],
   "source": [
    "cycle_counts[\"time\"] = pd.to_datetime(cycle_counts[\"time\"])\n",
    "cycle_counts = cycle_counts.set_index(\"time\").drop(columns=[\"location\"])\n",
    "cycle_counts = cycle_counts.resample(\"D\").sum()\n",
    "cycle_counts = cycle_counts.fillna(0)"
   ]
  },
  {
   "cell_type": "code",
   "execution_count": null,
   "metadata": {},
   "outputs": [],
   "source": [
    "stl = MSTL(cycle_counts[\"count\"], periods=7)\n",
    "result = stl.fit()\n",
    "result.plot();"
   ]
  },
  {
   "cell_type": "markdown",
   "metadata": {},
   "source": [
    "## Exponential Smoothing"
   ]
  },
  {
   "cell_type": "code",
   "execution_count": null,
   "metadata": {},
   "outputs": [],
   "source": [
    "model = ExponentialSmoothing(\n",
    "    cycle_counts[\"count\"],\n",
    "    trend=None,\n",
    "    damped_trend=False,\n",
    "    seasonal=\"add\",\n",
    "    seasonal_periods=7\n",
    ")\n",
    "model = model.fit()\n",
    "y_hat = model.predict(start=cycle_counts.index[0], end=cycle_counts.index[-1])"
   ]
  },
  {
   "cell_type": "code",
   "execution_count": null,
   "metadata": {},
   "outputs": [],
   "source": [
    "fig, ax = plt.subplots()\n",
    "ax.plot(cycle_counts[\"count\"], label=\"Observed\")\n",
    "ax.plot(y_hat, label=\"Fitted\")\n",
    "ax.set(title=LOCATION, ylabel=\"Count\")\n",
    "for tick in ax.get_xticklabels():\n",
    "    tick.set_rotation(45)\n",
    "ax.legend()\n",
    "fig.tight_layout();"
   ]
  },
  {
   "cell_type": "markdown",
   "metadata": {},
   "source": [
    "### Residuals"
   ]
  },
  {
   "cell_type": "code",
   "execution_count": null,
   "metadata": {},
   "outputs": [],
   "source": [
    "resid = cycle_counts[\"count\"] - y_hat\n",
    "\n",
    "fig, ax = plt.subplots(2, 2, figsize=(12, 5.5))\n",
    "ax = ax.flatten()\n",
    "\n",
    "ax[0].hist(np.array(resid), bins=20)\n",
    "ax[0].set(ylabel=\"Frequency\", xlabel=\"Residuals\")\n",
    "\n",
    "ax[1].axhline(0, color=\"black\", linestyle=\"--\")\n",
    "ax[1].scatter(np.array(cycle_counts[\"count\"]), np.array(resid))\n",
    "ax[1].set(xlabel=\"Observed\", ylabel=\"Residuals\")\n",
    "\n",
    "ax[2].plot(cycle_counts[\"count\"].index, np.array(resid))\n",
    "ax[2].set(ylabel=\"Residuals\")\n",
    "for tick in ax[2].get_xticklabels():\n",
    "    tick.set_rotation(45)\n",
    "\n",
    "plot_acf(resid, ax=ax[3])\n",
    "ax[3].set(title=\"\", xlabel=\"Lag\", ylabel=\"ACF\")\n",
    "\n",
    "fig.tight_layout();"
   ]
  },
  {
   "cell_type": "markdown",
   "metadata": {},
   "source": [
    "## Cross-validation"
   ]
  },
  {
   "cell_type": "code",
   "execution_count": null,
   "metadata": {},
   "outputs": [],
   "source": [
    "class TimeSeriesSplitter:\n",
    "    def __init__(self, n_splits: int, window: int, gap: int):\n",
    "        self.n_splits = n_splits\n",
    "        self.window = window\n",
    "        self.gap = gap\n",
    "\n",
    "    def split(self, y: pd.Series):\n",
    "        n = len(y)\n",
    "        start_idx = n - self.window - self.gap * (self.n_splits - 1)\n",
    "        for _ in range(self.n_splits):\n",
    "            end_idx = start_idx + self.window\n",
    "            yield start_idx, end_idx\n",
    "            start_idx = start_idx + self.gap"
   ]
  },
  {
   "cell_type": "code",
   "execution_count": null,
   "metadata": {},
   "outputs": [],
   "source": [
    "actuals = []\n",
    "forecasts = []\n",
    "maes = []\n",
    "\n",
    "splitter = TimeSeriesSplitter(n_splits=5, window=14, gap=5)\n",
    "for val_start, val_end in splitter.split(cycle_counts[\"count\"]):\n",
    "    train = cycle_counts[\"count\"].iloc[:val_start - 1]\n",
    "    val = cycle_counts[\"count\"].iloc[val_start:val_end]\n",
    "\n",
    "    model = ExponentialSmoothing(\n",
    "        train,\n",
    "        trend=None,\n",
    "        damped_trend=False,\n",
    "        seasonal=\"add\",\n",
    "        seasonal_periods=7\n",
    "    )\n",
    "    model = model.fit()\n",
    "    y_hat = model.predict(start=val.index[0], end=val.index[-1])\n",
    "\n",
    "    actuals.append(val)\n",
    "    forecasts.append(y_hat)\n",
    "    maes.append(np.mean(np.abs(val - y_hat)))\n",
    "\n",
    "print(f\"Mean MAE: {np.mean(maes)}\")"
   ]
  },
  {
   "cell_type": "code",
   "execution_count": null,
   "metadata": {},
   "outputs": [],
   "source": [
    "# Plot a specific fold\n",
    "\n",
    "fold_idx = -1\n",
    "\n",
    "val_start = actuals[fold_idx].index[0]\n",
    "train = cycle_counts[\"count\"].loc[:val_start].iloc[-30:]\n",
    "\n",
    "fig, ax = plt.subplots()\n",
    "train.plot(lw=2.5, color=\"black\", label=\"\")\n",
    "actuals[fold_idx].plot(lw=2.5, color=\"blue\", label=\"y_true\")\n",
    "forecasts[fold_idx].plot(lw=2.5, color=\"blue\", ls=\"--\", label=\"y_hat\")\n",
    "ax.legend(ncols=2, loc=2)\n",
    "ax.set(xlabel=\"\", ylabel=\"Counts\", ylim=(100, 1100))\n",
    "fig.tight_layout();"
   ]
  },
  {
   "cell_type": "markdown",
   "metadata": {},
   "source": [
    "## Forecasting"
   ]
  },
  {
   "cell_type": "code",
   "execution_count": null,
   "metadata": {},
   "outputs": [],
   "source": [
    "n_test = 21\n",
    "\n",
    "train = cycle_counts[\"count\"].iloc[: -n_test]\n",
    "val = cycle_counts[\"count\"].iloc[-n_test:]\n",
    "\n",
    "model = ExponentialSmoothing(\n",
    "    train,\n",
    "    trend=None,\n",
    "    damped_trend=False,\n",
    "    seasonal=\"add\",\n",
    "    seasonal_periods=7\n",
    ")\n",
    "model = model.fit()\n",
    "\n",
    "trajectories = model.simulate(\n",
    "    nsimulations=n_test,\n",
    "    anchor=val.index[0],\n",
    "    repetitions=100,\n",
    "    error=\"add\",\n",
    ")\n",
    "\n",
    "trajectories = trajectories.assign(\n",
    "    **{\n",
    "        f\"quantile_{q}\": trajectories.quantile(q=q, axis=1)\n",
    "        for q in [0.025, 0.05, 0.5, 0.95, 0.975]\n",
    "    }\n",
    ")"
   ]
  },
  {
   "cell_type": "code",
   "execution_count": null,
   "metadata": {},
   "outputs": [],
   "source": [
    "fig, ax = plt.subplots()\n",
    "\n",
    "ax.plot(train.index.values[-50:], train.values[-50:], lw=2.5, color=\"black\")\n",
    "\n",
    "ax.fill_between(\n",
    "    trajectories.index.values,\n",
    "    trajectories[\"quantile_0.025\"].values,\n",
    "    trajectories[\"quantile_0.975\"].values,\n",
    "    alpha=0.15,\n",
    "    color=\"blue\"\n",
    ")\n",
    "ax.fill_between(\n",
    "    trajectories.index.values,\n",
    "    trajectories[\"quantile_0.05\"].values,\n",
    "    trajectories[\"quantile_0.95\"].values,\n",
    "    alpha=0.2,\n",
    "    color=\"blue\"\n",
    ")\n",
    "ax.plot(\n",
    "    trajectories.index.values,\n",
    "    trajectories[\"quantile_0.5\"].values,\n",
    "    lw=2.5,\n",
    "    color=\"blue\",\n",
    "    ls=\"--\"\n",
    ")\n",
    "\n",
    "ax.plot(val.index.values, val.values, lw=2.5, color=\"blue\")\n",
    "ax.set(ylabel=\"Counts\")\n",
    "\n",
    "fig.tight_layout();"
   ]
  }
 ],
 "metadata": {
  "kernelspec": {
   "display_name": "bikes",
   "language": "python",
   "name": "python3"
  },
  "language_info": {
   "codemirror_mode": {
    "name": "ipython",
    "version": 3
   },
   "file_extension": ".py",
   "mimetype": "text/x-python",
   "name": "python",
   "nbconvert_exporter": "python",
   "pygments_lexer": "ipython3",
   "version": "3.12.9"
  }
 },
 "nbformat": 4,
 "nbformat_minor": 2
}
