{
    "cells": [
        {
            "cell_type": "code",
            "execution_count": null,
            "metadata": {},
            "outputs": [],
            "source": [
                "%load_ext autoreload\n",
                "%autoreload 2"
            ]
        },
        {
            "cell_type": "code",
            "execution_count": null,
            "metadata": {},
            "outputs": [],
            "source": [
                "from datetime import datetime\n",
                "\n",
                "import matplotlib.pyplot as plt\n",
                "from matplotlib import cm\n",
                "import numpy as np\n",
                "import pandas as pd\n",
                "import seaborn as sns\n",
                "\n",
                "from bikes.data import load_cycle_counts"
            ]
        },
        {
            "cell_type": "markdown",
            "metadata": {},
            "source": [
                "## Data Loading"
            ]
        },
        {
            "cell_type": "code",
            "execution_count": null,
            "metadata": {},
            "outputs": [],
            "source": [
                "cycle_counts = load_cycle_counts()\n",
                "cycle_counts.to_csv(\"cycle_counts.csv\", index=False)"
            ]
        },
        {
            "cell_type": "code",
            "execution_count": null,
            "metadata": {},
            "outputs": [],
            "source": [
                "cycle_counts = pd.read_csv(\"cycle_counts.csv\", parse_dates=[\"date\"])"
            ]
        },
        {
            "cell_type": "code",
            "execution_count": null,
            "metadata": {},
            "outputs": [],
            "source": [
                "from datetime import datetime\n",
                "\n",
                "from statsmodels.tsa.seasonal import MSTL\n",
                "from bikes.utils.preprocess import Scaler\n",
                "from bikes.models.ets import ExponentialSmoothingLearner\n",
                "from bikes.models.sarima import SARIMASequenceLearner\n",
                "from bikes.models.prophet import ProphetSequenceLearner\n",
                "from bikes.models.theta import ThetaSequenceLearner\n",
                "from bikes.models.prophet import ProphetSequenceLearner\n",
                "from bikes.models.rnn import RNNSequenceLearner"
            ]
        },
        {
            "cell_type": "code",
            "execution_count": null,
            "metadata": {},
            "outputs": [],
            "source": [
                "i = 5\n",
                "loc = sorted(cycle_counts[\"location\"].unique())[i]\n",
                "\n",
                "location_df = cycle_counts[cycle_counts[\"location\"] == loc].sort_values(\"date\").set_index(\"date\")\n",
                "y_train = location_df.loc[:datetime(2024, 10, 31), \"count\"]\n",
                "\n",
                "horizon = 61\n",
                "\n",
                "print(\"Fitting ETS model....\\n\")\n",
                "ets = ExponentialSmoothingLearner(horizon=horizon, seasonal=\"add\", seasonal_periods=7, freq=\"D\")\n",
                "ets.fit(y_train)\n",
                "y_hat_ets = ets.predict()\n",
                "\n",
                "print(\"Fitting SARIMA model....\\n\")\n",
                "sarima = SARIMASequenceLearner(horizon=horizon, order=(1, 0, 2), seasonal_order=(0, 1, 1, 7), freq=\"D\")\n",
                "sarima.fit(y_train)\n",
                "y_hat_sarima = sarima.predict()\n",
                "\n",
                "print(\"Fitting Theta model....\\n\")\n",
                "theta = ThetaSequenceLearner(horizon=horizon)\n",
                "theta.fit(y_train)\n",
                "y_hat_theta = theta.predict()\n",
                "\n",
                "print(\"Fitting Prophet model....\\n\")\n",
                "prophet = ProphetSequenceLearner(horizon=horizon, growth=\"linear\", changepoint_prior_scale=0.05, yearly_seasonality='auto', weekly_seasonality=3)\n",
                "prophet.fit(y_train)\n",
                "y_hat_prophet = prophet.predict()\n",
                "\n",
                "print(\"Fitting RNN model....\\n\")\n",
                "scaler = Scaler()\n",
                "y_train_scaled = scaler.fit_transform(y_train)\n",
                "\n",
                "model = RNNSequenceLearner(horizon=horizon, input_size=1, hidden_size=25)\n",
                "model.fit(y_train_scaled)\n",
                "y_hat_rnn = model.predict(y_train_scaled)\n",
                "y_hat_rnn = pd.Series(scaler.inverse_transform(y_hat_rnn.values), index=y_hat_rnn.index)"
            ]
        },
        {
            "cell_type": "code",
            "execution_count": null,
            "metadata": {},
            "outputs": [],
            "source": [
                "fig, ax = plt.subplots(1, 1, sharex=True, figsize=(12, 2.5))\n",
                "ax.scatter(\n",
                "    location_df.index.values[-100:],\n",
                "    location_df[\"count\"].values[-100:],\n",
                "    color=\"black\",\n",
                "    s=15,\n",
                ")\n",
                "for name, y_hat in [\n",
                "    (\"ets\", y_hat_ets),\n",
                "    (\"sarima\", y_hat_sarima),\n",
                "    (\"theta\", y_hat_theta),\n",
                "    (\"prophet\", y_hat_prophet),\n",
                "    (\"rnn\", y_hat_rnn),\n",
                "]:\n",
                "    ax.plot(\n",
                "        y_hat.index.values,\n",
                "        y_hat.values,\n",
                "        label=name,\n",
                "    )\n",
                "ax.legend()"
            ]
        },
        {
            "cell_type": "markdown",
            "metadata": {},
            "source": [
                "## EDA"
            ]
        },
        {
            "cell_type": "markdown",
            "metadata": {},
            "source": [
                "### Total counts by day"
            ]
        },
        {
            "cell_type": "code",
            "execution_count": null,
            "metadata": {},
            "outputs": [],
            "source": [
                "daily_total = cycle_counts.groupby(\"date\")[[\"count\"]].sum().reset_index()\n",
                "\n",
                "fig, ax = plt.subplots(1, 2, figsize=(10, 3.5))\n",
                "\n",
                "ax[0].plot(daily_total[\"date\"], daily_total[\"count\"])\n",
                "ax[0].set(ylabel=\"Count\")\n",
                "for tick in ax[0].get_xticklabels():\n",
                "    tick.set_rotation(45)\n",
                "\n",
                "ax[1].hist(daily_total[\"count\"], bins=20);\n",
                "ax[1].set(xlabel=\"Count\", ylabel=\"Frequency\")\n",
                "\n",
                "fig.tight_layout()"
            ]
        },
        {
            "cell_type": "markdown",
            "metadata": {},
            "source": [
                "### Daily counts by location"
            ]
        },
        {
            "cell_type": "code",
            "execution_count": null,
            "metadata": {},
            "outputs": [],
            "source": [
                "av_daily_counts = cycle_counts.groupby(\"date\")[[\"count\"]].mean().reset_index()\n",
                "\n",
                "fig, ax = plt.subplots(2, 1, figsize=(12, 5), sharex=True)\n",
                "\n",
                "locations = cycle_counts[\"location\"].unique()\n",
                "for location in locations:\n",
                "    outlier_df = cycle_counts[cycle_counts[\"location\"] == location]\n",
                "    ax[0].plot(outlier_df[\"date\"], outlier_df[\"count\"], color=\"gray\", alpha=0.25)\n",
                "    ax[1].plot(outlier_df[\"date\"], np.log1p(outlier_df[\"count\"]), color=\"gray\", alpha=0.25)\n",
                "\n",
                "ax[0].plot(av_daily_counts[\"date\"], av_daily_counts[\"count\"], color=\"blue\", linewidth=2)\n",
                "ax[1].plot(av_daily_counts[\"date\"], np.log1p(av_daily_counts[\"count\"]), color=\"blue\", linewidth=2)\n",
                "\n",
                "ax[0].set(ylabel=\"Count\")\n",
                "ax[1].set(ylabel=\"Log(Count)\")"
            ]
        },
        {
            "cell_type": "code",
            "execution_count": null,
            "metadata": {},
            "outputs": [],
            "source": [
                "av_daily_counts_by_loc = cycle_counts.groupby(\"location\")[[\"count\"]].mean().reset_index()\n",
                "av_daily_counts_by_loc = av_daily_counts_by_loc.sort_values(\"count\").reset_index(drop=True)\n",
                "\n",
                "mean_counts = av_daily_counts_by_loc[\"count\"].mean()\n",
                "median_counts = av_daily_counts_by_loc[\"count\"].median()\n",
                "\n",
                "fig, ax = plt.subplots(1, 1)\n",
                "ax.hist(av_daily_counts_by_loc[\"count\"], bins=20)\n",
                "ax.axvline(mean_counts, color=\"red\", linestyle=\"--\", lw=2.5, label=\"Mean\")\n",
                "ax.axvline(median_counts, color=\"orange\", linestyle=\"--\", lw=2.5, label=\"Median\")\n",
                "ax.set(xlabel=\"Average Daily Count\", ylabel=\"Frequency\")\n",
                "ax.legend();"
            ]
        },
        {
            "cell_type": "markdown",
            "metadata": {},
            "source": [
                "### High demand locations"
            ]
        },
        {
            "cell_type": "code",
            "execution_count": null,
            "metadata": {},
            "outputs": [],
            "source": [
                "threshold = 100\n",
                "high_demand_locs = av_daily_counts_by_loc[av_daily_counts_by_loc[\"count\"] > threshold]\n",
                "high_demand_locs.sort_values(\"count\")"
            ]
        },
        {
            "cell_type": "code",
            "execution_count": null,
            "metadata": {},
            "outputs": [],
            "source": [
                "fig, ax = plt.subplots(1, 1, figsize=(10, 5))\n",
                "\n",
                "locations = high_demand_locs[\"location\"].values\n",
                "colors = cm.coolwarm(np.linspace(0, 1, len(locations)))\n",
                "for i, location in enumerate(locations):\n",
                "    outlier_df = cycle_counts[cycle_counts[\"location\"] == location].sort_values(\"date\").iloc[-150:]\n",
                "    ax.plot(\n",
                "        outlier_df[\"date\"],\n",
                "        outlier_df[\"count\"],\n",
                "        label=location,\n",
                "        color=colors[i],\n",
                "        lw=2.5,\n",
                "    )\n",
                "ax.set(ylabel=\"Count\")\n",
                "fig.tight_layout();"
            ]
        },
        {
            "cell_type": "code",
            "execution_count": null,
            "metadata": {},
            "outputs": [],
            "source": [
                "counts_pivot = cycle_counts.pivot_table(columns=\"date\", index=\"location\", values=\"count\", aggfunc=\"sum\")\n",
                "counts_pivot = counts_pivot.fillna(0).assign(average=lambda x: x.mean(axis=1))\n",
                "counts_pivot = counts_pivot[counts_pivot[\"average\"].between(0, 100)]\n",
                "counts_pivot = counts_pivot.sort_values(\"average\", ascending=False).drop(columns=\"average\")\n",
                "\n",
                "fig, ax = plt.subplots(1, 1)\n",
                "sns.heatmap(counts_pivot, cmap=\"coolwarm\", cbar_kws={\"label\": \"Count\"})\n",
                "\n",
                "xs = np.arange(0, counts_pivot.shape[1], 60)\n",
                "xticklables = [c.strftime(\"%Y-%m-%d\") for c in counts_pivot.columns[xs]]\n",
                "ax.set(xticks=xs, xticklabels=xticklables)\n",
                "\n",
                "ys = np.arange(0, counts_pivot.shape[0])\n",
                "yticklables = counts_pivot.index[ys]\n",
                "ax.set_yticks(ys + 0.5)\n",
                "ax.set_yticklabels(yticklables, fontsize=\"small\")\n",
                "\n",
                "ax.set(xlabel=\"\", ylabel=\"\");"
            ]
        },
        {
            "cell_type": "code",
            "execution_count": null,
            "metadata": {},
            "outputs": [],
            "source": []
        }
    ],
    "metadata": {
        "kernelspec": {
            "display_name": ".venv",
            "language": "python",
            "name": "python3"
        },
        "language_info": {
            "codemirror_mode": {
                "name": "ipython",
                "version": 3
            },
            "file_extension": ".py",
            "mimetype": "text/x-python",
            "name": "python",
            "nbconvert_exporter": "python",
            "pygments_lexer": "ipython3",
            "version": "3.12.9"
        }
    },
    "nbformat": 4,
    "nbformat_minor": 2
}
