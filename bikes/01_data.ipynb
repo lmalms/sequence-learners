{
    "cells": [
        {
            "cell_type": "code",
            "execution_count": null,
            "metadata": {},
            "outputs": [],
            "source": [
                "%load_ext autoreload\n",
                "%autoreload 2"
            ]
        },
        {
            "cell_type": "code",
            "execution_count": null,
            "metadata": {},
            "outputs": [],
            "source": [
                "from datetime import datetime\n",
                "\n",
                "import matplotlib.pyplot as plt\n",
                "from matplotlib import cm\n",
                "import numpy as np\n",
                "import pandas as pd\n",
                "import seaborn as sns\n",
                "\n",
                "from bikes.data import load_cycle_counts"
            ]
        },
        {
            "cell_type": "markdown",
            "metadata": {},
            "source": [
                "## Data Loading"
            ]
        },
        {
            "cell_type": "code",
            "execution_count": null,
            "metadata": {},
            "outputs": [],
            "source": [
                "cycle_counts = load_cycle_counts()\n",
                "cycle_counts.to_csv(\"cycle_counts.csv\", index=False)"
            ]
        },
        {
            "cell_type": "code",
            "execution_count": null,
            "metadata": {},
            "outputs": [],
            "source": [
                "cycle_counts = pd.read_csv(\"cycle_counts.csv\", parse_dates=[\"date\"])"
            ]
        },
        {
            "cell_type": "markdown",
            "metadata": {},
            "source": [
                "## EDA"
            ]
        },
        {
            "cell_type": "markdown",
            "metadata": {},
            "source": [
                "### Total counts by day"
            ]
        },
        {
            "cell_type": "code",
            "execution_count": null,
            "metadata": {},
            "outputs": [],
            "source": [
                "daily_total = cycle_counts.groupby(\"date\")[[\"count\"]].sum().reset_index()\n",
                "\n",
                "fig, ax = plt.subplots(1, 2, figsize=(10, 3.5))\n",
                "\n",
                "ax[0].plot(daily_total[\"date\"], daily_total[\"count\"])\n",
                "ax[0].set(ylabel=\"Count\")\n",
                "for tick in ax[0].get_xticklabels():\n",
                "    tick.set_rotation(45)\n",
                "\n",
                "ax[1].hist(daily_total[\"count\"], bins=20);\n",
                "ax[1].set(xlabel=\"Count\", ylabel=\"Frequency\")\n",
                "\n",
                "fig.tight_layout()"
            ]
        },
        {
            "cell_type": "markdown",
            "metadata": {},
            "source": [
                "### Daily counts by location"
            ]
        },
        {
            "cell_type": "code",
            "execution_count": null,
            "metadata": {},
            "outputs": [],
            "source": [
                "av_daily_counts = cycle_counts.groupby(\"date\")[[\"count\"]].mean().reset_index()\n",
                "\n",
                "fig, ax = plt.subplots(2, 1, figsize=(12, 5), sharex=True)\n",
                "\n",
                "locations = cycle_counts[\"location\"].unique()\n",
                "for location in locations:\n",
                "    outlier_df = cycle_counts[cycle_counts[\"location\"] == location]\n",
                "    ax[0].plot(outlier_df[\"date\"], outlier_df[\"count\"], color=\"gray\", alpha=0.25)\n",
                "    ax[1].plot(outlier_df[\"date\"], np.log1p(outlier_df[\"count\"]), color=\"gray\", alpha=0.25)\n",
                "\n",
                "ax[0].plot(av_daily_counts[\"date\"], av_daily_counts[\"count\"], color=\"blue\", linewidth=2)\n",
                "ax[1].plot(av_daily_counts[\"date\"], np.log1p(av_daily_counts[\"count\"]), color=\"blue\", linewidth=2)\n",
                "\n",
                "ax[0].set(ylabel=\"Count\")\n",
                "ax[1].set(ylabel=\"Log(Count)\")\n",
                "\n",
                "fig.align_labels()\n",
                "fig.tight_layout();"
            ]
        },
        {
            "cell_type": "code",
            "execution_count": null,
            "metadata": {},
            "outputs": [],
            "source": [
                "av_daily_counts_by_loc = cycle_counts.groupby(\"location\")[[\"count\"]].mean().reset_index()\n",
                "av_daily_counts_by_loc = av_daily_counts_by_loc.sort_values(\"count\").reset_index(drop=True)\n",
                "\n",
                "mean_counts = av_daily_counts_by_loc[\"count\"].mean()\n",
                "median_counts = av_daily_counts_by_loc[\"count\"].median()\n",
                "\n",
                "fig, ax = plt.subplots(1, 1)\n",
                "ax.hist(av_daily_counts_by_loc[\"count\"], bins=20)\n",
                "ax.axvline(mean_counts, color=\"red\", linestyle=\"--\", lw=2.5, label=\"Mean\")\n",
                "ax.axvline(median_counts, color=\"orange\", linestyle=\"--\", lw=2.5, label=\"Median\")\n",
                "ax.set(xlabel=\"Average Daily Count\", ylabel=\"Frequency\")\n",
                "ax.legend();"
            ]
        },
        {
            "cell_type": "markdown",
            "metadata": {},
            "source": [
                "### High demand locations"
            ]
        },
        {
            "cell_type": "code",
            "execution_count": null,
            "metadata": {},
            "outputs": [],
            "source": [
                "threshold = 250\n",
                "high_demand_locs = av_daily_counts_by_loc[av_daily_counts_by_loc[\"count\"] > threshold]\n",
                "high_demand_locs.sort_values(\"count\")"
            ]
        },
        {
            "cell_type": "code",
            "execution_count": null,
            "metadata": {},
            "outputs": [],
            "source": [
                "fig, ax = plt.subplots(1, 1, figsize=(10, 5))\n",
                "\n",
                "locations = high_demand_locs[\"location\"].values\n",
                "colors = cm.coolwarm(np.linspace(0, 1, len(locations)))\n",
                "for i, location in enumerate(locations):\n",
                "    outlier_df = cycle_counts[cycle_counts[\"location\"] == location].sort_values(\"date\").iloc[-500:]\n",
                "    ax.plot(\n",
                "        outlier_df[\"date\"],\n",
                "        outlier_df[\"count\"],\n",
                "        label=location,\n",
                "        color=colors[i],\n",
                "        lw=2.5,\n",
                "    )\n",
                "ax.set(ylabel=\"Count\")\n",
                "fig.tight_layout();"
            ]
        },
        {
            "cell_type": "code",
            "execution_count": null,
            "metadata": {},
            "outputs": [],
            "source": [
                "counts_pivot = cycle_counts.pivot_table(columns=\"date\", index=\"location\", values=\"count\", aggfunc=\"sum\")\n",
                "counts_pivot = counts_pivot.fillna(0).assign(average=lambda x: x.mean(axis=1))\n",
                "counts_pivot = counts_pivot[counts_pivot[\"average\"].between(0, 100)]\n",
                "counts_pivot = counts_pivot.sort_values(\"average\", ascending=False).drop(columns=\"average\")\n",
                "\n",
                "fig, ax = plt.subplots(1, 1)\n",
                "sns.heatmap(counts_pivot, cmap=\"coolwarm\", cbar_kws={\"label\": \"Count\"})\n",
                "\n",
                "xs = np.arange(0, counts_pivot.shape[1], 60)\n",
                "xticklables = [c.strftime(\"%Y-%m-%d\") for c in counts_pivot.columns[xs]]\n",
                "ax.set(xticks=xs, xticklabels=xticklables)\n",
                "\n",
                "ys = np.arange(0, counts_pivot.shape[0])\n",
                "yticklables = counts_pivot.index[ys]\n",
                "ax.set_yticks(ys + 0.5)\n",
                "ax.set_yticklabels(yticklables, fontsize=\"small\")\n",
                "\n",
                "ax.set(xlabel=\"\", ylabel=\"\");"
            ]
        }
    ],
    "metadata": {
        "kernelspec": {
            "display_name": "bikes",
            "language": "python",
            "name": "python3"
        },
        "language_info": {
            "codemirror_mode": {
                "name": "ipython",
                "version": 3
            },
            "file_extension": ".py",
            "mimetype": "text/x-python",
            "name": "python",
            "nbconvert_exporter": "python",
            "pygments_lexer": "ipython3",
            "version": "3.12.9"
        }
    },
    "nbformat": 4,
    "nbformat_minor": 2
}
