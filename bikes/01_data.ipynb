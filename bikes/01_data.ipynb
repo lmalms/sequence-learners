{
    "cells": [
        {
            "cell_type": "code",
            "execution_count": null,
            "metadata": {},
            "outputs": [],
            "source": [
                "import pandas as pd\n",
                "import numpy as np\n",
                "import matplotlib.pyplot as plt\n",
                "from matplotlib import cm\n",
                "import seaborn as sns\n",
                "from scipy.stats import norm\n",
                "\n",
                "from tqdm import tqdm"
            ]
        },
        {
            "cell_type": "markdown",
            "metadata": {},
            "source": [
                "# Data Loading"
            ]
        },
        {
            "cell_type": "code",
            "execution_count": null,
            "metadata": {},
            "outputs": [],
            "source": [
                "BIKE_COUNT_URLS_AND_LOAD_KWARGS = [\n",
                "    (\"https://at.govt.nz/media/1991027/auckland-trasnport-cycle-counts-jan-dec-2022.xlsx\", {}),\n",
                "    (\"https://at.govt.nz/media/1991376/auckland-transport-january-2023-cycle-counts.xlsx\", {}),\n",
                "    (\"https://at.govt.nz/media/1991377/auckland-transport-february-2023-cycle-counts.xlsx\", {}),\n",
                "    (\"https://at.govt.nz/media/1991436/auckland-transport-march-2023-cycle-counts.xlsx\", {\"na_values\": \"Pending\"}),\n",
                "    (\"https://at.govt.nz/media/1992545/april-2023-cycle-counts.xlsx\", {}),\n",
                "    (\"https://at.govt.nz/media/1992547/may-2023-cycle-counts.xlsx\", {}),\n",
                "    (\"https://at.govt.nz/media/1992546/june-2023-cycle-counts.xlsx\", {}),\n",
                "    (\"https://at.govt.nz/media/xs5lybun/at-daily-cycle-data-july-2023.xlsx\", {\"header\": 2}),\n",
                "    (\"https://at.govt.nz/media/t3zlbdn4/at-daily-cycle-data-august-2023.xlsx\", {\"header\": 2}),\n",
                "    (\"https://at.govt.nz/media/53rj40ji/at-daily-cycle-data-september-2023.xlsx\", {\"header\": 2}),\n",
                "    (\"https://at.govt.nz/media/hl0jbsrl/at-daily-cycle-data-october-2023.xlsx\", {\"header\": 2}),\n",
                "    (\"https://at.govt.nz/media/ty4js45t/at-daily-cycle-counts-november-2023.xlsx\", {\"header\": 2}),\n",
                "    (\"https://at.govt.nz/media/1tvdgsgo/at-daily-cycle-counts-december-2023.xlsx\", {\"header\": 2}),\n",
                "    (\"https://at.govt.nz/media/bb4h3wd3/at-daily-cycle-counts-january-2024.xlsx\", {\"header\": 2}),\n",
                "    (\"https://at.govt.nz/media/xlcaru0v/at-daily-cycle-counts-feb-2024.xlsx\", {\"header\": 2}),\n",
                "    (\"https://at.govt.nz/media/4g3hzpp5/at-daily-cycle-counts-march-2024.xlsx\", {\"header\": 2}),\n",
                "    (\"https://at.govt.nz/media/htvezqdn/at-daily-cycle-counts-april-2024.xlsx\", {\"header\": 2}),\n",
                "    (\"https://at.govt.nz/media/ue5cygl0/at-daily-cycle-counts-may-2024.xlsx\", {\"header\": 2}),\n",
                "    (\"https://at.govt.nz/media/3icd2jug/at-daily-cycle-counts-june-2024.xlsx\", {\"header\": 2}),\n",
                "    (\"https://at.govt.nz/media/jbdd1rox/cycle-counts-july-2024.xlsx\", {\"header\": 2, \"na_values\": \"z\"}),\n",
                "    (\"https://at.govt.nz/media/bvadzmqg/cycle-counts-august-2024.xlsx\", {\"usecols\": \"G:CG\"}),\n",
                "    (\"https://at.govt.nz/media/lpsfdwbe/auckland-transport-cycle-counts-september-2024.xlsx\", {\"usecols\": \"G:CG\"}),\n",
                "    (\"https://at.govt.nz/media/ohbhvmrl/auckland-transport-cycle-movements-october-2024.xlsx\", {\"header\": 2}),\n",
                "    (\"https://at.govt.nz/media/chelni1f/auckland-transport-cycle-movements-data-november-2024.xlsx\", {\"header\": 2}),\n",
                "    (\"https://at.govt.nz/media/zdumuud2/auckland-transport-cycle-movements-december-2024.xlsx\", {\"header\": 2}),\n",
                "]"
            ]
        },
        {
            "cell_type": "code",
            "execution_count": null,
            "metadata": {},
            "outputs": [],
            "source": [
                "LOCATION_MAPPING = {\n",
                "    \"GI TO TAMAKI DR SECTION-1\": \"GI to Tamaki Drive Section-1\",\n",
                "    \"Great North Road NB Towards CBD\": \"Great North Road\",\n",
                "    \"Great South Road Manukau\": \"Great South Road\",\n",
                "    \"Highbrook Pathway\": \"Highbrook Drive\",\n",
                "    \"Lake Road Total New\": \"Lake Road\",\n",
                "    \"Leigh Road Shared Path\": \"Leigh Road\",\n",
                "    \"Mangere Foot Bridge\": \"Mangere Bridge\",\n",
                "    \"Ocean View Road\": \"Oceanview Road\",\n",
                "    \"Rathgar Road\": \"Rathger Road\",\n",
                "    \"Remuera Road\": \"Remurua Road\",\n",
                "    \"SH18 Upper Harbour Drive\": \"Upper Harbour\",\n",
                "    \"SH20A Shared Path\": \"SH20A\",\n",
                "    \"SW Shared Path\": \"SW SH20\",\n",
                "    \"Symonds Street Total\": \"Symonds Street\",\n",
                "    \"Tamaki Drive - Parnell\": \"Tamaki Drive\",\n",
                "    \"TeAtatu Peninsula Shared Path\": \"TeAtatu Peninsula\",\n",
                "    \"TeWero Bridge Bike Counter\": \"TeWero Bridge\",\n",
                "    \"Ti Rakau - Opposite Bunnings\": \"Ti Rakau\",\n",
                "    \"Ti Rakau opposite 92\": \"Ti Rakau\",\n",
                "    \"Twin Streams Shared Path\": \"Twin Streams\",\n",
                "    \"Upper Harbour Shared Path\": \"Upper Harbour\",\n",
                "    \"Waterview Unitec Shared Path\": \"Waterview Unitec\",\n",
                "}\n",
                "\n",
                "LOCATIONS_TO_DROP = [\n",
                "    \"Ngapipi Road SUP\",\n",
                "    \"Meadowbank SUP\",\n",
                "    \"Rankin Ave Shared Path\",\n",
                "    \"Ti Rakau\",\n",
                "    \"Ti Rakau Reserve\",\n",
                "    \"Ti Rakau Riverhills\",\n",
                "    \"TeWero Bridge\",\n",
                "]"
            ]
        },
        {
            "cell_type": "code",
            "execution_count": null,
            "metadata": {},
            "outputs": [],
            "source": [
                "def load_cycle_counts(url: str, **read_excel_kwargs) -> pd.DataFrame:\n",
                "    df = pd.read_excel(url, **read_excel_kwargs)\n",
                "    df = df.rename(columns={\"Date\": \"date\", \"Date.1\": \"date\", \"Time\": \"date\"})\n",
                "    df = df.melt(id_vars=\"date\", var_name=\"location\", value_name=\"count\")\n",
                "    df = df.astype({\"date\": \"datetime64[ns]\", \"location\": str, \"count\": float})\n",
                "    return df\n",
                "\n",
                "\n",
                "def map_locations(location: str) -> str:\n",
                "    return LOCATION_MAPPING.get(location, location)\n",
                "\n",
                "\n",
                "def standardise_locations(df: pd.DataFrame) -> pd.DataFrame:\n",
                "    df[\"location\"] = df[\"location\"].str.replace(r\" Cyclists?\", \"\", regex=True)\n",
                "    df[\"location\"] = df[\"location\"].str.replace(r\"\\bDr\\b\", \"Drive\", regex=True)\n",
                "    df[\"location\"] = df[\"location\"].str.replace(r\"\\bRd\\b\", \"Road\", regex=True)\n",
                "    df[\"location\"] = df[\"location\"].str.replace(r\"\\bSt\\b\", \"Street\", regex=True)\n",
                "    df[\"location\"] = df[\"location\"].apply(map_locations)\n",
                "    return df\n",
                "\n",
                "\n",
                "def drop_locations(df: pd.DataFrame) -> pd.DataFrame:\n",
                "    to_drop = df[\"location\"].isin(LOCATIONS_TO_DROP)\n",
                "    return df.loc[~to_drop].copy()"
            ]
        },
        {
            "cell_type": "code",
            "execution_count": null,
            "metadata": {},
            "outputs": [],
            "source": [
                "dfs = []\n",
                "for url, load_kwargs in tqdm(BIKE_COUNT_URLS_AND_LOAD_KWARGS):\n",
                "    try:\n",
                "        df = load_cycle_counts(url, **load_kwargs)\n",
                "    except Exception as e:\n",
                "        print(\"Could not load data for url: \", url)\n",
                "        print(\"Reason: \", e)\n",
                "        continue\n",
                "    dfs.append(df)\n",
                "\n",
                "cycle_counts = pd.concat(dfs, axis=0, ignore_index=True)\n",
                "cycle_counts = standardise_locations(cycle_counts)\n",
                "cycle_counts = drop_locations(cycle_counts)"
            ]
        },
        {
            "cell_type": "code",
            "execution_count": null,
            "metadata": {},
            "outputs": [],
            "source": [
                "i = 0\n",
                "locs = sorted(cycle_counts[\"location\"].unique())[i * 10:  (i + 1) * 10]\n",
                "print(locs)\n",
                "\n",
                "fig, ax = plt.subplots(len(locs), 1, figsize=(10, len(locs) * 1.75), sharex=True)\n",
                "for i, loc in enumerate(locs):\n",
                "    outlier_df = cycle_counts[cycle_counts[\"location\"] == loc].sort_values(\"date\")\n",
                "    ax[i].plot(\n",
                "        outlier_df[\"date\"].values,\n",
                "        outlier_df[\"count\"].values,\n",
                "        label=loc\n",
                "    )\n",
                "    ax[i].legend()\n",
                "    # ax[i].set_ylim(0, 500)\n",
                "\n",
                "fig.tight_layout();"
            ]
        },
        {
            "cell_type": "code",
            "execution_count": null,
            "metadata": {},
            "outputs": [],
            "source": [
                "# Outlier\n",
                "outlier_locs = [\n",
                "    \"Albany Highway\",\n",
                "    \"Archibald Park\",\n",
                "    \"GI to Tamaki Drive Section-1\",\n",
                "    \"Lake Road\",\n",
                "    \"Mangere Safe Routes\",\n",
                "    \"NW Cycleway TeAtatu\",\n",
                "    \"Sandringham Road\",\n",
                "    \"SH20A\",\n",
                "    \"SW SH20\",\n",
                "]"
            ]
        },
        {
            "cell_type": "code",
            "execution_count": null,
            "metadata": {},
            "outputs": [],
            "source": [
                "def get_outlier_df(location_df: pd.DataFrame, n_sigma: float = 3.0) -> pd.DataFrame:\n",
                "    outlier_df = location_df.copy()\n",
                "\n",
                "    # Compute mean and std by weekday\n",
                "    outlier_df = outlier_df.assign(weekday=outlier_df[\"date\"].dt.weekday)\n",
                "    weekday_stats = (\n",
                "        outlier_df\n",
                "        .groupby(\"weekday\")[[\"count\"]]\n",
                "        .agg([\"mean\", \"std\"])\n",
                "        .droplevel(level=0, axis=1)\n",
                "        .reset_index()\n",
                "    )\n",
                "    outlier_df = outlier_df.merge(weekday_stats, how=\"left\", on=\"weekday\")\n",
                "    \n",
                "    # Define upper and lower bounds\n",
                "    outlier_df = outlier_df.assign(\n",
                "        upper=outlier_df[\"mean\"] + n_sigma * outlier_df[\"std\"],\n",
                "        lower=outlier_df[\"mean\"] - n_sigma * outlier_df[\"std\"],\n",
                "    )\n",
                "    is_outlier = (outlier_df[\"count\"] > outlier_df[\"upper\"]) | (outlier_df[\"count\"] < outlier_df[\"lower\"])\n",
                "    outlier_df = outlier_df.assign(is_outlier=is_outlier)\n",
                "    \n",
                "    return outlier_df"
            ]
        },
        {
            "cell_type": "code",
            "execution_count": null,
            "metadata": {},
            "outputs": [],
            "source": [
                "loc = outlier_locs[9]\n",
                "location_df = cycle_counts[cycle_counts[\"location\"] == loc]\n",
                "\n",
                "n_sigma = 3.0\n",
                "n_expected = len(location_df) * 2 * norm().cdf(-n_sigma)\n",
                "\n",
                "outlier_df = get_outlier_df(location_df, n_sigma=n_sigma)\n",
                "outlier_df = outlier_df.sort_values(\"date\")\n",
                "fig, ax = plt.subplots(figsize=(10, 3.5))\n",
                "ax.plot(outlier_df[\"date\"].values, outlier_df[\"count\"].values)\n",
                "ax.plot(outlier_df[\"date\"].values, outlier_df[\"upper\"].values, ls=\"--\")\n",
                "ax.plot(outlier_df[\"date\"].values, outlier_df[\"lower\"].values, ls=\"--\")\n",
                "ax.set(title=loc)"
            ]
        },
        {
            "cell_type": "code",
            "execution_count": null,
            "metadata": {},
            "outputs": [],
            "source": [
                "# Adjust level\n",
                "locs = [\n",
                "    \"Great South Road\",\n",
                "    \"Karangahape Road\",\n",
                "]"
            ]
        },
        {
            "cell_type": "code",
            "execution_count": null,
            "metadata": {},
            "outputs": [],
            "source": [
                "cycle_counts.to_csv(\"cycle_counts.csv\", index=False)"
            ]
        },
        {
            "cell_type": "code",
            "execution_count": null,
            "metadata": {},
            "outputs": [],
            "source": [
                "cycle_counts = pd.read_csv(\"cycle_counts.csv\", parse_dates=[\"time\"])"
            ]
        },
        {
            "cell_type": "markdown",
            "metadata": {},
            "source": [
                "## EDA"
            ]
        },
        {
            "cell_type": "markdown",
            "metadata": {},
            "source": [
                "### Total counts by day"
            ]
        },
        {
            "cell_type": "code",
            "execution_count": null,
            "metadata": {},
            "outputs": [],
            "source": [
                "daily_total = cycle_counts.groupby(\"date\")[[\"count\"]].sum().reset_index()\n",
                "\n",
                "fig, ax = plt.subplots(1, 2, figsize=(10, 3.5))\n",
                "\n",
                "ax[0].plot(daily_total[\"date\"], daily_total[\"count\"])\n",
                "ax[0].set(ylabel=\"Count\")\n",
                "for tick in ax[0].get_xticklabels():\n",
                "    tick.set_rotation(45)\n",
                "\n",
                "ax[1].hist(daily_total[\"count\"], bins=20);\n",
                "ax[1].set(xlabel=\"Count\", ylabel=\"Frequency\")\n",
                "\n",
                "fig.tight_layout()"
            ]
        },
        {
            "cell_type": "markdown",
            "metadata": {},
            "source": [
                "### Daily counts by location"
            ]
        },
        {
            "cell_type": "code",
            "execution_count": null,
            "metadata": {},
            "outputs": [],
            "source": [
                "av_daily_counts = cycle_counts.groupby(\"date\")[[\"count\"]].mean().reset_index()\n",
                "\n",
                "fig, ax = plt.subplots(2, 1, figsize=(12, 5), sharex=True)\n",
                "\n",
                "locations = cycle_counts[\"location\"].unique()\n",
                "for location in locations:\n",
                "    outlier_df = cycle_counts[cycle_counts[\"location\"] == location]\n",
                "    ax[0].plot(outlier_df[\"date\"], outlier_df[\"count\"], color=\"gray\", alpha=0.5)\n",
                "    ax[1].plot(outlier_df[\"date\"], np.log1p(outlier_df[\"count\"]), color=\"gray\", alpha=0.5)\n",
                "\n",
                "ax[0].plot(av_daily_counts[\"date\"], av_daily_counts[\"count\"], color=\"blue\", linewidth=2)\n",
                "ax[1].plot(av_daily_counts[\"date\"], np.log1p(av_daily_counts[\"count\"]), color=\"blue\", linewidth=2)\n",
                "\n",
                "ax[0].set(ylabel=\"Count\")\n",
                "ax[1].set(ylabel=\"Log(Count)\")"
            ]
        },
        {
            "cell_type": "code",
            "execution_count": null,
            "metadata": {},
            "outputs": [],
            "source": [
                "av_daily_counts_by_loc = cycle_counts.groupby(\"location\")[[\"count\"]].mean().reset_index()\n",
                "av_daily_counts_by_loc = av_daily_counts_by_loc.sort_values(\"count\").reset_index(drop=True)\n",
                "\n",
                "mean_counts = av_daily_counts_by_loc[\"count\"].mean()\n",
                "median_counts = av_daily_counts_by_loc[\"count\"].median()\n",
                "\n",
                "fig, ax = plt.subplots(1, 1)\n",
                "ax.hist(av_daily_counts_by_loc[\"count\"], bins=20)\n",
                "ax.axvline(mean_counts, color=\"red\", linestyle=\"--\", lw=2.5, label=\"Mean\")\n",
                "ax.axvline(median_counts, color=\"orange\", linestyle=\"--\", lw=2.5, label=\"Median\")\n",
                "ax.set(xlabel=\"Average Daily Count\", ylabel=\"Frequency\")\n",
                "ax.legend();"
            ]
        },
        {
            "cell_type": "markdown",
            "metadata": {},
            "source": [
                "### High demand locations"
            ]
        },
        {
            "cell_type": "code",
            "execution_count": null,
            "metadata": {},
            "outputs": [],
            "source": [
                "threshold = 600\n",
                "high_demand_locs = av_daily_counts_by_loc[av_daily_counts_by_loc[\"count\"] > threshold]\n",
                "high_demand_locs.sort_values(\"count\")"
            ]
        },
        {
            "cell_type": "code",
            "execution_count": null,
            "metadata": {},
            "outputs": [],
            "source": [
                "fig, ax = plt.subplots(1, 1, figsize=(10, 5))\n",
                "\n",
                "locations = high_demand_locs[\"location\"].values\n",
                "colors = cm.coolwarm(np.linspace(0, 1, len(locations)))\n",
                "for i, location in enumerate(locations):\n",
                "    outlier_df = cycle_counts[cycle_counts[\"location\"] == location]\n",
                "    ax.plot(\n",
                "        outlier_df[\"date\"],\n",
                "        outlier_df[\"count\"],\n",
                "        label=location,\n",
                "        color=colors[i],\n",
                "        lw=2.5,\n",
                "    )\n",
                "ax.set(ylabel=\"Count\")\n",
                "fig.tight_layout();"
            ]
        },
        {
            "cell_type": "code",
            "execution_count": null,
            "metadata": {},
            "outputs": [],
            "source": [
                "counts_pivot = cycle_counts.pivot_table(columns=\"date\", index=\"location\", values=\"count\", aggfunc=\"sum\")\n",
                "counts_pivot = counts_pivot.fillna(0).assign(average=lambda x: x.mean(axis=1))\n",
                "counts_pivot = counts_pivot[counts_pivot[\"average\"].between(100, 200)]\n",
                "counts_pivot = counts_pivot.sort_values(\"average\", ascending=False).drop(columns=\"average\")\n",
                "\n",
                "fig, ax = plt.subplots(1, 1)\n",
                "sns.heatmap(counts_pivot, cmap=\"coolwarm\", cbar_kws={\"label\": \"Count\"})\n",
                "\n",
                "xs = np.arange(0, counts_pivot.shape[1], 60)\n",
                "xticklables = [c.strftime(\"%Y-%m-%d\") for c in counts_pivot.columns[xs]]\n",
                "ax.set(xticks=xs, xticklabels=xticklables)\n",
                "\n",
                "ys = np.arange(0, counts_pivot.shape[0])\n",
                "yticklables = counts_pivot.index[ys]\n",
                "ax.set_yticks(ys + 0.5)\n",
                "ax.set_yticklabels(yticklables, fontsize=\"small\")\n",
                "\n",
                "ax.set(xlabel=\"\", ylabel=\"\");"
            ]
        }
    ],
    "metadata": {
        "kernelspec": {
            "display_name": ".venv",
            "language": "python",
            "name": "python3"
        },
        "language_info": {
            "codemirror_mode": {
                "name": "ipython",
                "version": 3
            },
            "file_extension": ".py",
            "mimetype": "text/x-python",
            "name": "python",
            "nbconvert_exporter": "python",
            "pygments_lexer": "ipython3",
            "version": "3.12.9"
        }
    },
    "nbformat": 4,
    "nbformat_minor": 2
}
