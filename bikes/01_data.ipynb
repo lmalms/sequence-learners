{
    "cells": [
        {
            "cell_type": "code",
            "execution_count": null,
            "metadata": {},
            "outputs": [],
            "source": [
                "from datetime import datetime\n",
                "\n",
                "import matplotlib.pyplot as plt\n",
                "from matplotlib import cm\n",
                "import numpy as np\n",
                "import pandas as pd\n",
                "import ruptures as rpt\n",
                "import seaborn as sns\n",
                "\n",
                "from tqdm import tqdm"
            ]
        },
        {
            "cell_type": "markdown",
            "metadata": {},
            "source": [
                "### Data Loading"
            ]
        },
        {
            "cell_type": "code",
            "execution_count": null,
            "metadata": {},
            "outputs": [],
            "source": [
                "BIKE_COUNT_URLS_AND_LOAD_KWARGS = [\n",
                "    (\"https://at.govt.nz/media/1991027/auckland-trasnport-cycle-counts-jan-dec-2022.xlsx\", {}),\n",
                "    (\"https://at.govt.nz/media/1991376/auckland-transport-january-2023-cycle-counts.xlsx\", {}),\n",
                "    (\"https://at.govt.nz/media/1991377/auckland-transport-february-2023-cycle-counts.xlsx\", {}),\n",
                "    (\"https://at.govt.nz/media/1991436/auckland-transport-march-2023-cycle-counts.xlsx\", {\"na_values\": \"Pending\"}),\n",
                "    (\"https://at.govt.nz/media/1992545/april-2023-cycle-counts.xlsx\", {}),\n",
                "    (\"https://at.govt.nz/media/1992547/may-2023-cycle-counts.xlsx\", {}),\n",
                "    (\"https://at.govt.nz/media/1992546/june-2023-cycle-counts.xlsx\", {}),\n",
                "    (\"https://at.govt.nz/media/xs5lybun/at-daily-cycle-data-july-2023.xlsx\", {\"header\": 2}),\n",
                "    (\"https://at.govt.nz/media/t3zlbdn4/at-daily-cycle-data-august-2023.xlsx\", {\"header\": 2}),\n",
                "    (\"https://at.govt.nz/media/53rj40ji/at-daily-cycle-data-september-2023.xlsx\", {\"header\": 2}),\n",
                "    (\"https://at.govt.nz/media/hl0jbsrl/at-daily-cycle-data-october-2023.xlsx\", {\"header\": 2}),\n",
                "    (\"https://at.govt.nz/media/ty4js45t/at-daily-cycle-counts-november-2023.xlsx\", {\"header\": 2}),\n",
                "    (\"https://at.govt.nz/media/1tvdgsgo/at-daily-cycle-counts-december-2023.xlsx\", {\"header\": 2}),\n",
                "    (\"https://at.govt.nz/media/bb4h3wd3/at-daily-cycle-counts-january-2024.xlsx\", {\"header\": 2}),\n",
                "    (\"https://at.govt.nz/media/xlcaru0v/at-daily-cycle-counts-feb-2024.xlsx\", {\"header\": 2}),\n",
                "    (\"https://at.govt.nz/media/4g3hzpp5/at-daily-cycle-counts-march-2024.xlsx\", {\"header\": 2}),\n",
                "    (\"https://at.govt.nz/media/htvezqdn/at-daily-cycle-counts-april-2024.xlsx\", {\"header\": 2}),\n",
                "    (\"https://at.govt.nz/media/ue5cygl0/at-daily-cycle-counts-may-2024.xlsx\", {\"header\": 2}),\n",
                "    (\"https://at.govt.nz/media/3icd2jug/at-daily-cycle-counts-june-2024.xlsx\", {\"header\": 2}),\n",
                "    (\"https://at.govt.nz/media/jbdd1rox/cycle-counts-july-2024.xlsx\", {\"header\": 2, \"na_values\": \"z\"}),\n",
                "    (\"https://at.govt.nz/media/bvadzmqg/cycle-counts-august-2024.xlsx\", {\"usecols\": \"G:CG\"}),\n",
                "    (\"https://at.govt.nz/media/lpsfdwbe/auckland-transport-cycle-counts-september-2024.xlsx\", {\"usecols\": \"G:CG\"}),\n",
                "    (\"https://at.govt.nz/media/ohbhvmrl/auckland-transport-cycle-movements-october-2024.xlsx\", {\"header\": 2}),\n",
                "    (\"https://at.govt.nz/media/chelni1f/auckland-transport-cycle-movements-data-november-2024.xlsx\", {\"header\": 2}),\n",
                "    (\"https://at.govt.nz/media/zdumuud2/auckland-transport-cycle-movements-december-2024.xlsx\", {\"header\": 2}),\n",
                "]"
            ]
        },
        {
            "cell_type": "code",
            "execution_count": null,
            "metadata": {},
            "outputs": [],
            "source": [
                "LOCATION_MAPPING = {\n",
                "    \"GI TO TAMAKI DR SECTION-1\": \"GI to Tamaki Drive Section-1\",\n",
                "    \"Great North Road NB Towards CBD\": \"Great North Road\",\n",
                "    \"Great South Road Manukau\": \"Great South Road\",\n",
                "    \"Highbrook Pathway\": \"Highbrook Drive\",\n",
                "    \"Lake Road Total New\": \"Lake Road\",\n",
                "    \"Leigh Road Shared Path\": \"Leigh Road\",\n",
                "    \"Mangere Foot Bridge\": \"Mangere Bridge\",\n",
                "    \"Ocean View Road\": \"Oceanview Road\",\n",
                "    \"Rathgar Road\": \"Rathger Road\",\n",
                "    \"Remuera Road\": \"Remurua Road\",\n",
                "    \"SH18 Upper Harbour Drive\": \"Upper Harbour\",\n",
                "    \"SH20A Shared Path\": \"SH20A\",\n",
                "    \"SW Shared Path\": \"SW SH20\",\n",
                "    \"Symonds Street Total\": \"Symonds Street\",\n",
                "    \"Tamaki Drive - Parnell\": \"Tamaki Drive\",\n",
                "    \"TeAtatu Peninsula Shared Path\": \"TeAtatu Peninsula\",\n",
                "    \"TeWero Bridge Bike Counter\": \"TeWero Bridge\",\n",
                "    \"Ti Rakau - Opposite Bunnings\": \"Ti Rakau\",\n",
                "    \"Ti Rakau opposite 92\": \"Ti Rakau\",\n",
                "    \"Twin Streams Shared Path\": \"Twin Streams\",\n",
                "    \"Upper Harbour Shared Path\": \"Upper Harbour\",\n",
                "    \"Waterview Unitec Shared Path\": \"Waterview Unitec\",\n",
                "}\n",
                "\n",
                "LOCATIONS_TO_DROP = [\n",
                "    \"Ngapipi Road SUP\",\n",
                "    \"Meadowbank SUP\",\n",
                "    \"Rankin Ave Shared Path\",\n",
                "    \"Ti Rakau\",\n",
                "    \"Ti Rakau Reserve\",\n",
                "    \"Ti Rakau Riverhills\",\n",
                "    \"TeWero Bridge\",\n",
                "]"
            ]
        },
        {
            "cell_type": "code",
            "execution_count": null,
            "metadata": {},
            "outputs": [],
            "source": [
                "def load_cycle_counts(url: str, **read_excel_kwargs) -> pd.DataFrame:\n",
                "    df = pd.read_excel(url, **read_excel_kwargs)\n",
                "    df = df.rename(columns={\"Date\": \"date\", \"Date.1\": \"date\", \"Time\": \"date\"})\n",
                "    df = df.melt(id_vars=\"date\", var_name=\"location\", value_name=\"count\")\n",
                "    df = df.astype({\"date\": \"datetime64[ns]\", \"location\": str, \"count\": float})\n",
                "    return df\n",
                "\n",
                "\n",
                "def drop_locations(df: pd.DataFrame) -> pd.DataFrame:\n",
                "    to_drop = df[\"location\"].isin(LOCATIONS_TO_DROP)\n",
                "    return df.loc[~to_drop]\n",
                "\n",
                "\n",
                "def map_locations(location: str) -> str:\n",
                "    return LOCATION_MAPPING.get(location, location)\n",
                "\n",
                "\n",
                "def standardise_locations(df: pd.DataFrame) -> pd.DataFrame:\n",
                "    df[\"location\"] = df[\"location\"].str.replace(r\" Cyclists?\", \"\", regex=True)\n",
                "    df[\"location\"] = df[\"location\"].str.replace(r\"\\bDr\\b\", \"Drive\", regex=True)\n",
                "    df[\"location\"] = df[\"location\"].str.replace(r\"\\bRd\\b\", \"Road\", regex=True)\n",
                "    df[\"location\"] = df[\"location\"].str.replace(r\"\\bSt\\b\", \"Street\", regex=True)\n",
                "    df[\"location\"] = df[\"location\"].apply(map_locations)\n",
                "    return df"
            ]
        },
        {
            "cell_type": "code",
            "execution_count": null,
            "metadata": {},
            "outputs": [],
            "source": [
                "dfs = []\n",
                "for url, load_kwargs in tqdm(BIKE_COUNT_URLS_AND_LOAD_KWARGS):\n",
                "    try:\n",
                "        df = load_cycle_counts(url, **load_kwargs)\n",
                "    except Exception as e:\n",
                "        print(\"Could not load data for url: \", url)\n",
                "        print(\"Reason: \", e)\n",
                "        continue\n",
                "    dfs.append(df)\n",
                "\n",
                "cycle_counts = pd.concat(dfs, axis=0, ignore_index=True)\n",
                "cycle_counts = standardise_locations(cycle_counts)\n",
                "cycle_counts = drop_locations(cycle_counts)\n",
                "cycle_counts = cycle_counts.drop_duplicates()"
            ]
        },
        {
            "cell_type": "code",
            "execution_count": null,
            "metadata": {},
            "outputs": [],
            "source": [
                "(\n",
                "    cycle_counts\n",
                "    .assign(is_na=cycle_counts[\"count\"].isna())\n",
                "    .groupby(\"location\")\n",
                "    [[\"is_na\"]]\n",
                "    .sum()\n",
                "    .sort_values(\"is_na\", ascending=False)\n",
                "    .iloc[:10]\n",
                ")"
            ]
        },
        {
            "cell_type": "code",
            "execution_count": null,
            "metadata": {},
            "outputs": [],
            "source": [
                "cycle_counts.to_csv(\"raw_cycle_counts.csv\", index=False)"
            ]
        },
        {
            "cell_type": "code",
            "execution_count": null,
            "metadata": {},
            "outputs": [],
            "source": [
                "cycle_counts = pd.read_csv(\"raw_cycle_counts.csv\", parse_dates=[\"date\"])"
            ]
        },
        {
            "cell_type": "markdown",
            "metadata": {},
            "source": [
                "### Outlier detection and removal"
            ]
        },
        {
            "cell_type": "code",
            "execution_count": null,
            "metadata": {},
            "outputs": [],
            "source": [
                "# Outlier\n",
                "outlier_locs = [\n",
                "    \"Albany Highway\",\n",
                "    \"Archibald Park\",\n",
                "    \"GI to Tamaki Drive Section-1\",\n",
                "    \"Lake Road\",\n",
                "    \"Mangere Safe Routes\",\n",
                "    \"NW Cycleway TeAtatu\",\n",
                "    \"Sandringham Road\",\n",
                "    \"SH20A\",\n",
                "    \"SW SH20\",\n",
                "]"
            ]
        },
        {
            "cell_type": "code",
            "execution_count": null,
            "metadata": {},
            "outputs": [],
            "source": [
                "def get_outlier_df(location_df: pd.DataFrame, n_sigma: float = 3.0) -> pd.DataFrame:\n",
                "    outlier_df = location_df.copy()\n",
                "\n",
                "    # Compute mean and std by weekday\n",
                "    outlier_df = outlier_df.assign(weekday=outlier_df[\"date\"].dt.weekday)\n",
                "    weekday_stats = (\n",
                "        outlier_df\n",
                "        .groupby(\"weekday\")[[\"count\"]]\n",
                "        .agg([\"mean\", \"std\"])\n",
                "        .droplevel(level=0, axis=1)\n",
                "        .reset_index()\n",
                "    )\n",
                "    outlier_df = outlier_df.merge(weekday_stats, how=\"left\", on=\"weekday\")\n",
                "    \n",
                "    # Define upper and lower bounds\n",
                "    outlier_df = outlier_df.assign(\n",
                "        upper=outlier_df[\"mean\"] + n_sigma * outlier_df[\"std\"],\n",
                "        lower=outlier_df[\"mean\"] - n_sigma * outlier_df[\"std\"],\n",
                "    )\n",
                "    is_outlier = (outlier_df[\"count\"] > outlier_df[\"upper\"]) | (outlier_df[\"count\"] < outlier_df[\"lower\"])\n",
                "    outlier_df = outlier_df.assign(is_outlier=is_outlier)\n",
                "    \n",
                "    return outlier_df\n",
                "\n",
                "\n",
                "def drop_outliers(\n",
                "    cycle_counts: pd.DataFrame,\n",
                "    outlier_dates_and_locs: list[tuple[datetime, str]],\n",
                "):\n",
                "    # Construct filter\n",
                "    to_drop = pd.Series(np.full((len(cycle_counts), ), False), index=cycle_counts.index)\n",
                "    for date, loc in outlier_dates_and_locs:\n",
                "        to_drop |= ((cycle_counts[\"date\"] == date) & (cycle_counts[\"location\"] == loc))\n",
                "    \n",
                "    return cycle_counts.loc[~to_drop]"
            ]
        },
        {
            "cell_type": "code",
            "execution_count": null,
            "metadata": {},
            "outputs": [],
            "source": [
                "loc = outlier_locs[8]\n",
                "location_df = cycle_counts[cycle_counts[\"location\"] == loc]\n",
                "\n",
                "n_sigma = 3.0\n",
                "outlier_df = get_outlier_df(location_df, n_sigma=n_sigma)\n",
                "outlier_df = outlier_df.sort_values(\"date\")\n",
                "\n",
                "fig, ax = plt.subplots(figsize=(10, 3.5))\n",
                "ax.plot(outlier_df[\"date\"].values, outlier_df[\"count\"].values)\n",
                "ax.plot(outlier_df[\"date\"].values, outlier_df[\"upper\"].values, ls=\"--\")\n",
                "ax.plot(outlier_df[\"date\"].values, outlier_df[\"lower\"].values, ls=\"--\")\n",
                "ax.set(title=loc)"
            ]
        },
        {
            "cell_type": "code",
            "execution_count": null,
            "metadata": {},
            "outputs": [],
            "source": [
                "outlier_dates_and_locations = [\n",
                "    (datetime(2024, 10, 12), \"Albany Highway\"),\n",
                "    (datetime(2024, 10, 21), \"Albany Highway\"),\n",
                "    \n",
                "    (datetime(2023, 4, 12), \"Archibald Park\"),\n",
                "    (datetime(2024, 3, 1), \"Archibald Park\"),\n",
                "    (datetime(2024, 3, 9), \"Archibald Park\"),\n",
                "    (datetime(2024, 9, 28), \"Archibald Park\"),\n",
                "    \n",
                "    (datetime(2022, 5, 28), \"GI to Tamaki Drive Section-1\"),\n",
                "    (datetime(2022, 6, 4), \"GI to Tamaki Drive Section-1\"),\n",
                "    \n",
                "    (datetime(2024, 9, 2), \"Lake Road\"),\n",
                "    \n",
                "    (datetime(2022, 10, 15), \"Mangere Safe Routes\"),\n",
                "    (datetime(2022, 12, 2), \"Mangere Safe Routes\"),\n",
                "    (datetime(2024, 9, 24), \"Mangere Safe Routes\"),\n",
                "    \n",
                "    (datetime(2022, 5, 7), \"NW Cycleway TeAtatu\"),\n",
                "    \n",
                "    (datetime(2024, 2, 19), \"Sandringham Road\"),\n",
                "    (datetime(2024, 2, 20), \"Sandringham Road\"),\n",
                "    (datetime(2024, 2, 21), \"Sandringham Road\"),\n",
                "    (datetime(2024, 2, 22), \"Sandringham Road\"),\n",
                "    (datetime(2024, 2, 23), \"Sandringham Road\"),\n",
                "\n",
                "    (datetime(2022, 3, 2), \"SH20A\"),\n",
                "    (datetime(2024, 2, 22), \"SH20A\"),\n",
                "\n",
                "    (datetime(2024, 2, 2), \"SW SH20\"),\n",
                "    (datetime(2024, 2, 3), \"SW SH20\"),\n",
                "    (datetime(2024, 3, 27), \"SW SH20\"),\n",
                "    (datetime(2024, 4, 11), \"SW SH20\"),\n",
                "    (datetime(2024, 4, 12), \"SW SH20\"),\n",
                "    (datetime(2024, 4, 13), \"SW SH20\"),\n",
                "]"
            ]
        },
        {
            "cell_type": "code",
            "execution_count": null,
            "metadata": {},
            "outputs": [],
            "source": [
                "cycle_counts = drop_outliers(cycle_counts, outlier_dates_and_locations)"
            ]
        },
        {
            "cell_type": "code",
            "execution_count": null,
            "metadata": {},
            "outputs": [],
            "source": [
                "cycle_counts.to_csv(\"cycle_counts_after_outliers.csv\", index=False)"
            ]
        },
        {
            "cell_type": "markdown",
            "metadata": {},
            "source": [
                "### Changepoint detection and adjustment"
            ]
        },
        {
            "cell_type": "code",
            "execution_count": null,
            "metadata": {},
            "outputs": [],
            "source": [
                "def get_chpt_locations(location_df: pd.DataFrame, n_chpts: int):\n",
                "    location_df = location_df.copy()\n",
                "    location_df = location_df.sort_values(\"date\")\n",
                "    \n",
                "    model = rpt.Dynp(model=\"l2\").fit(np.array(location_df[\"count\"]))\n",
                "    chpts_idx = model.predict(n_bkps=n_chpts)\n",
                "    \n",
                "    min_date, max_date = location_df[\"date\"].min(), location_df[\"date\"].max()\n",
                "    chpts_dt = [location_df.iloc[idx][\"date\"].to_pydatetime() for idx in chpts_idx[:-1]]\n",
                "    chpts_dt = [min_date.to_pydatetime()] + chpts_dt + [max_date.to_pydatetime()]\n",
                "    \n",
                "    return chpts_dt\n",
                "\n",
                "\n",
                "def adjust_scale(\n",
                "    cycle_counts: pd.DataFrame,\n",
                "    chpts_by_location: dict[str, list[datetime]],\n",
                "):\n",
                "    for loc, chpts in chpts_by_location.items():\n",
                "        loc_mask = cycle_counts[\"location\"] == loc\n",
                "        \n",
                "        # Find the longest streak, this is the anchor\n",
                "        chpt_streaks = list(zip(chpts, chpts[1:]))\n",
                "        streak_lengths = [\n",
                "            (loc_mask & cycle_counts[\"date\"].between(start, end, inclusive=\"left\")).sum()\n",
                "            for (start, end) in chpt_streaks\n",
                "        ]\n",
                "        longest_streak = chpt_streaks[streak_lengths.index(max(streak_lengths))]\n",
                "\n",
                "        # Calculate mean of longest streak\n",
                "        ls_start, ls_end = longest_streak\n",
                "        ls_mask = cycle_counts[\"date\"].between(ls_start, ls_end, inclusive=\"left\")\n",
                "        ls_mean = cycle_counts[loc_mask & ls_mask][\"count\"].mean()\n",
                "\n",
                "        # Scale every streak using anchor stats\n",
                "        for streak_start, streak_end in chpt_streaks:\n",
                "            streak_mask = cycle_counts[\"date\"].between(streak_start, streak_end, inclusive=\"left\")\n",
                "            streak_mean = cycle_counts[loc_mask & streak_mask][\"count\"].mean()\n",
                "            loc_streak_counts = cycle_counts.loc[loc_mask & streak_mask, \"count\"]\n",
                "            loc_streak_counts_adj = loc_streak_counts.div(streak_mean).mul(ls_mean)\n",
                "            cycle_counts.loc[loc_mask & streak_mask, \"count\"] = loc_streak_counts_adj\n",
                "    \n",
                "    return cycle_counts"
            ]
        },
        {
            "cell_type": "code",
            "execution_count": null,
            "metadata": {},
            "outputs": [],
            "source": [
                "locations_and_n_chpts = [\n",
                "    (\"Grafton Road\", 1),\n",
                "    (\"Great South Road\", 2),\n",
                "    (\"Karangahape Road\", 2),\n",
                "    (\"Lightpath\", 1)\n",
                "]"
            ]
        },
        {
            "cell_type": "code",
            "execution_count": null,
            "metadata": {},
            "outputs": [],
            "source": [
                "loc, n_chpts = locations_and_n_chpts[1]\n",
                "location_df = cycle_counts[cycle_counts[\"location\"] == loc].sort_values(\"date\")\n",
                "\n",
                "chpts = get_chpt_locations(location_df, n_chpts)\n",
                "\n",
                "fig, ax = plt.subplots(figsize=(12, 2.5))\n",
                "ax.plot(location_df[\"date\"].values, location_df[\"count\"].values)\n",
                "for chpt in chpts:\n",
                "    ax.axvline(chpt, color=\"red\")\n",
                "ax.set(title=loc)\n",
                "fig.tight_layout();"
            ]
        },
        {
            "cell_type": "code",
            "execution_count": null,
            "metadata": {},
            "outputs": [],
            "source": [
                "chpts_by_location = {}\n",
                "for loc, n_chpts in locations_and_n_chpts:\n",
                "    location_df = cycle_counts[cycle_counts[\"location\"] == loc].sort_values(\"date\")\n",
                "    chpts = get_chpt_locations(location_df, n_chpts)\n",
                "    chpts_by_location[loc] = chpts"
            ]
        },
        {
            "cell_type": "code",
            "execution_count": null,
            "metadata": {},
            "outputs": [],
            "source": [
                "chpts_by_location = {\n",
                "    \"Grafton Road\": [\n",
                "        datetime(2022, 1, 1),\n",
                "        datetime(2023, 1, 16),\n",
                "        datetime(2024, 12, 31),\n",
                "    ],\n",
                "    \"Great South Road\": [\n",
                "        datetime(2022, 1, 1),\n",
                "        datetime(2022, 8, 29),\n",
                "        datetime(2023, 3, 2),\n",
                "        datetime(2024, 12, 31)\n",
                "    ],\n",
                "    \"Karangahape Road\": [\n",
                "        datetime(2022, 1, 1),\n",
                "        datetime(2024, 4, 15),\n",
                "        datetime(2024, 7, 19),\n",
                "        datetime(2024, 12, 31)\n",
                "    ],\n",
                "    \"Lightpath\": [\n",
                "        datetime(2022, 1, 1),\n",
                "        datetime(2023, 2, 5),\n",
                "        datetime(2024, 12, 31)\n",
                "    ]\n",
                "}"
            ]
        },
        {
            "cell_type": "code",
            "execution_count": null,
            "metadata": {},
            "outputs": [],
            "source": [
                "cycle_counts = adjust_scale(cycle_counts, chpts_by_location)"
            ]
        },
        {
            "cell_type": "code",
            "execution_count": null,
            "metadata": {},
            "outputs": [],
            "source": [
                "loc, _ = locations_and_n_chpts[3]\n",
                "location_df = cycle_counts[cycle_counts[\"location\"] == loc].sort_values(\"date\")\n",
                "\n",
                "fig, ax = plt.subplots(figsize=(12, 2.5))\n",
                "ax.plot(location_df[\"date\"].values, location_df[\"count\"].values)\n",
                "for chpt in chpts_by_location[loc]:\n",
                "    ax.axvline(chpt, color=\"red\")\n",
                "ax.set(title=loc)\n",
                "fig.tight_layout();"
            ]
        },
        {
            "cell_type": "code",
            "execution_count": null,
            "metadata": {},
            "outputs": [],
            "source": [
                "i = 3\n",
                "locs = sorted(cycle_counts[\"location\"].unique())[i * 5:  (i + 1) * 5]\n",
                "print(locs)\n",
                "\n",
                "fig, ax = plt.subplots(len(locs), 1, figsize=(10, len(locs) * 1.75), sharex=True)\n",
                "for i, loc in enumerate(locs):\n",
                "    location_df = cycle_counts[cycle_counts[\"location\"] == loc].sort_values(\"date\")\n",
                "    ax[i].plot(location_df[\"date\"].values, location_df[\"count\"].values, label=loc)\n",
                "    ax[i].legend()\n",
                "\n",
                "fig.tight_layout();"
            ]
        },
        {
            "cell_type": "code",
            "execution_count": null,
            "metadata": {},
            "outputs": [],
            "source": [
                "cycle_counts.to_csv(\"cycle_counts_after_scale_adjust.csv\", index=False)"
            ]
        },
        {
            "cell_type": "markdown",
            "metadata": {},
            "source": [
                "### Resample to daily freq"
            ]
        },
        {
            "cell_type": "code",
            "execution_count": null,
            "metadata": {},
            "outputs": [],
            "source": [
                "location_dfs = []\n",
                "for loc, location_df in cycle_counts.groupby(\"location\"):\n",
                "    break"
            ]
        },
        {
            "cell_type": "code",
            "execution_count": null,
            "metadata": {},
            "outputs": [],
            "source": [
                "location_df[location_df.duplicated(\"date\")]"
            ]
        },
        {
            "cell_type": "code",
            "execution_count": null,
            "metadata": {},
            "outputs": [],
            "source": [
                "location_df[location_df[\"date\"] == datetime(2024, 8, 31)]"
            ]
        },
        {
            "cell_type": "markdown",
            "metadata": {},
            "source": [
                "## EDA"
            ]
        },
        {
            "cell_type": "markdown",
            "metadata": {},
            "source": [
                "### Total counts by day"
            ]
        },
        {
            "cell_type": "code",
            "execution_count": null,
            "metadata": {},
            "outputs": [],
            "source": [
                "daily_total = cycle_counts.groupby(\"date\")[[\"count\"]].sum().reset_index()\n",
                "\n",
                "fig, ax = plt.subplots(1, 2, figsize=(10, 3.5))\n",
                "\n",
                "ax[0].plot(daily_total[\"date\"], daily_total[\"count\"])\n",
                "ax[0].set(ylabel=\"Count\")\n",
                "for tick in ax[0].get_xticklabels():\n",
                "    tick.set_rotation(45)\n",
                "\n",
                "ax[1].hist(daily_total[\"count\"], bins=20);\n",
                "ax[1].set(xlabel=\"Count\", ylabel=\"Frequency\")\n",
                "\n",
                "fig.tight_layout()"
            ]
        },
        {
            "cell_type": "markdown",
            "metadata": {},
            "source": [
                "### Daily counts by location"
            ]
        },
        {
            "cell_type": "code",
            "execution_count": null,
            "metadata": {},
            "outputs": [],
            "source": [
                "av_daily_counts = cycle_counts.groupby(\"date\")[[\"count\"]].mean().reset_index()\n",
                "\n",
                "fig, ax = plt.subplots(2, 1, figsize=(12, 5), sharex=True)\n",
                "\n",
                "locations = cycle_counts[\"location\"].unique()\n",
                "for location in locations:\n",
                "    outlier_df = cycle_counts[cycle_counts[\"location\"] == location]\n",
                "    ax[0].plot(outlier_df[\"date\"], outlier_df[\"count\"], color=\"gray\", alpha=0.25)\n",
                "    ax[1].plot(outlier_df[\"date\"], np.log1p(outlier_df[\"count\"]), color=\"gray\", alpha=0.25)\n",
                "\n",
                "ax[0].plot(av_daily_counts[\"date\"], av_daily_counts[\"count\"], color=\"blue\", linewidth=2)\n",
                "ax[1].plot(av_daily_counts[\"date\"], np.log1p(av_daily_counts[\"count\"]), color=\"blue\", linewidth=2)\n",
                "\n",
                "ax[0].set(ylabel=\"Count\")\n",
                "ax[1].set(ylabel=\"Log(Count)\")"
            ]
        },
        {
            "cell_type": "code",
            "execution_count": null,
            "metadata": {},
            "outputs": [],
            "source": [
                "av_daily_counts_by_loc = cycle_counts.groupby(\"location\")[[\"count\"]].mean().reset_index()\n",
                "av_daily_counts_by_loc = av_daily_counts_by_loc.sort_values(\"count\").reset_index(drop=True)\n",
                "\n",
                "mean_counts = av_daily_counts_by_loc[\"count\"].mean()\n",
                "median_counts = av_daily_counts_by_loc[\"count\"].median()\n",
                "\n",
                "fig, ax = plt.subplots(1, 1)\n",
                "ax.hist(av_daily_counts_by_loc[\"count\"], bins=20)\n",
                "ax.axvline(mean_counts, color=\"red\", linestyle=\"--\", lw=2.5, label=\"Mean\")\n",
                "ax.axvline(median_counts, color=\"orange\", linestyle=\"--\", lw=2.5, label=\"Median\")\n",
                "ax.set(xlabel=\"Average Daily Count\", ylabel=\"Frequency\")\n",
                "ax.legend();"
            ]
        },
        {
            "cell_type": "markdown",
            "metadata": {},
            "source": [
                "### High demand locations"
            ]
        },
        {
            "cell_type": "code",
            "execution_count": null,
            "metadata": {},
            "outputs": [],
            "source": [
                "threshold = 600\n",
                "high_demand_locs = av_daily_counts_by_loc[av_daily_counts_by_loc[\"count\"] > threshold]\n",
                "high_demand_locs.sort_values(\"count\")"
            ]
        },
        {
            "cell_type": "code",
            "execution_count": null,
            "metadata": {},
            "outputs": [],
            "source": [
                "fig, ax = plt.subplots(1, 1, figsize=(10, 5))\n",
                "\n",
                "locations = high_demand_locs[\"location\"].values\n",
                "colors = cm.coolwarm(np.linspace(0, 1, len(locations)))\n",
                "for i, location in enumerate(locations):\n",
                "    outlier_df = cycle_counts[cycle_counts[\"location\"] == location].sort_values(\"date\").iloc[-150:]\n",
                "    ax.plot(\n",
                "        outlier_df[\"date\"],\n",
                "        outlier_df[\"count\"],\n",
                "        label=location,\n",
                "        color=colors[i],\n",
                "        lw=2.5,\n",
                "    )\n",
                "ax.set(ylabel=\"Count\")\n",
                "fig.tight_layout();"
            ]
        },
        {
            "cell_type": "code",
            "execution_count": null,
            "metadata": {},
            "outputs": [],
            "source": [
                "counts_pivot = cycle_counts.pivot_table(columns=\"date\", index=\"location\", values=\"count\", aggfunc=\"sum\")\n",
                "counts_pivot = counts_pivot.fillna(0).assign(average=lambda x: x.mean(axis=1))\n",
                "counts_pivot = counts_pivot[counts_pivot[\"average\"].between(400, 1000)]\n",
                "counts_pivot = counts_pivot.sort_values(\"average\", ascending=False).drop(columns=\"average\")\n",
                "\n",
                "fig, ax = plt.subplots(1, 1)\n",
                "sns.heatmap(counts_pivot, cmap=\"coolwarm\", cbar_kws={\"label\": \"Count\"})\n",
                "\n",
                "xs = np.arange(0, counts_pivot.shape[1], 60)\n",
                "xticklables = [c.strftime(\"%Y-%m-%d\") for c in counts_pivot.columns[xs]]\n",
                "ax.set(xticks=xs, xticklabels=xticklables)\n",
                "\n",
                "ys = np.arange(0, counts_pivot.shape[0])\n",
                "yticklables = counts_pivot.index[ys]\n",
                "ax.set_yticks(ys + 0.5)\n",
                "ax.set_yticklabels(yticklables, fontsize=\"small\")\n",
                "\n",
                "ax.set(xlabel=\"\", ylabel=\"\");"
            ]
        },
        {
            "cell_type": "code",
            "execution_count": null,
            "metadata": {},
            "outputs": [],
            "source": []
        }
    ],
    "metadata": {
        "kernelspec": {
            "display_name": ".venv",
            "language": "python",
            "name": "python3"
        },
        "language_info": {
            "codemirror_mode": {
                "name": "ipython",
                "version": 3
            },
            "file_extension": ".py",
            "mimetype": "text/x-python",
            "name": "python",
            "nbconvert_exporter": "python",
            "pygments_lexer": "ipython3",
            "version": "3.12.9"
        }
    },
    "nbformat": 4,
    "nbformat_minor": 2
}
