{
    "cells": [
        {
            "cell_type": "code",
            "execution_count": null,
            "metadata": {},
            "outputs": [],
            "source": [
                "from datetime import datetime\n",
                "\n",
                "import matplotlib.pyplot as plt\n",
                "from matplotlib import cm\n",
                "import numpy as np\n",
                "import pandas as pd\n",
                "import ruptures as rpt\n",
                "import seaborn as sns\n",
                "\n",
                "from bikes.data import load_cycle_counts"
            ]
        },
        {
            "cell_type": "markdown",
            "metadata": {},
            "source": [
                "### Data Loading"
            ]
        },
        {
            "cell_type": "code",
            "execution_count": 2,
            "metadata": {},
            "outputs": [
                {
                    "name": "stderr",
                    "output_type": "stream",
                    "text": [
                        "100%|██████████| 25/25 [01:18<00:00,  3.13s/it]\n"
                    ]
                }
            ],
            "source": [
                "cycle_counts = load_cycle_counts()"
            ]
        },
        {
            "cell_type": "code",
            "execution_count": null,
            "metadata": {},
            "outputs": [],
            "source": [
                "cycle_counts.to_csv(\"raw_cycle_counts.csv\", index=False)"
            ]
        },
        {
            "cell_type": "code",
            "execution_count": null,
            "metadata": {},
            "outputs": [],
            "source": [
                "cycle_counts = pd.read_csv(\"raw_cycle_counts.csv\", parse_dates=[\"date\"])"
            ]
        },
        {
            "cell_type": "markdown",
            "metadata": {},
            "source": [
                "### Changepoint detection and adjustment"
            ]
        },
        {
            "cell_type": "code",
            "execution_count": null,
            "metadata": {},
            "outputs": [],
            "source": [
                "def get_chpt_locations(location_df: pd.DataFrame, n_chpts: int):\n",
                "    location_df = location_df.copy()\n",
                "    location_df = location_df.sort_values(\"date\")\n",
                "    \n",
                "    model = rpt.Dynp(model=\"l2\").fit(np.array(location_df[\"count\"]))\n",
                "    chpts_idx = model.predict(n_bkps=n_chpts)\n",
                "    \n",
                "    min_date, max_date = location_df[\"date\"].min(), location_df[\"date\"].max()\n",
                "    chpts_dt = [location_df.iloc[idx][\"date\"].to_pydatetime() for idx in chpts_idx[:-1]]\n",
                "    chpts_dt = [min_date.to_pydatetime()] + chpts_dt + [max_date.to_pydatetime()]\n",
                "    \n",
                "    return chpts_dt\n",
                "\n",
                "\n",
                "def adjust_scale(\n",
                "    cycle_counts: pd.DataFrame,\n",
                "    chpts_by_location: dict[str, list[datetime]],\n",
                "):\n",
                "    for loc, chpts in chpts_by_location.items():\n",
                "        loc_mask = cycle_counts[\"location\"] == loc\n",
                "        \n",
                "        # Find the longest streak, this is the anchor\n",
                "        chpt_streaks = list(zip(chpts, chpts[1:]))\n",
                "        streak_lengths = [\n",
                "            (loc_mask & cycle_counts[\"date\"].between(start, end, inclusive=\"left\")).sum()\n",
                "            for (start, end) in chpt_streaks\n",
                "        ]\n",
                "        longest_streak = chpt_streaks[streak_lengths.index(max(streak_lengths))]\n",
                "\n",
                "        # Calculate mean of longest streak\n",
                "        ls_start, ls_end = longest_streak\n",
                "        ls_mask = cycle_counts[\"date\"].between(ls_start, ls_end, inclusive=\"left\")\n",
                "        ls_mean = cycle_counts[loc_mask & ls_mask][\"count\"].mean()\n",
                "\n",
                "        # Scale every streak using anchor stats\n",
                "        for streak_start, streak_end in chpt_streaks:\n",
                "            streak_mask = cycle_counts[\"date\"].between(streak_start, streak_end, inclusive=\"left\")\n",
                "            streak_mean = cycle_counts[loc_mask & streak_mask][\"count\"].mean()\n",
                "            loc_streak_counts = cycle_counts.loc[loc_mask & streak_mask, \"count\"]\n",
                "            loc_streak_counts_adj = loc_streak_counts.div(streak_mean).mul(ls_mean)\n",
                "            cycle_counts.loc[loc_mask & streak_mask, \"count\"] = loc_streak_counts_adj\n",
                "    \n",
                "    return cycle_counts"
            ]
        },
        {
            "cell_type": "code",
            "execution_count": null,
            "metadata": {},
            "outputs": [],
            "source": [
                "i = 11\n",
                "locs = sorted(cycle_counts[\"location\"].unique())[i * 5:  (i + 1) * 5]\n",
                "print(locs)\n",
                "\n",
                "fig, ax = plt.subplots(len(locs), 1, figsize=(10, len(locs) * 1.75), sharex=True)\n",
                "for i, loc in enumerate(locs):\n",
                "    location_df = cycle_counts[cycle_counts[\"location\"] == loc].sort_values(\"date\")\n",
                "    ax[i].plot(location_df[\"date\"].values, (location_df[\"count\"].values), label=loc)\n",
                "    ax[i].legend()\n",
                "\n",
                "fig.tight_layout();"
            ]
        },
        {
            "cell_type": "code",
            "execution_count": null,
            "metadata": {},
            "outputs": [],
            "source": [
                "locations_and_n_chpts = [\n",
                "    (\"East Coast Road\", 1),\n",
                "    (\"Grafton Road\", 1),\n",
                "    (\"Great South Road\", 2),\n",
                "    (\"Karangahape Road\", 2),\n",
                "    (\"Lightpath\", 1)\n",
                "]"
            ]
        },
        {
            "cell_type": "code",
            "execution_count": null,
            "metadata": {},
            "outputs": [],
            "source": [
                "loc, n_chpts = locations_and_n_chpts[0]\n",
                "location_df = cycle_counts[cycle_counts[\"location\"] == loc].sort_values(\"date\")\n",
                "\n",
                "chpts = get_chpt_locations(location_df, n_chpts)\n",
                "\n",
                "fig, ax = plt.subplots(figsize=(12, 2.5))\n",
                "ax.plot(location_df[\"date\"].values, location_df[\"count\"].values)\n",
                "for chpt in chpts:\n",
                "    ax.axvline(chpt, color=\"red\")\n",
                "ax.set(title=loc)\n",
                "fig.tight_layout();"
            ]
        },
        {
            "cell_type": "code",
            "execution_count": null,
            "metadata": {},
            "outputs": [],
            "source": [
                "chpts_by_location = {}\n",
                "for loc, n_chpts in locations_and_n_chpts:\n",
                "    location_df = cycle_counts[cycle_counts[\"location\"] == loc].sort_values(\"date\")\n",
                "    chpts = get_chpt_locations(location_df, n_chpts)\n",
                "    chpts_by_location[loc] = chpts"
            ]
        },
        {
            "cell_type": "code",
            "execution_count": null,
            "metadata": {},
            "outputs": [],
            "source": [
                "chpts_by_location = {\n",
                "    \"East Coast Road\": [\n",
                "        datetime(2022, 1, 1),\n",
                "        datetime(2022, 11, 22),\n",
                "        datetime(2024, 12, 31),\n",
                "    ],\n",
                "    \"Grafton Road\": [\n",
                "        datetime(2022, 1, 1),\n",
                "        datetime(2023, 1, 16),\n",
                "        datetime(2024, 12, 31),\n",
                "    ],\n",
                "    \"Great South Road\": [\n",
                "        datetime(2022, 1, 1),\n",
                "        datetime(2022, 8, 29),\n",
                "        datetime(2023, 3, 2),\n",
                "        datetime(2024, 12, 31)\n",
                "    ],\n",
                "    \"Karangahape Road\": [\n",
                "        datetime(2022, 1, 1),\n",
                "        datetime(2024, 4, 15),\n",
                "        datetime(2024, 7, 19),\n",
                "        datetime(2024, 12, 31)\n",
                "    ],\n",
                "    \"Lightpath\": [\n",
                "        datetime(2022, 1, 1),\n",
                "        datetime(2023, 2, 5),\n",
                "        datetime(2024, 12, 31)\n",
                "    ]\n",
                "}"
            ]
        },
        {
            "cell_type": "code",
            "execution_count": null,
            "metadata": {},
            "outputs": [],
            "source": [
                "cycle_counts = adjust_scale(cycle_counts, chpts_by_location)"
            ]
        },
        {
            "cell_type": "code",
            "execution_count": null,
            "metadata": {},
            "outputs": [],
            "source": [
                "loc, _ = locations_and_n_chpts[5]\n",
                "location_df = cycle_counts[cycle_counts[\"location\"] == loc].sort_values(\"date\")\n",
                "\n",
                "fig, ax = plt.subplots(figsize=(12, 2.5))\n",
                "ax.plot(location_df[\"date\"].values, location_df[\"count\"].values)\n",
                "for chpt in chpts_by_location[loc]:\n",
                "    ax.axvline(chpt, color=\"red\")\n",
                "ax.set(title=loc)\n",
                "fig.tight_layout();"
            ]
        },
        {
            "cell_type": "code",
            "execution_count": null,
            "metadata": {},
            "outputs": [],
            "source": [
                "cycle_counts.to_csv(\"cycle_counts_after_scale_adjust.csv\", index=False)"
            ]
        },
        {
            "cell_type": "markdown",
            "metadata": {},
            "source": [
                "## EDA"
            ]
        },
        {
            "cell_type": "markdown",
            "metadata": {},
            "source": [
                "### Total counts by day"
            ]
        },
        {
            "cell_type": "code",
            "execution_count": null,
            "metadata": {},
            "outputs": [],
            "source": [
                "daily_total = cycle_counts.groupby(\"date\")[[\"count\"]].sum().reset_index()\n",
                "\n",
                "fig, ax = plt.subplots(1, 2, figsize=(10, 3.5))\n",
                "\n",
                "ax[0].plot(daily_total[\"date\"], daily_total[\"count\"])\n",
                "ax[0].set(ylabel=\"Count\")\n",
                "for tick in ax[0].get_xticklabels():\n",
                "    tick.set_rotation(45)\n",
                "\n",
                "ax[1].hist(daily_total[\"count\"], bins=20);\n",
                "ax[1].set(xlabel=\"Count\", ylabel=\"Frequency\")\n",
                "\n",
                "fig.tight_layout()"
            ]
        },
        {
            "cell_type": "markdown",
            "metadata": {},
            "source": [
                "### Daily counts by location"
            ]
        },
        {
            "cell_type": "code",
            "execution_count": null,
            "metadata": {},
            "outputs": [],
            "source": [
                "av_daily_counts = cycle_counts.groupby(\"date\")[[\"count\"]].mean().reset_index()\n",
                "\n",
                "fig, ax = plt.subplots(2, 1, figsize=(12, 5), sharex=True)\n",
                "\n",
                "locations = cycle_counts[\"location\"].unique()\n",
                "for location in locations:\n",
                "    outlier_df = cycle_counts[cycle_counts[\"location\"] == location]\n",
                "    ax[0].plot(outlier_df[\"date\"], outlier_df[\"count\"], color=\"gray\", alpha=0.25)\n",
                "    ax[1].plot(outlier_df[\"date\"], np.log1p(outlier_df[\"count\"]), color=\"gray\", alpha=0.25)\n",
                "\n",
                "ax[0].plot(av_daily_counts[\"date\"], av_daily_counts[\"count\"], color=\"blue\", linewidth=2)\n",
                "ax[1].plot(av_daily_counts[\"date\"], np.log1p(av_daily_counts[\"count\"]), color=\"blue\", linewidth=2)\n",
                "\n",
                "ax[0].set(ylabel=\"Count\")\n",
                "ax[1].set(ylabel=\"Log(Count)\")"
            ]
        },
        {
            "cell_type": "code",
            "execution_count": null,
            "metadata": {},
            "outputs": [],
            "source": [
                "av_daily_counts_by_loc = cycle_counts.groupby(\"location\")[[\"count\"]].mean().reset_index()\n",
                "av_daily_counts_by_loc = av_daily_counts_by_loc.sort_values(\"count\").reset_index(drop=True)\n",
                "\n",
                "mean_counts = av_daily_counts_by_loc[\"count\"].mean()\n",
                "median_counts = av_daily_counts_by_loc[\"count\"].median()\n",
                "\n",
                "fig, ax = plt.subplots(1, 1)\n",
                "ax.hist(av_daily_counts_by_loc[\"count\"], bins=20)\n",
                "ax.axvline(mean_counts, color=\"red\", linestyle=\"--\", lw=2.5, label=\"Mean\")\n",
                "ax.axvline(median_counts, color=\"orange\", linestyle=\"--\", lw=2.5, label=\"Median\")\n",
                "ax.set(xlabel=\"Average Daily Count\", ylabel=\"Frequency\")\n",
                "ax.legend();"
            ]
        },
        {
            "cell_type": "markdown",
            "metadata": {},
            "source": [
                "### High demand locations"
            ]
        },
        {
            "cell_type": "code",
            "execution_count": null,
            "metadata": {},
            "outputs": [],
            "source": [
                "threshold = 600\n",
                "high_demand_locs = av_daily_counts_by_loc[av_daily_counts_by_loc[\"count\"] > threshold]\n",
                "high_demand_locs.sort_values(\"count\")"
            ]
        },
        {
            "cell_type": "code",
            "execution_count": null,
            "metadata": {},
            "outputs": [],
            "source": [
                "fig, ax = plt.subplots(1, 1, figsize=(10, 5))\n",
                "\n",
                "locations = high_demand_locs[\"location\"].values\n",
                "colors = cm.coolwarm(np.linspace(0, 1, len(locations)))\n",
                "for i, location in enumerate(locations):\n",
                "    outlier_df = cycle_counts[cycle_counts[\"location\"] == location].sort_values(\"date\").iloc[-150:]\n",
                "    ax.plot(\n",
                "        outlier_df[\"date\"],\n",
                "        outlier_df[\"count\"],\n",
                "        label=location,\n",
                "        color=colors[i],\n",
                "        lw=2.5,\n",
                "    )\n",
                "ax.set(ylabel=\"Count\")\n",
                "fig.tight_layout();"
            ]
        },
        {
            "cell_type": "code",
            "execution_count": null,
            "metadata": {},
            "outputs": [],
            "source": [
                "counts_pivot = cycle_counts.pivot_table(columns=\"date\", index=\"location\", values=\"count\", aggfunc=\"sum\")\n",
                "counts_pivot = counts_pivot.fillna(0).assign(average=lambda x: x.mean(axis=1))\n",
                "counts_pivot = counts_pivot[counts_pivot[\"average\"].between(400, 1000)]\n",
                "counts_pivot = counts_pivot.sort_values(\"average\", ascending=False).drop(columns=\"average\")\n",
                "\n",
                "fig, ax = plt.subplots(1, 1)\n",
                "sns.heatmap(counts_pivot, cmap=\"coolwarm\", cbar_kws={\"label\": \"Count\"})\n",
                "\n",
                "xs = np.arange(0, counts_pivot.shape[1], 60)\n",
                "xticklables = [c.strftime(\"%Y-%m-%d\") for c in counts_pivot.columns[xs]]\n",
                "ax.set(xticks=xs, xticklabels=xticklables)\n",
                "\n",
                "ys = np.arange(0, counts_pivot.shape[0])\n",
                "yticklables = counts_pivot.index[ys]\n",
                "ax.set_yticks(ys + 0.5)\n",
                "ax.set_yticklabels(yticklables, fontsize=\"small\")\n",
                "\n",
                "ax.set(xlabel=\"\", ylabel=\"\");"
            ]
        },
        {
            "cell_type": "code",
            "execution_count": null,
            "metadata": {},
            "outputs": [],
            "source": []
        }
    ],
    "metadata": {
        "kernelspec": {
            "display_name": ".venv",
            "language": "python",
            "name": "python3"
        },
        "language_info": {
            "codemirror_mode": {
                "name": "ipython",
                "version": 3
            },
            "file_extension": ".py",
            "mimetype": "text/x-python",
            "name": "python",
            "nbconvert_exporter": "python",
            "pygments_lexer": "ipython3",
            "version": "3.12.9"
        }
    },
    "nbformat": 4,
    "nbformat_minor": 2
}
