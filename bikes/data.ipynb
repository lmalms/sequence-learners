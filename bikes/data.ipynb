{
 "cells": [
  {
   "cell_type": "markdown",
   "metadata": {},
   "source": [
    "# Data Loading"
   ]
  },
  {
   "cell_type": "code",
   "execution_count": null,
   "metadata": {},
   "outputs": [],
   "source": [
    "import pandas as pd\n",
    "import numpy as np\n",
    "import matplotlib.pyplot as plt\n",
    "from matplotlib import cm\n",
    "import seaborn as sns\n",
    "\n",
    "from tqdm import tqdm"
   ]
  },
  {
   "cell_type": "code",
   "execution_count": null,
   "metadata": {},
   "outputs": [],
   "source": [
    "def load_cycle_counts(url: str) -> pd.DataFrame:\n",
    "    df = pd.read_excel(url, header=2)\n",
    "    df = df.melt(id_vars=[\"Time\"], var_name=\"Location\", value_name=\"Count\")\n",
    "    df.columns = df.columns.str.lower()\n",
    "    df = df.astype({\"time\": \"datetime64[s]\", \"location\": str, \"count\": int})\n",
    "    return df"
   ]
  },
  {
   "cell_type": "code",
   "execution_count": null,
   "metadata": {},
   "outputs": [],
   "source": [
    "urls = [\n",
    "    \"https://at.govt.nz/media/bb4h3wd3/at-daily-cycle-counts-january-2024.xlsx\",\n",
    "    \"https://at.govt.nz/media/xlcaru0v/at-daily-cycle-counts-feb-2024.xlsx\",\n",
    "    \"https://at.govt.nz/media/4g3hzpp5/at-daily-cycle-counts-march-2024.xlsx\",\n",
    "    # \"https://at.govt.nz/media/htvezqdn/at-daily-cycle-counts-april-2024.xlsx\",\n",
    "    # \"https://at.govt.nz/media/ue5cygl0/at-daily-cycle-counts-may-2024.xlsx\",\n",
    "    # \"https://at.govt.nz/media/3icd2jug/at-daily-cycle-counts-june-2024.xlsx\",\n",
    "    # \"https://at.govt.nz/media/jbdd1rox/cycle-counts-july-2024.xlsx\",\n",
    "    # \"https://at.govt.nz/media/bvadzmqg/cycle-counts-august-2024.xlsx\",\n",
    "    # \"https://at.govt.nz/media/lpsfdwbe/auckland-transport-cycle-counts-september-2024.xlsx\",\n",
    "    # \"https://at.govt.nz/media/ohbhvmrl/auckland-transport-cycle-movements-october-2024.xlsx\",\n",
    "    # \"https://at.govt.nz/media/0fip0hz0/auckland-transport-cycle-movements-data-november-2024.xlsx\",\n",
    "    # \"https://at.govt.nz/media/zdumuud2/auckland-transport-cycle-movements-december-2024.xlsx\",\n",
    "]\n",
    "\n",
    "dfs = []\n",
    "for url in tqdm(urls):\n",
    "    df = load_cycle_counts(url)\n",
    "    dfs.append(df)\n",
    "\n",
    "cycle_counts = pd.concat(dfs, ignore_index=True)"
   ]
  },
  {
   "cell_type": "code",
   "execution_count": null,
   "metadata": {},
   "outputs": [],
   "source": [
    "daily_counts = cycle_counts.groupby([\"time\", \"location\"]).sum().reset_index()"
   ]
  },
  {
   "cell_type": "code",
   "execution_count": null,
   "metadata": {},
   "outputs": [],
   "source": [
    "location = daily_counts[\"location\"].unique()[13]\n",
    "location_df = daily_counts[daily_counts[\"location\"] == location]\n",
    "location_df = location_df.set_index(\"time\")\n",
    "location_df.plot(y=\"count\", title=location)"
   ]
  },
  {
   "cell_type": "markdown",
   "metadata": {},
   "source": [
    "## EDA"
   ]
  },
  {
   "cell_type": "markdown",
   "metadata": {},
   "source": [
    "### Total counts by day"
   ]
  },
  {
   "cell_type": "code",
   "execution_count": null,
   "metadata": {},
   "outputs": [],
   "source": [
    "daily_total = daily_counts.groupby(\"time\")[[\"count\"]].sum().reset_index()\n",
    "\n",
    "fig, ax = plt.subplots(1, 2, figsize=(10, 3.5))\n",
    "\n",
    "ax[0].plot(daily_total[\"time\"], daily_total[\"count\"])\n",
    "ax[0].set(xlabel=\"Date\", ylabel=\"Count\")\n",
    "\n",
    "ax[1].hist(daily_total[\"count\"], bins=20);\n",
    "ax[1].set(xlabel=\"Count\", ylabel=\"Frequency\")\n",
    "\n",
    "fig.tight_layout()"
   ]
  },
  {
   "cell_type": "markdown",
   "metadata": {},
   "source": [
    "### Daily counts by location"
   ]
  },
  {
   "cell_type": "code",
   "execution_count": null,
   "metadata": {},
   "outputs": [],
   "source": [
    "av_daily_counts = daily_counts.groupby(\"time\")[[\"count\"]].mean().reset_index()\n",
    "\n",
    "fig, ax = plt.subplots(2, 1, figsize=(12, 5), sharex=True)\n",
    "\n",
    "locations = daily_counts[\"location\"].unique()\n",
    "for location in locations:\n",
    "    location_df = daily_counts[daily_counts[\"location\"] == location]\n",
    "    ax[0].plot(location_df[\"time\"], location_df[\"count\"], color=\"gray\", alpha=0.5)\n",
    "    ax[1].plot(location_df[\"time\"], np.log1p(location_df[\"count\"]), color=\"gray\", alpha=0.5)\n",
    "\n",
    "ax[0].plot(av_daily_counts[\"time\"], av_daily_counts[\"count\"], color=\"blue\", linewidth=2)\n",
    "ax[1].plot(av_daily_counts[\"time\"], np.log1p(av_daily_counts[\"count\"]), color=\"blue\", linewidth=2)\n",
    "\n",
    "ax[0].set(ylabel=\"Count\")\n",
    "ax[1].set(ylabel=\"Log(Count)\", xlabel=\"Date\")"
   ]
  },
  {
   "cell_type": "code",
   "execution_count": null,
   "metadata": {},
   "outputs": [],
   "source": [
    "av_daily_counts_by_loc = daily_counts.groupby(\"location\")[[\"count\"]].mean().reset_index()\n",
    "av_daily_counts_by_loc = av_daily_counts_by_loc.sort_values(\"count\").reset_index(drop=True)\n",
    "\n",
    "mean_counts = av_daily_counts_by_loc[\"count\"].mean()\n",
    "median_counts = av_daily_counts_by_loc[\"count\"].median()\n",
    "\n",
    "fig, ax = plt.subplots(1, 1)\n",
    "ax.hist(av_daily_counts_by_loc[\"count\"], bins=20)\n",
    "ax.axvline(mean_counts, color=\"red\", linestyle=\"--\", lw=2.5, label=\"Mean\")\n",
    "ax.axvline(median_counts, color=\"orange\", linestyle=\"--\", lw=2.5, label=\"Median\")\n",
    "ax.set(xlabel=\"Average Daily Count\", ylabel=\"Frequency\")\n",
    "ax.legend();"
   ]
  },
  {
   "cell_type": "markdown",
   "metadata": {},
   "source": [
    "### High demand locations"
   ]
  },
  {
   "cell_type": "code",
   "execution_count": null,
   "metadata": {},
   "outputs": [],
   "source": [
    "threshold = 900\n",
    "high_demand_locs = av_daily_counts_by_loc[av_daily_counts_by_loc[\"count\"] > threshold]\n",
    "high_demand_locs.sort_values(\"count\", ascending=False)"
   ]
  },
  {
   "cell_type": "code",
   "execution_count": null,
   "metadata": {},
   "outputs": [],
   "source": [
    "fig, ax = plt.subplots(1, 1, figsize=(10, 5))\n",
    "\n",
    "locations = high_demand_locs[\"location\"].values\n",
    "colors = cm.viridis(np.linspace(0, 1, len(locations)))\n",
    "for location in locations:\n",
    "    location_df = daily_counts[daily_counts[\"location\"] == location]\n",
    "    ax.plot(location_df[\"time\"], location_df[\"count\"], label=location)\n"
   ]
  },
  {
   "cell_type": "code",
   "execution_count": null,
   "metadata": {},
   "outputs": [],
   "source": [
    "# Heatmap of cycle counts by day and location"
   ]
  }
 ],
 "metadata": {
  "kernelspec": {
   "display_name": ".venv",
   "language": "python",
   "name": "python3"
  },
  "language_info": {
   "codemirror_mode": {
    "name": "ipython",
    "version": 3
   },
   "file_extension": ".py",
   "mimetype": "text/x-python",
   "name": "python",
   "nbconvert_exporter": "python",
   "pygments_lexer": "ipython3",
   "version": "3.12.4"
  }
 },
 "nbformat": 4,
 "nbformat_minor": 2
}
