{
 "cells": [
  {
   "cell_type": "code",
   "execution_count": 1,
   "id": "896c235a",
   "metadata": {
    "execution": {
     "iopub.execute_input": "2024-07-12T11:04:05.532025Z",
     "iopub.status.busy": "2024-07-12T11:04:05.531579Z",
     "iopub.status.idle": "2024-07-12T11:04:08.833378Z",
     "shell.execute_reply": "2024-07-12T11:04:08.832291Z"
    },
    "papermill": {
     "duration": 3.310237,
     "end_time": "2024-07-12T11:04:08.835959",
     "exception": false,
     "start_time": "2024-07-12T11:04:05.525722",
     "status": "completed"
    },
    "tags": []
   },
   "outputs": [],
   "source": [
    "import numpy as np\n",
    "import pandas as pd\n",
    "import matplotlib.pyplot as plt\n",
    "from tqdm import tqdm\n",
    "\n",
    "import lightgbm\n",
    "\n",
    "DEBUG = False"
   ]
  },
  {
   "cell_type": "code",
   "execution_count": 2,
   "id": "92e5fe78",
   "metadata": {
    "execution": {
     "iopub.execute_input": "2024-07-12T11:04:08.847821Z",
     "iopub.status.busy": "2024-07-12T11:04:08.847455Z",
     "iopub.status.idle": "2024-07-12T11:04:11.278898Z",
     "shell.execute_reply": "2024-07-12T11:04:11.277898Z"
    },
    "papermill": {
     "duration": 2.438823,
     "end_time": "2024-07-12T11:04:11.281145",
     "exception": false,
     "start_time": "2024-07-12T11:04:08.842322",
     "status": "completed"
    },
    "tags": []
   },
   "outputs": [],
   "source": [
    "DATA_PATH = \"/kaggle/input/predict-energy-behavior-of-prosumers\"\n",
    "DATA = pd.read_csv(f\"{DATA_PATH}/train.csv\", parse_dates=[\"datetime\"])\n",
    "DATA = DATA.astype(\n",
    "    {\n",
    "        \"county\": int, \n",
    "        \"product_type\": int, \n",
    "        \"is_business\": float, \n",
    "        \"is_consumption\": float\n",
    "    }\n",
    ")"
   ]
  },
  {
   "cell_type": "markdown",
   "id": "f2b73e1e",
   "metadata": {
    "papermill": {
     "duration": 0.003563,
     "end_time": "2024-07-12T11:04:11.288747",
     "exception": false,
     "start_time": "2024-07-12T11:04:11.285184",
     "status": "completed"
    },
    "tags": []
   },
   "source": [
    "## Load and preprocess training data"
   ]
  },
  {
   "cell_type": "code",
   "execution_count": 3,
   "id": "cb16cb0b",
   "metadata": {
    "execution": {
     "iopub.execute_input": "2024-07-12T11:04:11.298221Z",
     "iopub.status.busy": "2024-07-12T11:04:11.297814Z",
     "iopub.status.idle": "2024-07-12T11:04:11.310518Z",
     "shell.execute_reply": "2024-07-12T11:04:11.309103Z"
    },
    "papermill": {
     "duration": 0.020471,
     "end_time": "2024-07-12T11:04:11.312996",
     "exception": false,
     "start_time": "2024-07-12T11:04:11.292525",
     "status": "completed"
    },
    "tags": []
   },
   "outputs": [],
   "source": [
    "# Feature engineering\n",
    "def temporal_features(df: pd.DataFrame) -> pd.DataFrame:\n",
    "    df = df.assign(\n",
    "        month=df[\"datetime\"].dt.month.astype(float),\n",
    "        day=df[\"datetime\"].dt.day.astype(float),\n",
    "        weekday=df[\"datetime\"].dt.weekday.astype(float),\n",
    "        hour=df[\"datetime\"].dt.hour.astype(float),\n",
    "        is_weekend=(df[\"datetime\"].dt.weekday >= 5).astype(float)\n",
    "    )\n",
    "    return df\n",
    "\n",
    "\n",
    "def fourier_features(df: pd.DataFrame) -> pd.DataFrame:\n",
    "    def fft(df: pd.DataFrame, column: str, period: float, max_freq: int = 1):\n",
    "        for freq in range(1, max_freq + 1):\n",
    "            frac_period = 2 * np.pi * np.array(df[column] / period)\n",
    "            df[f\"{column}_sin_{freq}\"] = np.sin(frac_period * freq)\n",
    "            df[f\"{column}_cos_{freq}\"] = np.cos(frac_period * freq)\n",
    "\n",
    "        return df\n",
    "    \n",
    "    df = fft(df, \"month\", 12, 2)\n",
    "    df = fft(df, \"weekday\", 7, 1)\n",
    "    df = fft(df, \"hour\", 24, 2)\n",
    "    return df\n",
    "\n",
    "\n",
    "def lagged_target_features(df: pd.DataFrame, lags: list[int]) -> pd.DataFrame:\n",
    "    lagged_feature_dfs = []\n",
    "    for lag in lags:\n",
    "        lagged_df = pd.DataFrame(\n",
    "            {\n",
    "                f\"datetime_lag_{lag}\": df[\"datetime\"] - pd.Timedelta(hours=lag),\n",
    "                \"prediction_unit_id\": df[\"prediction_unit_id\"],\n",
    "                \"is_consumption\": df[\"is_consumption\"],\n",
    "            }\n",
    "        )\n",
    "        lagged_features_df = pd.merge(\n",
    "            lagged_df,\n",
    "            df[[\"datetime\", \"prediction_unit_id\", \"is_consumption\", \"target\"]],\n",
    "            how=\"left\",\n",
    "            left_on=[f\"datetime_lag_{lag}\", \"prediction_unit_id\", \"is_consumption\"],\n",
    "            right_on=[\"datetime\", \"prediction_unit_id\", \"is_consumption\"]\n",
    "        )\n",
    "\n",
    "        lagged_features_df = (\n",
    "            lagged_features_df[[f\"datetime_lag_{lag}\", \"target\"]]\n",
    "            .rename(columns={\"target\": f\"target_lag_{lag}\"})\n",
    "        )\n",
    "        lagged_feature_dfs.append(lagged_features_df)\n",
    "    return pd.concat([df] + lagged_feature_dfs, axis=1)\n",
    "        "
   ]
  },
  {
   "cell_type": "code",
   "execution_count": 4,
   "id": "5ea89705",
   "metadata": {
    "execution": {
     "iopub.execute_input": "2024-07-12T11:04:11.322757Z",
     "iopub.status.busy": "2024-07-12T11:04:11.322361Z",
     "iopub.status.idle": "2024-07-12T11:04:12.126967Z",
     "shell.execute_reply": "2024-07-12T11:04:12.125988Z"
    },
    "papermill": {
     "duration": 0.812613,
     "end_time": "2024-07-12T11:04:12.129570",
     "exception": false,
     "start_time": "2024-07-12T11:04:11.316957",
     "status": "completed"
    },
    "tags": []
   },
   "outputs": [],
   "source": [
    "# Temporal features\n",
    "DATA = temporal_features(DATA)\n",
    "\n",
    "# Fourier features\n",
    "DATA = fourier_features(DATA)\n",
    "\n",
    "# Lagged target features -- in hours \n",
    "# LAGS = [days * 24 for days in range(2, 8)]\n",
    "# DATA = lagged_target_features(DATA, LAGS)\n",
    "\n",
    "# # Drop irrelevant cols\n",
    "# lagged_datetime_cols = [f\"datetime_lag_{lag}\" for lag in LAGS]\n",
    "# DATA = DATA.drop(lagged_datetime_cols, axis=1)\n",
    "\n",
    "# Drop missing target values\n",
    "# lagged_target_features = [f\"target_lag_{lag}\" for lag in LAGS]\n",
    "DATA = DATA.dropna(subset=[\"target\"])"
   ]
  },
  {
   "cell_type": "markdown",
   "id": "15c07a32",
   "metadata": {
    "execution": {
     "iopub.execute_input": "2023-11-06T21:24:35.720935Z",
     "iopub.status.busy": "2023-11-06T21:24:35.720571Z",
     "iopub.status.idle": "2023-11-06T21:24:36.038935Z",
     "shell.execute_reply": "2023-11-06T21:24:36.037647Z",
     "shell.execute_reply.started": "2023-11-06T21:24:35.720903Z"
    },
    "papermill": {
     "duration": 0.003413,
     "end_time": "2024-07-12T11:04:12.137360",
     "exception": false,
     "start_time": "2024-07-12T11:04:12.133947",
     "status": "completed"
    },
    "tags": []
   },
   "source": [
    "## Baseline models"
   ]
  },
  {
   "cell_type": "code",
   "execution_count": 5,
   "id": "ad6abfae",
   "metadata": {
    "execution": {
     "iopub.execute_input": "2024-07-12T11:04:12.146409Z",
     "iopub.status.busy": "2024-07-12T11:04:12.146039Z",
     "iopub.status.idle": "2024-07-12T11:04:12.211786Z",
     "shell.execute_reply": "2024-07-12T11:04:12.210394Z"
    },
    "papermill": {
     "duration": 0.073453,
     "end_time": "2024-07-12T11:04:12.214318",
     "exception": false,
     "start_time": "2024-07-12T11:04:12.140865",
     "status": "completed"
    },
    "tags": []
   },
   "outputs": [
    {
     "name": "stdout",
     "output_type": "stream",
     "text": [
      "(2017824, 19) (2017824,)\n"
     ]
    }
   ],
   "source": [
    "# Feature selection\n",
    "LABEL = \"target\"\n",
    "EXCLUDE_FEATURES = [\"datetime\", \"data_block_id\", \"prediction_unit_id\", \"row_id\"]\n",
    "CATEGORICAL_FEATURES = [\"county\", \"product_type\"]\n",
    "FEATURES = [c for c in DATA.columns if c not in [LABEL] + EXCLUDE_FEATURES]\n",
    "\n",
    "\n",
    "print(DATA[FEATURES].shape, DATA[LABEL].shape)"
   ]
  },
  {
   "cell_type": "code",
   "execution_count": 6,
   "id": "2efbc98b",
   "metadata": {
    "execution": {
     "iopub.execute_input": "2024-07-12T11:04:12.226853Z",
     "iopub.status.busy": "2024-07-12T11:04:12.225542Z",
     "iopub.status.idle": "2024-07-12T11:04:12.234942Z",
     "shell.execute_reply": "2024-07-12T11:04:12.233449Z"
    },
    "papermill": {
     "duration": 0.01794,
     "end_time": "2024-07-12T11:04:12.237310",
     "exception": false,
     "start_time": "2024-07-12T11:04:12.219370",
     "status": "completed"
    },
    "tags": []
   },
   "outputs": [
    {
     "data": {
      "text/plain": [
       "['county',\n",
       " 'is_business',\n",
       " 'product_type',\n",
       " 'is_consumption',\n",
       " 'month',\n",
       " 'day',\n",
       " 'weekday',\n",
       " 'hour',\n",
       " 'is_weekend',\n",
       " 'month_sin_1',\n",
       " 'month_cos_1',\n",
       " 'month_sin_2',\n",
       " 'month_cos_2',\n",
       " 'weekday_sin_1',\n",
       " 'weekday_cos_1',\n",
       " 'hour_sin_1',\n",
       " 'hour_cos_1',\n",
       " 'hour_sin_2',\n",
       " 'hour_cos_2']"
      ]
     },
     "execution_count": 6,
     "metadata": {},
     "output_type": "execute_result"
    }
   ],
   "source": [
    "FEATURES"
   ]
  },
  {
   "cell_type": "code",
   "execution_count": 7,
   "id": "2b55553c",
   "metadata": {
    "execution": {
     "iopub.execute_input": "2024-07-12T11:04:12.248178Z",
     "iopub.status.busy": "2024-07-12T11:04:12.247705Z",
     "iopub.status.idle": "2024-07-12T11:04:12.253218Z",
     "shell.execute_reply": "2024-07-12T11:04:12.252350Z"
    },
    "papermill": {
     "duration": 0.013398,
     "end_time": "2024-07-12T11:04:12.255167",
     "exception": false,
     "start_time": "2024-07-12T11:04:12.241769",
     "status": "completed"
    },
    "tags": []
   },
   "outputs": [],
   "source": [
    "# https://lightgbm.readthedocs.io/en/latest/Parameters.html\n",
    "TRAINING_PARAMS = {\n",
    "    'objective': 'regression',\n",
    "    'metric': 'mae',\n",
    "    'boosting_type': 'gbdt',\n",
    "    'num_leaves': 31,\n",
    "    'learning_rate': 0.05,\n",
    "    'feature_fraction': 0.9,\n",
    "    'bagging_fraction': 0.8,\n",
    "    'bagging_freq': 5,\n",
    "    'verbose': 0\n",
    "}"
   ]
  },
  {
   "cell_type": "code",
   "execution_count": 8,
   "id": "b079be96",
   "metadata": {
    "execution": {
     "iopub.execute_input": "2024-07-12T11:04:12.266270Z",
     "iopub.status.busy": "2024-07-12T11:04:12.265836Z",
     "iopub.status.idle": "2024-07-12T11:04:12.339472Z",
     "shell.execute_reply": "2024-07-12T11:04:12.338468Z"
    },
    "papermill": {
     "duration": 0.082035,
     "end_time": "2024-07-12T11:04:12.341739",
     "exception": false,
     "start_time": "2024-07-12T11:04:12.259704",
     "status": "completed"
    },
    "tags": []
   },
   "outputs": [],
   "source": [
    "train_dataset = lightgbm.Dataset(\n",
    "    data=DATA[FEATURES],\n",
    "    label=DATA[LABEL],\n",
    "    feature_name=\"auto\",\n",
    "    categorical_feature=CATEGORICAL_FEATURES\n",
    ")"
   ]
  },
  {
   "cell_type": "code",
   "execution_count": 9,
   "id": "eb0b3803",
   "metadata": {
    "execution": {
     "iopub.execute_input": "2024-07-12T11:04:12.354172Z",
     "iopub.status.busy": "2024-07-12T11:04:12.352397Z",
     "iopub.status.idle": "2024-07-12T11:04:42.640421Z",
     "shell.execute_reply": "2024-07-12T11:04:42.638848Z"
    },
    "papermill": {
     "duration": 30.29682,
     "end_time": "2024-07-12T11:04:42.643523",
     "exception": false,
     "start_time": "2024-07-12T11:04:12.346703",
     "status": "completed"
    },
    "tags": []
   },
   "outputs": [
    {
     "name": "stderr",
     "output_type": "stream",
     "text": [
      "/opt/conda/lib/python3.10/site-packages/lightgbm/basic.py:2065: UserWarning: Using categorical_feature in Dataset.\n",
      "  _log_warning('Using categorical_feature in Dataset.')\n"
     ]
    },
    {
     "name": "stdout",
     "output_type": "stream",
     "text": [
      "[LightGBM] [Warning] Auto-choosing col-wise multi-threading, the overhead of testing was 0.248804 seconds.\n",
      "You can set `force_col_wise=true` to remove the overhead.\n"
     ]
    }
   ],
   "source": [
    "model = lightgbm.train(\n",
    "    TRAINING_PARAMS, \n",
    "    train_dataset,\n",
    "    num_boost_round=200,\n",
    ")"
   ]
  },
  {
   "cell_type": "code",
   "execution_count": 10,
   "id": "104a5542",
   "metadata": {
    "execution": {
     "iopub.execute_input": "2024-07-12T11:04:42.654448Z",
     "iopub.status.busy": "2024-07-12T11:04:42.654075Z",
     "iopub.status.idle": "2024-07-12T11:04:42.659816Z",
     "shell.execute_reply": "2024-07-12T11:04:42.658812Z"
    },
    "papermill": {
     "duration": 0.013406,
     "end_time": "2024-07-12T11:04:42.662031",
     "exception": false,
     "start_time": "2024-07-12T11:04:42.648625",
     "status": "completed"
    },
    "tags": []
   },
   "outputs": [],
   "source": [
    "# # Train / val split\n",
    "# start_datetime, stop_datetime = DATASET[\"datetime\"].min(), DATASET[\"datetime\"].max()\n",
    "# total_days = int((stop_datetime - start_datetime).total_seconds() / 3600 / 24)\n",
    "\n",
    "# n_folds = 10\n",
    "# evaluation_days = 30\n",
    "# max_training_days = 180\n",
    "\n",
    "# start_evaluation_set = stop_datetime.floor(\"1D\") - n_folds * pd.Timedelta(days=evaluation_days)\n",
    "# start_training_set = start_evaluation_set - pd.Timedelta(days=max_training_days)\n",
    "\n",
    "# scores, iterations = [], []\n",
    "# for i in range(n_folds):\n",
    "#     val_start = start_evaluation_set + i * pd.Timedelta(days=evaluation_days)\n",
    "#     val_end = val_start + pd.Timedelta(days=evaluation_days)\n",
    "#     train_start = val_end - pd.Timedelta(days=max_training_days)\n",
    "    \n",
    "#     # Select and transform training data\n",
    "#     train = DATASET[(DATASET[\"datetime\"] >= train_start) & (DATASET[\"datetime\"] < val_start)]\n",
    "#     X_train, y_train = train[FEATURES], train[LABEL]\n",
    "#     train_lgbm = lightgbm.Dataset(data=X_train, label=y_train)\n",
    "    \n",
    "#     # Select and transform validation data\n",
    "#     val = DATASET[(DATASET[\"datetime\"] >= val_start) & (DATASET[\"datetime\"] <= val_end)]\n",
    "#     X_val, y_val = val[FEATURES], val[LABEL]\n",
    "#     val_lgbm = lightgbm.Dataset(X_val, y_val)\n",
    "    \n",
    "#     model = lightgbm.train(\n",
    "#         TRAINING_PARAMS, \n",
    "#         train_lgbm,\n",
    "#         num_boost_round=1000,\n",
    "#         valid_sets=[val_lgbm],\n",
    "#         callbacks=[lightgbm.callback.early_stopping(10)]\n",
    "#     )\n",
    "#     y_hat = model.predict(X_val)\n",
    "#     scores.append(np.mean(np.abs(y_hat - np.array(y_val))))\n",
    "#     iterations.append(model.best_iteration)\n",
    "\n",
    "# mean_score = np.mean(scores)\n",
    "# mean_iterations = np.mean(iterations)\n",
    "\n",
    "# print(mean_score)"
   ]
  },
  {
   "cell_type": "markdown",
   "id": "9ad66280",
   "metadata": {
    "papermill": {
     "duration": 0.004005,
     "end_time": "2024-07-12T11:04:42.670388",
     "exception": false,
     "start_time": "2024-07-12T11:04:42.666383",
     "status": "completed"
    },
    "tags": []
   },
   "source": [
    "## Final Model"
   ]
  },
  {
   "cell_type": "code",
   "execution_count": 11,
   "id": "e58f7ce1",
   "metadata": {
    "execution": {
     "iopub.execute_input": "2024-07-12T11:04:42.681080Z",
     "iopub.status.busy": "2024-07-12T11:04:42.680690Z",
     "iopub.status.idle": "2024-07-12T11:04:42.685304Z",
     "shell.execute_reply": "2024-07-12T11:04:42.684338Z"
    },
    "papermill": {
     "duration": 0.012472,
     "end_time": "2024-07-12T11:04:42.687063",
     "exception": false,
     "start_time": "2024-07-12T11:04:42.674591",
     "status": "completed"
    },
    "tags": []
   },
   "outputs": [],
   "source": [
    "# %%time\n",
    "\n",
    "# # Maybe consider not training on the full dataset and only the last few months?\n",
    "# # Check what timestamps I actually need to make predictions for.\n",
    "# model = lightgbm.train(\n",
    "#     TRAINING_PARAMS, \n",
    "#     lightgbm.Dataset(DATASET[FEATURES], DATASET[LABEL]),\n",
    "#     num_boost_round=int(mean_iterations),\n",
    "# )"
   ]
  },
  {
   "cell_type": "markdown",
   "id": "e352e158",
   "metadata": {
    "papermill": {
     "duration": 0.004066,
     "end_time": "2024-07-12T11:04:42.695544",
     "exception": false,
     "start_time": "2024-07-12T11:04:42.691478",
     "status": "completed"
    },
    "tags": []
   },
   "source": [
    "## Submission"
   ]
  },
  {
   "cell_type": "code",
   "execution_count": 12,
   "id": "f6bbf8b6",
   "metadata": {
    "execution": {
     "iopub.execute_input": "2024-07-12T11:04:42.705469Z",
     "iopub.status.busy": "2024-07-12T11:04:42.705096Z",
     "iopub.status.idle": "2024-07-12T11:04:42.750045Z",
     "shell.execute_reply": "2024-07-12T11:04:42.748024Z"
    },
    "papermill": {
     "duration": 0.053157,
     "end_time": "2024-07-12T11:04:42.752805",
     "exception": false,
     "start_time": "2024-07-12T11:04:42.699648",
     "status": "completed"
    },
    "tags": []
   },
   "outputs": [],
   "source": [
    "import enefit\n",
    "\n",
    "env = enefit.make_env()\n",
    "iter_test = env.iter_test()"
   ]
  },
  {
   "cell_type": "code",
   "execution_count": 13,
   "id": "fa4cc852",
   "metadata": {
    "execution": {
     "iopub.execute_input": "2024-07-12T11:04:42.764652Z",
     "iopub.status.busy": "2024-07-12T11:04:42.764215Z",
     "iopub.status.idle": "2024-07-12T11:04:42.769964Z",
     "shell.execute_reply": "2024-07-12T11:04:42.768885Z"
    },
    "papermill": {
     "duration": 0.015076,
     "end_time": "2024-07-12T11:04:42.772785",
     "exception": false,
     "start_time": "2024-07-12T11:04:42.757709",
     "status": "completed"
    },
    "tags": []
   },
   "outputs": [],
   "source": [
    "if DEBUG:\n",
    "    enefit.make_env.__called__ = False\n",
    "    type(env)._state = type(type(env)._state).__dict__['INIT']\n",
    "    iter_test = env.iter_test()"
   ]
  },
  {
   "cell_type": "code",
   "execution_count": 14,
   "id": "0457e27c",
   "metadata": {
    "execution": {
     "iopub.execute_input": "2024-07-12T11:04:42.785716Z",
     "iopub.status.busy": "2024-07-12T11:04:42.784454Z",
     "iopub.status.idle": "2024-07-12T11:04:42.796719Z",
     "shell.execute_reply": "2024-07-12T11:04:42.795006Z"
    },
    "papermill": {
     "duration": 0.021296,
     "end_time": "2024-07-12T11:04:42.799232",
     "exception": false,
     "start_time": "2024-07-12T11:04:42.777936",
     "status": "completed"
    },
    "tags": []
   },
   "outputs": [],
   "source": [
    "def preprocess_test_data(df: pd.DataFrame) -> pd.DataFrame:\n",
    "    df = df.astype({\"county\": int, \"product_type\": int, \"is_business\": float, \"is_consumption\": float})\n",
    "    df = df.rename(columns={\"prediction_datetime\": \"datetime\"})\n",
    "    df[\"datetime\"] = pd.to_datetime(df[\"datetime\"])\n",
    "    return df\n",
    "\n",
    "\n",
    "def lagged_test_target_features(test_df, train_df, lags):\n",
    "    \n",
    "    lagged_feature_dfs = []\n",
    "\n",
    "    for lag in lags:\n",
    "        lagged_df = pd.DataFrame(\n",
    "            {\n",
    "                f\"datetime_lag_{lag}\": test_df[\"datetime\"] - pd.Timedelta(hours=lag),\n",
    "                \"prediction_unit_id\": test_df[\"prediction_unit_id\"],\n",
    "                \"is_consumption\": test_df[\"is_consumption\"],\n",
    "            }\n",
    "        )\n",
    "        lagged_features_df = pd.merge(\n",
    "            left=lagged_df,\n",
    "            right=train_df[[\"datetime\", \"prediction_unit_id\", \"is_consumption\", \"target\"]],\n",
    "            how=\"left\",\n",
    "            right_on=[\"datetime\", \"prediction_unit_id\", \"is_consumption\"],\n",
    "            left_on=[f\"datetime_lag_{lag}\", \"prediction_unit_id\", \"is_consumption\"],\n",
    "        )\n",
    "\n",
    "        lagged_features_df = (\n",
    "            lagged_features_df[[f\"datetime_lag_{lag}\", \"target\"]]\n",
    "            .rename(columns={\"target\": f\"target_lag_{lag}\"})\n",
    "        )\n",
    "        lagged_feature_dfs.append(lagged_features_df)\n",
    "        \n",
    "    return pd.concat([test_df] + lagged_feature_dfs, axis=1)\n",
    "\n",
    "\n",
    "def impute_lagged_target_features(features_df: pd.DataFrame, running_predictions: pd.DataFrame, lags: list[int]) -> pd.DataFrame:\n",
    "    for lag in lags:\n",
    "        # Merge current features (with missing values) and previous predictions\n",
    "        impute_df = pd.merge(\n",
    "            features_df[[\"datetime\", f\"datetime_lag_{lag}\", f\"target_lag_{lag}\", \"prediction_unit_id\", \"is_consumption\"]],\n",
    "            running_predictions[[\"prediction_datetime\", \"prediction_target\", \"prediction_unit_id\", \"is_consumption\"]],\n",
    "            left_on=[f\"datetime_lag_{lag}\", \"prediction_unit_id\", \"is_consumption\"],\n",
    "            right_on=[\"prediction_datetime\", \"prediction_unit_id\", \"is_consumption\"],\n",
    "            how=\"left\"\n",
    "        )\n",
    "        \n",
    "        # Where features are missing, impute with predictions\n",
    "        impute_df[f\"target_lag_{lag}\"] = impute_df[f\"target_lag_{lag}\"].where(\n",
    "            impute_df[f\"target_lag_{lag}\"].notnull(),\n",
    "            impute_df[\"prediction_target\"]\n",
    "        )\n",
    "        \n",
    "        # Assign features to imputed values in features df\n",
    "        features_df[f\"target_lag_{lag}\"] = impute_df[f\"target_lag_{lag}\"]\n",
    "    \n",
    "    return features_df\n"
   ]
  },
  {
   "cell_type": "code",
   "execution_count": 15,
   "id": "8a13e4ae",
   "metadata": {
    "execution": {
     "iopub.execute_input": "2024-07-12T11:04:42.810813Z",
     "iopub.status.busy": "2024-07-12T11:04:42.810401Z",
     "iopub.status.idle": "2024-07-12T11:04:43.374677Z",
     "shell.execute_reply": "2024-07-12T11:04:43.373246Z"
    },
    "papermill": {
     "duration": 0.572885,
     "end_time": "2024-07-12T11:04:43.377063",
     "exception": false,
     "start_time": "2024-07-12T11:04:42.804178",
     "status": "completed"
    },
    "tags": []
   },
   "outputs": [
    {
     "name": "stdout",
     "output_type": "stream",
     "text": [
      "This version of the API is not optimized and should not be used to estimate the runtime of your code on the hidden test set.\n"
     ]
    }
   ],
   "source": [
    "raw_test_dfs = []\n",
    "X_test_dfs = []\n",
    "revealed_target_dfs = []\n",
    "sample_prediction_dfs = []\n",
    "\n",
    "# Add to running df of targets as they are revealed\n",
    "running_revealed_targets = pd.DataFrame()\n",
    "\n",
    "for (\n",
    "    raw_test_df,\n",
    "    raw_revealed_targets,\n",
    "    _, \n",
    "    _, \n",
    "    _, \n",
    "    _, \n",
    "    _, \n",
    "    sample_prediction,\n",
    ") in iter_test:\n",
    "\n",
    "    # Preprocessing and feature selection\n",
    "    revealed_targets = preprocess_test_data(raw_revealed_targets)\n",
    "    running_revealed_targets = pd.concat([running_revealed_targets, revealed_targets], axis=0)\n",
    "    running_revealed_targets = running_revealed_targets.reset_index(drop=True)\n",
    "\n",
    "    X_test = preprocess_test_data(raw_test_df)\n",
    "    X_test = temporal_features(X_test)\n",
    "    X_test = fourier_features(X_test)\n",
    "#     X_test = lagged_test_target_features(X_test, running_revealed_targets, LAGS)\n",
    "    \n",
    "    # Predict on test set\n",
    "    y_hat = model.predict(X_test[FEATURES])\n",
    "    y_hat = np.clip(y_hat, 0.0, 15500.0)\n",
    "    sample_prediction['target'] = y_hat\n",
    "    \n",
    "    sample_prediction[\"target\"] = sample_prediction[\"target\"].fillna(0.0)\n",
    "    \n",
    "    env.predict(sample_prediction)\n",
    "    \n",
    "    raw_test_dfs.append(raw_test_df)\n",
    "    X_test_dfs.append(X_test)\n",
    "    sample_prediction_dfs.append(sample_prediction)\n",
    "    revealed_target_dfs.append(revealed_targets)"
   ]
  }
 ],
 "metadata": {
  "kaggle": {
   "accelerator": "none",
   "dataSources": [
    {
     "databundleVersionId": 7292407,
     "sourceId": 57236,
     "sourceType": "competition"
    }
   ],
   "dockerImageVersionId": 30558,
   "isGpuEnabled": false,
   "isInternetEnabled": false,
   "language": "python",
   "sourceType": "notebook"
  },
  "kernelspec": {
   "display_name": "Python 3",
   "language": "python",
   "name": "python3"
  },
  "language_info": {
   "codemirror_mode": {
    "name": "ipython",
    "version": 3
   },
   "file_extension": ".py",
   "mimetype": "text/x-python",
   "name": "python",
   "nbconvert_exporter": "python",
   "pygments_lexer": "ipython3",
   "version": "3.10.12"
  },
  "papermill": {
   "default_parameters": {},
   "duration": 42.382995,
   "end_time": "2024-07-12T11:04:44.305732",
   "environment_variables": {},
   "exception": null,
   "input_path": "__notebook__.ipynb",
   "output_path": "__notebook__.ipynb",
   "parameters": {},
   "start_time": "2024-07-12T11:04:01.922737",
   "version": "2.4.0"
  }
 },
 "nbformat": 4,
 "nbformat_minor": 5
}
