{
    "cells": [
        {
            "cell_type": "code",
            "execution_count": null,
            "metadata": {
                "_cell_guid": "b1076dfc-b9ad-4769-8c92-a6c4dae69d19",
                "_uuid": "8f2839f25d086af736a60e9eeb907d3b93b6e0e5",
                "trusted": true
            },
            "outputs": [],
            "source": [
                "import numpy as np\n",
                "import pandas as pd\n",
                "import matplotlib.pyplot as plt"
            ]
        },
        {
            "cell_type": "code",
            "execution_count": null,
            "metadata": {
                "trusted": true
            },
            "outputs": [],
            "source": [
                "DATA_PATH = \"/kaggle/input/predict-energy-behavior-of-prosumers\"\n",
                "\n",
                "# WEATHER_HISTORICAL = pd.read_csv(f\"{DATA_PATH}/historical_weather.csv\")\n",
                "# WEATHER_FORECASTS = pd.read_csv(f\"{DATA_PATH}/forecast_weather.csv\")\n",
                "# GAS_PRICES = pd.read_csv(f\"{DATA_PATH}/gas_prices.csv\")\n",
                "# ELECTRICITY_PRICES = pd.read_csv(f\"{DATA_PATH}/electricity_prices.csv\")\n",
                "# CLIENTS = pd.read_csv(f\"{DATA_PATH}/client.csv\")"
            ]
        },
        {
            "cell_type": "markdown",
            "metadata": {},
            "source": [
                "# TRAIN DATA\n",
                "\n",
                "- `county` - An ID code for the county.\n",
                "- `is_business`- Boolean for whether or not the prosumer is a business.\n",
                "- `product_type` - ID code with the following mapping of codes to contract types: {0: \"Combined\", 1: \"Fixed\", 2: \"General service\", 3: \"Spot\"}.\n",
                "- `target` - The consumption or production amount for the relevant segment for the hour. The segments are defined by the `county`, `is_business`, and `product_type`.\n",
                "- `is_consumption` - Boolean for whether or not this row's target is consumption or production.\n",
                "- `datetime` - The Estonian time in EET (UTC+2) / EEST (UTC+3). It describes the start of the 1-hour period on which target is given.\n",
                "- `data_block_id` - All rows sharing the same data_block_id will be available at the same forecast time. This is a function of what information is available when forecasts are actually made, at 11 AM each morning. For example, if the forecast weather data_block_id for predictins made on October 31st is 100 then the historic weather data_block_id for October 31st will be 101 as the historic weather data is only actually available the next day.\n",
                "- `row_id` - A unique identifier for the row.\n",
                "- `prediction_unit_id` - A unique identifier for the county, is_business, and product_type combination. New prediction units can appear or disappear in the test set."
            ]
        },
        {
            "cell_type": "code",
            "execution_count": null,
            "metadata": {
                "trusted": true
            },
            "outputs": [],
            "source": [
                "TRAIN_DATA = pd.read_csv(f\"{DATA_PATH}/train.csv\", parse_dates=[\"datetime\"])"
            ]
        },
        {
            "cell_type": "code",
            "execution_count": null,
            "metadata": {
                "trusted": true
            },
            "outputs": [],
            "source": [
                "TRAIN_DATA[\"datetime\"].min(), TRAIN_DATA[\"datetime\"].max()"
            ]
        },
        {
            "cell_type": "code",
            "execution_count": null,
            "metadata": {
                "trusted": true
            },
            "outputs": [],
            "source": [
                "prediction_units = list(TRAIN_DATA[\"prediction_unit_id\"].unique())\n",
                "prediction_unit_to_segment = {}\n",
                "for prediction_unit in prediction_units:\n",
                "    unit_df = TRAIN_DATA[TRAIN_DATA[\"prediction_unit_id\"] == prediction_unit]\n",
                "    segment_df = unit_df[[\"county\", \"is_business\", \"product_type\"]]\n",
                "    segment = segment_df.value_counts()\n",
                "    [idx] = segment.index.values\n",
                "    prediction_unit_to_segment[prediction_unit] = idx"
            ]
        },
        {
            "cell_type": "code",
            "execution_count": null,
            "metadata": {
                "trusted": true
            },
            "outputs": [],
            "source": [
                "# Check the length of the timeseries for each prediction unit / segment\n",
                "prediction_unit_to_timeseries_length = {}\n",
                "for prediction_unit in prediction_units:\n",
                "    unit_df = TRAIN_DATA[TRAIN_DATA[\"prediction_unit_id\"] == prediction_unit]\n",
                "    consumption_df = unit_df[unit_df[\"is_consumption\"] == 1]\n",
                "    production_df = unit_df[unit_df[\"is_consumption\"] == 0]\n",
                "    prediction_unit_to_timeseries_length[prediction_unit] = (len(consumption_df), len(production_df))\n",
                "\n",
                "for unit, lengths in prediction_unit_to_timeseries_length.items():\n",
                "    c_len, p_len = lengths\n",
                "    if c_len != p_len:\n",
                "        print(f\"Unequal timeseries lengths for unit {unit}: ({c_len}, {p_len})\")"
            ]
        },
        {
            "cell_type": "code",
            "execution_count": null,
            "metadata": {
                "trusted": true
            },
            "outputs": [],
            "source": [
                "# Check the NaN count for each prediction unit\n",
                "prediction_unit_to_nan_count = {}\n",
                "for prediction_unit in prediction_units:\n",
                "    unit_df = TRAIN_DATA[TRAIN_DATA[\"prediction_unit_id\"] == prediction_unit]\n",
                "    consumption_df = unit_df[unit_df[\"is_consumption\"] == 1]\n",
                "    production_df = unit_df[unit_df[\"is_consumption\"] == 0]\n",
                "    c_nan = consumption_df[\"target\"].isna().sum()\n",
                "    p_nan = production_df[\"target\"].isna().sum()\n",
                "    prediction_unit_to_nan_count[prediction_unit] = (c_nan, p_nan)\n",
                "    \n",
                "for unit, counts in prediction_unit_to_nan_count.items():\n",
                "    c_count, p_count = counts\n",
                "    if c_count != p_count:\n",
                "        print(f\"Unequal nan counts for unit {unit}: ({c_count}, {p_count})\")"
            ]
        },
        {
            "cell_type": "code",
            "execution_count": null,
            "metadata": {},
            "outputs": [],
            "source": [
                "# Check if timeseries matches an hourly frequency\n",
                "..."
            ]
        },
        {
            "cell_type": "code",
            "execution_count": null,
            "metadata": {
                "trusted": true
            },
            "outputs": [],
            "source": [
                "def get_data_for_segment(segment_id, is_consumption):\n",
                "    unit_df = TRAIN_DATA[TRAIN_DATA[\"prediction_unit_id\"] == segment_id]\n",
                "    unit_df = unit_df[unit_df[\"is_consumption\"] == is_consumption].copy()\n",
                "    return unit_df.sort_values(\"datetime\")"
            ]
        },
        {
            "cell_type": "code",
            "execution_count": null,
            "metadata": {
                "trusted": true
            },
            "outputs": [],
            "source": [
                "# Plot all consumption / generation timeseries data\n",
                "rows, cols = 5, 5  # total number of segments to plot\n",
                "segment_id_offset = 50  # start from this segment id\n",
                "start_time = pd.Timestamp(\"2022-10-01\")\n",
                "end_time = pd.Timestamp(\"2023-10-15\")\n",
                "is_consumption = 1  # Plot consumption (=1) or generation (=0)\n",
                "\n",
                "fig, axes = plt.subplots(rows, cols, figsize=(3.5 * cols, 2 * rows), sharex=True)\n",
                "axes = axes.flatten()\n",
                "for i, ax in enumerate(axes):\n",
                "    consumption_df = get_data_for_segment(i + segment_id_offset, is_consumption)\n",
                "    consumption_df = consumption_df[(consumption_df[\"datetime\"] >= start_time) & (consumption_df[\"datetime\"] <= end_time)]\n",
                "    ax.plot(\n",
                "        consumption_df[\"datetime\"].values,\n",
                "        consumption_df[\"target\"].values\n",
                "    )\n",
                "    for tick in ax.get_xticklabels():\n",
                "        tick.set_rotation(45)\n",
                "    \n",
                "fig.tight_layout();"
            ]
        },
        {
            "cell_type": "code",
            "execution_count": null,
            "metadata": {
                "trusted": true
            },
            "outputs": [],
            "source": []
        },
        {
            "cell_type": "code",
            "execution_count": null,
            "metadata": {},
            "outputs": [],
            "source": []
        }
    ],
    "metadata": {
        "kaggle": {
            "accelerator": "none",
            "dataSources": [
                {
                    "databundleVersionId": 7292407,
                    "sourceId": 57236,
                    "sourceType": "competition"
                }
            ],
            "dockerImageVersionId": 30732,
            "isGpuEnabled": false,
            "isInternetEnabled": true,
            "language": "python",
            "sourceType": "notebook"
        },
        "kernelspec": {
            "display_name": "Python 3",
            "language": "python",
            "name": "python3"
        },
        "language_info": {
            "codemirror_mode": {
                "name": "ipython",
                "version": 3
            },
            "file_extension": ".py",
            "mimetype": "text/x-python",
            "name": "python",
            "nbconvert_exporter": "python",
            "pygments_lexer": "ipython3",
            "version": "3.10.13"
        }
    },
    "nbformat": 4,
    "nbformat_minor": 4
}